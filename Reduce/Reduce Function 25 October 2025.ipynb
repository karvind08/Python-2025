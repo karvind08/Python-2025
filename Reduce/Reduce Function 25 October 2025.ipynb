{
 "cells": [
  {
   "cell_type": "code",
   "execution_count": 25,
   "id": "9ef670ed-920f-46ea-9b9d-593ab231266f",
   "metadata": {},
   "outputs": [
    {
     "name": "stdout",
     "output_type": "stream",
     "text": [
      "15\n"
     ]
    }
   ],
   "source": [
    "from functools import reduce\n",
    "def add(x, y):\n",
    "    return x + y\n",
    "\n",
    "a = [1, 2, 3, 4, 5]\n",
    "res = reduce(add, a)\n",
    "print(res)"
   ]
  },
  {
   "cell_type": "code",
   "execution_count": 4,
   "id": "7487414f-071e-4e62-ad2b-73d7901e995d",
   "metadata": {},
   "outputs": [
    {
     "name": "stdout",
     "output_type": "stream",
     "text": [
      "15\n"
     ]
    }
   ],
   "source": [
    "L = [1,2,3,4,5]\n",
    "res = reduce( lambda x,y:x+y,L)\n",
    "print(res)"
   ]
  },
  {
   "cell_type": "code",
   "execution_count": 20,
   "id": "99593e47-ce95-4649-8736-48b3d8e321de",
   "metadata": {},
   "outputs": [
    {
     "name": "stdout",
     "output_type": "stream",
     "text": [
      "240\n"
     ]
    }
   ],
   "source": [
    "L = [1,2,3,4,5]\n",
    "res = reduce( lambda x,y:x*y,L,2)\n",
    "print(res)"
   ]
  },
  {
   "cell_type": "code",
   "execution_count": 21,
   "id": "4a5f8975-9ecc-4818-bb0d-97e9cf022a7e",
   "metadata": {},
   "outputs": [
    {
     "name": "stdout",
     "output_type": "stream",
     "text": [
      "17\n"
     ]
    }
   ],
   "source": [
    "L = [1,2,3,4,5]\n",
    "res = reduce( lambda x,y:x+y,L,2)\n",
    "print(res)"
   ]
  },
  {
   "cell_type": "code",
   "execution_count": 24,
   "id": "db74e8e2-e79e-40fd-8ed9-697288448f74",
   "metadata": {},
   "outputs": [
    {
     "name": "stdout",
     "output_type": "stream",
     "text": [
      "-13\n"
     ]
    }
   ],
   "source": [
    "L = [1,2,3,4,5]\n",
    "res = reduce( lambda x,y:x-y,L,2)\n",
    "print(res)"
   ]
  },
  {
   "cell_type": "code",
   "execution_count": null,
   "id": "41ba0e39-0bb5-4aee-8906-f5d127e84dda",
   "metadata": {},
   "outputs": [],
   "source": [
    "# Write a Python program to calculate the sum of numbers in a list using reduce() function."
   ]
  },
  {
   "cell_type": "code",
   "execution_count": 1,
   "id": "43c730f3-5e69-4318-879a-477a401b1bff",
   "metadata": {},
   "outputs": [],
   "source": [
    "from functools import reduce"
   ]
  },
  {
   "cell_type": "code",
   "execution_count": null,
   "id": "4dc77b35-02bf-476e-89e1-a9fd27287061",
   "metadata": {},
   "outputs": [],
   "source": [
    "# Write a Python program to calculate the product of numbers in a list using reduce() function."
   ]
  },
  {
   "cell_type": "code",
   "execution_count": 11,
   "id": "534fa5b1-52c9-4d72-9d32-bee657547e17",
   "metadata": {},
   "outputs": [
    {
     "name": "stdout",
     "output_type": "stream",
     "text": [
      "120\n"
     ]
    }
   ],
   "source": [
    "L = [1,2,3,4,5]\n",
    "res = reduce( lambda x,y:x*y,L)\n",
    "print(res)"
   ]
  },
  {
   "cell_type": "code",
   "execution_count": null,
   "id": "b19d37a7-aa3d-4f7f-9a2e-f31a9ce5498f",
   "metadata": {},
   "outputs": [],
   "source": [
    "# Write a Python code to get biggest number in the list using reduce(). "
   ]
  },
  {
   "cell_type": "code",
   "execution_count": 9,
   "id": "0fe63924-a34a-4795-a36c-e81f242920de",
   "metadata": {},
   "outputs": [
    {
     "name": "stdout",
     "output_type": "stream",
     "text": [
      "9\n"
     ]
    }
   ],
   "source": [
    "L = [1,2,3,4,5,6,7,8,9]\n",
    "res = reduce( lambda x,y: x if x>y else y,L)\n",
    "print(res)"
   ]
  },
  {
   "cell_type": "code",
   "execution_count": null,
   "id": "05c8b289-fb48-4d56-ba90-5ccf1e0b6f62",
   "metadata": {},
   "outputs": [],
   "source": [
    "# Write a Python code to get smallest number in the list using reduce(). "
   ]
  },
  {
   "cell_type": "code",
   "execution_count": 10,
   "id": "f35c61ba-e723-4517-97c0-43bd93967157",
   "metadata": {},
   "outputs": [
    {
     "name": "stdout",
     "output_type": "stream",
     "text": [
      "1\n"
     ]
    }
   ],
   "source": [
    "L = [1,2,3,4,5,6,7,8,9]\n",
    "res = reduce( lambda x,y: x if x<y else y,L)\n",
    "print(res)"
   ]
  },
  {
   "cell_type": "code",
   "execution_count": null,
   "id": "5d7a01a5-5a9a-409b-b86c-4a997dba819b",
   "metadata": {},
   "outputs": [],
   "source": [
    "# Write a Python program to calculate the product of odd numbers in a list using reduce() function."
   ]
  },
  {
   "cell_type": "code",
   "execution_count": 17,
   "id": "c7527ba8-34a8-4cd7-b701-39193e896f57",
   "metadata": {},
   "outputs": [
    {
     "name": "stdout",
     "output_type": "stream",
     "text": [
      "15\n"
     ]
    }
   ],
   "source": [
    "L = [1,2,3,4,5]\n",
    "res = reduce( lambda x,y:x*y,filter(lambda x:x%2!=0,L))\n",
    "print(res)"
   ]
  },
  {
   "cell_type": "code",
   "execution_count": 28,
   "id": "fb4c9f39-8dfe-4028-b3d5-3dc780ee21ec",
   "metadata": {},
   "outputs": [
    {
     "ename": "TypeError",
     "evalue": "reduce() of empty iterable with no initial value",
     "output_type": "error",
     "traceback": [
      "\u001b[31m---------------------------------------------------------------------------\u001b[39m",
      "\u001b[31mTypeError\u001b[39m                                 Traceback (most recent call last)",
      "\u001b[36mCell\u001b[39m\u001b[36m \u001b[39m\u001b[32mIn[28]\u001b[39m\u001b[32m, line 3\u001b[39m\n\u001b[32m      1\u001b[39m \u001b[38;5;28;01mfrom\u001b[39;00m\u001b[38;5;250m \u001b[39m\u001b[34;01mfunctools\u001b[39;00m\u001b[38;5;250m \u001b[39m\u001b[38;5;28;01mimport\u001b[39;00m reduce \n\u001b[32m----> \u001b[39m\u001b[32m3\u001b[39m ans = \u001b[43mreduce\u001b[49m\u001b[43m(\u001b[49m\u001b[38;5;28;43;01mlambda\u001b[39;49;00m\u001b[43m \u001b[49m\u001b[43ma\u001b[49m\u001b[43m,\u001b[49m\u001b[43m \u001b[49m\u001b[43mb\u001b[49m\u001b[43m:\u001b[49m\u001b[43m \u001b[49m\u001b[43ma\u001b[49m\u001b[43m \u001b[49m\u001b[43m+\u001b[49m\u001b[43m \u001b[49m\u001b[43mb\u001b[49m\u001b[43m,\u001b[49m\u001b[43m \u001b[49m\u001b[43m[\u001b[49m\u001b[43m]\u001b[49m\u001b[43m)\u001b[49m\n\u001b[32m      4\u001b[39m \u001b[38;5;28mprint\u001b[39m(ans)\n",
      "\u001b[31mTypeError\u001b[39m: reduce() of empty iterable with no initial value"
     ]
    }
   ],
   "source": [
    "from functools import reduce \n",
    "\n",
    "ans = reduce(lambda a, b: a + b, [])\n",
    "print(ans)"
   ]
  },
  {
   "cell_type": "code",
   "execution_count": 30,
   "id": "e88a40fc-8b50-432c-a3f1-5735ed91ac38",
   "metadata": {},
   "outputs": [
    {
     "name": "stdout",
     "output_type": "stream",
     "text": [
      "2\n"
     ]
    }
   ],
   "source": [
    "from functools import reduce \n",
    "\n",
    "ans = reduce(lambda a, b: a + b, [],2)\n",
    "print(ans)"
   ]
  }
 ],
 "metadata": {
  "kernelspec": {
   "display_name": "Python 3 (ipykernel)",
   "language": "python",
   "name": "python3"
  },
  "language_info": {
   "codemirror_mode": {
    "name": "ipython",
    "version": 3
   },
   "file_extension": ".py",
   "mimetype": "text/x-python",
   "name": "python",
   "nbconvert_exporter": "python",
   "pygments_lexer": "ipython3",
   "version": "3.13.7"
  }
 },
 "nbformat": 4,
 "nbformat_minor": 5
}
