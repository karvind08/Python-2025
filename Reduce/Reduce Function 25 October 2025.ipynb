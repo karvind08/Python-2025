{
 "cells": [
  {
   "cell_type": "code",
   "execution_count": null,
   "id": "43c730f3-5e69-4318-879a-477a401b1bff",
   "metadata": {},
   "outputs": [],
   "source": []
  }
 ],
 "metadata": {
  "kernelspec": {
   "display_name": "",
   "name": ""
  },
  "language_info": {
   "name": ""
  }
 },
 "nbformat": 4,
 "nbformat_minor": 5
}
