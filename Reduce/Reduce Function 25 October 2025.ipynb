{
 "cells": [
  {
   "cell_type": "code",
   "execution_count": null,
   "id": "41ba0e39-0bb5-4aee-8906-f5d127e84dda",
   "metadata": {},
   "outputs": [],
   "source": [
    "# Write a Python program to calculate the sum of numbers in a list using reduce() function."
   ]
  },
  {
   "cell_type": "code",
   "execution_count": 1,
   "id": "43c730f3-5e69-4318-879a-477a401b1bff",
   "metadata": {},
   "outputs": [],
   "source": [
    "from functools import reduce"
   ]
  },
  {
   "cell_type": "code",
   "execution_count": 4,
   "id": "7487414f-071e-4e62-ad2b-73d7901e995d",
   "metadata": {},
   "outputs": [
    {
     "name": "stdout",
     "output_type": "stream",
     "text": [
      "15\n"
     ]
    }
   ],
   "source": [
    "L = [1,2,3,4,5]\n",
    "res = reduce( lambda x,y:x+y,L)\n",
    "print(res)"
   ]
  },
  {
   "cell_type": "code",
   "execution_count": null,
   "id": "b19d37a7-aa3d-4f7f-9a2e-f31a9ce5498f",
   "metadata": {},
   "outputs": [],
   "source": [
    "# Write a Python code to get biggest number in the list using reduce(). "
   ]
  },
  {
   "cell_type": "code",
   "execution_count": 9,
   "id": "0fe63924-a34a-4795-a36c-e81f242920de",
   "metadata": {},
   "outputs": [
    {
     "name": "stdout",
     "output_type": "stream",
     "text": [
      "9\n"
     ]
    }
   ],
   "source": [
    "L = [1,2,3,4,5,6,7,8,9]\n",
    "res = reduce( lambda x,y: x if x>y else y,L)\n",
    "print(res)"
   ]
  },
  {
   "cell_type": "code",
   "execution_count": null,
   "id": "05c8b289-fb48-4d56-ba90-5ccf1e0b6f62",
   "metadata": {},
   "outputs": [],
   "source": [
    "# Write a Python code to get smallest number in the list using reduce(). "
   ]
  },
  {
   "cell_type": "code",
   "execution_count": 10,
   "id": "f35c61ba-e723-4517-97c0-43bd93967157",
   "metadata": {},
   "outputs": [
    {
     "name": "stdout",
     "output_type": "stream",
     "text": [
      "1\n"
     ]
    }
   ],
   "source": [
    "L = [1,2,3,4,5,6,7,8,9]\n",
    "res = reduce( lambda x,y: x if x<y else y,L)\n",
    "print(res)"
   ]
  }
 ],
 "metadata": {
  "kernelspec": {
   "display_name": "Python 3 (ipykernel)",
   "language": "python",
   "name": "python3"
  },
  "language_info": {
   "codemirror_mode": {
    "name": "ipython",
    "version": 3
   },
   "file_extension": ".py",
   "mimetype": "text/x-python",
   "name": "python",
   "nbconvert_exporter": "python",
   "pygments_lexer": "ipython3",
   "version": "3.13.7"
  }
 },
 "nbformat": 4,
 "nbformat_minor": 5
}
