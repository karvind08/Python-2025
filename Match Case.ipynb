{
 "cells": [
  {
   "cell_type": "code",
   "execution_count": 1,
   "id": "a5500be0-dd88-4200-9f36-4112d15aa6a9",
   "metadata": {},
   "outputs": [
    {
     "name": "stdout",
     "output_type": "stream",
     "text": [
      "['False', 'None', 'True', 'and', 'as', 'assert', 'async', 'await', 'break', 'class', 'continue', 'def', 'del', 'elif', 'else', 'except', 'finally', 'for', 'from', 'global', 'if', 'import', 'in', 'is', 'lambda', 'nonlocal', 'not', 'or', 'pass', 'raise', 'return', 'try', 'while', 'with', 'yield']\n"
     ]
    }
   ],
   "source": [
    "import keyword\n",
    "print(keyword.kwlist)"
   ]
  },
  {
   "cell_type": "code",
   "execution_count": 3,
   "id": "58442f9e-1f5f-4d86-8c47-3d94ecf4d3d5",
   "metadata": {},
   "outputs": [
    {
     "name": "stdin",
     "output_type": "stream",
     "text": [
      "Enter the number:  9\n"
     ]
    }
   ],
   "source": [
    "n = int(input('Enter the number: '))\n",
    "match n:\n",
    "    case 1:\n",
    "        print('A')\n",
    "    case 2:\n",
    "        print('B')\n",
    "    case 3:\n",
    "        print('A')"
   ]
  },
  {
   "cell_type": "code",
   "execution_count": 4,
   "id": "d5137b08-16b0-49c4-b3b5-454714a9ba44",
   "metadata": {},
   "outputs": [
    {
     "name": "stdin",
     "output_type": "stream",
     "text": [
      "Enter the number:  5\n"
     ]
    },
    {
     "name": "stdout",
     "output_type": "stream",
     "text": [
      "Default\n"
     ]
    }
   ],
   "source": [
    "n = int(input('Enter the number: '))\n",
    "match n:\n",
    "    case 1:\n",
    "        print('A')\n",
    "    case 2:\n",
    "        print('B')\n",
    "    case 3:\n",
    "        print('C')\n",
    "    case _:\n",
    "        print('Default')"
   ]
  },
  {
   "cell_type": "code",
   "execution_count": 8,
   "id": "4a820d94-e70e-4ecf-9ecf-947e28c879e3",
   "metadata": {},
   "outputs": [
    {
     "name": "stdout",
     "output_type": "stream",
     "text": [
      "I love weekends!\n"
     ]
    }
   ],
   "source": [
    "day = 7\n",
    "match day:\n",
    "  case 1 | 2 | 3 | 4 | 5:\n",
    "    print(\"Today is a weekday\")\n",
    "  case 6 | 7:\n",
    "    print(\"I love weekends!\")"
   ]
  },
  {
   "cell_type": "code",
   "execution_count": 11,
   "id": "45a7827c-5bad-4873-b8a4-a07a7d8cd158",
   "metadata": {},
   "outputs": [
    {
     "name": "stdout",
     "output_type": "stream",
     "text": [
      "A weekday in May\n"
     ]
    }
   ],
   "source": [
    "month = 5\n",
    "day = 4\n",
    "match day:\n",
    "  case 1 | 2 | 3 | 4 | 5 if month == 4:\n",
    "    print(\"A weekday in April\")\n",
    "  case 1 | 2 | 3 | 4 | 5 if month == 5:\n",
    "    print(\"A weekday in May\")\n",
    "  case _:\n",
    "    print(\"No match\")"
   ]
  },
  {
   "cell_type": "code",
   "execution_count": 42,
   "id": "86921c6e-38b1-4f13-8138-3ebc9243e563",
   "metadata": {},
   "outputs": [
    {
     "name": "stdin",
     "output_type": "stream",
     "text": [
      "Enter the number:  3\n"
     ]
    },
    {
     "name": "stdout",
     "output_type": "stream",
     "text": [
      "Positive\n"
     ]
    }
   ],
   "source": [
    "num = int(input('Enter the number: '))\n",
    "match num:\n",
    "    case 0:\n",
    "        print(\"Zero\")\n",
    "    case n if n > 0:\n",
    "        print(\"Positive\")\n",
    "    case n if n < 0:\n",
    "        print(\"Negative\")"
   ]
  },
  {
   "cell_type": "code",
   "execution_count": 47,
   "id": "8acab138-97f4-4a71-8b2e-a48326b5b5ce",
   "metadata": {},
   "outputs": [
    {
     "name": "stdin",
     "output_type": "stream",
     "text": [
      "Enter the number:  0\n"
     ]
    },
    {
     "name": "stdout",
     "output_type": "stream",
     "text": [
      "Zero\n"
     ]
    }
   ],
   "source": [
    "n = int(input('Enter the number: '))\n",
    "match n:\n",
    "    case 0:\n",
    "        print(\"Zero\")\n",
    "    case n if n > 0:\n",
    "        print(\"Positive\")\n",
    "    case n if n < 0:\n",
    "        print(\"Negative\")"
   ]
  },
  {
   "cell_type": "code",
   "execution_count": 59,
   "id": "f9a93f5c-0581-4048-a7ca-c148abe1c055",
   "metadata": {},
   "outputs": [
    {
     "name": "stdin",
     "output_type": "stream",
     "text": [
      "Enter the age:  98\n"
     ]
    },
    {
     "name": "stdout",
     "output_type": "stream",
     "text": [
      "Senior\n"
     ]
    }
   ],
   "source": [
    "n = int(input('Enter the age: '))\n",
    "match n:\n",
    "    case n if n < 18 and n>0:\n",
    "        print(\"Minor\")\n",
    "    case n if 18 <= n < 65:\n",
    "        print(\"Adult\")\n",
    "    case n if n >= 65:\n",
    "            print(\"Senior\")\n",
    "    case _:\n",
    "            print(\"Please enter correct age\")"
   ]
  },
  {
   "cell_type": "code",
   "execution_count": 20,
   "id": "84ce873d-69be-4877-97fe-a96f2e8a3a6a",
   "metadata": {},
   "outputs": [
    {
     "name": "stdin",
     "output_type": "stream",
     "text": [
      "Enter the age:  5\n"
     ]
    },
    {
     "name": "stdout",
     "output_type": "stream",
     "text": [
      "Minor\n"
     ]
    }
   ],
   "source": [
    "age = int(input('Enter the age: '))\n",
    "match age:\n",
    "        case n if n < 18:\n",
    "            print(\"Minor\")\n",
    "        case n if n >=18 and n< 65:\n",
    "            print(\"Adult\")\n",
    "        case n if n >= 65:\n",
    "            print(\"Senior\")"
   ]
  },
  {
   "cell_type": "code",
   "execution_count": 31,
   "id": "f287b124-e8e7-482a-bd31-dc68133ed5f1",
   "metadata": {},
   "outputs": [
    {
     "name": "stdin",
     "output_type": "stream",
     "text": [
      "Enter the first Number:  3\n",
      "Enter the Second Number:  4\n",
      "Enter an operator:  *\n"
     ]
    },
    {
     "name": "stdout",
     "output_type": "stream",
     "text": [
      "12\n"
     ]
    }
   ],
   "source": [
    "x = int(input('Enter the first Number: '))\n",
    "y = int(input('Enter the Second Number: '))\n",
    "operator = input(\"Enter an operator: \")\n",
    "match operator:\n",
    "    case '+':\n",
    "        result = x + y\n",
    "        print(result)\n",
    "    case '-':\n",
    "        result = x - y\n",
    "        print(result)\n",
    "    case '*':\n",
    "        result = x * y\n",
    "        print(result)\n",
    "    case '/':\n",
    "        result = x / y       \n",
    "        print(result)\n",
    "    case _:\n",
    "        print('Please Enter the correct operator')"
   ]
  },
  {
   "cell_type": "code",
   "execution_count": 34,
   "id": "55b9b1d7-bbba-4561-8096-3e9ed46b8763",
   "metadata": {},
   "outputs": [
    {
     "name": "stdin",
     "output_type": "stream",
     "text": [
      "Enter a programming:  COBOL\n",
      "Enter a marks:  45\n"
     ]
    },
    {
     "name": "stdout",
     "output_type": "stream",
     "text": [
      "Needs improvement\n"
     ]
    }
   ],
   "source": [
    "pro = input(\"Enter a programming: \")\n",
    "marks = int(input(\"Enter a marks: \"))\n",
    "\n",
    "match pro:\n",
    "    # if score is 80 or higher in Physics or Chemistry\n",
    "    case 'C' | 'Cobol' if marks >= 80:\n",
    "        print(\"Excellent in Procedural !\")\n",
    "        \n",
    "    # if score is 80 or higher in English or Grammar\n",
    "    case 'Java' | 'C#' if marks >= 80:\n",
    "        print(\"Excellent in OOPS!\")\n",
    "\n",
    "    # if score is 80 or higher in Maths\n",
    "    case 'Python' if marks >= 80:\n",
    "        print(\"Excellent in Python!\")\n",
    "        \n",
    "    case _:\n",
    "        print(\"Needs improvement\")"
   ]
  },
  {
   "cell_type": "code",
   "execution_count": 37,
   "id": "0d5c6fd9-201f-40fe-b3fb-f6e582571ba1",
   "metadata": {},
   "outputs": [
    {
     "name": "stdin",
     "output_type": "stream",
     "text": [
      "Enter a subject:  Maths\n",
      "Enter a score:  78\n"
     ]
    },
    {
     "name": "stdout",
     "output_type": "stream",
     "text": [
      "Needs improvement in Maths!\n"
     ]
    }
   ],
   "source": [
    "subject = input(\"Enter a subject: \")\n",
    "score = int(input(\"Enter a score: \"))\n",
    "\n",
    "match subject:\n",
    "    # if score is 80 or higher in Physics or Chemistry\n",
    "    case 'Physics' | 'Chemistry' if score >= 80:\n",
    "        print(\"Excellent in Science!\")\n",
    "        \n",
    "    # if score is 80 or higher in English or Grammar\n",
    "    case 'English' | 'Grammar' if score >= 80:\n",
    "        print(\"Excellent in English!\")\n",
    "\n",
    "    # if score is 80 or higher in Maths\n",
    "    case 'Maths' if score >= 80:\n",
    "        print(\"Excellent in Maths!\")\n",
    "        \n",
    "    case _:\n",
    "        print(f\"Needs improvement in {subject}!\")"
   ]
  }
 ],
 "metadata": {
  "kernelspec": {
   "display_name": "Python 3 (ipykernel)",
   "language": "python",
   "name": "python3"
  },
  "language_info": {
   "codemirror_mode": {
    "name": "ipython",
    "version": 3
   },
   "file_extension": ".py",
   "mimetype": "text/x-python",
   "name": "python",
   "nbconvert_exporter": "python",
   "pygments_lexer": "ipython3",
   "version": "3.13.2"
  }
 },
 "nbformat": 4,
 "nbformat_minor": 5
}
