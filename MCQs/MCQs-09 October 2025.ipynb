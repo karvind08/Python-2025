{
 "cells": [
  {
   "cell_type": "code",
   "execution_count": 8,
   "id": "3298dd07-99e5-4c03-9fdb-01534cbacfeb",
   "metadata": {},
   "outputs": [
    {
     "name": "stdout",
     "output_type": "stream",
     "text": [
      "56.23\n"
     ]
    }
   ],
   "source": [
    "x=56.232\n",
    "print(\"%.2f\"%x)"
   ]
  },
  {
   "cell_type": "code",
   "execution_count": 6,
   "id": "6e6885e1-90f3-4513-af0e-ace614e6c3d1",
   "metadata": {},
   "outputs": [
    {
     "name": "stdout",
     "output_type": "stream",
     "text": [
      "56.24\n"
     ]
    }
   ],
   "source": [
    "print(\"%.2f\"%x)"
   ]
  },
  {
   "cell_type": "code",
   "execution_count": 19,
   "id": "736e2c44-7de8-4dd1-a8b7-7e128e55887d",
   "metadata": {},
   "outputs": [
    {
     "name": "stdout",
     "output_type": "stream",
     "text": [
      "[1, 3]\n",
      "[1, 3]\n",
      "[4, 3]\n",
      "[4, 3]\n"
     ]
    }
   ],
   "source": [
    "list1 = [1, 3]\n",
    "print(list1)\n",
    "list2 = list1\n",
    "print(list2)\n",
    "list1[0] = 4\n",
    "print(list1)\n",
    "print(list2)"
   ]
  },
  {
   "cell_type": "code",
   "execution_count": 17,
   "id": "5c16925e-9ad1-4626-b903-1502538d9ccb",
   "metadata": {},
   "outputs": [
    {
     "name": "stdout",
     "output_type": "stream",
     "text": [
      "[1, 3]\n",
      "[1, 3]\n",
      "[4, 3]\n",
      "[1, 3]\n"
     ]
    }
   ],
   "source": [
    "list1 = [1, 3]\n",
    "print(list1)\n",
    "list2 = list1.copy()\n",
    "print(list2)\n",
    "list1[0] = 4\n",
    "print(list1)\n",
    "print(list2)"
   ]
  },
  {
   "cell_type": "code",
   "execution_count": 22,
   "id": "94a33ea3-f6f8-40e1-933d-134579bedea0",
   "metadata": {},
   "outputs": [
    {
     "name": "stdout",
     "output_type": "stream",
     "text": [
      "0\n",
      "1\n",
      "2\n",
      "3\n",
      "4\n",
      "Hello\n"
     ]
    }
   ],
   "source": [
    "i = 0\n",
    "while i < 5:\n",
    "    print(i)\n",
    "    i += 1\n",
    "    if i == 3:\n",
    "        continue\n",
    "else:\n",
    "    print('Hello')\n"
   ]
  },
  {
   "cell_type": "code",
   "execution_count": 23,
   "id": "76126847-5601-4b18-a395-5ba731e8b842",
   "metadata": {},
   "outputs": [
    {
     "name": "stdout",
     "output_type": "stream",
     "text": [
      "5\n"
     ]
    }
   ],
   "source": [
    "print(round(4.576))"
   ]
  },
  {
   "cell_type": "code",
   "execution_count": 27,
   "id": "71489303-80e8-4a2e-816a-0f42554f5eff",
   "metadata": {},
   "outputs": [
    {
     "name": "stdout",
     "output_type": "stream",
     "text": [
      "5\n"
     ]
    }
   ],
   "source": [
    "print(round(4.99))\n"
   ]
  },
  {
   "cell_type": "code",
   "execution_count": 28,
   "id": "8f2f4798-cbbf-4521-9e4c-96c87c3d41f0",
   "metadata": {},
   "outputs": [
    {
     "name": "stdout",
     "output_type": "stream",
     "text": [
      "Hello python\n"
     ]
    }
   ],
   "source": [
    "def myfun():\n",
    "    ''' This is my function '''\n",
    "    print('Hello python')\n",
    "\n",
    "myfun()"
   ]
  },
  {
   "cell_type": "code",
   "execution_count": 30,
   "id": "28b97d74-935a-4dfd-9957-f9371e490ce1",
   "metadata": {},
   "outputs": [
    {
     "name": "stdout",
     "output_type": "stream",
     "text": [
      "This is my function \n"
     ]
    }
   ],
   "source": [
    "def myfun():\n",
    "    ''' This is my function '''\n",
    "    print('Hello python')\n",
    "\n",
    "print(myfun.__doc__)"
   ]
  },
  {
   "cell_type": "code",
   "execution_count": 32,
   "id": "cd39c0eb-cbd8-41f2-9f88-15954c204cdb",
   "metadata": {},
   "outputs": [
    {
     "name": "stdout",
     "output_type": "stream",
     "text": [
      "\n",
      "This is a sample docstring for my_function.\n",
      "It explains what the function does and its parameters.\n",
      "\n",
      "Args:\n",
      "    param1: The first parameter.\n",
      "    param2: The second parameter.\n",
      "\n",
      "Returns:\n",
      "    A value based on the input parameters.\n",
      "\n",
      "\n",
      "This is a sample docstring for MyClass.\n",
      "It describes the purpose of the class.\n",
      "\n",
      "\n",
      "Returns the value stored in the instance.\n",
      "\n"
     ]
    }
   ],
   "source": [
    "def my_function(param1, param2):\n",
    "    \"\"\"\n",
    "    This is a sample docstring for my_function.\n",
    "    It explains what the function does and its parameters.\n",
    "\n",
    "    Args:\n",
    "        param1: The first parameter.\n",
    "        param2: The second parameter.\n",
    "\n",
    "    Returns:\n",
    "        A value based on the input parameters.\n",
    "    \"\"\"\n",
    "    return param1 + param2\n",
    "\n",
    "class MyClass:\n",
    "    \"\"\"\n",
    "    This is a sample docstring for MyClass.\n",
    "    It describes the purpose of the class.\n",
    "    \"\"\"\n",
    "    def __init__(self, value):\n",
    "        self.value = value\n",
    "\n",
    "    def get_value(self):\n",
    "        \"\"\"\n",
    "        Returns the value stored in the instance.\n",
    "        \"\"\"\n",
    "        return self.value\n",
    "\n",
    "# Accessing function docstring\n",
    "print(my_function.__doc__)\n",
    "\n",
    "# Accessing class docstring\n",
    "print(MyClass.__doc__)\n",
    "\n",
    "# Accessing method docstring\n",
    "print(MyClass.get_value.__doc__)"
   ]
  },
  {
   "cell_type": "code",
   "execution_count": 36,
   "id": "127305f6-c0b9-4df8-8c92-cb79a0224aba",
   "metadata": {},
   "outputs": [
    {
     "name": "stdout",
     "output_type": "stream",
     "text": [
      "24\n"
     ]
    }
   ],
   "source": [
    "p = 1\n",
    "for i in [1, 2, 3]:\n",
    " p *= i + 1\n",
    "print(p)"
   ]
  },
  {
   "cell_type": "code",
   "execution_count": 42,
   "id": "df0a5d56-1b7f-40ad-99ed-acf34c5978ba",
   "metadata": {},
   "outputs": [
    {
     "name": "stdout",
     "output_type": "stream",
     "text": [
      "3\n"
     ]
    }
   ],
   "source": [
    "x = 51\n",
    "y = 3\n",
    "print(x and y)"
   ]
  },
  {
   "cell_type": "code",
   "execution_count": 43,
   "id": "fbd3a480-7bd9-46b0-b590-8e98f47752c7",
   "metadata": {},
   "outputs": [
    {
     "name": "stdout",
     "output_type": "stream",
     "text": [
      "True\n"
     ]
    }
   ],
   "source": [
    "x = 5\n",
    "y = 3\n",
    "z = x>y or x and y\n",
    "print(z)"
   ]
  },
  {
   "cell_type": "code",
   "execution_count": 44,
   "id": "ea794034-3180-4ab8-8b3f-093d428b7dc1",
   "metadata": {},
   "outputs": [
    {
     "name": "stdout",
     "output_type": "stream",
     "text": [
      "0\n"
     ]
    }
   ],
   "source": [
    "for i in range(1):\n",
    "    print(i)"
   ]
  },
  {
   "cell_type": "code",
   "execution_count": 45,
   "id": "d701e81a-601d-4070-9c9f-50a3a9190925",
   "metadata": {},
   "outputs": [
    {
     "data": {
      "text/plain": [
       "29"
      ]
     },
     "execution_count": 45,
     "metadata": {},
     "output_type": "execute_result"
    }
   ],
   "source": [
    "a = \"('Hello','Python','Learning')\"\n",
    "b = tuple(a)\n",
    "len(b)"
   ]
  },
  {
   "cell_type": "code",
   "execution_count": 47,
   "id": "88c53534-8b99-411c-8520-67119f73834c",
   "metadata": {},
   "outputs": [
    {
     "name": "stdout",
     "output_type": "stream",
     "text": [
      "42\n"
     ]
    }
   ],
   "source": [
    "x,y = 2,10\n",
    "x*=x*y+1\n",
    "print(x)"
   ]
  },
  {
   "cell_type": "code",
   "execution_count": 48,
   "id": "4801420f-ae78-457f-93c7-b21ee445256f",
   "metadata": {},
   "outputs": [
    {
     "name": "stdout",
     "output_type": "stream",
     "text": [
      "True\n"
     ]
    }
   ],
   "source": [
    "a = [1,2,3]\n",
    "b = [1,2,4]\n",
    "print(a<b)"
   ]
  },
  {
   "cell_type": "code",
   "execution_count": 49,
   "id": "682e5b06-eee4-4d77-a988-282b7c258fbc",
   "metadata": {},
   "outputs": [
    {
     "ename": "TypeError",
     "evalue": "can only concatenate str (not \"int\") to str",
     "output_type": "error",
     "traceback": [
      "\u001b[31m---------------------------------------------------------------------------\u001b[39m",
      "\u001b[31mTypeError\u001b[39m                                 Traceback (most recent call last)",
      "\u001b[36mCell\u001b[39m\u001b[36m \u001b[39m\u001b[32mIn[49]\u001b[39m\u001b[32m, line 2\u001b[39m\n\u001b[32m      1\u001b[39m a = \u001b[33m\"\u001b[39m\u001b[33m6\u001b[39m\u001b[33m\"\u001b[39m \n\u001b[32m----> \u001b[39m\u001b[32m2\u001b[39m \u001b[38;5;28mprint\u001b[39m(\u001b[43ma\u001b[49m\u001b[43m+\u001b[49m\u001b[32;43m3\u001b[39;49m)\n",
      "\u001b[31mTypeError\u001b[39m: can only concatenate str (not \"int\") to str"
     ]
    }
   ],
   "source": [
    "a = \"6\" \n",
    "print(a+3)"
   ]
  },
  {
   "cell_type": "code",
   "execution_count": 51,
   "id": "1ff90f3f-689a-486f-9f41-4f48cdb1eb3c",
   "metadata": {},
   "outputs": [
    {
     "ename": "TypeError",
     "evalue": "can only concatenate str (not \"int\") to str",
     "output_type": "error",
     "traceback": [
      "\u001b[31m---------------------------------------------------------------------------\u001b[39m",
      "\u001b[31mTypeError\u001b[39m                                 Traceback (most recent call last)",
      "\u001b[36mCell\u001b[39m\u001b[36m \u001b[39m\u001b[32mIn[51]\u001b[39m\u001b[32m, line 2\u001b[39m\n\u001b[32m      1\u001b[39m a = \u001b[33m\"\u001b[39m\u001b[33m6\u001b[39m\u001b[33m\"\u001b[39m \n\u001b[32m----> \u001b[39m\u001b[32m2\u001b[39m \u001b[38;5;28;43meval\u001b[39;49m\u001b[43m(\u001b[49m\u001b[33;43m\"\u001b[39;49m\u001b[33;43ma+3\u001b[39;49m\u001b[33;43m\"\u001b[39;49m\u001b[43m)\u001b[49m\n",
      "\u001b[36mFile \u001b[39m\u001b[32m<string>:1\u001b[39m\n",
      "\u001b[31mTypeError\u001b[39m: can only concatenate str (not \"int\") to str"
     ]
    }
   ],
   "source": [
    "a = \"6\" \n",
    "eval(\"a+3\")"
   ]
  },
  {
   "cell_type": "code",
   "execution_count": 54,
   "id": "512fdc82-8cc3-4c69-a7a6-591af07e4e27",
   "metadata": {},
   "outputs": [
    {
     "name": "stdout",
     "output_type": "stream",
     "text": [
      "True\n"
     ]
    }
   ],
   "source": [
    "print((i%2==0))"
   ]
  },
  {
   "cell_type": "code",
   "execution_count": 56,
   "id": "1fb9c29c-0332-4dcf-96b6-4a169dd8d3fd",
   "metadata": {},
   "outputs": [
    {
     "name": "stdout",
     "output_type": "stream",
     "text": [
      "1\n",
      "1\n",
      "2\n"
     ]
    }
   ],
   "source": [
    "x = 0\n",
    "for i in range(3):\n",
    "    x = x+(i%2==0)\n",
    "    print(x)\n",
    "#print(x)"
   ]
  }
 ],
 "metadata": {
  "kernelspec": {
   "display_name": "Python 3 (ipykernel)",
   "language": "python",
   "name": "python3"
  },
  "language_info": {
   "codemirror_mode": {
    "name": "ipython",
    "version": 3
   },
   "file_extension": ".py",
   "mimetype": "text/x-python",
   "name": "python",
   "nbconvert_exporter": "python",
   "pygments_lexer": "ipython3",
   "version": "3.13.7"
  }
 },
 "nbformat": 4,
 "nbformat_minor": 5
}
