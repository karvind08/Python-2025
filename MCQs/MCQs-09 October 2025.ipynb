{
 "cells": [
  {
   "cell_type": "code",
   "execution_count": 8,
   "id": "3298dd07-99e5-4c03-9fdb-01534cbacfeb",
   "metadata": {},
   "outputs": [
    {
     "name": "stdout",
     "output_type": "stream",
     "text": [
      "56.23\n"
     ]
    }
   ],
   "source": [
    "x=56.232\n",
    "print(\"%.2f\"%x)"
   ]
  },
  {
   "cell_type": "code",
   "execution_count": 6,
   "id": "6e6885e1-90f3-4513-af0e-ace614e6c3d1",
   "metadata": {},
   "outputs": [
    {
     "name": "stdout",
     "output_type": "stream",
     "text": [
      "56.24\n"
     ]
    }
   ],
   "source": [
    "print(\"%.2f\"%x)"
   ]
  },
  {
   "cell_type": "code",
   "execution_count": 19,
   "id": "736e2c44-7de8-4dd1-a8b7-7e128e55887d",
   "metadata": {},
   "outputs": [
    {
     "name": "stdout",
     "output_type": "stream",
     "text": [
      "[1, 3]\n",
      "[1, 3]\n",
      "[4, 3]\n",
      "[4, 3]\n"
     ]
    }
   ],
   "source": [
    "list1 = [1, 3]\n",
    "print(list1)\n",
    "list2 = list1\n",
    "print(list2)\n",
    "list1[0] = 4\n",
    "print(list1)\n",
    "print(list2)"
   ]
  },
  {
   "cell_type": "code",
   "execution_count": 17,
   "id": "5c16925e-9ad1-4626-b903-1502538d9ccb",
   "metadata": {},
   "outputs": [
    {
     "name": "stdout",
     "output_type": "stream",
     "text": [
      "[1, 3]\n",
      "[1, 3]\n",
      "[4, 3]\n",
      "[1, 3]\n"
     ]
    }
   ],
   "source": [
    "list1 = [1, 3]\n",
    "print(list1)\n",
    "list2 = list1.copy()\n",
    "print(list2)\n",
    "list1[0] = 4\n",
    "print(list1)\n",
    "print(list2)"
   ]
  }
 ],
 "metadata": {
  "kernelspec": {
   "display_name": "Python 3 (ipykernel)",
   "language": "python",
   "name": "python3"
  },
  "language_info": {
   "codemirror_mode": {
    "name": "ipython",
    "version": 3
   },
   "file_extension": ".py",
   "mimetype": "text/x-python",
   "name": "python",
   "nbconvert_exporter": "python",
   "pygments_lexer": "ipython3",
   "version": "3.13.7"
  }
 },
 "nbformat": 4,
 "nbformat_minor": 5
}
