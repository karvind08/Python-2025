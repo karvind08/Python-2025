{
 "cells": [
  {
   "cell_type": "code",
   "execution_count": 1,
   "id": "4bb8dfa7-3318-43dc-92fb-a88e0491d566",
   "metadata": {},
   "outputs": [],
   "source": [
    "import time"
   ]
  },
  {
   "cell_type": "code",
   "execution_count": 13,
   "id": "50ab3a3a-aa8e-434f-9770-aef03863a3d5",
   "metadata": {},
   "outputs": [
    {
     "name": "stdout",
     "output_type": "stream",
     "text": [
      "Starting without flush... Done!\n"
     ]
    }
   ],
   "source": [
    "print(\"Starting without flush...\", end=\"\")\n",
    "#time.sleep(2)\n",
    "print(\" Done!\")"
   ]
  },
  {
   "cell_type": "code",
   "execution_count": 10,
   "id": "fa6a3266-73c4-4d19-8f70-419548ef261b",
   "metadata": {},
   "outputs": [
    {
     "name": "stdout",
     "output_type": "stream",
     "text": [
      "Starting with flush... Done!\n"
     ]
    }
   ],
   "source": [
    "# With flushing\n",
    "print(\"Starting with flush...\", end=\"\", flush=True)\n",
    "#time.sleep(2)\n",
    "print(\" Done!\")"
   ]
  },
  {
   "cell_type": "code",
   "execution_count": 1,
   "id": "4b5d9860-915d-4ca1-b9db-ebf02b885341",
   "metadata": {},
   "outputs": [
    {
     "name": "stdout",
     "output_type": "stream",
     "text": [
      "4\n"
     ]
    }
   ],
   "source": [
    "b = int('4')\n",
    "print(b)"
   ]
  },
  {
   "cell_type": "code",
   "execution_count": 2,
   "id": "0a98cdd0-918d-4a30-9a98-38ab5c23c24e",
   "metadata": {},
   "outputs": [
    {
     "ename": "ValueError",
     "evalue": "invalid literal for int() with base 10: '5+6'",
     "output_type": "error",
     "traceback": [
      "\u001b[31m---------------------------------------------------------------------------\u001b[39m",
      "\u001b[31mValueError\u001b[39m                                Traceback (most recent call last)",
      "\u001b[36mCell\u001b[39m\u001b[36m \u001b[39m\u001b[32mIn[2]\u001b[39m\u001b[32m, line 1\u001b[39m\n\u001b[32m----> \u001b[39m\u001b[32m1\u001b[39m c = \u001b[38;5;28;43mint\u001b[39;49m\u001b[43m(\u001b[49m\u001b[33;43m'\u001b[39;49m\u001b[33;43m5+6\u001b[39;49m\u001b[33;43m'\u001b[39;49m\u001b[43m)\u001b[49m\n\u001b[32m      2\u001b[39m \u001b[38;5;28mprint\u001b[39m(c)\n",
      "\u001b[31mValueError\u001b[39m: invalid literal for int() with base 10: '5+6'"
     ]
    }
   ],
   "source": [
    "c = int('5+6')\n",
    "print(c)"
   ]
  },
  {
   "cell_type": "code",
   "execution_count": 3,
   "id": "54fc00e6-3063-48f1-85a9-d6d45db8fb22",
   "metadata": {},
   "outputs": [
    {
     "name": "stdout",
     "output_type": "stream",
     "text": [
      "11\n"
     ]
    }
   ],
   "source": [
    "c = eval('5+6')\n",
    "print(c)"
   ]
  },
  {
   "cell_type": "code",
   "execution_count": 4,
   "id": "b2a92769-4ddd-4d57-bf3c-8b1489c8699b",
   "metadata": {},
   "outputs": [],
   "source": [
    "import math"
   ]
  },
  {
   "cell_type": "code",
   "execution_count": 5,
   "id": "e312e6cb-29c0-45b7-8e19-7f5785b0bbbc",
   "metadata": {},
   "outputs": [
    {
     "name": "stdout",
     "output_type": "stream",
     "text": [
      "12.566370614359172\n"
     ]
    }
   ],
   "source": [
    "a = math.pi * 2*2\n",
    "print(a)"
   ]
  },
  {
   "cell_type": "code",
   "execution_count": 6,
   "id": "687ba5a5-d554-4001-a051-302aa852b29e",
   "metadata": {},
   "outputs": [],
   "source": [
    "from math import pi"
   ]
  },
  {
   "cell_type": "code",
   "execution_count": 16,
   "id": "496f54c7-bd27-40c8-9559-58f7219bfe42",
   "metadata": {},
   "outputs": [
    {
     "name": "stdout",
     "output_type": "stream",
     "text": [
      "0.0\n"
     ]
    }
   ],
   "source": [
    "a = pi*(2^2)\n",
    "print(a)"
   ]
  },
  {
   "cell_type": "code",
   "execution_count": 18,
   "id": "9f38a019-0a16-4731-8f20-f48f9a6a114c",
   "metadata": {},
   "outputs": [
    {
     "name": "stdout",
     "output_type": "stream",
     "text": [
      "0\n"
     ]
    }
   ],
   "source": [
    "a= 2^2\n",
    "print(a)"
   ]
  },
  {
   "cell_type": "code",
   "execution_count": 22,
   "id": "ab38dd6e-c38a-4471-aedd-9251e4f14d0c",
   "metadata": {},
   "outputs": [
    {
     "name": "stdin",
     "output_type": "stream",
     "text": [
      "Enter the first numbers: 20\n",
      "Enter the second numbers: 30\n"
     ]
    },
    {
     "name": "stdout",
     "output_type": "stream",
     "text": [
      "The numbers before swapping are 20 30\n",
      "The numbers after swapping are 30 20\n"
     ]
    }
   ],
   "source": [
    "a = int(input('Enter the first numbers:'))\n",
    "b = int(input('Enter the second numbers:'))\n",
    "print('The numbers before swapping are',a,b)\n",
    "a,b = b,a\n",
    "print('The numbers after swapping are',a,b)"
   ]
  },
  {
   "cell_type": "code",
   "execution_count": 25,
   "id": "0ab55f69-a9fd-4243-907e-c9223a478495",
   "metadata": {},
   "outputs": [
    {
     "name": "stdout",
     "output_type": "stream",
     "text": [
      "10\n"
     ]
    }
   ],
   "source": [
    "_a = 10\n",
    "print(_a)"
   ]
  },
  {
   "cell_type": "code",
   "execution_count": 28,
   "id": "40ef2762-24f5-43a0-a898-0b2826c8c3c9",
   "metadata": {},
   "outputs": [
    {
     "name": "stdout",
     "output_type": "stream",
     "text": [
      "['False', 'None', 'True', 'and', 'as', 'assert', 'async', 'await', 'break', 'class', 'continue', 'def', 'del', 'elif', 'else', 'except', 'finally', 'for', 'from', 'global', 'if', 'import', 'in', 'is', 'lambda', 'nonlocal', 'not', 'or', 'pass', 'raise', 'return', 'try', 'while', 'with', 'yield']\n"
     ]
    }
   ],
   "source": [
    "import keyword\n",
    "print(keyword.kwlist)"
   ]
  },
  {
   "cell_type": "code",
   "execution_count": 33,
   "id": "a48819f3-be6b-4314-b5af-d781316710d2",
   "metadata": {},
   "outputs": [],
   "source": [
    "a = 10"
   ]
  },
  {
   "cell_type": "code",
   "execution_count": 38,
   "id": "1b962812-e3ac-492f-b66a-52268f324a74",
   "metadata": {},
   "outputs": [
    {
     "data": {
      "text/plain": [
       "80"
      ]
     },
     "execution_count": 38,
     "metadata": {},
     "output_type": "execute_result"
    }
   ],
   "source": [
    "a+ _"
   ]
  },
  {
   "cell_type": "code",
   "execution_count": 35,
   "id": "053f913d-9703-468b-b6d1-c93c1afc8ba0",
   "metadata": {},
   "outputs": [
    {
     "data": {
      "text/plain": [
       "30"
      ]
     },
     "execution_count": 35,
     "metadata": {},
     "output_type": "execute_result"
    }
   ],
   "source": [
    "a+b"
   ]
  },
  {
   "cell_type": "code",
   "execution_count": 37,
   "id": "e85065b5-b455-431b-a195-76b831b23200",
   "metadata": {},
   "outputs": [
    {
     "data": {
      "text/plain": [
       "70"
      ]
     },
     "execution_count": 37,
     "metadata": {},
     "output_type": "execute_result"
    }
   ],
   "source": [
    "40 + _"
   ]
  },
  {
   "cell_type": "code",
   "execution_count": 41,
   "id": "ccdd4bcd-b2e1-4328-8976-2b4cfd0fbcb9",
   "metadata": {},
   "outputs": [
    {
     "data": {
      "text/plain": [
       "30"
      ]
     },
     "execution_count": 41,
     "metadata": {},
     "output_type": "execute_result"
    }
   ],
   "source": [
    "10 + 20"
   ]
  },
  {
   "cell_type": "code",
   "execution_count": 44,
   "id": "9478f835-2855-4d80-8bcd-6e4b0dc867b5",
   "metadata": {},
   "outputs": [],
   "source": [
    "d =1"
   ]
  },
  {
   "cell_type": "code",
   "execution_count": 45,
   "id": "8249b626-a03b-4000-a876-1653fdb60ea8",
   "metadata": {},
   "outputs": [
    {
     "data": {
      "text/plain": [
       "61"
      ]
     },
     "execution_count": 45,
     "metadata": {},
     "output_type": "execute_result"
    }
   ],
   "source": [
    "d + _"
   ]
  },
  {
   "cell_type": "code",
   "execution_count": 1,
   "id": "cd177153-9353-4381-bba2-99c969785997",
   "metadata": {},
   "outputs": [
    {
     "data": {
      "text/plain": [
       "10"
      ]
     },
     "execution_count": 1,
     "metadata": {},
     "output_type": "execute_result"
    }
   ],
   "source": [
    "10"
   ]
  },
  {
   "cell_type": "code",
   "execution_count": 2,
   "id": "04d628e7-82a6-4e5f-804d-719f9de4d731",
   "metadata": {},
   "outputs": [],
   "source": [
    "f = 25"
   ]
  },
  {
   "cell_type": "code",
   "execution_count": 3,
   "id": "78cd5aae-1253-4021-8995-320bb4a732d7",
   "metadata": {},
   "outputs": [
    {
     "data": {
      "text/plain": [
       "35"
      ]
     },
     "execution_count": 3,
     "metadata": {},
     "output_type": "execute_result"
    }
   ],
   "source": [
    "f + _"
   ]
  },
  {
   "cell_type": "code",
   "execution_count": 4,
   "id": "7a3fb751-a9f2-4005-ba39-85fa49847ab9",
   "metadata": {},
   "outputs": [
    {
     "data": {
      "text/plain": [
       "(4, 4)"
      ]
     },
     "execution_count": 4,
     "metadata": {},
     "output_type": "execute_result"
    }
   ],
   "source": [
    "divmod(24,5)"
   ]
  },
  {
   "cell_type": "code",
   "execution_count": 5,
   "id": "f5c76d34-836b-4b6d-818b-9b2808e879ee",
   "metadata": {},
   "outputs": [
    {
     "data": {
      "text/plain": [
       "1"
      ]
     },
     "execution_count": 5,
     "metadata": {},
     "output_type": "execute_result"
    }
   ],
   "source": [
    "4%3"
   ]
  },
  {
   "cell_type": "code",
   "execution_count": 6,
   "id": "26b5eef5-c76d-45a6-b03a-dbdf3ce9d76f",
   "metadata": {},
   "outputs": [
    {
     "data": {
      "text/plain": [
       "3"
      ]
     },
     "execution_count": 6,
     "metadata": {},
     "output_type": "execute_result"
    }
   ],
   "source": [
    "3%4"
   ]
  },
  {
   "cell_type": "code",
   "execution_count": 7,
   "id": "60268f1b-19fd-4881-a733-7ff73f05c1c6",
   "metadata": {},
   "outputs": [
    {
     "data": {
      "text/plain": [
       "-1"
      ]
     },
     "execution_count": 7,
     "metadata": {},
     "output_type": "execute_result"
    }
   ],
   "source": [
    "3%-4"
   ]
  },
  {
   "cell_type": "code",
   "execution_count": 8,
   "id": "a6a3e5e0-18a0-4f61-b251-34c3bd41d762",
   "metadata": {},
   "outputs": [
    {
     "data": {
      "text/plain": [
       "1"
      ]
     },
     "execution_count": 8,
     "metadata": {},
     "output_type": "execute_result"
    }
   ],
   "source": [
    "-3%4"
   ]
  },
  {
   "cell_type": "code",
   "execution_count": 9,
   "id": "3f878cac-802a-46b2-9c4d-d6c166035c8c",
   "metadata": {},
   "outputs": [
    {
     "data": {
      "text/plain": [
       "-3"
      ]
     },
     "execution_count": 9,
     "metadata": {},
     "output_type": "execute_result"
    }
   ],
   "source": [
    "-3%-4"
   ]
  },
  {
   "cell_type": "code",
   "execution_count": 10,
   "id": "adf5856a-4670-42de-8a7d-d0f07a08c5c2",
   "metadata": {},
   "outputs": [],
   "source": [
    "import math"
   ]
  },
  {
   "cell_type": "code",
   "execution_count": 12,
   "id": "ba448eeb-05ce-44c4-81d2-888bd67cf6d9",
   "metadata": {},
   "outputs": [
    {
     "name": "stdout",
     "output_type": "stream",
     "text": [
      "-1.5\n"
     ]
    }
   ],
   "source": [
    "print(math.fmod(-5.5,2))"
   ]
  },
  {
   "cell_type": "code",
   "execution_count": 13,
   "id": "cd8f5865-9c08-4876-a5d1-d6f72d7cf60b",
   "metadata": {},
   "outputs": [
    {
     "name": "stdout",
     "output_type": "stream",
     "text": [
      "1.0\n"
     ]
    }
   ],
   "source": [
    "print(math.fmod(7,2))"
   ]
  },
  {
   "cell_type": "code",
   "execution_count": 16,
   "id": "28386f6e-e943-4948-ab42-868345d25aa3",
   "metadata": {},
   "outputs": [
    {
     "data": {
      "text/plain": [
       "False"
      ]
     },
     "execution_count": 16,
     "metadata": {},
     "output_type": "execute_result"
    }
   ],
   "source": [
    "isinstance(2,complex)"
   ]
  },
  {
   "cell_type": "code",
   "execution_count": null,
   "id": "88633840-7b87-4075-b612-5df889f36eef",
   "metadata": {},
   "outputs": [],
   "source": []
  },
  {
   "cell_type": "code",
   "execution_count": null,
   "id": "bd2ab3b6-685f-4c12-9010-6c0c906f7c38",
   "metadata": {},
   "outputs": [],
   "source": []
  }
 ],
 "metadata": {
  "kernelspec": {
   "display_name": "Python 3 (ipykernel)",
   "language": "python",
   "name": "python3"
  },
  "language_info": {
   "codemirror_mode": {
    "name": "ipython",
    "version": 3
   },
   "file_extension": ".py",
   "mimetype": "text/x-python",
   "name": "python",
   "nbconvert_exporter": "python",
   "pygments_lexer": "ipython3",
   "version": "3.13.2"
  }
 },
 "nbformat": 4,
 "nbformat_minor": 5
}
