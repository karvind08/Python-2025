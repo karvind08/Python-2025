{
 "cells": [
  {
   "cell_type": "code",
   "execution_count": 1,
   "id": "95e5548c-f772-4f54-a49a-2e79452f1102",
   "metadata": {},
   "outputs": [
    {
     "name": "stdin",
     "output_type": "stream",
     "text": [
      "Enter the number:  3\n"
     ]
    },
    {
     "name": "stdout",
     "output_type": "stream",
     "text": [
      "Hello\n"
     ]
    }
   ],
   "source": [
    "a = int(input('Enter the number: '))\n",
    "if a<10:\n",
    "    print('Hello')"
   ]
  },
  {
   "cell_type": "code",
   "execution_count": 3,
   "id": "fcd76e43-6fa2-40e9-8bf8-1b26c7a296fa",
   "metadata": {},
   "outputs": [
    {
     "ename": "_IncompleteInputError",
     "evalue": "incomplete input (285736577.py, line 3)",
     "output_type": "error",
     "traceback": [
      "  \u001b[36mCell\u001b[39m\u001b[36m \u001b[39m\u001b[32mIn[3]\u001b[39m\u001b[32m, line 3\u001b[39m\n\u001b[31m    \u001b[39m\n    ^\n\u001b[31m_IncompleteInputError\u001b[39m\u001b[31m:\u001b[39m incomplete input\n"
     ]
    }
   ],
   "source": [
    "a = int(input('Enter the number: '))\n",
    "if a<10:\n",
    "    "
   ]
  },
  {
   "cell_type": "code",
   "execution_count": 6,
   "id": "0436b930-8d21-4d4a-bee1-e33069a7275a",
   "metadata": {},
   "outputs": [
    {
     "name": "stdin",
     "output_type": "stream",
     "text": [
      "Enter the number:  81\n"
     ]
    },
    {
     "name": "stdout",
     "output_type": "stream",
     "text": [
      "CSE\n"
     ]
    }
   ],
   "source": [
    "a = int(input('Enter the number: '))\n",
    "if a<10:\n",
    "    print('Hello')\n",
    "else:\n",
    "    print('CSE')"
   ]
  },
  {
   "cell_type": "code",
   "execution_count": 9,
   "id": "f7b61f7e-b4dd-4f40-8acf-9248ea95fa40",
   "metadata": {},
   "outputs": [
    {
     "name": "stdin",
     "output_type": "stream",
     "text": [
      "Enter the number:  5\n"
     ]
    },
    {
     "name": "stdout",
     "output_type": "stream",
     "text": [
      "CSE\n"
     ]
    }
   ],
   "source": [
    "a = int(input('Enter the number: '))\n",
    "if a==10:\n",
    "    print('Hello')\n",
    "elif a==5:\n",
    "    print('CSE')\n",
    "else:\n",
    "    print('India')"
   ]
  },
  {
   "cell_type": "markdown",
   "id": "5dccae42-04e7-4b1e-929e-52824c801600",
   "metadata": {},
   "source": [
    "single-statement suite"
   ]
  },
  {
   "cell_type": "code",
   "execution_count": 11,
   "id": "d3290da9-5166-4eb7-b57d-2851b62c227f",
   "metadata": {},
   "outputs": [
    {
     "name": "stdin",
     "output_type": "stream",
     "text": [
      "Enter the number:  4\n"
     ]
    },
    {
     "name": "stdout",
     "output_type": "stream",
     "text": [
      "A\n"
     ]
    }
   ],
   "source": [
    "a = int(input('Enter the number: '))\n",
    "if a<10: print('A')"
   ]
  },
  {
   "cell_type": "code",
   "execution_count": 12,
   "id": "d32a0c78-4042-418d-81b5-5b20ce197fe7",
   "metadata": {},
   "outputs": [
    {
     "name": "stdout",
     "output_type": "stream",
     "text": [
      "False\n"
     ]
    }
   ],
   "source": [
    "a = 20<5\n",
    "print(a)"
   ]
  },
  {
   "cell_type": "markdown",
   "id": "7165d8af-3ba0-49f6-b54f-2e3cb1c4c637",
   "metadata": {},
   "source": [
    "Short Hand If ... Else"
   ]
  },
  {
   "cell_type": "code",
   "execution_count": 13,
   "id": "75a15e09-5af2-40e4-ad0a-31fc5379a0b8",
   "metadata": {},
   "outputs": [
    {
     "name": "stdout",
     "output_type": "stream",
     "text": [
      "10\n"
     ]
    }
   ],
   "source": [
    "a = 10\n",
    "b = 3\n",
    "print(a) if a>b else print(b)"
   ]
  },
  {
   "cell_type": "code",
   "execution_count": 14,
   "id": "b3f02f7d-0800-4af6-84d3-761decd7739d",
   "metadata": {},
   "outputs": [
    {
     "name": "stdout",
     "output_type": "stream",
     "text": [
      "23 is greatest\n"
     ]
    }
   ],
   "source": [
    "a = 10\n",
    "b = 4\n",
    "c = 23\n",
    "if a>b:\n",
    "    if a>c:\n",
    "        print('{} is greatest'.format(a))\n",
    "    else:\n",
    "        print('{} is greatest'.format(c))\n",
    "else:\n",
    "    if b>c:\n",
    "          print('{} is greatest'.format(b))\n",
    "    else:\n",
    "          print('{} is greatest'.format(c))"
   ]
  },
  {
   "cell_type": "code",
   "execution_count": 16,
   "id": "45978f07-83a2-4c8b-b6d0-791e9206be65",
   "metadata": {},
   "outputs": [
    {
     "name": "stdout",
     "output_type": "stream",
     "text": [
      "Loss is 70\n"
     ]
    }
   ],
   "source": [
    "cp =  120\n",
    "sp = 50 \n",
    "p = sp-cp\n",
    "l = cp - sp\n",
    "if p>0:\n",
    "    print('Profit is {}'.format(p))\n",
    "else:\n",
    "    print('Loss is {}'.format(l))"
   ]
  },
  {
   "cell_type": "code",
   "execution_count": 18,
   "id": "486c5fa9-c5a8-4ebc-8dda-5ed8020dd1a6",
   "metadata": {},
   "outputs": [
    {
     "name": "stdout",
     "output_type": "stream",
     "text": [
      "3240.0\n"
     ]
    }
   ],
   "source": [
    "qty = 1200\n",
    "ppi = 3\n",
    "exp = qty*ppi\n",
    "if qty>1000:\n",
    "    cost = exp - 0.10*exp\n",
    "    print(cost)\n",
    "else:\n",
    "    print(exp)\n",
    "    "
   ]
  },
  {
   "cell_type": "code",
   "execution_count": 22,
   "id": "5b9fde7f-81c8-4de9-87b7-6f4b7d6a8031",
   "metadata": {},
   "outputs": [
    {
     "name": "stdin",
     "output_type": "stream",
     "text": [
      " 1100\n"
     ]
    },
    {
     "name": "stdout",
     "output_type": "stream",
     "text": [
      "Not Leap Year\n"
     ]
    }
   ],
   "source": [
    "y = int(input())\n",
    "if y%100==0:\n",
    "    if y%400==0:\n",
    "        print('Leap Year')\n",
    "    else:\n",
    "        print('Not Leap Year')\n",
    "else:\n",
    "    if y%4==0:\n",
    "        print('Leap Year')\n",
    "    else:\n",
    "        print('Not Leap Year')"
   ]
  },
  {
   "cell_type": "code",
   "execution_count": 25,
   "id": "22ad9a1e-8e1e-48c9-94da-e9d922417405",
   "metadata": {},
   "outputs": [
    {
     "data": {
      "text/plain": [
       "range(0, 5)"
      ]
     },
     "execution_count": 25,
     "metadata": {},
     "output_type": "execute_result"
    }
   ],
   "source": [
    "range(5)"
   ]
  },
  {
   "cell_type": "code",
   "execution_count": 26,
   "id": "065cd034-8b91-4efb-ba84-bacba115ff50",
   "metadata": {},
   "outputs": [
    {
     "data": {
      "text/plain": [
       "[0, 1, 2, 3, 4]"
      ]
     },
     "execution_count": 26,
     "metadata": {},
     "output_type": "execute_result"
    }
   ],
   "source": [
    "list(range(5))"
   ]
  },
  {
   "cell_type": "code",
   "execution_count": null,
   "id": "44e3f909-aba8-415a-baf1-e801ddd5e867",
   "metadata": {},
   "outputs": [],
   "source": []
  },
  {
   "cell_type": "code",
   "execution_count": null,
   "id": "9f34a3a2-cbf6-4f92-969f-672e94a1b639",
   "metadata": {},
   "outputs": [],
   "source": []
  }
 ],
 "metadata": {
  "kernelspec": {
   "display_name": "Python 3 (ipykernel)",
   "language": "python",
   "name": "python3"
  },
  "language_info": {
   "codemirror_mode": {
    "name": "ipython",
    "version": 3
   },
   "file_extension": ".py",
   "mimetype": "text/x-python",
   "name": "python",
   "nbconvert_exporter": "python",
   "pygments_lexer": "ipython3",
   "version": "3.13.2"
  }
 },
 "nbformat": 4,
 "nbformat_minor": 5
}
