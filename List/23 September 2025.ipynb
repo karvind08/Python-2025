{
 "cells": [
  {
   "cell_type": "code",
   "execution_count": 1,
   "id": "82111b8a-1cd8-4cdc-b30a-2c129f778435",
   "metadata": {},
   "outputs": [
    {
     "name": "stdout",
     "output_type": "stream",
     "text": [
      "[2, 4]\n"
     ]
    }
   ],
   "source": [
    "ml = [1,2,3,4,5]\n",
    "total = ml[1::2]\n",
    "print(total)"
   ]
  },
  {
   "cell_type": "code",
   "execution_count": 2,
   "id": "8fac59b7-8679-42c2-ba08-559f3a887a12",
   "metadata": {},
   "outputs": [
    {
     "name": "stdout",
     "output_type": "stream",
     "text": [
      "90\n"
     ]
    }
   ],
   "source": [
    "mylist = [100,4,200,1,3,2,9,11,23,35,12,10,15,13,16,14,0]\n",
    "total = mylist[1::2]\n",
    "t = sum(total)\n",
    "print(t)"
   ]
  },
  {
   "cell_type": "code",
   "execution_count": 6,
   "id": "1f5b9905-f3ae-434d-bc6f-18d285ea8707",
   "metadata": {},
   "outputs": [
    {
     "name": "stdout",
     "output_type": "stream",
     "text": [
      "[20, 40, 60]\n",
      "120\n"
     ]
    }
   ],
   "source": [
    "mylist = [10,20,30,40,50,60]\n",
    "o = []\n",
    "l = len(mylist)\n",
    "for i in range(l):\n",
    "    if i%2!=0:\n",
    "        o.append(mylist[i])\n",
    "print(o)\n",
    "print(sum(o))"
   ]
  },
  {
   "cell_type": "code",
   "execution_count": 8,
   "id": "ace4fb57-0cd3-410c-a8f5-2cba3b3f8a51",
   "metadata": {},
   "outputs": [
    {
     "name": "stdin",
     "output_type": "stream",
     "text": [
      " 100\n"
     ]
    },
    {
     "name": "stdout",
     "output_type": "stream",
     "text": [
      "Not Found\n"
     ]
    }
   ],
   "source": [
    "mylist = [10,20,30,40,50,60]\n",
    "n = int(input())\n",
    "for index,value in enumerate(mylist):\n",
    "    if n==value:\n",
    "        print(index)\n",
    "        break\n",
    "else:\n",
    "    print('Not Found')"
   ]
  },
  {
   "cell_type": "code",
   "execution_count": 11,
   "id": "32365621-f8bf-42da-8522-aeb399e03f76",
   "metadata": {},
   "outputs": [
    {
     "name": "stdout",
     "output_type": "stream",
     "text": [
      "(10, 20, 30)\n",
      "(40, 50, 60)\n",
      "(70, 80, 90)\n",
      "(100, 110, 120)\n",
      "(130,)\n"
     ]
    },
    {
     "data": {
      "text/plain": [
       "tuple"
      ]
     },
     "execution_count": 11,
     "metadata": {},
     "output_type": "execute_result"
    }
   ],
   "source": [
    "from itertools import batched\n",
    "mylist = [10,20,30,40,50,60,70,80,90,100,110,120,130]\n",
    "for i in batched(mylist,3):\n",
    "    print(i)\n",
    "type(i)"
   ]
  }
 ],
 "metadata": {
  "kernelspec": {
   "display_name": "Python 3 (ipykernel)",
   "language": "python",
   "name": "python3"
  },
  "language_info": {
   "codemirror_mode": {
    "name": "ipython",
    "version": 3
   },
   "file_extension": ".py",
   "mimetype": "text/x-python",
   "name": "python",
   "nbconvert_exporter": "python",
   "pygments_lexer": "ipython3",
   "version": "3.13.7"
  }
 },
 "nbformat": 4,
 "nbformat_minor": 5
}
