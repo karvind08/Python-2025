{
 "cells": [
  {
   "cell_type": "markdown",
   "id": "86719dc2-6bc7-4bc0-b226-7ecc9b7be33f",
   "metadata": {},
   "source": [
    "### Write a Python program to enter the elements of the list from the user:"
   ]
  },
  {
   "cell_type": "code",
   "execution_count": 1,
   "id": "6654a5d3-df78-4513-b485-b3d66631fc97",
   "metadata": {},
   "outputs": [
    {
     "name": "stdin",
     "output_type": "stream",
     "text": [
      "Enter the number of elements:  3\n",
      "Enter the element 1\n",
      "Enter the element 2\n",
      "Enter the element 3\n"
     ]
    },
    {
     "name": "stdout",
     "output_type": "stream",
     "text": [
      "The List is [1, 2, 3]\n"
     ]
    }
   ],
   "source": [
    "l = []\n",
    "n = int(input('Enter the number of elements: '))\n",
    "for i in range(n):\n",
    "    a = int(input('Enter the element'))\n",
    "    l.append(a)\n",
    "print('The List is',l)"
   ]
  },
  {
   "cell_type": "markdown",
   "id": "a4ef128d-285c-4e7e-a9e6-a7b09862aee4",
   "metadata": {},
   "source": [
    "### Write a Python program to sum all the items in a list."
   ]
  },
  {
   "cell_type": "code",
   "execution_count": 2,
   "id": "df4aea2d-a33b-43da-b0a1-83e742e1c852",
   "metadata": {},
   "outputs": [
    {
     "name": "stdin",
     "output_type": "stream",
     "text": [
      "Enter the number of elements:  3\n",
      "Enter the element 3\n",
      "Enter the element 4\n",
      "Enter the element 5\n"
     ]
    },
    {
     "name": "stdout",
     "output_type": "stream",
     "text": [
      "The List is [3, 4, 5]\n",
      "The sum of elements is  12\n"
     ]
    }
   ],
   "source": [
    "l = []\n",
    "n = int(input('Enter the number of elements: '))\n",
    "for i in range(n):\n",
    "    a = int(input('Enter the element'))\n",
    "    l.append(a)\n",
    "print('The List is',l)\n",
    "sum = 0\n",
    "for i in l:\n",
    "    sum = sum+i\n",
    "\n",
    "print('The sum of elements is ',sum)"
   ]
  },
  {
   "cell_type": "code",
   "execution_count": 1,
   "id": "da8b1c2e-44a4-4434-9e9b-c91f81b7c66e",
   "metadata": {},
   "outputs": [
    {
     "name": "stdin",
     "output_type": "stream",
     "text": [
      "Enter the number of elements:  3\n",
      "Enter the element 1\n",
      "Enter the element 2\n",
      "Enter the element 3\n"
     ]
    },
    {
     "name": "stdout",
     "output_type": "stream",
     "text": [
      "The List is [1, 2, 3]\n",
      "6\n"
     ]
    }
   ],
   "source": [
    "l = []\n",
    "n = int(input('Enter the number of elements: '))\n",
    "for i in range(n):\n",
    "    a = int(input('Enter the element'))\n",
    "    l.append(a)\n",
    "print('The List is',l)\n",
    "s = sum(l)\n",
    "print(s)"
   ]
  },
  {
   "cell_type": "markdown",
   "id": "178b4713-e8d9-4cfc-9b3b-03b6ece1089d",
   "metadata": {},
   "source": [
    "### Write a Python program to find the sum of only the positive numbers in a given list."
   ]
  },
  {
   "cell_type": "code",
   "execution_count": 4,
   "id": "aa8a9d1b-ae9e-4f87-8697-08a8e41d80f7",
   "metadata": {},
   "outputs": [
    {
     "name": "stdin",
     "output_type": "stream",
     "text": [
      "Enter the number of elements:  3\n",
      "Enter the element -1\n",
      "Enter the element 0\n",
      "Enter the element 4\n"
     ]
    },
    {
     "name": "stdout",
     "output_type": "stream",
     "text": [
      "The List is [-1, 0, 4]\n",
      "The sum of elements is  4\n"
     ]
    }
   ],
   "source": [
    "l = []\n",
    "n = int(input('Enter the number of elements: '))\n",
    "for i in range(n):\n",
    "    a = int(input('Enter the element'))\n",
    "    l.append(a)\n",
    "print('The List is',l)\n",
    "sum = 0\n",
    "for i in l:\n",
    "    if i>0:\n",
    "        sum = sum+i\n",
    "\n",
    "print('The sum of elements is ',sum)"
   ]
  },
  {
   "cell_type": "markdown",
   "id": "5e046000-4daa-44af-8696-160f25a3b28a",
   "metadata": {},
   "source": [
    "# Write a Python program to multiply all the items in a list."
   ]
  },
  {
   "cell_type": "code",
   "execution_count": 5,
   "id": "3087d060-67d6-4b93-b42a-8d9f0d7753ef",
   "metadata": {},
   "outputs": [
    {
     "name": "stdin",
     "output_type": "stream",
     "text": [
      "Enter the number of elements:  3\n",
      "Enter the element 3\n",
      "Enter the element 2\n",
      "Enter the element 4\n"
     ]
    },
    {
     "name": "stdout",
     "output_type": "stream",
     "text": [
      "The List is [3, 2, 4]\n",
      "The multiplication of all elements is  24\n"
     ]
    }
   ],
   "source": [
    "l = []\n",
    "n = int(input('Enter the number of elements: '))\n",
    "for i in range(n):\n",
    "    a = int(input('Enter the element'))\n",
    "    l.append(a)\n",
    "print('The List is',l)\n",
    "m = 1\n",
    "for i in l:\n",
    "    m = m*i\n",
    "print('The multiplication of all elements is ',m)"
   ]
  },
  {
   "cell_type": "markdown",
   "id": "7cf8a514-b5ee-4eaa-8817-b21a38089f99",
   "metadata": {},
   "source": [
    "### Write a Python program to get the largest number from a list."
   ]
  },
  {
   "cell_type": "code",
   "execution_count": 6,
   "id": "d4bd724d-7623-4433-9acf-1c72df7572b7",
   "metadata": {},
   "outputs": [
    {
     "name": "stdin",
     "output_type": "stream",
     "text": [
      "Enter the number of elements:  5\n",
      "Enter the element 1\n",
      "Enter the element 23\n",
      "Enter the element 6\n",
      "Enter the element 8\n",
      "Enter the element 9\n"
     ]
    },
    {
     "name": "stdout",
     "output_type": "stream",
     "text": [
      "The List is [1, 23, 6, 8, 9]\n",
      "The element is  23\n"
     ]
    }
   ],
   "source": [
    "l = []\n",
    "n = int(input('Enter the number of elements: '))\n",
    "for i in range(n):\n",
    "    a = int(input('Enter the element'))\n",
    "    l.append(a)\n",
    "print('The List is',l)\n",
    "big = l[0]\n",
    "for i in l:\n",
    "    if i>big:\n",
    "        big = i\n",
    "print('The element is ',big)"
   ]
  },
  {
   "cell_type": "code",
   "execution_count": 2,
   "id": "c97dde51-03bb-4a9b-8132-40bbce1ea954",
   "metadata": {},
   "outputs": [
    {
     "name": "stdin",
     "output_type": "stream",
     "text": [
      "Enter the number of elements:  3\n",
      "Enter the element 3\n",
      "Enter the element 7\n",
      "Enter the element 90\n"
     ]
    },
    {
     "name": "stdout",
     "output_type": "stream",
     "text": [
      "The List is [3, 7, 90]\n",
      "The biggest element is 90\n",
      "The smallest element is 3\n"
     ]
    }
   ],
   "source": [
    "l = []\n",
    "n = int(input('Enter the number of elements: '))\n",
    "for i in range(n):\n",
    "    a = int(input('Enter the element'))\n",
    "    l.append(a)\n",
    "print('The List is',l)\n",
    "print('The biggest element is',max(l))\n",
    "print('The smallest element is',min(l))"
   ]
  },
  {
   "cell_type": "markdown",
   "id": "4a869a84-af50-4ac7-8296-9ec5fcffb269",
   "metadata": {},
   "source": [
    "### Create a list of characters. Write a program to reverse the order of the elements in the list without using built-in functions. Use indexing method."
   ]
  },
  {
   "cell_type": "code",
   "execution_count": 3,
   "id": "aba393f1-5864-4a98-8254-224707fc7b21",
   "metadata": {},
   "outputs": [
    {
     "name": "stdin",
     "output_type": "stream",
     "text": [
      "Enter the number of elements:  4\n",
      "Enter the element 1\n",
      "Enter the element 3\n",
      "Enter the element -3\n",
      "Enter the element 8\n"
     ]
    },
    {
     "name": "stdout",
     "output_type": "stream",
     "text": [
      "The List is [1, 3, -3, 8]\n",
      "[8, -3, 3, 1]\n"
     ]
    }
   ],
   "source": [
    "l = []\n",
    "n = int(input('Enter the number of elements: '))\n",
    "for i in range(n):\n",
    "    a = int(input('Enter the element'))\n",
    "    l.append(a)\n",
    "print('The List is',l)\n",
    "rev = l[::-1]\n",
    "print(rev)"
   ]
  },
  {
   "cell_type": "code",
   "execution_count": 4,
   "id": "833c5dc8-c335-4534-978c-c5e68368de84",
   "metadata": {},
   "outputs": [
    {
     "name": "stdin",
     "output_type": "stream",
     "text": [
      "Enter the number of elements:  5\n",
      "Enter the element a\n",
      "Enter the element v\n",
      "Enter the element 5\n",
      "Enter the element 8\n",
      "Enter the element 10\n"
     ]
    },
    {
     "name": "stdout",
     "output_type": "stream",
     "text": [
      "The List is ['a', 'v', '5', '8', '10']\n",
      "['10', '8', '5', 'v', 'a']\n"
     ]
    }
   ],
   "source": [
    "l = []\n",
    "n = int(input('Enter the number of elements: '))\n",
    "for i in range(n):\n",
    "    a = input('Enter the element')\n",
    "    l.append(a)\n",
    "print('The List is',l)\n",
    "rev = l[::-1]\n",
    "print(rev)"
   ]
  },
  {
   "cell_type": "markdown",
   "id": "b5e71b7d-fdc8-46bc-8a0e-e115fa88eb5b",
   "metadata": {},
   "source": [
    " ### Write a Python program to find the index of an element in a list."
   ]
  },
  {
   "cell_type": "code",
   "execution_count": 10,
   "id": "2594315f-c20d-4008-966e-67c523ec1fa7",
   "metadata": {},
   "outputs": [
    {
     "name": "stdout",
     "output_type": "stream",
     "text": [
      "The List is ['a', 2, 45, 'abc']\n",
      "The index is  0\n"
     ]
    }
   ],
   "source": [
    "l = ['a',2,45,'abc']\n",
    "print('The List is',l)\n",
    "print('The index is ',l.index('a'))"
   ]
  },
  {
   "cell_type": "markdown",
   "id": "b8524ff7-466c-40f5-8ae0-c9dee0c39128",
   "metadata": {},
   "source": [
    "### Write a Python program to remove duplicates from a list."
   ]
  },
  {
   "cell_type": "code",
   "execution_count": 8,
   "id": "f1f4a621-26e5-4caf-9f19-024fbad9d713",
   "metadata": {},
   "outputs": [
    {
     "name": "stdin",
     "output_type": "stream",
     "text": [
      "Enter the number of elements:  5\n",
      "Enter the element 1\n",
      "Enter the element 1\n",
      "Enter the element 2\n",
      "Enter the element 3\n",
      "Enter the element 2\n"
     ]
    },
    {
     "name": "stdout",
     "output_type": "stream",
     "text": [
      "The List is [1, 1, 2, 3, 2]\n",
      "List with no duplicates:  [1, 2, 3]\n"
     ]
    }
   ],
   "source": [
    "l = []\n",
    "n = int(input('Enter the number of elements: '))\n",
    "for i in range(n):\n",
    "    a = int(input('Enter the element'))\n",
    "    l.append(a)\n",
    "print('The List is',l)\n",
    "no_dup = []\n",
    "for i in l:\n",
    "    if i not in no_dup:\n",
    "        no_dup.append(i)\n",
    "\n",
    "print('List with no duplicates: ',no_dup)"
   ]
  },
  {
   "cell_type": "markdown",
   "id": "05f61303-38a3-47d1-abeb-d2792be09ad6",
   "metadata": {},
   "source": [
    "# Write a Python program to check if a list is empty or not."
   ]
  },
  {
   "cell_type": "code",
   "execution_count": 9,
   "id": "09d72b2c-795f-4c3e-91fa-3a2d54a01e5c",
   "metadata": {},
   "outputs": [
    {
     "name": "stdin",
     "output_type": "stream",
     "text": [
      "Enter the number of elements:  0\n"
     ]
    },
    {
     "name": "stdout",
     "output_type": "stream",
     "text": [
      "The List is []\n",
      "List is empty\n"
     ]
    }
   ],
   "source": [
    "l = []\n",
    "n = int(input('Enter the number of elements: '))\n",
    "for i in range(n):\n",
    "    a = int(input('Enter the element'))\n",
    "    l.append(a)\n",
    "print('The List is',l)\n",
    "\n",
    "if not l:\n",
    "    print('List is empty')\n",
    "else:\n",
    "     print('List is not empty')"
   ]
  },
  {
   "cell_type": "code",
   "execution_count": 10,
   "id": "aa35d480-c32a-4553-8418-8347c4e28a5f",
   "metadata": {},
   "outputs": [
    {
     "name": "stdout",
     "output_type": "stream",
     "text": [
      "List is empty\n"
     ]
    }
   ],
   "source": [
    "l = []\n",
    "if not l:\n",
    "    print('List is empty')\n",
    "else:\n",
    "     print('List is not empty')"
   ]
  },
  {
   "cell_type": "markdown",
   "id": "90624474-f440-426a-b0e2-3dc6d71e149b",
   "metadata": {},
   "source": [
    "### You have given a Python list. Write a program to find value 20 in the list, and if it is present, replace it with 200. Only update the first occurrence of an item.\n",
    "### list1 = [5, 10, 15, 20, 25, 50, 20]\n",
    "### Expected output: [5, 10, 15, 200, 25, 50, 20]"
   ]
  },
  {
   "cell_type": "code",
   "execution_count": 13,
   "id": "0f60b7c0-57bd-411e-8858-9dd90697db7d",
   "metadata": {},
   "outputs": [
    {
     "name": "stdout",
     "output_type": "stream",
     "text": [
      "[5, 10, 15, 200, 25, 50, 20]\n"
     ]
    }
   ],
   "source": [
    "list1 = [5, 10, 15, 20, 25, 50, 20]\n",
    "list1[list1.index(20)] = 200\n",
    "print(list1)"
   ]
  },
  {
   "cell_type": "markdown",
   "id": "d7444448-f417-4463-a873-44631e2eb7a2",
   "metadata": {},
   "source": [
    "# Create a list of numbers. Write a program to find the range (difference between the largest and smallest element) of the list."
   ]
  },
  {
   "cell_type": "code",
   "execution_count": 15,
   "id": "9bb37807-59b1-44e9-b7ba-72b36547b23f",
   "metadata": {},
   "outputs": [
    {
     "name": "stdout",
     "output_type": "stream",
     "text": [
      "195\n"
     ]
    }
   ],
   "source": [
    "L = [5, 10, 15, 200, 25, 50, 20]\n",
    "r1 = max(L) - min(L)\n",
    "print(r1)"
   ]
  },
  {
   "cell_type": "markdown",
   "id": "ba9c876e-5beb-458a-94be-b5e09433bdf0",
   "metadata": {},
   "source": [
    "## Create a list of numbers. Write a program to insert a new element at a specific position in the list."
   ]
  },
  {
   "cell_type": "code",
   "execution_count": 17,
   "id": "9b7918de-54e9-4457-9051-b7d8d25dfadc",
   "metadata": {},
   "outputs": [
    {
     "name": "stdin",
     "output_type": "stream",
     "text": [
      "Enter the index:  3\n",
      "Enter the element:  4565\n"
     ]
    },
    {
     "name": "stdout",
     "output_type": "stream",
     "text": [
      "[5, 10, 15, 4565, 200, 25, 50, 20]\n"
     ]
    }
   ],
   "source": [
    "lst = [5, 10, 15, 200, 25, 50, 20]\n",
    "i = int(input('Enter the index: '))\n",
    "n = int(input('Enter the element: '))\n",
    "lst.insert(i,n)\n",
    "print(lst)"
   ]
  },
  {
   "cell_type": "markdown",
   "id": "7e412981-6dbf-43f5-a72f-8fdfe9d8b311",
   "metadata": {},
   "source": [
    "# Write a Python program to remove duplicates from a list."
   ]
  },
  {
   "cell_type": "code",
   "execution_count": 20,
   "id": "81851573-cccf-441c-b955-b65e3ca8f443",
   "metadata": {},
   "outputs": [
    {
     "name": "stdout",
     "output_type": "stream",
     "text": [
      "List without duplicates:  [1, 98, 3, 5, 6, 74, 24]\n"
     ]
    }
   ],
   "source": [
    "L = [6,3,98,24,3,5,74,1,5,6,3]\n",
    "s  = set(L)\n",
    "print('List without duplicates: ',list(s))"
   ]
  },
  {
   "cell_type": "markdown",
   "id": "2f2b70d0-ddce-40f4-af8e-470f48bda251",
   "metadata": {},
   "source": [
    "# Write a Python program to find the common elements between two lists."
   ]
  },
  {
   "cell_type": "code",
   "execution_count": 21,
   "id": "0b199104-6b21-49c5-a95b-7d267f358ad9",
   "metadata": {},
   "outputs": [
    {
     "name": "stdout",
     "output_type": "stream",
     "text": [
      "3\n",
      "4\n",
      "5\n"
     ]
    }
   ],
   "source": [
    "L1 = [1, 2, 3, 4, 5]\n",
    "L2 = [3, 4, 5, 6, 7]\n",
    "for i in L1:\n",
    "  if i in L2:\n",
    "      print(i)"
   ]
  },
  {
   "cell_type": "markdown",
   "id": "e2c088af-c73a-4055-ae6a-eb404fe0527f",
   "metadata": {},
   "source": [
    "# Write a Python program to find the second smallest element in a list."
   ]
  },
  {
   "cell_type": "code",
   "execution_count": 24,
   "id": "d6d5fa39-cdeb-4a18-b34e-c41fb63bc8a2",
   "metadata": {},
   "outputs": [
    {
     "name": "stdout",
     "output_type": "stream",
     "text": [
      "The sorted list [3, 4, 5, 6, 6, 7]\n",
      "second smallest element: 4\n"
     ]
    }
   ],
   "source": [
    "lst = [3,6, 4, 5, 6, 7]\n",
    "lst.sort()\n",
    "print('The sorted list',lst)\n",
    "print('second smallest element:', lst[1])"
   ]
  },
  {
   "cell_type": "code",
   "execution_count": 33,
   "id": "35802d33-4c92-4779-a375-56b4b618ee47",
   "metadata": {},
   "outputs": [
    {
     "name": "stdout",
     "output_type": "stream",
     "text": [
      "The list [3, 6, 4, 5, 6, 7]\n",
      "The sorted list [3, 4, 5, 6, 6, 7]\n",
      "second smallest element: 4\n"
     ]
    }
   ],
   "source": [
    "lst = [3,6, 4, 5, 6, 7]\n",
    "print('The list',lst)\n",
    "lst.sort()\n",
    "print('The sorted list',L)\n",
    "print('second smallest element:', lst[1])"
   ]
  },
  {
   "cell_type": "markdown",
   "id": "b720966c-e4a9-4d4e-a719-355e24f5a71b",
   "metadata": {},
   "source": [
    " # Write a Python program to split a list for a given number of lists."
   ]
  },
  {
   "cell_type": "code",
   "execution_count": 1,
   "id": "b39b05af-f51d-4210-abb2-a2aa0bf9b1ef",
   "metadata": {},
   "outputs": [
    {
     "name": "stdout",
     "output_type": "stream",
     "text": [
      "[100, 4, 200, 1, 3]\n",
      "[2, 9, 11, 23, 35]\n",
      "[12, 10, 15, 13, 16, 14]\n"
     ]
    }
   ],
   "source": [
    "my_list = [100, 4, 200, 1, 3, 2,9,11,23,35,12,10,15,13,16,14]\n",
    "n=3\n",
    "length = len(my_list)\n",
    "size = length//n\n",
    "\n",
    "start=0\n",
    "k=0\n",
    "while k<n:\n",
    "  print(my_list[start:size])\n",
    "  start=size\n",
    "  size=size+size\n",
    "  k+=1"
   ]
  },
  {
   "cell_type": "markdown",
   "id": "efe8206d-971e-455a-a9f8-3efdf046865a",
   "metadata": {},
   "source": [
    "# Write a Python program to find the sum of elements at odd indices in a list."
   ]
  },
  {
   "cell_type": "code",
   "execution_count": 3,
   "id": "4067f7aa-de3f-4237-bc30-7d1e0e7416db",
   "metadata": {},
   "outputs": [
    {
     "name": "stdout",
     "output_type": "stream",
     "text": [
      "90\n"
     ]
    }
   ],
   "source": [
    "mylist = [100,4,200,1,3,2,9,11,23,35,12,10,15,13,16,14,0]\n",
    "total = mylist[1::2]\n",
    "t = sum(total)\n",
    "print(t)"
   ]
  },
  {
   "cell_type": "code",
   "execution_count": null,
   "id": "031184c0-c12d-457c-a8cc-09dfa9798895",
   "metadata": {},
   "outputs": [],
   "source": [
    "The expression mylist[1::2] in Python means: create a sublist from the original list mylist, starting from index 1, going to the end, and taking every second element (step size of 2).\n",
    "\n",
    "Detailed Explanation\n",
    "The first value (1) is the start index – slicing begins at index 1 (the second element).\n",
    "\n",
    "The empty second value means the slice continues to the end of the list.\n",
    "\n",
    "The third value (2) is the step – the slice takes every second item starting from index 1."
   ]
  },
  {
   "cell_type": "code",
   "execution_count": 9,
   "id": "b956e5c0-6a0b-47e2-9f2f-5b6b15d64404",
   "metadata": {},
   "outputs": [
    {
     "data": {
      "text/plain": [
       "[1, 2, 3, 4, 5]"
      ]
     },
     "execution_count": 9,
     "metadata": {},
     "output_type": "execute_result"
    }
   ],
   "source": [
    "L = [1,2,3,4,5]\n",
    "L[:]"
   ]
  },
  {
   "cell_type": "code",
   "execution_count": 10,
   "id": "82b50d84-9453-4f9e-973e-7daf0bf4c83c",
   "metadata": {},
   "outputs": [
    {
     "data": {
      "text/plain": [
       "[3, 4, 5]"
      ]
     },
     "execution_count": 10,
     "metadata": {},
     "output_type": "execute_result"
    }
   ],
   "source": [
    "L = [1,2,3,4,5]\n",
    "L[2:]"
   ]
  },
  {
   "cell_type": "code",
   "execution_count": 12,
   "id": "5afa4763-6f13-4912-ac8e-8642f3401e70",
   "metadata": {},
   "outputs": [
    {
     "data": {
      "text/plain": [
       "[1, 2, 3]"
      ]
     },
     "execution_count": 12,
     "metadata": {},
     "output_type": "execute_result"
    }
   ],
   "source": [
    "L = [1,2,3,4,5]\n",
    "L[:3]"
   ]
  },
  {
   "cell_type": "code",
   "execution_count": 13,
   "id": "77f3fa28-4f51-4c8f-b168-e06b2170e609",
   "metadata": {},
   "outputs": [
    {
     "data": {
      "text/plain": [
       "[5, 4, 3, 2, 1]"
      ]
     },
     "execution_count": 13,
     "metadata": {},
     "output_type": "execute_result"
    }
   ],
   "source": [
    "L = [1,2,3,4,5]\n",
    "L[::-1]"
   ]
  },
  {
   "cell_type": "code",
   "execution_count": 14,
   "id": "865bdc98-ecea-4ff2-858f-a173357edbb2",
   "metadata": {},
   "outputs": [
    {
     "data": {
      "text/plain": [
       "[1, 3, 5]"
      ]
     },
     "execution_count": 14,
     "metadata": {},
     "output_type": "execute_result"
    }
   ],
   "source": [
    "L = [1,2,3,4,5]\n",
    "L[::2]"
   ]
  },
  {
   "cell_type": "markdown",
   "id": "53f09ef8-6129-4df5-9718-46bc626b805d",
   "metadata": {},
   "source": [
    "# Write a Python program to find the sum of elements at even indices in a list."
   ]
  },
  {
   "cell_type": "code",
   "execution_count": 18,
   "id": "6371da40-32c1-434b-80d9-5568278057fa",
   "metadata": {},
   "outputs": [
    {
     "name": "stdout",
     "output_type": "stream",
     "text": [
      "[100, 200, 3, 9, 23, 12, 15, 16, 0]\n",
      "378\n"
     ]
    }
   ],
   "source": [
    "mylist = [100,4,200,1,3,2,9,11,23,35,12,10,15,13,16,14,0]\n",
    "total = mylist[0::2]\n",
    "print(total)\n",
    "t = sum(total)\n",
    "print(t)"
   ]
  },
  {
   "cell_type": "markdown",
   "id": "9340a95f-3d75-4dbb-a4fa-7538f98fa5f9",
   "metadata": {},
   "source": [
    "# Write a Python program to check if a list is a palindrome."
   ]
  },
  {
   "cell_type": "code",
   "execution_count": 19,
   "id": "1e3db0cd-3527-49c5-8943-1b25c8c81954",
   "metadata": {},
   "outputs": [
    {
     "name": "stdout",
     "output_type": "stream",
     "text": [
      "Palindrome\n"
     ]
    }
   ],
   "source": [
    "L = [1, 2, 3, 2, 1]\n",
    "\n",
    "if L == L[::-1]:\n",
    "    print(\"Palindrome\")\n",
    "else:\n",
    "    print(\"Not Palindrome\")"
   ]
  },
  {
   "cell_type": "markdown",
   "id": "8ca3e5ff-e37d-44b2-b646-bae60bfb10a5",
   "metadata": {},
   "source": [
    "# Write a Python program to find the largest product of two distinct elements in a list."
   ]
  },
  {
   "cell_type": "code",
   "execution_count": 20,
   "id": "dc1d163e-eece-4329-89e6-7a349b35af2c",
   "metadata": {},
   "outputs": [
    {
     "name": "stdout",
     "output_type": "stream",
     "text": [
      "20\n"
     ]
    }
   ],
   "source": [
    "L = [1, 2, 3, 4, 5]\n",
    "L.sort()\n",
    "max_prod = L[-1] * L[-2]\n",
    "print(max_prod)"
   ]
  },
  {
   "cell_type": "markdown",
   "id": "43b05fe7-b0a9-4b0c-9c7f-24bbb33c178d",
   "metadata": {},
   "source": [
    "# Enumerate"
   ]
  },
  {
   "cell_type": "code",
   "execution_count": 26,
   "id": "93a344e0-bb6d-4ad1-bd73-34bfe9fbcca0",
   "metadata": {},
   "outputs": [
    {
     "name": "stdout",
     "output_type": "stream",
     "text": [
      "0 1\n",
      "1 2\n",
      "2 3\n",
      "3 4\n"
     ]
    }
   ],
   "source": [
    "L = [1,2,3,4]\n",
    "for i,j in enumerate(L):\n",
    "    print(i,j)"
   ]
  },
  {
   "cell_type": "code",
   "execution_count": 28,
   "id": "3237e00a-2697-4a02-a9db-6a68c7a78030",
   "metadata": {},
   "outputs": [
    {
     "name": "stdout",
     "output_type": "stream",
     "text": [
      "10 1\n",
      "11 2\n",
      "12 3\n",
      "13 4\n"
     ]
    }
   ],
   "source": [
    "L = [1,2,3,4]\n",
    "for i,j in enumerate(L,start=10):\n",
    "    print(i,j)"
   ]
  },
  {
   "cell_type": "markdown",
   "id": "f39948f0-d902-4a25-965c-66ed64f24bec",
   "metadata": {},
   "source": [
    "# Write a Python program to find the index of the first occurrence of an element in a list without using the built-in index function."
   ]
  },
  {
   "cell_type": "code",
   "execution_count": 34,
   "id": "323dc466-1392-41ed-9b43-f41ea51fcfb3",
   "metadata": {},
   "outputs": [
    {
     "name": "stdin",
     "output_type": "stream",
     "text": [
      " 74\n"
     ]
    },
    {
     "name": "stdout",
     "output_type": "stream",
     "text": [
      "6\n"
     ]
    }
   ],
   "source": [
    "L = [6,3,98,24,3,5,74,1,5,6,3]\n",
    "n = int(input())\n",
    "for index,value in enumerate(L):\n",
    "  if value==n:\n",
    "    print(index)\n",
    "    break\n",
    "else:\n",
    "    print('Not Found')"
   ]
  }
 ],
 "metadata": {
  "kernelspec": {
   "display_name": "Python 3 (ipykernel)",
   "language": "python",
   "name": "python3"
  },
  "language_info": {
   "codemirror_mode": {
    "name": "ipython",
    "version": 3
   },
   "file_extension": ".py",
   "mimetype": "text/x-python",
   "name": "python",
   "nbconvert_exporter": "python",
   "pygments_lexer": "ipython3",
   "version": "3.13.7"
  }
 },
 "nbformat": 4,
 "nbformat_minor": 5
}
