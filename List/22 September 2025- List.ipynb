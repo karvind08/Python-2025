{
 "cells": [
  {
   "cell_type": "code",
   "execution_count": 1,
   "id": "21c0830f-8264-4cae-b69a-db15a8c2153c",
   "metadata": {},
   "outputs": [
    {
     "name": "stdout",
     "output_type": "stream",
     "text": [
      "[1, 2, 3, 5, 6, 7, 8, 9, 10]\n"
     ]
    }
   ],
   "source": [
    "l = [1,2,3,3,2,5,5,6,7,7,8,9,9,10]\n",
    "u = []\n",
    "for i in l:\n",
    "    if i not in u:\n",
    "        u.append(i)\n",
    "print(u)"
   ]
  },
  {
   "cell_type": "code",
   "execution_count": 3,
   "id": "f36b3d88-001b-46df-b663-33813b5dc51c",
   "metadata": {},
   "outputs": [
    {
     "data": {
      "text/plain": [
       "[1, 2, 3, 5, 6, 7, 8, 9, 10]"
      ]
     },
     "execution_count": 3,
     "metadata": {},
     "output_type": "execute_result"
    }
   ],
   "source": [
    "u"
   ]
  },
  {
   "cell_type": "code",
   "execution_count": 4,
   "id": "4988bcdb-d089-4988-8a7c-f764714920ce",
   "metadata": {},
   "outputs": [
    {
     "name": "stdout",
     "output_type": "stream",
     "text": [
      "False\n"
     ]
    }
   ],
   "source": [
    "print(not u)"
   ]
  },
  {
   "cell_type": "code",
   "execution_count": 7,
   "id": "1b48d1be-0f9c-493f-85b0-cd88c01b1ae5",
   "metadata": {},
   "outputs": [
    {
     "name": "stdout",
     "output_type": "stream",
     "text": [
      "[1, 2, 3, 5, 6, 7, 8, 9, 10] []\n"
     ]
    }
   ],
   "source": [
    "a=[]\n",
    "print(u,a)"
   ]
  },
  {
   "cell_type": "code",
   "execution_count": 8,
   "id": "647d3349-feb9-4098-890e-3678c74c653a",
   "metadata": {},
   "outputs": [
    {
     "data": {
      "text/plain": [
       "True"
      ]
     },
     "execution_count": 8,
     "metadata": {},
     "output_type": "execute_result"
    }
   ],
   "source": [
    "not a"
   ]
  },
  {
   "cell_type": "code",
   "execution_count": 13,
   "id": "d91ebb82-eceb-4d37-b747-0327f4ec7e2f",
   "metadata": {},
   "outputs": [
    {
     "name": "stdout",
     "output_type": "stream",
     "text": [
      "[5, 10, 15, 200, 25, 50, 200]\n"
     ]
    }
   ],
   "source": [
    "list1 = [5, 10, 15, 20, 25, 50, 20]\n",
    "for i in list1:\n",
    "    if 20 in list1:\n",
    "        list1[list1.index(20)] = 200\n",
    "print(list1)"
   ]
  },
  {
   "cell_type": "code",
   "execution_count": 15,
   "id": "7b59e405-e052-4966-b8fb-6cca9a97c22a",
   "metadata": {},
   "outputs": [
    {
     "data": {
      "text/plain": [
       "[5, 10, 15, 200, 25, 50, 20]"
      ]
     },
     "execution_count": 15,
     "metadata": {},
     "output_type": "execute_result"
    }
   ],
   "source": [
    "list1 = [5, 10, 15, 20, 25, 50, 20]\n",
    "list1[list1.index(20)]=200\n",
    "list1"
   ]
  },
  {
   "cell_type": "code",
   "execution_count": 17,
   "id": "7b8da8b5-79e1-465a-9fc5-cef00a1fd331",
   "metadata": {},
   "outputs": [
    {
     "name": "stdout",
     "output_type": "stream",
     "text": [
      "[3, 4, 5]\n"
     ]
    }
   ],
   "source": [
    "L1 = [1,2,3,4,5]\n",
    "L2 = [3,4,5,6,7]\n",
    "L3 = []\n",
    "for i in L1:\n",
    "    if i in L2:\n",
    "        L3.append(i)\n",
    "print(L3)"
   ]
  },
  {
   "cell_type": "code",
   "execution_count": 25,
   "id": "f31e18db-e228-4c88-8776-980c03b3f1af",
   "metadata": {},
   "outputs": [
    {
     "name": "stdin",
     "output_type": "stream",
     "text": [
      "Enter the no of lists:  3\n"
     ]
    },
    {
     "name": "stdout",
     "output_type": "stream",
     "text": [
      "[100, 4, 200, 1, 3]\n",
      "[2, 9, 11]\n",
      "[23, 35, 12]\n"
     ]
    }
   ],
   "source": [
    "my_list = [100, 4, 200, 1, 3, 2,9,11,23,35,12,10,15,13,16,14]\n",
    "n = int(input('Enter the no of lists: '))\n",
    "length = len(my_list)\n",
    "size = length//n\n",
    "start = 0\n",
    "k  = 0\n",
    "while k<n:\n",
    "    print(my_list[start:size])\n",
    "    start = size\n",
    "    size = size+n\n",
    "    k += 1"
   ]
  },
  {
   "cell_type": "code",
   "execution_count": 1,
   "id": "ef49aa60-da0a-4178-9d5c-c1a8d73f4cb5",
   "metadata": {},
   "outputs": [
    {
     "name": "stdout",
     "output_type": "stream",
     "text": [
      "['A', 'B', 'C', 'D']\n",
      "['E', 'F', 'G', 'H']\n",
      "['I', 'J']\n"
     ]
    }
   ],
   "source": [
    "from itertools import batched\n",
    ">>> for batch in batched(\"ABCDEFGHIJ\", 4):\n",
    "...     print(list(batch))"
   ]
  },
  {
   "cell_type": "code",
   "execution_count": 28,
   "id": "e2d7a209-4764-49bd-9a3c-10c8b8ef0743",
   "metadata": {},
   "outputs": [
    {
     "name": "stdin",
     "output_type": "stream",
     "text": [
      " 4\n"
     ]
    },
    {
     "name": "stdout",
     "output_type": "stream",
     "text": [
      "(100, 4, 200, 1)\n",
      "(3, 2, 9, 11)\n",
      "(23, 35, 12, 10)\n",
      "(15, 13, 16, 14)\n"
     ]
    }
   ],
   "source": [
    "from itertools import batched\n",
    "my_list = [100, 4, 200, 1, 3, 2,9,11,23,35,12,10,15,13,16,14]\n",
    "n = int(input())\n",
    "for batch in batched(my_list,n):\n",
    "    print(batch)"
   ]
  }
 ],
 "metadata": {
  "kernelspec": {
   "display_name": "Python 3 (ipykernel)",
   "language": "python",
   "name": "python3"
  },
  "language_info": {
   "codemirror_mode": {
    "name": "ipython",
    "version": 3
   },
   "file_extension": ".py",
   "mimetype": "text/x-python",
   "name": "python",
   "nbconvert_exporter": "python",
   "pygments_lexer": "ipython3",
   "version": "3.13.7"
  }
 },
 "nbformat": 4,
 "nbformat_minor": 5
}
