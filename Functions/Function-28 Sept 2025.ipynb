{
 "cells": [
  {
   "cell_type": "code",
   "execution_count": 1,
   "id": "33c06a1b-d92f-4c4a-ba2c-f66cdf450acd",
   "metadata": {},
   "outputs": [
    {
     "name": "stdout",
     "output_type": "stream",
     "text": [
      "Hello Function\n"
     ]
    }
   ],
   "source": [
    "def funtion():\n",
    "    print('Hello Function')\n",
    "\n",
    "funtion()"
   ]
  },
  {
   "cell_type": "code",
   "execution_count": 2,
   "id": "52623e65-d79b-4659-9ada-c666c15a1f17",
   "metadata": {},
   "outputs": [
    {
     "ename": "TypeError",
     "evalue": "funtion() takes 0 positional arguments but 1 was given",
     "output_type": "error",
     "traceback": [
      "\u001b[31m---------------------------------------------------------------------------\u001b[39m",
      "\u001b[31mTypeError\u001b[39m                                 Traceback (most recent call last)",
      "\u001b[36mCell\u001b[39m\u001b[36m \u001b[39m\u001b[32mIn[2]\u001b[39m\u001b[32m, line 4\u001b[39m\n\u001b[32m      1\u001b[39m \u001b[38;5;28;01mdef\u001b[39;00m\u001b[38;5;250m \u001b[39m\u001b[34mfuntion\u001b[39m():\n\u001b[32m      2\u001b[39m      \u001b[38;5;28mprint\u001b[39m(\u001b[33m'\u001b[39m\u001b[33mHello Function\u001b[39m\u001b[33m'\u001b[39m)\n\u001b[32m----> \u001b[39m\u001b[32m4\u001b[39m \u001b[43mfuntion\u001b[49m\u001b[43m(\u001b[49m\u001b[32;43m10\u001b[39;49m\u001b[43m)\u001b[49m\n",
      "\u001b[31mTypeError\u001b[39m: funtion() takes 0 positional arguments but 1 was given"
     ]
    }
   ],
   "source": [
    "def funtion():\n",
    "     print('Hello Function')\n",
    "\n",
    "funtion(10)"
   ]
  },
  {
   "cell_type": "code",
   "execution_count": 3,
   "id": "1395f186-a720-4c09-8948-5c94b9dd1c36",
   "metadata": {},
   "outputs": [
    {
     "ename": "TypeError",
     "evalue": "funtion() missing 1 required positional argument: 'x'",
     "output_type": "error",
     "traceback": [
      "\u001b[31m---------------------------------------------------------------------------\u001b[39m",
      "\u001b[31mTypeError\u001b[39m                                 Traceback (most recent call last)",
      "\u001b[36mCell\u001b[39m\u001b[36m \u001b[39m\u001b[32mIn[3]\u001b[39m\u001b[32m, line 4\u001b[39m\n\u001b[32m      1\u001b[39m \u001b[38;5;28;01mdef\u001b[39;00m\u001b[38;5;250m \u001b[39m\u001b[34mfuntion\u001b[39m(x):\n\u001b[32m      2\u001b[39m      \u001b[38;5;28mprint\u001b[39m(\u001b[33m'\u001b[39m\u001b[33mHello Function\u001b[39m\u001b[33m'\u001b[39m,x)\n\u001b[32m----> \u001b[39m\u001b[32m4\u001b[39m \u001b[43mfuntion\u001b[49m\u001b[43m(\u001b[49m\u001b[43m)\u001b[49m\n",
      "\u001b[31mTypeError\u001b[39m: funtion() missing 1 required positional argument: 'x'"
     ]
    }
   ],
   "source": [
    "def funtion(x):\n",
    "     print('Hello Function',x)\n",
    "\n",
    "funtion()"
   ]
  },
  {
   "cell_type": "code",
   "execution_count": 5,
   "id": "a3926e20-6971-424a-b591-5a0149166d3b",
   "metadata": {},
   "outputs": [
    {
     "name": "stdout",
     "output_type": "stream",
     "text": [
      "Hello Function fun\n"
     ]
    }
   ],
   "source": [
    "def funtion(x):\n",
    "     print('Hello Function',x)\n",
    "\n",
    "funtion('fun')"
   ]
  },
  {
   "cell_type": "code",
   "execution_count": 7,
   "id": "f9ce0147-2627-45fb-8f67-fc0c77dbbec9",
   "metadata": {},
   "outputs": [
    {
     "name": "stdout",
     "output_type": "stream",
     "text": [
      "10 and  3.5\n"
     ]
    }
   ],
   "source": [
    "# Keyword Argument\n",
    "def fun(a,b):\n",
    "    print(a,'and ',b)\n",
    "fun(10,3.5)"
   ]
  },
  {
   "cell_type": "code",
   "execution_count": 8,
   "id": "3a996c8b-ff1d-4b4a-89fe-aeffacba660f",
   "metadata": {},
   "outputs": [
    {
     "name": "stdout",
     "output_type": "stream",
     "text": [
      "Hello and  3.5\n"
     ]
    }
   ],
   "source": [
    "# Keyword Argument\n",
    "def fun(a,b):\n",
    "    print(a,'and ',b)\n",
    "fun('Hello',3.5)"
   ]
  },
  {
   "cell_type": "code",
   "execution_count": 6,
   "id": "af4488c8-6d7b-4cc4-a827-de6c8da456d4",
   "metadata": {},
   "outputs": [
    {
     "name": "stdout",
     "output_type": "stream",
     "text": [
      "10 and  3.5\n"
     ]
    }
   ],
   "source": [
    "# Keyword Argument\n",
    "def fun(a,b):\n",
    "    print(a,'and ',b)\n",
    "fun(a=10,b=3.5)"
   ]
  },
  {
   "cell_type": "code",
   "execution_count": 9,
   "id": "c96c2b70-cad0-470c-a45d-1fcf5b326ee6",
   "metadata": {},
   "outputs": [
    {
     "name": "stdout",
     "output_type": "stream",
     "text": [
      "10 and  3.5\n"
     ]
    }
   ],
   "source": [
    "# Keyword Argument\n",
    "def fun(b,a):\n",
    "    print(a,'and ',b)\n",
    "fun(a=10,b=3.5)"
   ]
  },
  {
   "cell_type": "code",
   "execution_count": 10,
   "id": "79eca8d6-9c49-4dca-b216-9959d0f87b22",
   "metadata": {},
   "outputs": [
    {
     "name": "stdout",
     "output_type": "stream",
     "text": [
      "30 and  20\n"
     ]
    }
   ],
   "source": [
    "# default Arguments\n",
    "def fun(b,a=10):\n",
    "    print(a,'and ',b)\n",
    "fun(20,30)\n"
   ]
  },
  {
   "cell_type": "code",
   "execution_count": 11,
   "id": "6ef59f29-0157-47ed-b625-f78fa6a566c2",
   "metadata": {},
   "outputs": [
    {
     "name": "stdout",
     "output_type": "stream",
     "text": [
      "10 and  20\n"
     ]
    }
   ],
   "source": [
    "# default Arguments\n",
    "def fun(b,a=10):\n",
    "    print(a,'and ',b)\n",
    "fun(20)\n"
   ]
  },
  {
   "cell_type": "code",
   "execution_count": 12,
   "id": "73f45d28-37be-49d7-a47c-586d31597efe",
   "metadata": {},
   "outputs": [
    {
     "name": "stdout",
     "output_type": "stream",
     "text": [
      "1 (2, 3)\n"
     ]
    }
   ],
   "source": [
    "# Variable Length arguments\n",
    "def fun(a,*arg):\n",
    "    print(a,arg)\n",
    "\n",
    "fun(1,2,3)"
   ]
  },
  {
   "cell_type": "code",
   "execution_count": 13,
   "id": "889ebc98-e219-43d1-81ad-218c7dfae695",
   "metadata": {},
   "outputs": [
    {
     "name": "stdout",
     "output_type": "stream",
     "text": [
      "1\n",
      "2\n",
      "3\n"
     ]
    }
   ],
   "source": [
    "# Variable Length arguments\n",
    "def fun(a,*arg):\n",
    "    print(a)\n",
    "    for i in arg:\n",
    "        print(i)\n",
    "\n",
    "fun(1,2,3)"
   ]
  },
  {
   "cell_type": "code",
   "execution_count": 15,
   "id": "27963342-21ea-4cfa-8cc7-080237b07b3d",
   "metadata": {},
   "outputs": [
    {
     "name": "stdout",
     "output_type": "stream",
     "text": [
      "The first 1\n"
     ]
    }
   ],
   "source": [
    "# Variable Length arguments\n",
    "def fun(a,*arg):\n",
    "    print('The first',a)\n",
    "    for i in arg:\n",
    "        print(i)\n",
    "\n",
    "fun(1)"
   ]
  },
  {
   "cell_type": "code",
   "execution_count": null,
   "id": "a912476e-7976-40e7-9c66-d27872df17bd",
   "metadata": {},
   "outputs": [],
   "source": [
    "# Variable Length arguments\n",
    "def fun(a,*arg):\n",
    "    print('The first',a)\n",
    "    print('Tuple values')\n",
    "    for i in arg:\n",
    "        print(i)\n",
    "\n",
    "fun(1)"
   ]
  }
 ],
 "metadata": {
  "kernelspec": {
   "display_name": "Python 3 (ipykernel)",
   "language": "python",
   "name": "python3"
  },
  "language_info": {
   "codemirror_mode": {
    "name": "ipython",
    "version": 3
   },
   "file_extension": ".py",
   "mimetype": "text/x-python",
   "name": "python",
   "nbconvert_exporter": "python",
   "pygments_lexer": "ipython3",
   "version": "3.13.7"
  }
 },
 "nbformat": 4,
 "nbformat_minor": 5
}
