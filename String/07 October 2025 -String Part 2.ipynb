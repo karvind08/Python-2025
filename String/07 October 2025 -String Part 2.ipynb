{
 "cells": [
  {
   "cell_type": "markdown",
   "id": "1e1fc93c-cc4a-45a9-86d3-2ddc92514b6b",
   "metadata": {},
   "source": [
    "# Find()"
   ]
  },
  {
   "cell_type": "code",
   "execution_count": 2,
   "id": "fae0a49f-567e-40db-b1bd-28b284cc33b2",
   "metadata": {},
   "outputs": [
    {
     "name": "stdout",
     "output_type": "stream",
     "text": [
      "7\n"
     ]
    }
   ],
   "source": [
    "text = \"Hello, world! Welcome to Python.\"\n",
    "i1 = text.find(\"world\")\n",
    "print(i1)\n"
   ]
  },
  {
   "cell_type": "code",
   "execution_count": 3,
   "id": "f4ec33b1-806a-4a28-a13a-4aa40c46aa52",
   "metadata": {},
   "outputs": [
    {
     "name": "stdout",
     "output_type": "stream",
     "text": [
      "-1\n"
     ]
    }
   ],
   "source": [
    "text = \"Hello, world! Welcome to Python.\"\n",
    "i2 = text.find(\"java\")\n",
    "print(i2)"
   ]
  },
  {
   "cell_type": "code",
   "execution_count": 8,
   "id": "3e272ff0-aeda-492f-86c6-2ce161cece26",
   "metadata": {},
   "outputs": [
    {
     "name": "stdout",
     "output_type": "stream",
     "text": [
      "8\n"
     ]
    }
   ],
   "source": [
    "text = \"Hello, world! Welcome to Python.\"\n",
    "i3 = text.find(\"o\", 5) # Find \"o\" starting from index 5\n",
    "print(i3)"
   ]
  },
  {
   "cell_type": "code",
   "execution_count": 10,
   "id": "1fc85e01-3de8-4616-9dcf-9048886f14db",
   "metadata": {},
   "outputs": [
    {
     "name": "stdout",
     "output_type": "stream",
     "text": [
      "22\n"
     ]
    }
   ],
   "source": [
    "# Find \"to\" within a specific range\n",
    "text = \"Hello, world! Welcome to Python.\"\n",
    "i4 = text.find(\"to\", 15, 25)\n",
    "print(i4)"
   ]
  },
  {
   "cell_type": "markdown",
   "id": "15ae8453-6aeb-4109-9020-29f9f13166e3",
   "metadata": {},
   "source": [
    "# rfind()"
   ]
  },
  {
   "cell_type": "code",
   "execution_count": 11,
   "id": "87ea9251-113f-4af2-b722-6225261da3bb",
   "metadata": {},
   "outputs": [
    {
     "name": "stdout",
     "output_type": "stream",
     "text": [
      "13\n"
     ]
    }
   ],
   "source": [
    "text = \"hello world, hello python\"\n",
    "i1 = text.rfind(\"hello\")\n",
    "print(i1)"
   ]
  },
  {
   "cell_type": "code",
   "execution_count": 12,
   "id": "642f4bd1-dd91-465a-a4a5-60283e996e33",
   "metadata": {},
   "outputs": [
    {
     "name": "stdout",
     "output_type": "stream",
     "text": [
      "-1\n"
     ]
    }
   ],
   "source": [
    "text = \"hello world, hello python\"\n",
    "i1 = text.rfind(\"Java\")\n",
    "print(i1)"
   ]
  },
  {
   "cell_type": "code",
   "execution_count": 23,
   "id": "55c44135-79ec-4202-926e-92d322651038",
   "metadata": {},
   "outputs": [
    {
     "name": "stdout",
     "output_type": "stream",
     "text": [
      "6\n"
     ]
    }
   ],
   "source": [
    "text = \"hello world, hello python\"\n",
    "i1 = text.rfind(\"w\",3,15)\n",
    "print(i1)"
   ]
  },
  {
   "cell_type": "markdown",
   "id": "36d33117-cc58-4b33-a761-703107b563a2",
   "metadata": {},
   "source": [
    "# Index()"
   ]
  },
  {
   "cell_type": "code",
   "execution_count": 24,
   "id": "ac6b0f47-df8c-447f-b52e-f50166556e43",
   "metadata": {},
   "outputs": [
    {
     "name": "stdout",
     "output_type": "stream",
     "text": [
      "7\n"
     ]
    }
   ],
   "source": [
    "text = \"Hello, welcome to my world.\"\n",
    "i1= text.index(\"welcome\")\n",
    "print(i1)"
   ]
  },
  {
   "cell_type": "code",
   "execution_count": 25,
   "id": "76058216-245b-44e9-98d9-6b2be060b3e4",
   "metadata": {},
   "outputs": [
    {
     "ename": "ValueError",
     "evalue": "substring not found",
     "output_type": "error",
     "traceback": [
      "\u001b[31m---------------------------------------------------------------------------\u001b[39m",
      "\u001b[31mValueError\u001b[39m                                Traceback (most recent call last)",
      "\u001b[36mCell\u001b[39m\u001b[36m \u001b[39m\u001b[32mIn[25]\u001b[39m\u001b[32m, line 2\u001b[39m\n\u001b[32m      1\u001b[39m text = \u001b[33m\"\u001b[39m\u001b[33mHello, welcome to my world.\u001b[39m\u001b[33m\"\u001b[39m\n\u001b[32m----> \u001b[39m\u001b[32m2\u001b[39m i1= \u001b[43mtext\u001b[49m\u001b[43m.\u001b[49m\u001b[43mindex\u001b[49m\u001b[43m(\u001b[49m\u001b[33;43m\"\u001b[39;49m\u001b[33;43mPython\u001b[39;49m\u001b[33;43m\"\u001b[39;49m\u001b[43m)\u001b[49m\n\u001b[32m      3\u001b[39m \u001b[38;5;28mprint\u001b[39m(i1)\n",
      "\u001b[31mValueError\u001b[39m: substring not found"
     ]
    }
   ],
   "source": [
    "text = \"Hello, welcome to my world.\"\n",
    "i1= text.index(\"Python\")\n",
    "print(i1)"
   ]
  },
  {
   "cell_type": "code",
   "execution_count": null,
   "id": "518be0f5-04aa-4473-9db7-a1f54f21dd69",
   "metadata": {},
   "outputs": [],
   "source": [
    "# Find the index of 'e' between positions 5 and 10\n",
    "index_e_restricted = text.index(\"e\", 5, 10)\n",
    "print(f\"Index of 'e' between 5 and 10: {index_e_restricted}\") # Output: Index of 'e' between 5 and 10: 8\n"
   ]
  },
  {
   "cell_type": "code",
   "execution_count": 26,
   "id": "7b800dfd-ecc2-4f85-93fd-640cadd4de07",
   "metadata": {},
   "outputs": [
    {
     "name": "stdout",
     "output_type": "stream",
     "text": [
      "8\n"
     ]
    }
   ],
   "source": [
    "text = \"Hello, welcome to my world.\"\n",
    "i1= text.index(\"e\",7,15)\n",
    "print(i1)"
   ]
  },
  {
   "cell_type": "markdown",
   "id": "4136eb53-e2f3-486d-91ee-edf9f44e851c",
   "metadata": {},
   "source": [
    "# rindex()"
   ]
  },
  {
   "cell_type": "code",
   "execution_count": 27,
   "id": "ae4f56e6-cdeb-4d45-be7c-c7eea9b53a3d",
   "metadata": {},
   "outputs": [
    {
     "name": "stdout",
     "output_type": "stream",
     "text": [
      "12\n"
     ]
    }
   ],
   "source": [
    "text1 = \"hello world hello python\"\n",
    "i1 = text1.rindex(\"hello\")\n",
    "print(i1)"
   ]
  },
  {
   "cell_type": "code",
   "execution_count": 28,
   "id": "09112e22-b42b-4c81-911f-e09ac7a4afc3",
   "metadata": {},
   "outputs": [
    {
     "ename": "ValueError",
     "evalue": "substring not found",
     "output_type": "error",
     "traceback": [
      "\u001b[31m---------------------------------------------------------------------------\u001b[39m",
      "\u001b[31mValueError\u001b[39m                                Traceback (most recent call last)",
      "\u001b[36mCell\u001b[39m\u001b[36m \u001b[39m\u001b[32mIn[28]\u001b[39m\u001b[32m, line 2\u001b[39m\n\u001b[32m      1\u001b[39m text1 = \u001b[33m\"\u001b[39m\u001b[33mhello world hello python\u001b[39m\u001b[33m\"\u001b[39m\n\u001b[32m----> \u001b[39m\u001b[32m2\u001b[39m i1 = \u001b[43mtext1\u001b[49m\u001b[43m.\u001b[49m\u001b[43mrindex\u001b[49m\u001b[43m(\u001b[49m\u001b[33;43m\"\u001b[39;49m\u001b[33;43mJava\u001b[39;49m\u001b[33;43m\"\u001b[39;49m\u001b[43m)\u001b[49m\n\u001b[32m      3\u001b[39m \u001b[38;5;28mprint\u001b[39m(i1)\n",
      "\u001b[31mValueError\u001b[39m: substring not found"
     ]
    }
   ],
   "source": [
    "text1 = \"hello world hello python\"\n",
    "i1 = text1.rindex(\"Java\")\n",
    "print(i1)"
   ]
  },
  {
   "cell_type": "code",
   "execution_count": 34,
   "id": "99a1ef63-96ae-437c-8d57-59aca29f0434",
   "metadata": {},
   "outputs": [
    {
     "name": "stdout",
     "output_type": "stream",
     "text": [
      "16\n"
     ]
    }
   ],
   "source": [
    "text1 = \"hello world hello python\"\n",
    "i1 = text1.rindex(\"o\",5,20)\n",
    "print(i1)"
   ]
  },
  {
   "cell_type": "markdown",
   "id": "f35d125c-c70f-4ec6-b918-17d53f849c0f",
   "metadata": {},
   "source": [
    "# startwith()"
   ]
  },
  {
   "cell_type": "code",
   "execution_count": 1,
   "id": "83f2c171-a973-4f03-a13e-9d1b89eba08f",
   "metadata": {},
   "outputs": [
    {
     "name": "stdout",
     "output_type": "stream",
     "text": [
      "True\n",
      "False\n"
     ]
    }
   ],
   "source": [
    "text = \"Hello, world!\"\n",
    "print(text.startswith(\"Hello\"))  # Output: True\n",
    "print(text.startswith(\"Hi\"))     # Output: False"
   ]
  },
  {
   "cell_type": "code",
   "execution_count": 3,
   "id": "a94774bf-beec-469a-9a28-94a3e6340a48",
   "metadata": {},
   "outputs": [
    {
     "name": "stdout",
     "output_type": "stream",
     "text": [
      "True\n"
     ]
    }
   ],
   "source": [
    "text = \"Hello, world!\"\n",
    "print(text.startswith(\"world\", 7))  # Output: True (checks from index 7)\n"
   ]
  },
  {
   "cell_type": "code",
   "execution_count": 4,
   "id": "7acc9633-9114-4454-9ca7-af9138a49242",
   "metadata": {},
   "outputs": [
    {
     "name": "stdout",
     "output_type": "stream",
     "text": [
      "False\n"
     ]
    }
   ],
   "source": [
    "text = \"Hello, world!\"\n",
    "print(text.startswith(\"world\", 0, 5)) # Output: False (checks only \"Hello\")"
   ]
  }
 ],
 "metadata": {
  "kernelspec": {
   "display_name": "Python 3 (ipykernel)",
   "language": "python",
   "name": "python3"
  },
  "language_info": {
   "codemirror_mode": {
    "name": "ipython",
    "version": 3
   },
   "file_extension": ".py",
   "mimetype": "text/x-python",
   "name": "python",
   "nbconvert_exporter": "python",
   "pygments_lexer": "ipython3",
   "version": "3.13.7"
  }
 },
 "nbformat": 4,
 "nbformat_minor": 5
}
