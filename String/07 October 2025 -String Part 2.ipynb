{
 "cells": [
  {
   "cell_type": "markdown",
   "id": "1e1fc93c-cc4a-45a9-86d3-2ddc92514b6b",
   "metadata": {},
   "source": [
    "# Find()"
   ]
  },
  {
   "cell_type": "code",
   "execution_count": 2,
   "id": "fae0a49f-567e-40db-b1bd-28b284cc33b2",
   "metadata": {},
   "outputs": [
    {
     "name": "stdout",
     "output_type": "stream",
     "text": [
      "7\n"
     ]
    }
   ],
   "source": [
    "text = \"Hello, world! Welcome to Python.\"\n",
    "i1 = text.find(\"world\")\n",
    "print(i1)\n"
   ]
  },
  {
   "cell_type": "code",
   "execution_count": 3,
   "id": "f4ec33b1-806a-4a28-a13a-4aa40c46aa52",
   "metadata": {},
   "outputs": [
    {
     "name": "stdout",
     "output_type": "stream",
     "text": [
      "-1\n"
     ]
    }
   ],
   "source": [
    "text = \"Hello, world! Welcome to Python.\"\n",
    "i2 = text.find(\"java\")\n",
    "print(i2)"
   ]
  },
  {
   "cell_type": "code",
   "execution_count": 8,
   "id": "3e272ff0-aeda-492f-86c6-2ce161cece26",
   "metadata": {},
   "outputs": [
    {
     "name": "stdout",
     "output_type": "stream",
     "text": [
      "8\n"
     ]
    }
   ],
   "source": [
    "text = \"Hello, world! Welcome to Python.\"\n",
    "i3 = text.find(\"o\", 5) # Find \"o\" starting from index 5\n",
    "print(i3)"
   ]
  },
  {
   "cell_type": "code",
   "execution_count": 10,
   "id": "1fc85e01-3de8-4616-9dcf-9048886f14db",
   "metadata": {},
   "outputs": [
    {
     "name": "stdout",
     "output_type": "stream",
     "text": [
      "22\n"
     ]
    }
   ],
   "source": [
    "# Find \"to\" within a specific range\n",
    "text = \"Hello, world! Welcome to Python.\"\n",
    "i4 = text.find(\"to\", 15, 25)\n",
    "print(i4)"
   ]
  },
  {
   "cell_type": "markdown",
   "id": "15ae8453-6aeb-4109-9020-29f9f13166e3",
   "metadata": {},
   "source": [
    "# rfind()"
   ]
  },
  {
   "cell_type": "code",
   "execution_count": 11,
   "id": "87ea9251-113f-4af2-b722-6225261da3bb",
   "metadata": {},
   "outputs": [
    {
     "name": "stdout",
     "output_type": "stream",
     "text": [
      "13\n"
     ]
    }
   ],
   "source": [
    "text = \"hello world, hello python\"\n",
    "i1 = text.rfind(\"hello\")\n",
    "print(i1)"
   ]
  },
  {
   "cell_type": "code",
   "execution_count": 12,
   "id": "642f4bd1-dd91-465a-a4a5-60283e996e33",
   "metadata": {},
   "outputs": [
    {
     "name": "stdout",
     "output_type": "stream",
     "text": [
      "-1\n"
     ]
    }
   ],
   "source": [
    "text = \"hello world, hello python\"\n",
    "i1 = text.rfind(\"Java\")\n",
    "print(i1)"
   ]
  },
  {
   "cell_type": "code",
   "execution_count": 23,
   "id": "55c44135-79ec-4202-926e-92d322651038",
   "metadata": {},
   "outputs": [
    {
     "name": "stdout",
     "output_type": "stream",
     "text": [
      "6\n"
     ]
    }
   ],
   "source": [
    "text = \"hello world, hello python\"\n",
    "i1 = text.rfind(\"w\",3,15)\n",
    "print(i1)"
   ]
  },
  {
   "cell_type": "markdown",
   "id": "36d33117-cc58-4b33-a761-703107b563a2",
   "metadata": {},
   "source": [
    "# Index()"
   ]
  },
  {
   "cell_type": "code",
   "execution_count": 24,
   "id": "ac6b0f47-df8c-447f-b52e-f50166556e43",
   "metadata": {},
   "outputs": [
    {
     "name": "stdout",
     "output_type": "stream",
     "text": [
      "7\n"
     ]
    }
   ],
   "source": [
    "text = \"Hello, welcome to my world.\"\n",
    "i1= text.index(\"welcome\")\n",
    "print(i1)"
   ]
  },
  {
   "cell_type": "code",
   "execution_count": 25,
   "id": "76058216-245b-44e9-98d9-6b2be060b3e4",
   "metadata": {},
   "outputs": [
    {
     "ename": "ValueError",
     "evalue": "substring not found",
     "output_type": "error",
     "traceback": [
      "\u001b[31m---------------------------------------------------------------------------\u001b[39m",
      "\u001b[31mValueError\u001b[39m                                Traceback (most recent call last)",
      "\u001b[36mCell\u001b[39m\u001b[36m \u001b[39m\u001b[32mIn[25]\u001b[39m\u001b[32m, line 2\u001b[39m\n\u001b[32m      1\u001b[39m text = \u001b[33m\"\u001b[39m\u001b[33mHello, welcome to my world.\u001b[39m\u001b[33m\"\u001b[39m\n\u001b[32m----> \u001b[39m\u001b[32m2\u001b[39m i1= \u001b[43mtext\u001b[49m\u001b[43m.\u001b[49m\u001b[43mindex\u001b[49m\u001b[43m(\u001b[49m\u001b[33;43m\"\u001b[39;49m\u001b[33;43mPython\u001b[39;49m\u001b[33;43m\"\u001b[39;49m\u001b[43m)\u001b[49m\n\u001b[32m      3\u001b[39m \u001b[38;5;28mprint\u001b[39m(i1)\n",
      "\u001b[31mValueError\u001b[39m: substring not found"
     ]
    }
   ],
   "source": [
    "text = \"Hello, welcome to my world.\"\n",
    "i1= text.index(\"Python\")\n",
    "print(i1)"
   ]
  },
  {
   "cell_type": "code",
   "execution_count": null,
   "id": "518be0f5-04aa-4473-9db7-a1f54f21dd69",
   "metadata": {},
   "outputs": [],
   "source": [
    "# Find the index of 'e' between positions 5 and 10\n",
    "index_e_restricted = text.index(\"e\", 5, 10)\n",
    "print(f\"Index of 'e' between 5 and 10: {index_e_restricted}\") # Output: Index of 'e' between 5 and 10: 8\n"
   ]
  },
  {
   "cell_type": "code",
   "execution_count": 26,
   "id": "7b800dfd-ecc2-4f85-93fd-640cadd4de07",
   "metadata": {},
   "outputs": [
    {
     "name": "stdout",
     "output_type": "stream",
     "text": [
      "8\n"
     ]
    }
   ],
   "source": [
    "text = \"Hello, welcome to my world.\"\n",
    "i1= text.index(\"e\",7,15)\n",
    "print(i1)"
   ]
  },
  {
   "cell_type": "markdown",
   "id": "4136eb53-e2f3-486d-91ee-edf9f44e851c",
   "metadata": {},
   "source": [
    "# rindex()"
   ]
  },
  {
   "cell_type": "code",
   "execution_count": 27,
   "id": "ae4f56e6-cdeb-4d45-be7c-c7eea9b53a3d",
   "metadata": {},
   "outputs": [
    {
     "name": "stdout",
     "output_type": "stream",
     "text": [
      "12\n"
     ]
    }
   ],
   "source": [
    "text1 = \"hello world hello python\"\n",
    "i1 = text1.rindex(\"hello\")\n",
    "print(i1)"
   ]
  },
  {
   "cell_type": "code",
   "execution_count": 28,
   "id": "09112e22-b42b-4c81-911f-e09ac7a4afc3",
   "metadata": {},
   "outputs": [
    {
     "ename": "ValueError",
     "evalue": "substring not found",
     "output_type": "error",
     "traceback": [
      "\u001b[31m---------------------------------------------------------------------------\u001b[39m",
      "\u001b[31mValueError\u001b[39m                                Traceback (most recent call last)",
      "\u001b[36mCell\u001b[39m\u001b[36m \u001b[39m\u001b[32mIn[28]\u001b[39m\u001b[32m, line 2\u001b[39m\n\u001b[32m      1\u001b[39m text1 = \u001b[33m\"\u001b[39m\u001b[33mhello world hello python\u001b[39m\u001b[33m\"\u001b[39m\n\u001b[32m----> \u001b[39m\u001b[32m2\u001b[39m i1 = \u001b[43mtext1\u001b[49m\u001b[43m.\u001b[49m\u001b[43mrindex\u001b[49m\u001b[43m(\u001b[49m\u001b[33;43m\"\u001b[39;49m\u001b[33;43mJava\u001b[39;49m\u001b[33;43m\"\u001b[39;49m\u001b[43m)\u001b[49m\n\u001b[32m      3\u001b[39m \u001b[38;5;28mprint\u001b[39m(i1)\n",
      "\u001b[31mValueError\u001b[39m: substring not found"
     ]
    }
   ],
   "source": [
    "text1 = \"hello world hello python\"\n",
    "i1 = text1.rindex(\"Java\")\n",
    "print(i1)"
   ]
  },
  {
   "cell_type": "code",
   "execution_count": 34,
   "id": "99a1ef63-96ae-437c-8d57-59aca29f0434",
   "metadata": {},
   "outputs": [
    {
     "name": "stdout",
     "output_type": "stream",
     "text": [
      "16\n"
     ]
    }
   ],
   "source": [
    "text1 = \"hello world hello python\"\n",
    "i1 = text1.rindex(\"o\",5,20)\n",
    "print(i1)"
   ]
  },
  {
   "cell_type": "markdown",
   "id": "f35d125c-c70f-4ec6-b918-17d53f849c0f",
   "metadata": {},
   "source": [
    "# startwith()"
   ]
  },
  {
   "cell_type": "code",
   "execution_count": 1,
   "id": "83f2c171-a973-4f03-a13e-9d1b89eba08f",
   "metadata": {},
   "outputs": [
    {
     "name": "stdout",
     "output_type": "stream",
     "text": [
      "True\n",
      "False\n"
     ]
    }
   ],
   "source": [
    "text = \"Hello, world!\"\n",
    "print(text.startswith(\"Hello\"))  # Output: True\n",
    "print(text.startswith(\"Hi\"))     # Output: False"
   ]
  },
  {
   "cell_type": "code",
   "execution_count": 3,
   "id": "a94774bf-beec-469a-9a28-94a3e6340a48",
   "metadata": {},
   "outputs": [
    {
     "name": "stdout",
     "output_type": "stream",
     "text": [
      "True\n"
     ]
    }
   ],
   "source": [
    "text = \"Hello, world!\"\n",
    "print(text.startswith(\"world\", 7))  # Output: True (checks from index 7)\n"
   ]
  },
  {
   "cell_type": "code",
   "execution_count": 4,
   "id": "7acc9633-9114-4454-9ca7-af9138a49242",
   "metadata": {},
   "outputs": [
    {
     "name": "stdout",
     "output_type": "stream",
     "text": [
      "False\n"
     ]
    }
   ],
   "source": [
    "text = \"Hello, world!\"\n",
    "print(text.startswith(\"world\", 0, 5)) # Output: False (checks only \"Hello\")"
   ]
  },
  {
   "cell_type": "markdown",
   "id": "cdbe73c0-eaf7-4aa0-a6c2-a3f50528ca2a",
   "metadata": {},
   "source": [
    "# endswith()"
   ]
  },
  {
   "cell_type": "code",
   "execution_count": 5,
   "id": "96297fcb-d126-4bb3-9252-fcf6aad86ef2",
   "metadata": {},
   "outputs": [
    {
     "name": "stdout",
     "output_type": "stream",
     "text": [
      "True\n"
     ]
    }
   ],
   "source": [
    "text = \"Hello, world!\"\n",
    "print(text.endswith(\"world!\")) "
   ]
  },
  {
   "cell_type": "code",
   "execution_count": 6,
   "id": "f89638d0-755c-4530-bdbc-d9e43b342842",
   "metadata": {},
   "outputs": [
    {
     "name": "stdout",
     "output_type": "stream",
     "text": [
      "False\n"
     ]
    }
   ],
   "source": [
    "text = \"Hello, world!\"\n",
    "# Check if the string ends with \"World!\" (case-sensitive)\n",
    "print(text.endswith(\"World!\"))  # Output: False"
   ]
  },
  {
   "cell_type": "code",
   "execution_count": 7,
   "id": "ec02c24a-a0dd-425d-ac08-02b50352c1a9",
   "metadata": {},
   "outputs": [
    {
     "name": "stdout",
     "output_type": "stream",
     "text": [
      "True\n"
     ]
    }
   ],
   "source": [
    "text = \"Hello, world!\"\n",
    "print(text.endswith(\"o\", 0, 5))  # Output: True (checks \"Hello\")"
   ]
  },
  {
   "cell_type": "code",
   "execution_count": 9,
   "id": "7233d67a-bfc8-4f56-a8f4-82f973ff45bd",
   "metadata": {},
   "outputs": [
    {
     "name": "stdout",
     "output_type": "stream",
     "text": [
      "True\n"
     ]
    }
   ],
   "source": [
    "text = \"Hello, world!\"\n",
    "i = text.endswith((\"!\", \"?\", \".\"))\n",
    "print(i)"
   ]
  },
  {
   "cell_type": "code",
   "execution_count": null,
   "id": "1e251c95-cb64-45c4-99e1-65a53e813989",
   "metadata": {},
   "outputs": [],
   "source": [
    "# replace()"
   ]
  },
  {
   "cell_type": "code",
   "execution_count": 11,
   "id": "f84966ac-50a8-4805-ae30-b03230decd77",
   "metadata": {},
   "outputs": [
    {
     "name": "stdout",
     "output_type": "stream",
     "text": [
      "Hi World! Hi Python!\n",
      "Hello World! Hello Python!\n"
     ]
    }
   ],
   "source": [
    "old = \"Hello World! Hello Python!\"\n",
    "new = old.replace(\"Hello\", \"Hi\")\n",
    "print(new)\n",
    "print(old)"
   ]
  },
  {
   "cell_type": "code",
   "execution_count": 12,
   "id": "3a2f2cdf-3531-46b4-a7e7-fdfd5e6c7f35",
   "metadata": {},
   "outputs": [
    {
     "name": "stdout",
     "output_type": "stream",
     "text": [
      "four two four three four\n"
     ]
    }
   ],
   "source": [
    "old = \"one two one three one\"\n",
    "new = old.replace(\"one\", \"four\")\n",
    "print(new)"
   ]
  },
  {
   "cell_type": "code",
   "execution_count": 13,
   "id": "b440b303-cff5-4301-ac69-8392e2121daa",
   "metadata": {},
   "outputs": [
    {
     "name": "stdout",
     "output_type": "stream",
     "text": [
      "four two four three one\n"
     ]
    }
   ],
   "source": [
    "old = \"one two one three one\"\n",
    "new = old.replace(\"one\", \"four\",2)\n",
    "print(new)"
   ]
  },
  {
   "cell_type": "code",
   "execution_count": 14,
   "id": "1d4ec911-63ce-44dd-80bc-33d9eb880bbd",
   "metadata": {},
   "outputs": [
    {
     "name": "stdout",
     "output_type": "stream",
     "text": [
      "apple banana cherry\n"
     ]
    }
   ],
   "source": [
    "text = \"apple banana cherry\"\n",
    "new_text = text.replace(\"grape\", \"orange\")\n",
    "print(new_text)"
   ]
  },
  {
   "cell_type": "code",
   "execution_count": null,
   "id": "0ada4c9a-2083-486b-8146-bf79a92f80e0",
   "metadata": {},
   "outputs": [],
   "source": [
    "# strip()"
   ]
  },
  {
   "cell_type": "code",
   "execution_count": 15,
   "id": "163668eb-b261-4977-829c-450f2cc2f9d0",
   "metadata": {},
   "outputs": [
    {
     "name": "stdout",
     "output_type": "stream",
     "text": [
      "Hello, World!\n"
     ]
    }
   ],
   "source": [
    "text = \"   Hello, World!   \"\n",
    "st = text.strip()\n",
    "print(st)"
   ]
  },
  {
   "cell_type": "code",
   "execution_count": 16,
   "id": "b546e91b-a8db-4545-af48-c20869c9e995",
   "metadata": {},
   "outputs": [
    {
     "name": "stdout",
     "output_type": "stream",
     "text": [
      "Python\n"
     ]
    }
   ],
   "source": [
    "text = \"---Python---\"\n",
    "st = text.strip(\"-\")\n",
    "print(st)"
   ]
  },
  {
   "cell_type": "code",
   "execution_count": 17,
   "id": "9e3807df-26f0-4a58-9e47-c7d0b132f755",
   "metadata": {},
   "outputs": [
    {
     "name": "stdout",
     "output_type": "stream",
     "text": [
      "XYZ\n"
     ]
    }
   ],
   "source": [
    "text1 = \"abcXYZcba\"\n",
    "st1 = text1.strip(\"abc\")\n",
    "print(st1)"
   ]
  },
  {
   "cell_type": "code",
   "execution_count": 18,
   "id": "22b46ed8-1178-4793-a09d-7f60b90cd443",
   "metadata": {},
   "outputs": [
    {
     "name": "stdout",
     "output_type": "stream",
     "text": [
      "XYaZ123\n"
     ]
    }
   ],
   "source": [
    "text1 = \"abcXYaZ123cba\"\n",
    "st1 = text1.strip(\"abc\")\n",
    "print(st1)"
   ]
  },
  {
   "cell_type": "code",
   "execution_count": null,
   "id": "59776b06-f3e9-43b5-ba90-b634a74534f4",
   "metadata": {},
   "outputs": [],
   "source": [
    "# lstrip()"
   ]
  },
  {
   "cell_type": "code",
   "execution_count": null,
   "id": "e47f8837-639b-4bb5-9a78-aa7456b38d26",
   "metadata": {},
   "outputs": [],
   "source": [
    "text = \"   Hello, World!\"\n",
    "str1 = text.lstrip()\n",
    "print(str1)"
   ]
  },
  {
   "cell_type": "code",
   "execution_count": 20,
   "id": "d0a72801-73a5-4614-9b5e-4d749d6e8e6e",
   "metadata": {},
   "outputs": [
    {
     "name": "stdout",
     "output_type": "stream",
     "text": [
      "Hello, World!    |\n"
     ]
    }
   ],
   "source": [
    "text = \"   Hello, World!    |\"\n",
    "str1 = text.lstrip()\n",
    "print(str1)"
   ]
  },
  {
   "cell_type": "code",
   "execution_count": 21,
   "id": "268b1748-f22e-416f-903f-9999d8f8020d",
   "metadata": {},
   "outputs": [
    {
     "name": "stdout",
     "output_type": "stream",
     "text": [
      "Data_Entry\n"
     ]
    }
   ],
   "source": [
    "data = \"###Data_Entry\"\n",
    "new = data.lstrip(\"#\")\n",
    "print(new)"
   ]
  },
  {
   "cell_type": "code",
   "execution_count": 22,
   "id": "4001b971-85c3-497e-b287-dda4f16c3676",
   "metadata": {},
   "outputs": [
    {
     "name": "stdout",
     "output_type": "stream",
     "text": [
      "Data_Entry##\n"
     ]
    }
   ],
   "source": [
    "data = \"###Data_Entry##\"\n",
    "new = data.lstrip(\"#\")\n",
    "print(new)"
   ]
  },
  {
   "cell_type": "code",
   "execution_count": 26,
   "id": "0d7163cf-741f-4ff5-8383-959d66c8e66d",
   "metadata": {},
   "outputs": [
    {
     "name": "stdout",
     "output_type": "stream",
     "text": [
      "ser/home\n"
     ]
    }
   ],
   "source": [
    "path1 = \"/./user/home\"\n",
    "path2 = path1.lstrip(\"./u\")\n",
    "print(path2)"
   ]
  },
  {
   "cell_type": "code",
   "execution_count": null,
   "id": "21ff04f7-4b0f-489c-9c9d-b54702c56f3e",
   "metadata": {},
   "outputs": [],
   "source": [
    "# rstrip()"
   ]
  },
  {
   "cell_type": "code",
   "execution_count": 29,
   "id": "54f73845-6773-4067-8601-ebc4b7fdc10e",
   "metadata": {},
   "outputs": [
    {
     "name": "stdout",
     "output_type": "stream",
     "text": [
      "  Hello World!\n"
     ]
    }
   ],
   "source": [
    "mystr = \"  Hello World!   \\n\\t\"\n",
    "tstr = mystr.rstrip()\n",
    "print(tstr)"
   ]
  },
  {
   "cell_type": "code",
   "execution_count": 30,
   "id": "dc650075-e1e3-46f9-8c5b-72f7aac40d29",
   "metadata": {},
   "outputs": [
    {
     "name": "stdout",
     "output_type": "stream",
     "text": [
      "document.txt\n"
     ]
    }
   ],
   "source": [
    "file = \"document.txt.....\"\n",
    "res = file.rstrip('.')\n",
    "print(res)"
   ]
  },
  {
   "cell_type": "code",
   "execution_count": 32,
   "id": "94e27a76-87bd-4451-b8fe-34fae062564a",
   "metadata": {},
   "outputs": [
    {
     "name": "stdout",
     "output_type": "stream",
     "text": [
      "Python\n"
     ]
    }
   ],
   "source": [
    "text = \"Python\"\n",
    "result = text.rstrip('x')\n",
    "print(result)\n",
    "# Output: \"Python\" (original string returned as no 'x' found at the end)"
   ]
  },
  {
   "cell_type": "code",
   "execution_count": 34,
   "id": "323a5bce-3f5e-422a-a14f-f719a674394e",
   "metadata": {},
   "outputs": [
    {
     "name": "stdout",
     "output_type": "stream",
     "text": [
      "abc1,abc2,abc3\n"
     ]
    }
   ],
   "source": [
    "data = \"abc1,abc2,abc3\\n\"\n",
    "res = data.rstrip(',\\n')\n",
    "print(res)"
   ]
  },
  {
   "cell_type": "code",
   "execution_count": null,
   "id": "d07495c8-4c9f-422c-b0c7-3061628e18ba",
   "metadata": {},
   "outputs": [],
   "source": [
    "# isdigit()"
   ]
  },
  {
   "cell_type": "code",
   "execution_count": 35,
   "id": "2380c4a4-3fa0-4201-9310-61f34e444316",
   "metadata": {},
   "outputs": [
    {
     "name": "stdout",
     "output_type": "stream",
     "text": [
      "True\n"
     ]
    }
   ],
   "source": [
    "text = \"12345\"\n",
    "print(text.isdigit()) "
   ]
  },
  {
   "cell_type": "code",
   "execution_count": 36,
   "id": "b949dcf2-4573-4bc5-a718-b69ab49e6bc6",
   "metadata": {},
   "outputs": [
    {
     "name": "stdout",
     "output_type": "stream",
     "text": [
      "False\n"
     ]
    }
   ],
   "source": [
    "text = \"123 45\"\n",
    "print(text.isdigit()) "
   ]
  },
  {
   "cell_type": "code",
   "execution_count": 37,
   "id": "80434dd1-0814-4b77-ac05-1a9366325207",
   "metadata": {},
   "outputs": [
    {
     "name": "stdout",
     "output_type": "stream",
     "text": [
      "False\n"
     ]
    }
   ],
   "source": [
    "text = \"123.45\"\n",
    "print(text.isdigit()) "
   ]
  },
  {
   "cell_type": "code",
   "execution_count": 38,
   "id": "aee4bf07-2ac0-4239-9693-c586d4207f6a",
   "metadata": {},
   "outputs": [
    {
     "name": "stdout",
     "output_type": "stream",
     "text": [
      "False\n"
     ]
    }
   ],
   "source": [
    "text = \"123ab45\"\n",
    "print(text.isdigit()) "
   ]
  },
  {
   "cell_type": "code",
   "execution_count": 41,
   "id": "fca0a16a-09e9-4f77-9438-a41a74353faf",
   "metadata": {},
   "outputs": [
    {
     "name": "stdout",
     "output_type": "stream",
     "text": [
      "False\n"
     ]
    }
   ],
   "source": [
    "text = \" \"\n",
    "print(text.isdigit()) "
   ]
  },
  {
   "cell_type": "code",
   "execution_count": 43,
   "id": "e9af5e37-8317-48bb-924d-fee22e39bf9a",
   "metadata": {},
   "outputs": [
    {
     "name": "stdout",
     "output_type": "stream",
     "text": [
      "True\n"
     ]
    }
   ],
   "source": [
    "# Returns True for Unicode digits (e.g., superscript 2)\n",
    "print(\"12³45\".isdigit()) "
   ]
  },
  {
   "cell_type": "code",
   "execution_count": 42,
   "id": "cc61116e-0369-4f1f-92ff-5f2d56351d74",
   "metadata": {},
   "outputs": [
    {
     "name": "stdout",
     "output_type": "stream",
     "text": [
      "False\n"
     ]
    }
   ],
   "source": [
    "# Returns False for an empty string\n",
    "print(\"\".isdigit()) "
   ]
  },
  {
   "cell_type": "code",
   "execution_count": null,
   "id": "579c7bf1-4334-4c9a-959d-ded54312da65",
   "metadata": {},
   "outputs": [],
   "source": [
    "# isalpha()"
   ]
  },
  {
   "cell_type": "code",
   "execution_count": 44,
   "id": "09b7c3fd-4859-41de-adb5-4addf7d1bb9f",
   "metadata": {},
   "outputs": [
    {
     "name": "stdout",
     "output_type": "stream",
     "text": [
      "True\n"
     ]
    }
   ],
   "source": [
    "s1 = \"HelloWorld\"\n",
    "print(s1.isalpha())"
   ]
  },
  {
   "cell_type": "code",
   "execution_count": 45,
   "id": "91ac00c1-f94a-4551-865b-cc08467d50fc",
   "metadata": {},
   "outputs": [
    {
     "name": "stdout",
     "output_type": "stream",
     "text": [
      "False\n"
     ]
    }
   ],
   "source": [
    "s2 = \"Python123\"\n",
    "print(s2.isalpha()) "
   ]
  },
  {
   "cell_type": "code",
   "execution_count": 46,
   "id": "dfeb6097-52e2-4c69-a68e-16163f0cb72d",
   "metadata": {},
   "outputs": [
    {
     "name": "stdout",
     "output_type": "stream",
     "text": [
      "False\n"
     ]
    }
   ],
   "source": [
    "# Example 3: Contains spaces\n",
    "s3 = \"Hello World\"\n",
    "print(s3.isalpha())  # Output: False"
   ]
  },
  {
   "cell_type": "code",
   "execution_count": 47,
   "id": "65b9d2aa-9720-42e8-bfae-5dd4d2f1569c",
   "metadata": {},
   "outputs": [
    {
     "name": "stdout",
     "output_type": "stream",
     "text": [
      "False\n"
     ]
    }
   ],
   "source": [
    "# Example 4: Contains special characters\n",
    "s4 = \"Hello!\"\n",
    "print(s4.isalpha())  # Output: False"
   ]
  },
  {
   "cell_type": "code",
   "execution_count": 48,
   "id": "e7992fca-96c4-499c-a428-46580085e522",
   "metadata": {},
   "outputs": [
    {
     "name": "stdout",
     "output_type": "stream",
     "text": [
      "False\n"
     ]
    }
   ],
   "source": [
    "# Example 5: Empty string\n",
    "s5 = \"\"\n",
    "print(s5.isalpha())  # Output: False"
   ]
  },
  {
   "cell_type": "code",
   "execution_count": null,
   "id": "64e133dc-a607-4833-85c6-32aee19f0e7b",
   "metadata": {},
   "outputs": [],
   "source": [
    "# Example 6: Unicode alphabetic characters\n",
    "s6 = \"你好\" # Chinese characters\n",
    "print(s6.isalpha()) # Output: True"
   ]
  },
  {
   "cell_type": "code",
   "execution_count": null,
   "id": "db27c62b-29b7-416c-a37e-fba568f5113f",
   "metadata": {},
   "outputs": [],
   "source": [
    "# isalnum()"
   ]
  },
  {
   "cell_type": "code",
   "execution_count": 51,
   "id": "031a32fd-a700-4f34-8529-2023a6eec408",
   "metadata": {},
   "outputs": [
    {
     "name": "stdout",
     "output_type": "stream",
     "text": [
      "True\n"
     ]
    }
   ],
   "source": [
    "s1 = \"HelloWorld123\"\n",
    "print(s1.isalnum())"
   ]
  },
  {
   "cell_type": "code",
   "execution_count": 52,
   "id": "75b33cc2-fead-47f2-9ea9-8a4ec56b177d",
   "metadata": {},
   "outputs": [
    {
     "name": "stdout",
     "output_type": "stream",
     "text": [
      "True\n"
     ]
    }
   ],
   "source": [
    "s1 = \"HelloWorld\"\n",
    "print(s1.isalnum())"
   ]
  },
  {
   "cell_type": "code",
   "execution_count": 53,
   "id": "90d25cf2-d73f-4d87-8b4a-a60e68542414",
   "metadata": {},
   "outputs": [
    {
     "name": "stdout",
     "output_type": "stream",
     "text": [
      "True\n"
     ]
    }
   ],
   "source": [
    "s1 = \"123\"\n",
    "print(s1.isalnum())"
   ]
  },
  {
   "cell_type": "code",
   "execution_count": 54,
   "id": "f6a9513b-2865-419a-b57d-3c7dd9bedc7b",
   "metadata": {},
   "outputs": [
    {
     "name": "stdout",
     "output_type": "stream",
     "text": [
      "False\n"
     ]
    }
   ],
   "source": [
    "s1 = \"Hello Python\"\n",
    "print(s1.isalnum())"
   ]
  },
  {
   "cell_type": "code",
   "execution_count": 55,
   "id": "19b7e899-a42d-42b7-834f-cdd55a6ca1e0",
   "metadata": {},
   "outputs": [
    {
     "name": "stdout",
     "output_type": "stream",
     "text": [
      "False\n"
     ]
    }
   ],
   "source": [
    "s1 = \"a@gmail.com\"\n",
    "print(s1.isalnum())"
   ]
  },
  {
   "cell_type": "code",
   "execution_count": 56,
   "id": "3986ed4a-d648-4c37-936e-2e0fb0eccab6",
   "metadata": {},
   "outputs": [
    {
     "name": "stdout",
     "output_type": "stream",
     "text": [
      "False\n"
     ]
    }
   ],
   "source": [
    "s1 = \"\"\n",
    "print(s1.isalnum())"
   ]
  },
  {
   "cell_type": "markdown",
   "id": "20f502e7-ffb8-4aff-b1dd-12cf7ab21f3c",
   "metadata": {},
   "source": [
    "# islower()"
   ]
  },
  {
   "cell_type": "code",
   "execution_count": 1,
   "id": "24209047-8502-4449-8a42-740f1c37b239",
   "metadata": {},
   "outputs": [
    {
     "name": "stdout",
     "output_type": "stream",
     "text": [
      "True\n"
     ]
    }
   ],
   "source": [
    "# Returns True because all alphabetic characters are lowercase\n",
    "s1 = \"hello world!\"\n",
    "print(s1.islower())"
   ]
  },
  {
   "cell_type": "code",
   "execution_count": 2,
   "id": "c06b14ed-e110-4b6b-9a16-0d37b8968d02",
   "metadata": {},
   "outputs": [
    {
     "name": "stdout",
     "output_type": "stream",
     "text": [
      "False\n"
     ]
    }
   ],
   "source": [
    "# Returns False because 'H' is uppercase\n",
    "s2 = \"Hello World!\"\n",
    "print(s2.islower())"
   ]
  },
  {
   "cell_type": "code",
   "execution_count": 14,
   "id": "0cac49e6-234a-4190-9f92-4fb755a7ea82",
   "metadata": {},
   "outputs": [
    {
     "name": "stdout",
     "output_type": "stream",
     "text": [
      "False\n"
     ]
    }
   ],
   "source": [
    "# Returns False because only non-alphabetic characters are present, and no uppercase letters\n",
    "s3 = \"123!@#\"\n",
    "print(s3.islower())"
   ]
  },
  {
   "cell_type": "code",
   "execution_count": 15,
   "id": "39357308-6e5f-4c68-9e9a-d5ec9941549e",
   "metadata": {},
   "outputs": [
    {
     "name": "stdout",
     "output_type": "stream",
     "text": [
      "False\n"
     ]
    }
   ],
   "source": [
    "# Returns False because only non-alphabetic characters are present, and no uppercase letters\n",
    "s3 = \"!@#\"\n",
    "print(s3.islower())"
   ]
  },
  {
   "cell_type": "code",
   "execution_count": 10,
   "id": "75724430-ef2b-4c03-89a2-614fb071ae48",
   "metadata": {},
   "outputs": [
    {
     "name": "stdout",
     "output_type": "stream",
     "text": [
      "True\n"
     ]
    }
   ],
   "source": [
    "# Returns False because 'A' is uppercase\n",
    "s4 = \"python is awesome!\"\n",
    "print(s4.islower())"
   ]
  },
  {
   "cell_type": "markdown",
   "id": "2bcc32b3-04e2-40a3-862d-2e2c581b7ec0",
   "metadata": {},
   "source": [
    "# isupper()"
   ]
  },
  {
   "cell_type": "code",
   "execution_count": 16,
   "id": "2b2f6565-9293-441a-bd35-7166c8e6e795",
   "metadata": {},
   "outputs": [
    {
     "name": "stdout",
     "output_type": "stream",
     "text": [
      "True\n"
     ]
    }
   ],
   "source": [
    "# Returns True because all cased characters are uppercase\n",
    "string1 = \"HELLO WORLD\"\n",
    "print(string1.isupper())"
   ]
  },
  {
   "cell_type": "code",
   "execution_count": 17,
   "id": "dcb80e08-7d6b-4586-9392-bc6b728d4c2b",
   "metadata": {},
   "outputs": [
    {
     "name": "stdout",
     "output_type": "stream",
     "text": [
      "False\n"
     ]
    }
   ],
   "source": [
    "# Returns False because 'h' is lowercase\n",
    "string2 = \"Hello World\"\n",
    "print(string2.isupper())"
   ]
  },
  {
   "cell_type": "code",
   "execution_count": 18,
   "id": "7f30f226-5d2f-466f-8443-aec06be90789",
   "metadata": {},
   "outputs": [
    {
     "name": "stdout",
     "output_type": "stream",
     "text": [
      "True\n"
     ]
    }
   ],
   "source": [
    "# Returns True because numbers and spaces are ignored, and 'A' is uppercase\n",
    "string3 = \"123 ABC\"\n",
    "print(string3.isupper())"
   ]
  },
  {
   "cell_type": "code",
   "execution_count": 19,
   "id": "ebb8a69e-c657-4d52-b5e3-00069b56ba60",
   "metadata": {},
   "outputs": [
    {
     "name": "stdout",
     "output_type": "stream",
     "text": [
      "True\n"
     ]
    }
   ],
   "source": [
    "string3 = \"ABC 123\"\n",
    "print(string3.isupper())"
   ]
  },
  {
   "cell_type": "code",
   "execution_count": 20,
   "id": "64d19a36-ec72-4cad-a92a-b73cf3ca89ac",
   "metadata": {},
   "outputs": [
    {
     "name": "stdout",
     "output_type": "stream",
     "text": [
      "False\n"
     ]
    }
   ],
   "source": [
    "# Returns False because there are no cased characters, despite being all \"uppercase\" non-cased characters\n",
    "string4 = \"12345\"\n",
    "print(string4.isupper())"
   ]
  },
  {
   "cell_type": "code",
   "execution_count": 21,
   "id": "9d0e9f73-2077-401c-8442-258119af412b",
   "metadata": {},
   "outputs": [
    {
     "name": "stdout",
     "output_type": "stream",
     "text": [
      "False\n"
     ]
    }
   ],
   "source": [
    "# Returns False because there are no cased characters\n",
    "string5 = \"\"\n",
    "print(string5.isupper())"
   ]
  },
  {
   "cell_type": "code",
   "execution_count": 22,
   "id": "75f7d790-f9bf-467c-ae5e-841aadba6a99",
   "metadata": {},
   "outputs": [
    {
     "name": "stdout",
     "output_type": "stream",
     "text": [
      "False\n"
     ]
    }
   ],
   "source": [
    "string5 = \" \"\n",
    "print(string5.isupper())"
   ]
  },
  {
   "cell_type": "code",
   "execution_count": null,
   "id": "11a2e3a4-6769-4256-9697-853b0c421c4d",
   "metadata": {},
   "outputs": [],
   "source": [
    "# removeprefix()"
   ]
  },
  {
   "cell_type": "code",
   "execution_count": 23,
   "id": "c3b4afe2-87d5-4a24-9078-763a2abd232e",
   "metadata": {},
   "outputs": [
    {
     "name": "stdout",
     "output_type": "stream",
     "text": [
      "World!\n"
     ]
    }
   ],
   "source": [
    "my_string = \"Hello, World!\"\n",
    "new_string = my_string.removeprefix(\"Hello, \")\n",
    "print(new_string)"
   ]
  },
  {
   "cell_type": "code",
   "execution_count": 24,
   "id": "fcb83a58-e196-411c-a345-63491cbb3dcf",
   "metadata": {},
   "outputs": [
    {
     "name": "stdout",
     "output_type": "stream",
     "text": [
      "Hello, Python is great!\n"
     ]
    }
   ],
   "source": [
    "my_string = \"Hello, Python is great!\"\n",
    "new_string = my_string.removeprefix(\"Java\")\n",
    "print(new_string)"
   ]
  },
  {
   "cell_type": "code",
   "execution_count": 31,
   "id": "0cac4c5e-9002-4a56-89e1-aa2a0bac2801",
   "metadata": {},
   "outputs": [
    {
     "name": "stdout",
     "output_type": "stream",
     "text": [
      "Hello, Python is great!\n"
     ]
    }
   ],
   "source": [
    "my_string = \"Hello, Python is great!\"\n",
    "new_string = my_string.removeprefix(\"123\")\n",
    "print(new_string)"
   ]
  },
  {
   "cell_type": "code",
   "execution_count": 32,
   "id": "8e17da4f-42b4-484a-9a77-55e0dfbf894e",
   "metadata": {},
   "outputs": [
    {
     "name": "stdout",
     "output_type": "stream",
     "text": [
      ", World!\n"
     ]
    }
   ],
   "source": [
    "my_string = \"Hello, World!\"\n",
    "new_string = my_string.removeprefix(\"Hello\")\n",
    "print(new_string)"
   ]
  },
  {
   "cell_type": "code",
   "execution_count": null,
   "id": "65205055-831d-410f-a6e0-12e78df171a3",
   "metadata": {},
   "outputs": [],
   "source": []
  }
 ],
 "metadata": {
  "kernelspec": {
   "display_name": "Python 3 (ipykernel)",
   "language": "python",
   "name": "python3"
  },
  "language_info": {
   "codemirror_mode": {
    "name": "ipython",
    "version": 3
   },
   "file_extension": ".py",
   "mimetype": "text/x-python",
   "name": "python",
   "nbconvert_exporter": "python",
   "pygments_lexer": "ipython3",
   "version": "3.13.7"
  }
 },
 "nbformat": 4,
 "nbformat_minor": 5
}
