{
 "cells": [
  {
   "cell_type": "code",
   "execution_count": 2,
   "id": "fae0a49f-567e-40db-b1bd-28b284cc33b2",
   "metadata": {},
   "outputs": [
    {
     "name": "stdout",
     "output_type": "stream",
     "text": [
      "7\n"
     ]
    }
   ],
   "source": [
    "text = \"Hello, world! Welcome to Python.\"\n",
    "i1 = text.find(\"world\")\n",
    "print(i1)\n"
   ]
  },
  {
   "cell_type": "code",
   "execution_count": 3,
   "id": "f4ec33b1-806a-4a28-a13a-4aa40c46aa52",
   "metadata": {},
   "outputs": [
    {
     "name": "stdout",
     "output_type": "stream",
     "text": [
      "-1\n"
     ]
    }
   ],
   "source": [
    "text = \"Hello, world! Welcome to Python.\"\n",
    "i2 = text.find(\"java\")\n",
    "print(i2)"
   ]
  },
  {
   "cell_type": "code",
   "execution_count": 8,
   "id": "3e272ff0-aeda-492f-86c6-2ce161cece26",
   "metadata": {},
   "outputs": [
    {
     "name": "stdout",
     "output_type": "stream",
     "text": [
      "8\n"
     ]
    }
   ],
   "source": [
    "text = \"Hello, world! Welcome to Python.\"\n",
    "i3 = text.find(\"o\", 5) # Find \"o\" starting from index 5\n",
    "print(i3)"
   ]
  },
  {
   "cell_type": "code",
   "execution_count": 9,
   "id": "1fc85e01-3de8-4616-9dcf-9048886f14db",
   "metadata": {},
   "outputs": [
    {
     "name": "stdout",
     "output_type": "stream",
     "text": [
      "22\n"
     ]
    }
   ],
   "source": [
    "# Find \"to\" within a specific range\n",
    "i4 = text.find(\"to\", 15, 25)\n",
    "print(i4)"
   ]
  }
 ],
 "metadata": {
  "kernelspec": {
   "display_name": "Python 3 (ipykernel)",
   "language": "python",
   "name": "python3"
  },
  "language_info": {
   "codemirror_mode": {
    "name": "ipython",
    "version": 3
   },
   "file_extension": ".py",
   "mimetype": "text/x-python",
   "name": "python",
   "nbconvert_exporter": "python",
   "pygments_lexer": "ipython3",
   "version": "3.13.7"
  }
 },
 "nbformat": 4,
 "nbformat_minor": 5
}
