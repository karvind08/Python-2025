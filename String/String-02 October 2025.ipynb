{
 "cells": [
  {
   "cell_type": "code",
   "execution_count": 1,
   "id": "b7353d89-f10a-4f77-8ca9-17f4c32c906f",
   "metadata": {},
   "outputs": [
    {
     "name": "stdout",
     "output_type": "stream",
     "text": [
      "He said, \"What's up there\"\n"
     ]
    }
   ],
   "source": [
    "print('''He said, \"What's up there\"''')"
   ]
  },
  {
   "cell_type": "code",
   "execution_count": 4,
   "id": "6ec18c82-aee1-4cd0-a172-961cb2710759",
   "metadata": {},
   "outputs": [
    {
     "name": "stdout",
     "output_type": "stream",
     "text": [
      "He Said, \"What 's up there\"\n"
     ]
    }
   ],
   "source": [
    "print('He Said, \"What \\'s up there\"')"
   ]
  },
  {
   "cell_type": "code",
   "execution_count": 5,
   "id": "073d827d-3b9e-4297-92d8-96dbc6d489ce",
   "metadata": {},
   "outputs": [
    {
     "name": "stdout",
     "output_type": "stream",
     "text": [
      " He Said, \"What's up there\" \n"
     ]
    }
   ],
   "source": [
    "print(\" He Said, \\\"What's up there\\\" \")"
   ]
  },
  {
   "cell_type": "code",
   "execution_count": 6,
   "id": "b8ceaace-7b6b-4730-b52d-902b84df4dfe",
   "metadata": {},
   "outputs": [
    {
     "name": "stdout",
     "output_type": "stream",
     "text": [
      "C:\\Python32\\Lib\n"
     ]
    },
    {
     "name": "stderr",
     "output_type": "stream",
     "text": [
      "<>:1: SyntaxWarning: invalid escape sequence '\\P'\n",
      "<>:1: SyntaxWarning: invalid escape sequence '\\P'\n",
      "C:\\Users\\Arvind\\AppData\\Local\\Temp\\ipykernel_3988\\4143406306.py:1: SyntaxWarning: invalid escape sequence '\\P'\n",
      "  print('C:\\Python32\\Lib')\n"
     ]
    }
   ],
   "source": [
    "print('C:\\Python32\\Lib')"
   ]
  },
  {
   "cell_type": "code",
   "execution_count": 7,
   "id": "fda76d4d-43c0-4c62-a830-c64402126c93",
   "metadata": {},
   "outputs": [
    {
     "name": "stdout",
     "output_type": "stream",
     "text": [
      "C:\\Python32\\Lib\n"
     ]
    },
    {
     "name": "stderr",
     "output_type": "stream",
     "text": [
      "<>:1: SyntaxWarning: invalid escape sequence '\\P'\n",
      "<>:1: SyntaxWarning: invalid escape sequence '\\P'\n",
      "C:\\Users\\Arvind\\AppData\\Local\\Temp\\ipykernel_3988\\4078187801.py:1: SyntaxWarning: invalid escape sequence '\\P'\n",
      "  print(\"C:\\Python32\\Lib\")\n"
     ]
    }
   ],
   "source": [
    "print(\"C:\\Python32\\Lib\")"
   ]
  },
  {
   "cell_type": "code",
   "execution_count": 8,
   "id": "a935dd8b-dc25-4f68-aafb-a14ff6b5e580",
   "metadata": {},
   "outputs": [
    {
     "name": "stdout",
     "output_type": "stream",
     "text": [
      "C:\\Python32\\Lib\n"
     ]
    },
    {
     "name": "stderr",
     "output_type": "stream",
     "text": [
      "<>:1: SyntaxWarning: invalid escape sequence '\\P'\n",
      "<>:1: SyntaxWarning: invalid escape sequence '\\P'\n",
      "C:\\Users\\Arvind\\AppData\\Local\\Temp\\ipykernel_3988\\4079052088.py:1: SyntaxWarning: invalid escape sequence '\\P'\n",
      "  print('''C:\\Python32\\Lib''')\n"
     ]
    }
   ],
   "source": [
    "print('''C:\\Python32\\Lib''')"
   ]
  },
  {
   "cell_type": "code",
   "execution_count": 9,
   "id": "d45722a6-b156-4a81-b28d-ae7f9928a2ee",
   "metadata": {},
   "outputs": [
    {
     "name": "stdout",
     "output_type": "stream",
     "text": [
      "C:\\Python32\\Lib\n"
     ]
    }
   ],
   "source": [
    "print('''C:\\\\Python32\\\\Lib''')"
   ]
  },
  {
   "cell_type": "code",
   "execution_count": 10,
   "id": "685eb90b-bb00-4ef6-8d42-91a6a472d6a0",
   "metadata": {},
   "outputs": [
    {
     "name": "stdout",
     "output_type": "stream",
     "text": [
      "This is printed\n",
      "in two lines\n"
     ]
    }
   ],
   "source": [
    "print(\"This is printed\\nin two lines\")"
   ]
  },
  {
   "cell_type": "code",
   "execution_count": 11,
   "id": "873460a7-1d66-4206-9919-8ba78206c9e2",
   "metadata": {},
   "outputs": [
    {
     "name": "stdout",
     "output_type": "stream",
     "text": [
      "This is printed\n",
      "in two lines\n"
     ]
    }
   ],
   "source": [
    "print('This is printed\\nin two lines')"
   ]
  },
  {
   "cell_type": "code",
   "execution_count": 13,
   "id": "8a442062-b3d5-4967-b751-e56c9ca33646",
   "metadata": {},
   "outputs": [
    {
     "name": "stdout",
     "output_type": "stream",
     "text": [
      "This is printed\n",
      "in two lines\n"
     ]
    }
   ],
   "source": [
    "print('''This is printed\\nin two lines''')"
   ]
  },
  {
   "cell_type": "code",
   "execution_count": 14,
   "id": "54a14d9e-1595-4d92-88ff-84a68af70e71",
   "metadata": {},
   "outputs": [
    {
     "name": "stdout",
     "output_type": "stream",
     "text": [
      "This is HEX representation\n"
     ]
    }
   ],
   "source": [
    "print(\"This is \\x48\\x45\\x58 representation\")"
   ]
  },
  {
   "cell_type": "code",
   "execution_count": 20,
   "id": "4f851061-3640-4924-808f-db8df2456945",
   "metadata": {},
   "outputs": [
    {
     "name": "stdout",
     "output_type": "stream",
     "text": [
      "This is A\n"
     ]
    }
   ],
   "source": [
    "print(\"This is \\x41\")"
   ]
  },
  {
   "cell_type": "code",
   "execution_count": 22,
   "id": "c8788110-9b13-4b5e-82de-14420a88300e",
   "metadata": {},
   "outputs": [
    {
     "name": "stdout",
     "output_type": "stream",
     "text": [
      "This is BAT\n"
     ]
    }
   ],
   "source": [
    "print(\"This is \\x42\\x41\\x54\")"
   ]
  },
  {
   "cell_type": "code",
   "execution_count": null,
   "id": "66a8144c-fd37-40fd-82a1-a04c7d47cdb8",
   "metadata": {},
   "outputs": [],
   "source": [
    "# Default order"
   ]
  },
  {
   "cell_type": "code",
   "execution_count": 24,
   "id": "803d0f42-d99a-41bc-9b24-e26efca04caf",
   "metadata": {},
   "outputs": [
    {
     "name": "stdout",
     "output_type": "stream",
     "text": [
      "Arvind Knows C,C++ and Python\n"
     ]
    }
   ],
   "source": [
    "statement = \"Arvind Knows {},{} and {}\".format('C','C++','Python','')\n",
    "print(statement)"
   ]
  },
  {
   "cell_type": "code",
   "execution_count": 25,
   "id": "dde874f0-0f1b-4121-99b3-1d0a4292a60b",
   "metadata": {},
   "outputs": [
    {
     "name": "stdout",
     "output_type": "stream",
     "text": [
      "Arvind Knows Python,C++ and C\n"
     ]
    }
   ],
   "source": [
    "statement = \"Arvind Knows {2},{1} and {0}\".format('C','C++','Python','')\n",
    "print(statement)"
   ]
  },
  {
   "cell_type": "code",
   "execution_count": 29,
   "id": "9f329b12-1713-44f9-a325-24486e0b2f27",
   "metadata": {},
   "outputs": [
    {
     "name": "stdout",
     "output_type": "stream",
     "text": [
      "Arvind Knows C,C++ and Python\n"
     ]
    }
   ],
   "source": [
    "statement = \"Arvind Knows {lang1},{lang2} and {lang3}\".format(lang1 ='C',lang2 = 'C++',lang3 = 'Python')\n",
    "print(statement)"
   ]
  },
  {
   "cell_type": "code",
   "execution_count": 30,
   "id": "9f0648cb-3615-4bd3-950c-ca6855c653ec",
   "metadata": {},
   "outputs": [
    {
     "name": "stdout",
     "output_type": "stream",
     "text": [
      "Arvind Knows C,C++ and Python\n"
     ]
    }
   ],
   "source": [
    "print(\"Arvind Knows {lang1},{lang2} and {lang3}\".format(lang1 ='C',lang2 = 'C++',lang3 = 'Python'))"
   ]
  },
  {
   "cell_type": "code",
   "execution_count": 31,
   "id": "c67304d7-0a79-4f71-bf32-859ff201c44a",
   "metadata": {},
   "outputs": [
    {
     "name": "stdout",
     "output_type": "stream",
     "text": [
      "Arvind Knows C,C++ and Python\n"
     ]
    }
   ],
   "source": [
    "str1 = \"Arvind Knows {lang1},{lang2} and {lang3}\".format(lang1 ='C',lang2 = 'C++',lang3 = 'Python')\n",
    "print(str1)"
   ]
  },
  {
   "cell_type": "code",
   "execution_count": 56,
   "id": "1b4c41a3-f5bf-4ba1-8307-b344613b108d",
   "metadata": {},
   "outputs": [
    {
     "name": "stdout",
     "output_type": "stream",
     "text": [
      "Arvind    \n",
      "Arvind    \n"
     ]
    }
   ],
   "source": [
    "name = \"Arvind\"\n",
    "print(f\"{name:<10}\") # Using f-string\n",
    "print(\"{:<10}\".format(name)) # Using format() method"
   ]
  },
  {
   "cell_type": "code",
   "execution_count": 62,
   "id": "a468ffee-f007-44a5-80f9-146f2bb09672",
   "metadata": {},
   "outputs": [
    {
     "name": "stdout",
     "output_type": "stream",
     "text": [
      "Arvind    \n"
     ]
    }
   ],
   "source": [
    "name = \"Arvind\"\n",
    "print(\"{:<10}\".format(name)) # Using format() method"
   ]
  },
  {
   "cell_type": "code",
   "execution_count": 63,
   "id": "4f09919d-387a-4ac0-b7d1-29a241e61d47",
   "metadata": {},
   "outputs": [
    {
     "name": "stdout",
     "output_type": "stream",
     "text": [
      "Arvind    \n"
     ]
    }
   ],
   "source": [
    "name = \"Arvind\"\n",
    "print(\"{:<10}\".format('Arvind')) # Using format() method"
   ]
  },
  {
   "cell_type": "code",
   "execution_count": 66,
   "id": "14209ef4-38cc-4bc4-bbc6-ea83f1bc1c69",
   "metadata": {},
   "outputs": [
    {
     "name": "stdout",
     "output_type": "stream",
     "text": [
      "|Arvind    |\n"
     ]
    }
   ],
   "source": [
    "name = \"Arvind\"\n",
    "print(\"|{:<10}|\".format(name))"
   ]
  },
  {
   "cell_type": "code",
   "execution_count": 67,
   "id": "c5191247-5f85-4ff9-9e0c-773b86bbeefb",
   "metadata": {},
   "outputs": [
    {
     "name": "stdout",
     "output_type": "stream",
     "text": [
      "|    Arvind|\n"
     ]
    }
   ],
   "source": [
    "name = \"Arvind\"\n",
    "print(\"|{:>10}|\".format(name))"
   ]
  },
  {
   "cell_type": "code",
   "execution_count": 70,
   "id": "46e7e55c-68b9-48af-a128-a9e1850a768f",
   "metadata": {},
   "outputs": [
    {
     "name": "stdout",
     "output_type": "stream",
     "text": [
      "|  Arvind  |\n"
     ]
    }
   ],
   "source": [
    "name = \"Arvind\"\n",
    "print(\"|{:^10}|\".format(name))"
   ]
  },
  {
   "cell_type": "code",
   "execution_count": 34,
   "id": "962bf529-f3d7-4b14-a734-a661f9f01371",
   "metadata": {},
   "outputs": [
    {
     "name": "stdout",
     "output_type": "stream",
     "text": [
      "                                                                                              Arvind\n"
     ]
    }
   ],
   "source": [
    "name = \"Arvind\"\n",
    "print(\"{:>100}\".format(name))"
   ]
  },
  {
   "cell_type": "code",
   "execution_count": 50,
   "id": "1c97f496-671b-4bb8-a76e-0709ebdec6f6",
   "metadata": {},
   "outputs": [
    {
     "data": {
      "text/plain": [
       "'|C         |   C++    |    Python|'"
      ]
     },
     "execution_count": 50,
     "metadata": {},
     "output_type": "execute_result"
    }
   ],
   "source": [
    "\"|{:<10}|{:^10}|{:>10}|\".format('C','C++','Python')"
   ]
  },
  {
   "cell_type": "code",
   "execution_count": 51,
   "id": "e39159ac-22ac-4614-891a-4f8b5da947e6",
   "metadata": {},
   "outputs": [
    {
     "name": "stdout",
     "output_type": "stream",
     "text": [
      "***Banana***\n",
      "***Banana***\n"
     ]
    }
   ],
   "source": [
    "item = \"Banana\"\n",
    "print(f\"{item:*^12}\") # Using f-string with '*' as fill character\n",
    "print(\"{:*^12}\".format(item)) # Using format() with '*' as fill character"
   ]
  },
  {
   "cell_type": "code",
   "execution_count": 53,
   "id": "b5504ade-2be2-46c3-8f69-1dc09db0cf68",
   "metadata": {},
   "outputs": [
    {
     "name": "stdout",
     "output_type": "stream",
     "text": [
      "    123\n"
     ]
    }
   ],
   "source": [
    "score = 123\n",
    "print(\"{:>7}\".format(score))"
   ]
  },
  {
   "cell_type": "code",
   "execution_count": 54,
   "id": "52544192-b1c3-4b55-8b18-7232379dfe40",
   "metadata": {},
   "outputs": [
    {
     "name": "stdout",
     "output_type": "stream",
     "text": [
      "    Report     \n",
      "    Report     \n"
     ]
    }
   ],
   "source": [
    "title = \"Report\"\n",
    "print(f\"{title:^15}\")\n",
    "print(\"{:^15}\".format(title))"
   ]
  },
  {
   "cell_type": "code",
   "execution_count": 55,
   "id": "91a676db-8146-4f6a-a0e5-b283dd7e40ee",
   "metadata": {},
   "outputs": [
    {
     "name": "stdout",
     "output_type": "stream",
     "text": [
      "&&&Banana&&&\n"
     ]
    }
   ],
   "source": [
    "item = \"Banana\"\n",
    "print(\"{:&^12}\".format(item)) # Using format() with '*' as fill character"
   ]
  },
  {
   "cell_type": "code",
   "execution_count": null,
   "id": "1c5e6fa7-2061-4f3b-80b8-3d8cd764faf4",
   "metadata": {},
   "outputs": [],
   "source": []
  }
 ],
 "metadata": {
  "kernelspec": {
   "display_name": "Python 3 (ipykernel)",
   "language": "python",
   "name": "python3"
  },
  "language_info": {
   "codemirror_mode": {
    "name": "ipython",
    "version": 3
   },
   "file_extension": ".py",
   "mimetype": "text/x-python",
   "name": "python",
   "nbconvert_exporter": "python",
   "pygments_lexer": "ipython3",
   "version": "3.13.7"
  }
 },
 "nbformat": 4,
 "nbformat_minor": 5
}
