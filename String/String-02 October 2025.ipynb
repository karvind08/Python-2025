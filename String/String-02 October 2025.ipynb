{
 "cells": [
  {
   "cell_type": "code",
   "execution_count": 1,
   "id": "b7353d89-f10a-4f77-8ca9-17f4c32c906f",
   "metadata": {},
   "outputs": [
    {
     "name": "stdout",
     "output_type": "stream",
     "text": [
      "He said, \"What's up there\"\n"
     ]
    }
   ],
   "source": [
    "print('''He said, \"What's up there\"''')"
   ]
  },
  {
   "cell_type": "code",
   "execution_count": 4,
   "id": "6ec18c82-aee1-4cd0-a172-961cb2710759",
   "metadata": {},
   "outputs": [
    {
     "name": "stdout",
     "output_type": "stream",
     "text": [
      "He Said, \"What 's up there\"\n"
     ]
    }
   ],
   "source": [
    "print('He Said, \"What \\'s up there\"')"
   ]
  },
  {
   "cell_type": "code",
   "execution_count": 5,
   "id": "073d827d-3b9e-4297-92d8-96dbc6d489ce",
   "metadata": {},
   "outputs": [
    {
     "name": "stdout",
     "output_type": "stream",
     "text": [
      " He Said, \"What's up there\" \n"
     ]
    }
   ],
   "source": [
    "print(\" He Said, \\\"What's up there\\\" \")"
   ]
  },
  {
   "cell_type": "code",
   "execution_count": 6,
   "id": "b8ceaace-7b6b-4730-b52d-902b84df4dfe",
   "metadata": {},
   "outputs": [
    {
     "name": "stdout",
     "output_type": "stream",
     "text": [
      "C:\\Python32\\Lib\n"
     ]
    },
    {
     "name": "stderr",
     "output_type": "stream",
     "text": [
      "<>:1: SyntaxWarning: invalid escape sequence '\\P'\n",
      "<>:1: SyntaxWarning: invalid escape sequence '\\P'\n",
      "C:\\Users\\Arvind\\AppData\\Local\\Temp\\ipykernel_3988\\4143406306.py:1: SyntaxWarning: invalid escape sequence '\\P'\n",
      "  print('C:\\Python32\\Lib')\n"
     ]
    }
   ],
   "source": [
    "print('C:\\Python32\\Lib')"
   ]
  },
  {
   "cell_type": "code",
   "execution_count": 7,
   "id": "fda76d4d-43c0-4c62-a830-c64402126c93",
   "metadata": {},
   "outputs": [
    {
     "name": "stdout",
     "output_type": "stream",
     "text": [
      "C:\\Python32\\Lib\n"
     ]
    },
    {
     "name": "stderr",
     "output_type": "stream",
     "text": [
      "<>:1: SyntaxWarning: invalid escape sequence '\\P'\n",
      "<>:1: SyntaxWarning: invalid escape sequence '\\P'\n",
      "C:\\Users\\Arvind\\AppData\\Local\\Temp\\ipykernel_3988\\4078187801.py:1: SyntaxWarning: invalid escape sequence '\\P'\n",
      "  print(\"C:\\Python32\\Lib\")\n"
     ]
    }
   ],
   "source": [
    "print(\"C:\\Python32\\Lib\")"
   ]
  },
  {
   "cell_type": "code",
   "execution_count": 8,
   "id": "a935dd8b-dc25-4f68-aafb-a14ff6b5e580",
   "metadata": {},
   "outputs": [
    {
     "name": "stdout",
     "output_type": "stream",
     "text": [
      "C:\\Python32\\Lib\n"
     ]
    },
    {
     "name": "stderr",
     "output_type": "stream",
     "text": [
      "<>:1: SyntaxWarning: invalid escape sequence '\\P'\n",
      "<>:1: SyntaxWarning: invalid escape sequence '\\P'\n",
      "C:\\Users\\Arvind\\AppData\\Local\\Temp\\ipykernel_3988\\4079052088.py:1: SyntaxWarning: invalid escape sequence '\\P'\n",
      "  print('''C:\\Python32\\Lib''')\n"
     ]
    }
   ],
   "source": [
    "print('''C:\\Python32\\Lib''')"
   ]
  },
  {
   "cell_type": "code",
   "execution_count": 9,
   "id": "d45722a6-b156-4a81-b28d-ae7f9928a2ee",
   "metadata": {},
   "outputs": [
    {
     "name": "stdout",
     "output_type": "stream",
     "text": [
      "C:\\Python32\\Lib\n"
     ]
    }
   ],
   "source": [
    "print('''C:\\\\Python32\\\\Lib''')"
   ]
  }
 ],
 "metadata": {
  "kernelspec": {
   "display_name": "Python 3 (ipykernel)",
   "language": "python",
   "name": "python3"
  },
  "language_info": {
   "codemirror_mode": {
    "name": "ipython",
    "version": 3
   },
   "file_extension": ".py",
   "mimetype": "text/x-python",
   "name": "python",
   "nbconvert_exporter": "python",
   "pygments_lexer": "ipython3",
   "version": "3.13.7"
  }
 },
 "nbformat": 4,
 "nbformat_minor": 5
}
