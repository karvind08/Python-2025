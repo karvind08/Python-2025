{
 "cells": [
  {
   "cell_type": "code",
   "execution_count": null,
   "id": "182435cf-fd2f-4e42-b23a-14d651058e95",
   "metadata": {},
   "outputs": [],
   "source": [
    "# Write a program that takes input from the user and displays that input back in upper and lower cases."
   ]
  },
  {
   "cell_type": "code",
   "execution_count": 2,
   "id": "fc9c551c-e41e-46a1-bef0-06af1502c15d",
   "metadata": {},
   "outputs": [
    {
     "name": "stdin",
     "output_type": "stream",
     "text": [
      "Enter the string: HelLo\n"
     ]
    },
    {
     "name": "stdout",
     "output_type": "stream",
     "text": [
      "The string in uppercase:  HELLO\n",
      "The string in lowercase:  hello\n"
     ]
    }
   ],
   "source": [
    "s = input('Enter the string:')\n",
    "print('The string in uppercase: ',s.upper())\n",
    "print('The string in lowercase: ',s.lower())"
   ]
  },
  {
   "cell_type": "code",
   "execution_count": null,
   "id": "0f38d1bb-8401-41e3-a6ec-6428b43b928a",
   "metadata": {},
   "outputs": [],
   "source": []
  },
  {
   "cell_type": "code",
   "execution_count": null,
   "id": "46cb4eea-9f0c-42a7-9100-5a0eb6091e8f",
   "metadata": {},
   "outputs": [],
   "source": []
  },
  {
   "cell_type": "code",
   "execution_count": null,
   "id": "08e137f0-d205-4af7-ada3-dcd2d4cf67f4",
   "metadata": {},
   "outputs": [],
   "source": []
  },
  {
   "cell_type": "code",
   "execution_count": null,
   "id": "7f65731a-1298-4c23-8b39-afd62713ed14",
   "metadata": {},
   "outputs": [],
   "source": []
  }
 ],
 "metadata": {
  "kernelspec": {
   "display_name": "Python 3 (ipykernel)",
   "language": "python",
   "name": "python3"
  },
  "language_info": {
   "codemirror_mode": {
    "name": "ipython",
    "version": 3
   },
   "file_extension": ".py",
   "mimetype": "text/x-python",
   "name": "python",
   "nbconvert_exporter": "python",
   "pygments_lexer": "ipython3",
   "version": "3.13.7"
  }
 },
 "nbformat": 4,
 "nbformat_minor": 5
}
