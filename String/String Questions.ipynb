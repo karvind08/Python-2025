{
 "cells": [
  {
   "cell_type": "code",
   "execution_count": null,
   "id": "182435cf-fd2f-4e42-b23a-14d651058e95",
   "metadata": {},
   "outputs": [],
   "source": [
    "# Write a program that takes input from the user and displays that input back in upper and lower cases."
   ]
  },
  {
   "cell_type": "code",
   "execution_count": 2,
   "id": "fc9c551c-e41e-46a1-bef0-06af1502c15d",
   "metadata": {},
   "outputs": [
    {
     "name": "stdin",
     "output_type": "stream",
     "text": [
      "Enter the string: HelLo\n"
     ]
    },
    {
     "name": "stdout",
     "output_type": "stream",
     "text": [
      "The string in uppercase:  HELLO\n",
      "The string in lowercase:  hello\n"
     ]
    }
   ],
   "source": [
    "s = input('Enter the string:')\n",
    "print('The string in uppercase: ',s.upper())\n",
    "print('The string in lowercase: ',s.lower())"
   ]
  },
  {
   "cell_type": "code",
   "execution_count": null,
   "id": "0f38d1bb-8401-41e3-a6ec-6428b43b928a",
   "metadata": {},
   "outputs": [],
   "source": [
    "# Write a program to check if the sub string is present in the string or not."
   ]
  },
  {
   "cell_type": "code",
   "execution_count": 3,
   "id": "46cb4eea-9f0c-42a7-9100-5a0eb6091e8f",
   "metadata": {},
   "outputs": [
    {
     "name": "stdin",
     "output_type": "stream",
     "text": [
      "Enter the string:  Hello Python\n"
     ]
    },
    {
     "name": "stdout",
     "output_type": "stream",
     "text": [
      "The string is:  Hello Python\n"
     ]
    },
    {
     "name": "stdin",
     "output_type": "stream",
     "text": [
      "Enter the sub string:  Py\n"
     ]
    },
    {
     "name": "stdout",
     "output_type": "stream",
     "text": [
      "Py exists in  Hello Python\n"
     ]
    }
   ],
   "source": [
    "s = input('Enter the string: ')\n",
    "print('The string is: ',s)\n",
    "sub = input('Enter the sub string: ')\n",
    "if sub in s:\n",
    "    print(sub,'exists in ',s)\n",
    "else:\n",
    "    print(sub,'does not exists in ',s)"
   ]
  },
  {
   "cell_type": "code",
   "execution_count": null,
   "id": "08e137f0-d205-4af7-ada3-dcd2d4cf67f4",
   "metadata": {},
   "outputs": [],
   "source": [
    "# Write a program to find the length of the string without using len function."
   ]
  },
  {
   "cell_type": "code",
   "execution_count": 4,
   "id": "7f65731a-1298-4c23-8b39-afd62713ed14",
   "metadata": {},
   "outputs": [
    {
     "name": "stdin",
     "output_type": "stream",
     "text": [
      "Enter the string:  Hello Python\n"
     ]
    },
    {
     "name": "stdout",
     "output_type": "stream",
     "text": [
      "The length of string Hello Python is 12\n"
     ]
    }
   ],
   "source": [
    "s = input('Enter the string: ')\n",
    "l = 0\n",
    "for i in s:\n",
    "    l = l+1\n",
    "print(f'The length of string {s} is',l)"
   ]
  },
  {
   "cell_type": "code",
   "execution_count": null,
   "id": "8625f1ba-7fdb-4395-adec-6dcbb63293db",
   "metadata": {},
   "outputs": [],
   "source": [
    "# Write a program to count vowels & consonants in a given string."
   ]
  },
  {
   "cell_type": "code",
   "execution_count": 5,
   "id": "93c1676c-12ab-4c6b-bdb1-51f1b590c1a3",
   "metadata": {},
   "outputs": [
    {
     "name": "stdin",
     "output_type": "stream",
     "text": [
      "Enter the string:  HellO Python Programming\n"
     ]
    },
    {
     "name": "stdout",
     "output_type": "stream",
     "text": [
      "The numbers of vowels are 6\n",
      "The numbers of consonants are 18\n"
     ]
    }
   ],
   "source": [
    "s = input('Enter the string: ')\n",
    "c = 0\n",
    "v = 0\n",
    "for i in s:\n",
    "    if i in 'aeiouAEIOU':\n",
    "        v = v+1\n",
    "    else:\n",
    "        c = c+1\n",
    "print('The numbers of vowels are',v)\n",
    "print('The numbers of consonants are',c)"
   ]
  },
  {
   "cell_type": "code",
   "execution_count": null,
   "id": "58e7c20e-0426-453a-9a99-d92be7286666",
   "metadata": {},
   "outputs": [],
   "source": [
    "# Write a program to make first and last character of each word in uppercase in the string."
   ]
  },
  {
   "cell_type": "code",
   "execution_count": 9,
   "id": "1ac02410-6992-4e39-b008-dcba4ede30e2",
   "metadata": {},
   "outputs": [
    {
     "name": "stdin",
     "output_type": "stream",
     "text": [
      "Enter the string:  hello python\n"
     ]
    },
    {
     "name": "stdout",
     "output_type": "stream",
     "text": [
      "Hello Python\n",
      "['Hello', 'Python']\n",
      "HellO PythoN \n"
     ]
    }
   ],
   "source": [
    "s = input('Enter the string: ')\n",
    "s = s.title()\n",
    "print(s)\n",
    "words = s.split()\n",
    "print(words)\n",
    "r = ''\n",
    "for i in words:\n",
    "    r = r+i[:-1]+i[-1].upper()+' ' \n",
    "print(r)"
   ]
  },
  {
   "cell_type": "code",
   "execution_count": 10,
   "id": "1d45acb9-c6df-443f-8beb-10d9bdae27cb",
   "metadata": {},
   "outputs": [
    {
     "name": "stdin",
     "output_type": "stream",
     "text": [
      "Enter the string:  Hello python\n"
     ]
    },
    {
     "name": "stdout",
     "output_type": "stream",
     "text": [
      "HellO PythoN \n"
     ]
    }
   ],
   "source": [
    "s = input('Enter the string: ')\n",
    "s = s.title()\n",
    "words = s.split()\n",
    "r = ''\n",
    "for i in words:\n",
    "    r = r+i[:-1]+i[-1].upper()+' ' \n",
    "print(r)"
   ]
  },
  {
   "cell_type": "code",
   "execution_count": null,
   "id": "4f498743-60ba-45d7-918b-8ae089e7458d",
   "metadata": {},
   "outputs": [],
   "source": [
    "# Write a program to count occurance of an alphabet in a string. "
   ]
  },
  {
   "cell_type": "code",
   "execution_count": 11,
   "id": "4c6a90df-27ea-4f19-bf2a-63041d4ac99a",
   "metadata": {},
   "outputs": [
    {
     "name": "stdin",
     "output_type": "stream",
     "text": [
      "Enter the string:  Hello Python\n",
      "Enter the alphabet:  o\n"
     ]
    },
    {
     "name": "stdout",
     "output_type": "stream",
     "text": [
      "o is presen 2 times\n"
     ]
    }
   ],
   "source": [
    "s = input('Enter the string: ')\n",
    "ch = input('Enter the alphabet: ')\n",
    "n = s.count(ch)\n",
    "print(ch,'is presen',n,'times')"
   ]
  },
  {
   "cell_type": "code",
   "execution_count": 14,
   "id": "21f0acbf-4b42-49a4-9378-a0dc38fb61be",
   "metadata": {},
   "outputs": [
    {
     "name": "stdin",
     "output_type": "stream",
     "text": [
      "Enter the string:  Hello Python\n",
      "Enter the alphabet:  o\n"
     ]
    },
    {
     "name": "stdout",
     "output_type": "stream",
     "text": [
      "o is present at 2 times\n"
     ]
    }
   ],
   "source": [
    "s = input('Enter the string: ')\n",
    "ch = input('Enter the alphabet: ')\n",
    "n = s.count(ch)\n",
    "print(f'{ch} is present at {n} times')"
   ]
  },
  {
   "cell_type": "code",
   "execution_count": 15,
   "id": "d321353f-d1a0-467f-b3a4-4bc84a08ab47",
   "metadata": {},
   "outputs": [
    {
     "name": "stdin",
     "output_type": "stream",
     "text": [
      "Enter the string:  Hello python\n",
      "Enter the alphabet:  o\n"
     ]
    },
    {
     "name": "stdout",
     "output_type": "stream",
     "text": [
      "o is present at 2 times\n"
     ]
    }
   ],
   "source": [
    "s = input('Enter the string: ')\n",
    "ch = input('Enter the alphabet: ')\n",
    "count = 0\n",
    "for i in s:\n",
    "    if i==ch:\n",
    "        count = count + 1\n",
    "print(f'{ch} is present at {count} times')"
   ]
  },
  {
   "cell_type": "code",
   "execution_count": null,
   "id": "13a496a7-0028-4302-baf7-f79e5654b6ab",
   "metadata": {},
   "outputs": [],
   "source": [
    "# Write a program to count frequency of words appearing in the string."
   ]
  },
  {
   "cell_type": "code",
   "execution_count": 16,
   "id": "f0bae2c7-650c-4646-bf08-3460258aa209",
   "metadata": {},
   "outputs": [
    {
     "name": "stdin",
     "output_type": "stream",
     "text": [
      "Enter the string:  hello hi hi hi hello arvind\n"
     ]
    },
    {
     "name": "stdout",
     "output_type": "stream",
     "text": [
      "{'hello': 2, 'hi': 3, 'arvind': 1}\n"
     ]
    }
   ],
   "source": [
    "s = input('Enter the string: ')\n",
    "words = s.split()\n",
    "d = {}\n",
    "for i in words:\n",
    "    if i not in d.keys():\n",
    "        d[i] = 0\n",
    "    d[i]+=1\n",
    "print(d)"
   ]
  },
  {
   "cell_type": "code",
   "execution_count": null,
   "id": "b7a3079c-5b03-41e2-9b4b-ebb75b402942",
   "metadata": {},
   "outputs": [],
   "source": [
    "# Write a program to Reverse a given string."
   ]
  },
  {
   "cell_type": "code",
   "execution_count": 1,
   "id": "6fa0169f-93f0-4278-8b69-4613104a6bf6",
   "metadata": {},
   "outputs": [
    {
     "name": "stdin",
     "output_type": "stream",
     "text": [
      "Enter the string:  Hello Python\n"
     ]
    },
    {
     "name": "stdout",
     "output_type": "stream",
     "text": [
      "nohtyP olleH\n"
     ]
    }
   ],
   "source": [
    "s = input('Enter the string: ')\n",
    "rev = s[::-1]\n",
    "print(rev)"
   ]
  },
  {
   "cell_type": "code",
   "execution_count": 2,
   "id": "010db795-c1d0-490d-8817-d779d5dd415e",
   "metadata": {},
   "outputs": [
    {
     "name": "stdin",
     "output_type": "stream",
     "text": [
      "Enter the string:  Hello python\n"
     ]
    },
    {
     "name": "stdout",
     "output_type": "stream",
     "text": [
      "Hello python\n",
      "nohtyp olleH\n"
     ]
    }
   ],
   "source": [
    "s = input('Enter the string: ')\n",
    "print(s)\n",
    "s = s[::-1]\n",
    "print(s)"
   ]
  },
  {
   "cell_type": "code",
   "execution_count": null,
   "id": "8e0c033e-76a3-4f30-bedb-1a6ba4ea2abd",
   "metadata": {},
   "outputs": [],
   "source": [
    "# Write a program that takes your full name as input and displays the abbreviations of the first and middle names except the last name which is displayed as it is. For example, if your name is Arvind Kumar Kharwal, then the output should be A.K.Kharwal."
   ]
  },
  {
   "cell_type": "code",
   "execution_count": 3,
   "id": "6559b9ea-3d1e-4479-bcac-c5fa4c81ad80",
   "metadata": {},
   "outputs": [
    {
     "name": "stdin",
     "output_type": "stream",
     "text": [
      "Enter the string:  Arvind kumar kharwal\n"
     ]
    },
    {
     "name": "stdout",
     "output_type": "stream",
     "text": [
      "['Arvind', 'kumar', 'kharwal']\n",
      "A.k.kharwal\n"
     ]
    }
   ],
   "source": [
    "s = input('Enter the string: ')\n",
    "s = s.split()\n",
    "print(s)\n",
    "name = s[0][0]+'.'+s[1][0]+'.'+s[2]\n",
    "print(name)"
   ]
  },
  {
   "cell_type": "code",
   "execution_count": null,
   "id": "6e8656a0-c233-4a1e-b963-ee4ee0394884",
   "metadata": {},
   "outputs": [],
   "source": [
    "# Write a program to count all lower case, upper case, digits, and special symbols from a given string."
   ]
  },
  {
   "cell_type": "code",
   "execution_count": 6,
   "id": "839e597e-aeaa-4dd0-8712-15005db98996",
   "metadata": {},
   "outputs": [
    {
     "name": "stdin",
     "output_type": "stream",
     "text": [
      "Enter the string:  hello P2\n"
     ]
    },
    {
     "name": "stdout",
     "output_type": "stream",
     "text": [
      "Lowercase Chars =  5 Uppercase Chars =  1 Digits =  1 Symbol =  1\n"
     ]
    }
   ],
   "source": [
    "s = input('Enter the string: ')\n",
    "lcount = 0\n",
    "ucount = 0\n",
    "digitcount = 0\n",
    "symbolcount = 0\n",
    "for i in s:\n",
    "    if i.islower():\n",
    "        lcount+=1\n",
    "    elif i.isupper():\n",
    "        ucount+=1\n",
    "    elif i.isnumeric():\n",
    "        digitcount+=1\n",
    "    else:\n",
    "        symbolcount+=1\n",
    "\n",
    "print(\"Lowercase Chars = \", lcount, \"Uppercase Chars = \", ucount,\"Digits = \", digitcount, \"Symbol = \", symbolcount)"
   ]
  },
  {
   "cell_type": "code",
   "execution_count": null,
   "id": "63cd7186-5508-47e9-8199-bf19e4eba78c",
   "metadata": {},
   "outputs": [],
   "source": [
    "# Write a program to arrange input string (the combination of the lower and upper case) characters such that lowercase letters should come first."
   ]
  },
  {
   "cell_type": "code",
   "execution_count": 13,
   "id": "0fe21a68-768f-4287-9b29-f56282a78d38",
   "metadata": {},
   "outputs": [
    {
     "name": "stdin",
     "output_type": "stream",
     "text": [
      "Enter the string:  Python\n"
     ]
    },
    {
     "name": "stdout",
     "output_type": "stream",
     "text": [
      "ythonP\n"
     ]
    }
   ],
   "source": [
    "s = input('Enter the string: ')\n",
    "lower = []\n",
    "upper = []\n",
    "for i in s:\n",
    "    if i.islower():\n",
    "        lower.append(i)\n",
    "    else:\n",
    "        upper.append(i)\n",
    "s1 = ''.join(lower + upper)\n",
    "print(s1)"
   ]
  },
  {
   "cell_type": "code",
   "execution_count": null,
   "id": "0e18a772-2200-4b65-9526-e9e4d0ae798b",
   "metadata": {},
   "outputs": [],
   "source": [
    "# Remove the empty string from list of strings."
   ]
  },
  {
   "cell_type": "code",
   "execution_count": 14,
   "id": "28e3cbd0-4c3b-4b09-861f-c45dc396d6e2",
   "metadata": {},
   "outputs": [
    {
     "name": "stdout",
     "output_type": "stream",
     "text": [
      "['ar', 'br', 'cr', 'dr', 'rk']\n"
     ]
    }
   ],
   "source": [
    "l = ['ar','br','','cr','','dr','','rk','']\n",
    "ls = list(filter(None,l))\n",
    "print(ls)"
   ]
  },
  {
   "cell_type": "code",
   "execution_count": null,
   "id": "2d8856e8-6f73-497f-8ec1-e31e1cc83870",
   "metadata": {},
   "outputs": [],
   "source": [
    "# Alternative"
   ]
  },
  {
   "cell_type": "code",
   "execution_count": 15,
   "id": "87ddd99f-6d97-4f5d-8d2c-1897ba814491",
   "metadata": {},
   "outputs": [
    {
     "name": "stdin",
     "output_type": "stream",
     "text": [
      "Enter the string:  hello    world\n"
     ]
    },
    {
     "name": "stdout",
     "output_type": "stream",
     "text": [
      "['hello', 'world']\n",
      "['hello', 'world']\n"
     ]
    }
   ],
   "source": [
    "s = input('Enter the string: ')\n",
    "l = s.split()\n",
    "print(l)\n",
    "ls = list(filter(None,l))\n",
    "print(ls)"
   ]
  },
  {
   "cell_type": "code",
   "execution_count": null,
   "id": "1c5e486a-a95f-424d-868c-2d3749d1b3d1",
   "metadata": {},
   "outputs": [],
   "source": [
    "# Write a program that takes a list of words and returns the length of the longest one."
   ]
  },
  {
   "cell_type": "code",
   "execution_count": 16,
   "id": "f887526a-f275-406a-9175-fede830a5bce",
   "metadata": {},
   "outputs": [
    {
     "name": "stdout",
     "output_type": "stream",
     "text": [
      "[(5, 'kumar'), (6, 'arvind'), (11, 'engineering')]\n",
      "engineering\n"
     ]
    }
   ],
   "source": [
    "l = ['arvind','engineering','kumar']\n",
    "words = []\n",
    "for i in l:\n",
    "    words.append((len(i),i))\n",
    "    \n",
    "words.sort()\n",
    "print(words)\n",
    "print(words[-1][1])"
   ]
  },
  {
   "cell_type": "code",
   "execution_count": 17,
   "id": "34636cb2-20c0-4f26-9ef6-a9cc5b2d6e2e",
   "metadata": {},
   "outputs": [
    {
     "name": "stdin",
     "output_type": "stream",
     "text": [
      "Enter the string:  hello python programming\n"
     ]
    },
    {
     "name": "stdout",
     "output_type": "stream",
     "text": [
      "['hello', 'python', 'programming']\n",
      "[(5, 'hello'), (6, 'python'), (11, 'programming')]\n",
      "programming\n"
     ]
    }
   ],
   "source": [
    "s = input('Enter the string: ')\n",
    "l = s.split()\n",
    "print(l)\n",
    "words = []\n",
    "for i in l:\n",
    "    words.append((len(i),i))\n",
    "    \n",
    "words.sort()\n",
    "print(words)\n",
    "print(words[-1][1])"
   ]
  },
  {
   "cell_type": "code",
   "execution_count": 20,
   "id": "b05b0293-3a2d-4057-bb54-0c7ae762908b",
   "metadata": {},
   "outputs": [
    {
     "name": "stdin",
     "output_type": "stream",
     "text": [
      "Enter the string:  Python Hello Programming\n"
     ]
    },
    {
     "name": "stdout",
     "output_type": "stream",
     "text": [
      "['Python', 'Hello', 'Programming']\n",
      "[(5, 'Hello'), (6, 'Python'), (11, 'Programming')]\n",
      "Programming\n"
     ]
    }
   ],
   "source": [
    "s = input('Enter the string: ')\n",
    "l = s.split()\n",
    "print(l)\n",
    "words = []\n",
    "for i in l:\n",
    "    words.append((len(i),i))\n",
    "\n",
    "words.sort()\n",
    "print(words)\n",
    "print(words[-1][1])"
   ]
  },
  {
   "cell_type": "code",
   "execution_count": 21,
   "id": "4be406dc-1899-477d-99f8-a54726ced577",
   "metadata": {},
   "outputs": [
    {
     "name": "stdin",
     "output_type": "stream",
     "text": [
      "Enter the number of words:  2\n",
      "Enter the word:  Hello\n",
      "Enter the word:  Python\n"
     ]
    },
    {
     "name": "stdout",
     "output_type": "stream",
     "text": [
      "The list is:  ['Hello', 'Python']\n",
      "The longest word is:  Python\n"
     ]
    }
   ],
   "source": [
    "L = []\n",
    "n = int(input('Enter the number of words: '))\n",
    "for i in range(n):\n",
    "    w = input('Enter the word: ')\n",
    "    L.append(w)\n",
    "print('The list is: ',L)\n",
    "words = []\n",
    "for i in L:\n",
    "    words.append((len(i),i))\n",
    "words.sort()\n",
    "print('The longest word is: ',words[-1][1])"
   ]
  },
  {
   "cell_type": "markdown",
   "id": "72940311-4914-4611-92de-2edbd4ad1125",
   "metadata": {},
   "source": [
    "# Write a Python program to get a string from a given string where its first character has been changed to a dollar sign. "
   ]
  },
  {
   "cell_type": "code",
   "execution_count": 28,
   "id": "ba62bcf7-4bd6-41d0-9de3-3a4a3e38a38a",
   "metadata": {},
   "outputs": [
    {
     "name": "stdin",
     "output_type": "stream",
     "text": [
      "Enter the string:  hello python\n"
     ]
    },
    {
     "name": "stdout",
     "output_type": "stream",
     "text": [
      "$ello pyt$on\n"
     ]
    }
   ],
   "source": [
    "s  = input('Enter the string: ')\n",
    "char = s[0]\n",
    "s = s.replace(char,'$')\n",
    "print(s)"
   ]
  },
  {
   "cell_type": "code",
   "execution_count": null,
   "id": "e8537e22-0a6b-406e-b919-c2d1262a6855",
   "metadata": {},
   "outputs": [],
   "source": [
    "# Write a Python program to get a string from a given string where all occurrences of its first char have been changed to doller sign except the first char itself."
   ]
  },
  {
   "cell_type": "code",
   "execution_count": 30,
   "id": "3a37eb36-a29c-4456-a5fe-9933a958c62d",
   "metadata": {},
   "outputs": [
    {
     "name": "stdin",
     "output_type": "stream",
     "text": [
      "Enter the string:  Python Programming .Py Extension\n"
     ]
    },
    {
     "name": "stdout",
     "output_type": "stream",
     "text": [
      "Python $rogramming .$y Extension\n"
     ]
    }
   ],
   "source": [
    "s  = input('Enter the string: ')\n",
    "char = s[0]\n",
    "s = s.replace(char,'$')\n",
    "s = char + s[1:]\n",
    "print(s)"
   ]
  },
  {
   "cell_type": "code",
   "execution_count": null,
   "id": "41f058a5-47bf-4237-86e2-cffd2068e2a0",
   "metadata": {},
   "outputs": [],
   "source": [
    "# Write a Python program to get a single string from two given strings, separated by a space and swap the first two characters of each string."
   ]
  },
  {
   "cell_type": "code",
   "execution_count": 32,
   "id": "15647595-f55a-4524-965c-09cf082de0dd",
   "metadata": {},
   "outputs": [
    {
     "name": "stdout",
     "output_type": "stream",
     "text": [
      "xyc\n",
      "xyc abz\n"
     ]
    }
   ],
   "source": [
    "s1 = 'abc'\n",
    "s2 = 'xyz'\n",
    "new_s1 = s2[:2]+s1[2:]\n",
    "print(new_s1)\n",
    "new_s2 = s1[:2]+s2[2:]\n",
    "s = new_s1+' '+new_s2\n",
    "print(s)"
   ]
  },
  {
   "cell_type": "code",
   "execution_count": 35,
   "id": "1a698630-dfa4-4c4c-8ec1-d1d11bf5abca",
   "metadata": {},
   "outputs": [
    {
     "name": "stdin",
     "output_type": "stream",
     "text": [
      "Enter String 1 Hello\n",
      "Enter String 2 Python\n"
     ]
    },
    {
     "name": "stdout",
     "output_type": "stream",
     "text": [
      "Pyllo\n",
      "Hethon\n",
      "Pyllo Hethon\n"
     ]
    }
   ],
   "source": [
    "s1 = input('Enter String 1')\n",
    "s2 = input('Enter String 2')\n",
    "new_s1 = s2[:2]+s1[2:]\n",
    "print(new_s1)\n",
    "new_s2 = s1[:2]+s2[2:]\n",
    "print(new_s2)\n",
    "s = new_s1+' '+new_s2\n",
    "print(s)"
   ]
  },
  {
   "cell_type": "code",
   "execution_count": null,
   "id": "f8b84c4f-423f-4ade-9075-0a7f5a77e023",
   "metadata": {},
   "outputs": [],
   "source": [
    "# Write a program to Remove special symbols/Punctuation from a given string"
   ]
  },
  {
   "cell_type": "code",
   "execution_count": 36,
   "id": "47f35ebe-0068-46c7-8758-941a73546e02",
   "metadata": {},
   "outputs": [
    {
     "name": "stdout",
     "output_type": "stream",
     "text": [
      "/*Jon is @developer & musician{()}\n",
      "Jon is developer  musician\n"
     ]
    }
   ],
   "source": [
    "import string\n",
    "s = \"/*Jon is @developer & musician{()}\"\n",
    "table = s.maketrans('', '', string.punctuation)\n",
    "print(s)\n",
    "s1 = s.translate(table)\n",
    "print(s1)"
   ]
  },
  {
   "cell_type": "code",
   "execution_count": null,
   "id": "89d13523-2064-4662-8413-ba08fc18244c",
   "metadata": {},
   "outputs": [],
   "source": [
    "# Write a program to Remove or replace characters from a given characters in a given string."
   ]
  },
  {
   "cell_type": "code",
   "execution_count": 39,
   "id": "f1726b96-652b-494b-910a-a47ea04833b7",
   "metadata": {},
   "outputs": [
    {
     "name": "stdin",
     "output_type": "stream",
     "text": [
      "Enter the string:  kyggthon\n"
     ]
    },
    {
     "name": "stdout",
     "output_type": "stream",
     "text": [
      "The string before translating is :  kyggthon\n",
      "Python\n"
     ]
    }
   ],
   "source": [
    "s = input('Enter the string: ')\n",
    "str1 = \"k\"\n",
    "str2 = \"P\"\n",
    "str3 = \"g\"\n",
    "table = s.maketrans(str1, str2, str3) \n",
    "print (\"The string before translating is : \",s)\n",
    "s1 = s.translate(table)\n",
    "print(s1)"
   ]
  },
  {
   "cell_type": "code",
   "execution_count": null,
   "id": "5699ce9d-a1b5-4787-8c5b-0aedb6aeb5ec",
   "metadata": {},
   "outputs": [],
   "source": [
    "# Write a program to Remove digits from a given string."
   ]
  },
  {
   "cell_type": "code",
   "execution_count": 44,
   "id": "259f4f31-280b-4d62-85ab-ff01718ee149",
   "metadata": {},
   "outputs": [
    {
     "name": "stdin",
     "output_type": "stream",
     "text": [
      "Enter the string:  hello 87765 Python\n"
     ]
    },
    {
     "name": "stdout",
     "output_type": "stream",
     "text": [
      "The string before translating is :  hello 87765 Python\n",
      "hello  Python\n"
     ]
    }
   ],
   "source": [
    "s1 = input('Enter the string: ')\n",
    "s2 = \"0123456789\"\n",
    "table = s1.maketrans('','', s2) \n",
    "print (\"The string before translating is : \",s1)\n",
    "s = s1.translate(table)\n",
    "print(s)"
   ]
  },
  {
   "cell_type": "code",
   "execution_count": null,
   "id": "fb78add9-db7b-4004-9e78-fb134a92d24b",
   "metadata": {},
   "outputs": [],
   "source": [
    "# Write a program to remove all the characters other than integers from string"
   ]
  },
  {
   "cell_type": "code",
   "execution_count": 46,
   "id": "dfa3c210-267a-419d-a5c1-fcffb490c68c",
   "metadata": {},
   "outputs": [
    {
     "name": "stdin",
     "output_type": "stream",
     "text": [
      "Enter the string:  Hello 123455\n"
     ]
    },
    {
     "name": "stdout",
     "output_type": "stream",
     "text": [
      "The string before translating is :  Hello 123455\n",
      " 123455\n"
     ]
    }
   ],
   "source": [
    "s1 = input('Enter the string: ')\n",
    "s2 = \"abcdefghijklmnopqrstuvwxyzABCDEFGHIJKLMNOPQRSTUVWXYZ\"\n",
    "table = trg.maketrans('','', s2) \n",
    "print (\"The string before translating is : \",s1)\n",
    "s = s1.translate(table)\n",
    "print(s)"
   ]
  },
  {
   "cell_type": "code",
   "execution_count": null,
   "id": "50770f7c-7030-40ff-a3e6-79db85764430",
   "metadata": {},
   "outputs": [],
   "source": []
  },
  {
   "cell_type": "code",
   "execution_count": null,
   "id": "0f5a2813-ec6c-49f9-8700-32aee01c91f7",
   "metadata": {},
   "outputs": [],
   "source": []
  },
  {
   "cell_type": "code",
   "execution_count": null,
   "id": "9d6950a7-640b-47c3-bf16-99dd40535a8b",
   "metadata": {},
   "outputs": [],
   "source": []
  }
 ],
 "metadata": {
  "kernelspec": {
   "display_name": "Python 3 (ipykernel)",
   "language": "python",
   "name": "python3"
  },
  "language_info": {
   "codemirror_mode": {
    "name": "ipython",
    "version": 3
   },
   "file_extension": ".py",
   "mimetype": "text/x-python",
   "name": "python",
   "nbconvert_exporter": "python",
   "pygments_lexer": "ipython3",
   "version": "3.13.7"
  }
 },
 "nbformat": 4,
 "nbformat_minor": 5
}
