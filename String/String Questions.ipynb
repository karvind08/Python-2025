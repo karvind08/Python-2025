{
 "cells": [
  {
   "cell_type": "code",
   "execution_count": null,
   "id": "182435cf-fd2f-4e42-b23a-14d651058e95",
   "metadata": {},
   "outputs": [],
   "source": [
    "# Write a program that takes input from the user and displays that input back in upper and lower cases."
   ]
  },
  {
   "cell_type": "code",
   "execution_count": 2,
   "id": "fc9c551c-e41e-46a1-bef0-06af1502c15d",
   "metadata": {},
   "outputs": [
    {
     "name": "stdin",
     "output_type": "stream",
     "text": [
      "Enter the string: HelLo\n"
     ]
    },
    {
     "name": "stdout",
     "output_type": "stream",
     "text": [
      "The string in uppercase:  HELLO\n",
      "The string in lowercase:  hello\n"
     ]
    }
   ],
   "source": [
    "s = input('Enter the string:')\n",
    "print('The string in uppercase: ',s.upper())\n",
    "print('The string in lowercase: ',s.lower())"
   ]
  },
  {
   "cell_type": "code",
   "execution_count": null,
   "id": "0f38d1bb-8401-41e3-a6ec-6428b43b928a",
   "metadata": {},
   "outputs": [],
   "source": [
    "# Write a program to check if the sub string is present in the string or not."
   ]
  },
  {
   "cell_type": "code",
   "execution_count": 3,
   "id": "46cb4eea-9f0c-42a7-9100-5a0eb6091e8f",
   "metadata": {},
   "outputs": [
    {
     "name": "stdin",
     "output_type": "stream",
     "text": [
      "Enter the string:  Hello Python\n"
     ]
    },
    {
     "name": "stdout",
     "output_type": "stream",
     "text": [
      "The string is:  Hello Python\n"
     ]
    },
    {
     "name": "stdin",
     "output_type": "stream",
     "text": [
      "Enter the sub string:  Py\n"
     ]
    },
    {
     "name": "stdout",
     "output_type": "stream",
     "text": [
      "Py exists in  Hello Python\n"
     ]
    }
   ],
   "source": [
    "s = input('Enter the string: ')\n",
    "print('The string is: ',s)\n",
    "sub = input('Enter the sub string: ')\n",
    "if sub in s:\n",
    "    print(sub,'exists in ',s)\n",
    "else:\n",
    "    print(sub,'does not exists in ',s)"
   ]
  },
  {
   "cell_type": "code",
   "execution_count": null,
   "id": "08e137f0-d205-4af7-ada3-dcd2d4cf67f4",
   "metadata": {},
   "outputs": [],
   "source": [
    "# Write a program to find the length of the string without using len function."
   ]
  },
  {
   "cell_type": "code",
   "execution_count": 4,
   "id": "7f65731a-1298-4c23-8b39-afd62713ed14",
   "metadata": {},
   "outputs": [
    {
     "name": "stdin",
     "output_type": "stream",
     "text": [
      "Enter the string:  Hello Python\n"
     ]
    },
    {
     "name": "stdout",
     "output_type": "stream",
     "text": [
      "The length of string Hello Python is 12\n"
     ]
    }
   ],
   "source": [
    "s = input('Enter the string: ')\n",
    "l = 0\n",
    "for i in s:\n",
    "    l = l+1\n",
    "print(f'The length of string {s} is',l)"
   ]
  },
  {
   "cell_type": "code",
   "execution_count": null,
   "id": "8625f1ba-7fdb-4395-adec-6dcbb63293db",
   "metadata": {},
   "outputs": [],
   "source": [
    "# Write a program to count vowels & consonants in a given string."
   ]
  },
  {
   "cell_type": "code",
   "execution_count": 5,
   "id": "93c1676c-12ab-4c6b-bdb1-51f1b590c1a3",
   "metadata": {},
   "outputs": [
    {
     "name": "stdin",
     "output_type": "stream",
     "text": [
      "Enter the string:  HellO Python Programming\n"
     ]
    },
    {
     "name": "stdout",
     "output_type": "stream",
     "text": [
      "The numbers of vowels are 6\n",
      "The numbers of consonants are 18\n"
     ]
    }
   ],
   "source": [
    "s = input('Enter the string: ')\n",
    "c = 0\n",
    "v = 0\n",
    "for i in s:\n",
    "    if i in 'aeiouAEIOU':\n",
    "        v = v+1\n",
    "    else:\n",
    "        c = c+1\n",
    "print('The numbers of vowels are',v)\n",
    "print('The numbers of consonants are',c)"
   ]
  },
  {
   "cell_type": "code",
   "execution_count": null,
   "id": "58e7c20e-0426-453a-9a99-d92be7286666",
   "metadata": {},
   "outputs": [],
   "source": [
    "# Write a program to make first and last character of each word in uppercase in the string."
   ]
  },
  {
   "cell_type": "code",
   "execution_count": 9,
   "id": "1ac02410-6992-4e39-b008-dcba4ede30e2",
   "metadata": {},
   "outputs": [
    {
     "name": "stdin",
     "output_type": "stream",
     "text": [
      "Enter the string:  hello python\n"
     ]
    },
    {
     "name": "stdout",
     "output_type": "stream",
     "text": [
      "Hello Python\n",
      "['Hello', 'Python']\n",
      "HellO PythoN \n"
     ]
    }
   ],
   "source": [
    "s = input('Enter the string: ')\n",
    "s = s.title()\n",
    "print(s)\n",
    "words = s.split()\n",
    "print(words)\n",
    "r = ''\n",
    "for i in words:\n",
    "    r = r+i[:-1]+i[-1].upper()+' ' \n",
    "print(r)"
   ]
  },
  {
   "cell_type": "code",
   "execution_count": 10,
   "id": "1d45acb9-c6df-443f-8beb-10d9bdae27cb",
   "metadata": {},
   "outputs": [
    {
     "name": "stdin",
     "output_type": "stream",
     "text": [
      "Enter the string:  Hello python\n"
     ]
    },
    {
     "name": "stdout",
     "output_type": "stream",
     "text": [
      "HellO PythoN \n"
     ]
    }
   ],
   "source": [
    "s = input('Enter the string: ')\n",
    "s = s.title()\n",
    "words = s.split()\n",
    "r = ''\n",
    "for i in words:\n",
    "    r = r+i[:-1]+i[-1].upper()+' ' \n",
    "print(r)"
   ]
  },
  {
   "cell_type": "code",
   "execution_count": null,
   "id": "4f498743-60ba-45d7-918b-8ae089e7458d",
   "metadata": {},
   "outputs": [],
   "source": []
  },
  {
   "cell_type": "code",
   "execution_count": null,
   "id": "4c6a90df-27ea-4f19-bf2a-63041d4ac99a",
   "metadata": {},
   "outputs": [],
   "source": []
  },
  {
   "cell_type": "code",
   "execution_count": null,
   "id": "d321353f-d1a0-467f-b3a4-4bc84a08ab47",
   "metadata": {},
   "outputs": [],
   "source": []
  }
 ],
 "metadata": {
  "kernelspec": {
   "display_name": "Python 3 (ipykernel)",
   "language": "python",
   "name": "python3"
  },
  "language_info": {
   "codemirror_mode": {
    "name": "ipython",
    "version": 3
   },
   "file_extension": ".py",
   "mimetype": "text/x-python",
   "name": "python",
   "nbconvert_exporter": "python",
   "pygments_lexer": "ipython3",
   "version": "3.13.7"
  }
 },
 "nbformat": 4,
 "nbformat_minor": 5
}
