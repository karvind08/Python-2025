{
 "cells": [
  {
   "cell_type": "code",
   "execution_count": 1,
   "id": "b7353d89-f10a-4f77-8ca9-17f4c32c906f",
   "metadata": {},
   "outputs": [
    {
     "name": "stdout",
     "output_type": "stream",
     "text": [
      "He said, \"What's up there\"\n"
     ]
    }
   ],
   "source": [
    "print('''He said, \"What's up there\"''')"
   ]
  },
  {
   "cell_type": "code",
   "execution_count": 4,
   "id": "6ec18c82-aee1-4cd0-a172-961cb2710759",
   "metadata": {},
   "outputs": [
    {
     "name": "stdout",
     "output_type": "stream",
     "text": [
      "He Said, \"What 's up there\"\n"
     ]
    }
   ],
   "source": [
    "print('He Said, \"What \\'s up there\"')"
   ]
  },
  {
   "cell_type": "code",
   "execution_count": 5,
   "id": "073d827d-3b9e-4297-92d8-96dbc6d489ce",
   "metadata": {},
   "outputs": [
    {
     "name": "stdout",
     "output_type": "stream",
     "text": [
      " He Said, \"What's up there\" \n"
     ]
    }
   ],
   "source": [
    "print(\" He Said, \\\"What's up there\\\" \")"
   ]
  },
  {
   "cell_type": "code",
   "execution_count": 6,
   "id": "b8ceaace-7b6b-4730-b52d-902b84df4dfe",
   "metadata": {},
   "outputs": [
    {
     "name": "stdout",
     "output_type": "stream",
     "text": [
      "C:\\Python32\\Lib\n"
     ]
    },
    {
     "name": "stderr",
     "output_type": "stream",
     "text": [
      "<>:1: SyntaxWarning: invalid escape sequence '\\P'\n",
      "<>:1: SyntaxWarning: invalid escape sequence '\\P'\n",
      "C:\\Users\\Arvind\\AppData\\Local\\Temp\\ipykernel_3988\\4143406306.py:1: SyntaxWarning: invalid escape sequence '\\P'\n",
      "  print('C:\\Python32\\Lib')\n"
     ]
    }
   ],
   "source": [
    "print('C:\\Python32\\Lib')"
   ]
  },
  {
   "cell_type": "code",
   "execution_count": 7,
   "id": "fda76d4d-43c0-4c62-a830-c64402126c93",
   "metadata": {},
   "outputs": [
    {
     "name": "stdout",
     "output_type": "stream",
     "text": [
      "C:\\Python32\\Lib\n"
     ]
    },
    {
     "name": "stderr",
     "output_type": "stream",
     "text": [
      "<>:1: SyntaxWarning: invalid escape sequence '\\P'\n",
      "<>:1: SyntaxWarning: invalid escape sequence '\\P'\n",
      "C:\\Users\\Arvind\\AppData\\Local\\Temp\\ipykernel_3988\\4078187801.py:1: SyntaxWarning: invalid escape sequence '\\P'\n",
      "  print(\"C:\\Python32\\Lib\")\n"
     ]
    }
   ],
   "source": [
    "print(\"C:\\Python32\\Lib\")"
   ]
  },
  {
   "cell_type": "code",
   "execution_count": 8,
   "id": "a935dd8b-dc25-4f68-aafb-a14ff6b5e580",
   "metadata": {},
   "outputs": [
    {
     "name": "stdout",
     "output_type": "stream",
     "text": [
      "C:\\Python32\\Lib\n"
     ]
    },
    {
     "name": "stderr",
     "output_type": "stream",
     "text": [
      "<>:1: SyntaxWarning: invalid escape sequence '\\P'\n",
      "<>:1: SyntaxWarning: invalid escape sequence '\\P'\n",
      "C:\\Users\\Arvind\\AppData\\Local\\Temp\\ipykernel_3988\\4079052088.py:1: SyntaxWarning: invalid escape sequence '\\P'\n",
      "  print('''C:\\Python32\\Lib''')\n"
     ]
    }
   ],
   "source": [
    "print('''C:\\Python32\\Lib''')"
   ]
  },
  {
   "cell_type": "code",
   "execution_count": 9,
   "id": "d45722a6-b156-4a81-b28d-ae7f9928a2ee",
   "metadata": {},
   "outputs": [
    {
     "name": "stdout",
     "output_type": "stream",
     "text": [
      "C:\\Python32\\Lib\n"
     ]
    }
   ],
   "source": [
    "print('''C:\\\\Python32\\\\Lib''')"
   ]
  },
  {
   "cell_type": "code",
   "execution_count": 10,
   "id": "685eb90b-bb00-4ef6-8d42-91a6a472d6a0",
   "metadata": {},
   "outputs": [
    {
     "name": "stdout",
     "output_type": "stream",
     "text": [
      "This is printed\n",
      "in two lines\n"
     ]
    }
   ],
   "source": [
    "print(\"This is printed\\nin two lines\")"
   ]
  },
  {
   "cell_type": "code",
   "execution_count": 11,
   "id": "873460a7-1d66-4206-9919-8ba78206c9e2",
   "metadata": {},
   "outputs": [
    {
     "name": "stdout",
     "output_type": "stream",
     "text": [
      "This is printed\n",
      "in two lines\n"
     ]
    }
   ],
   "source": [
    "print('This is printed\\nin two lines')"
   ]
  },
  {
   "cell_type": "code",
   "execution_count": 13,
   "id": "8a442062-b3d5-4967-b751-e56c9ca33646",
   "metadata": {},
   "outputs": [
    {
     "name": "stdout",
     "output_type": "stream",
     "text": [
      "This is printed\n",
      "in two lines\n"
     ]
    }
   ],
   "source": [
    "print('''This is printed\\nin two lines''')"
   ]
  },
  {
   "cell_type": "code",
   "execution_count": 14,
   "id": "54a14d9e-1595-4d92-88ff-84a68af70e71",
   "metadata": {},
   "outputs": [
    {
     "name": "stdout",
     "output_type": "stream",
     "text": [
      "This is HEX representation\n"
     ]
    }
   ],
   "source": [
    "print(\"This is \\x48\\x45\\x58 representation\")"
   ]
  },
  {
   "cell_type": "code",
   "execution_count": 20,
   "id": "4f851061-3640-4924-808f-db8df2456945",
   "metadata": {},
   "outputs": [
    {
     "name": "stdout",
     "output_type": "stream",
     "text": [
      "This is A\n"
     ]
    }
   ],
   "source": [
    "print(\"This is \\x41\")"
   ]
  },
  {
   "cell_type": "code",
   "execution_count": 22,
   "id": "c8788110-9b13-4b5e-82de-14420a88300e",
   "metadata": {},
   "outputs": [
    {
     "name": "stdout",
     "output_type": "stream",
     "text": [
      "This is BAT\n"
     ]
    }
   ],
   "source": [
    "print(\"This is \\x42\\x41\\x54\")"
   ]
  },
  {
   "cell_type": "code",
   "execution_count": null,
   "id": "66a8144c-fd37-40fd-82a1-a04c7d47cdb8",
   "metadata": {},
   "outputs": [],
   "source": [
    "# Default order"
   ]
  },
  {
   "cell_type": "code",
   "execution_count": 24,
   "id": "803d0f42-d99a-41bc-9b24-e26efca04caf",
   "metadata": {},
   "outputs": [
    {
     "name": "stdout",
     "output_type": "stream",
     "text": [
      "Arvind Knows C,C++ and Python\n"
     ]
    }
   ],
   "source": [
    "statement = \"Arvind Knows {},{} and {}\".format('C','C++','Python','')\n",
    "print(statement)"
   ]
  },
  {
   "cell_type": "code",
   "execution_count": 25,
   "id": "dde874f0-0f1b-4121-99b3-1d0a4292a60b",
   "metadata": {},
   "outputs": [
    {
     "name": "stdout",
     "output_type": "stream",
     "text": [
      "Arvind Knows Python,C++ and C\n"
     ]
    }
   ],
   "source": [
    "statement = \"Arvind Knows {2},{1} and {0}\".format('C','C++','Python','')\n",
    "print(statement)"
   ]
  },
  {
   "cell_type": "code",
   "execution_count": 29,
   "id": "9f329b12-1713-44f9-a325-24486e0b2f27",
   "metadata": {},
   "outputs": [
    {
     "name": "stdout",
     "output_type": "stream",
     "text": [
      "Arvind Knows C,C++ and Python\n"
     ]
    }
   ],
   "source": [
    "statement = \"Arvind Knows {lang1},{lang2} and {lang3}\".format(lang1 ='C',lang2 = 'C++',lang3 = 'Python')\n",
    "print(statement)"
   ]
  },
  {
   "cell_type": "code",
   "execution_count": 30,
   "id": "9f0648cb-3615-4bd3-950c-ca6855c653ec",
   "metadata": {},
   "outputs": [
    {
     "name": "stdout",
     "output_type": "stream",
     "text": [
      "Arvind Knows C,C++ and Python\n"
     ]
    }
   ],
   "source": [
    "print(\"Arvind Knows {lang1},{lang2} and {lang3}\".format(lang1 ='C',lang2 = 'C++',lang3 = 'Python'))"
   ]
  },
  {
   "cell_type": "code",
   "execution_count": 31,
   "id": "c67304d7-0a79-4f71-bf32-859ff201c44a",
   "metadata": {},
   "outputs": [
    {
     "name": "stdout",
     "output_type": "stream",
     "text": [
      "Arvind Knows C,C++ and Python\n"
     ]
    }
   ],
   "source": [
    "str1 = \"Arvind Knows {lang1},{lang2} and {lang3}\".format(lang1 ='C',lang2 = 'C++',lang3 = 'Python')\n",
    "print(str1)"
   ]
  },
  {
   "cell_type": "code",
   "execution_count": 56,
   "id": "1b4c41a3-f5bf-4ba1-8307-b344613b108d",
   "metadata": {},
   "outputs": [
    {
     "name": "stdout",
     "output_type": "stream",
     "text": [
      "Arvind    \n",
      "Arvind    \n"
     ]
    }
   ],
   "source": [
    "name = \"Arvind\"\n",
    "print(f\"{name:<10}\") # Using f-string\n",
    "print(\"{:<10}\".format(name)) # Using format() method"
   ]
  },
  {
   "cell_type": "code",
   "execution_count": 62,
   "id": "a468ffee-f007-44a5-80f9-146f2bb09672",
   "metadata": {},
   "outputs": [
    {
     "name": "stdout",
     "output_type": "stream",
     "text": [
      "Arvind    \n"
     ]
    }
   ],
   "source": [
    "name = \"Arvind\"\n",
    "print(\"{:<10}\".format(name)) "
   ]
  },
  {
   "cell_type": "code",
   "execution_count": 71,
   "id": "cd256486-2b85-4266-a27b-eef49b17fa91",
   "metadata": {},
   "outputs": [
    {
     "name": "stdout",
     "output_type": "stream",
     "text": [
      "|Arvind    |\n"
     ]
    }
   ],
   "source": [
    "name = \"Arvind\"\n",
    "print(\"|{:<10}|\".format(name)) "
   ]
  },
  {
   "cell_type": "code",
   "execution_count": 72,
   "id": "01d2b29f-f792-41de-9f70-b8ed433a548c",
   "metadata": {},
   "outputs": [
    {
     "name": "stdout",
     "output_type": "stream",
     "text": [
      "|Arvind----|\n"
     ]
    }
   ],
   "source": [
    "name = \"Arvind\"\n",
    "print(\"|{:-<10}|\".format(name)) "
   ]
  },
  {
   "cell_type": "code",
   "execution_count": 75,
   "id": "42df4255-6c6b-454f-95ed-03223fad92cd",
   "metadata": {},
   "outputs": [
    {
     "name": "stdout",
     "output_type": "stream",
     "text": [
      "|    Arvind|\n"
     ]
    }
   ],
   "source": [
    "name = \"Arvind\"\n",
    "print(\"|{:>10}|\".format(name)) "
   ]
  },
  {
   "cell_type": "code",
   "execution_count": 74,
   "id": "6da0c377-2e9e-4fe5-921f-06dc9d092025",
   "metadata": {},
   "outputs": [
    {
     "name": "stdout",
     "output_type": "stream",
     "text": [
      "|----Arvind|\n"
     ]
    }
   ],
   "source": [
    "name = \"Arvind\"\n",
    "print(\"|{:->10}|\".format(name)) "
   ]
  },
  {
   "cell_type": "code",
   "execution_count": null,
   "id": "c1997d10-1b53-4a05-b70f-f6406aba37a2",
   "metadata": {},
   "outputs": [],
   "source": [
    "# Center Alignment"
   ]
  },
  {
   "cell_type": "code",
   "execution_count": 70,
   "id": "46e7e55c-68b9-48af-a128-a9e1850a768f",
   "metadata": {},
   "outputs": [
    {
     "name": "stdout",
     "output_type": "stream",
     "text": [
      "|  Arvind  |\n"
     ]
    }
   ],
   "source": [
    "name = \"Arvind\"\n",
    "print(\"|{:^10}|\".format(name))"
   ]
  },
  {
   "cell_type": "code",
   "execution_count": 76,
   "id": "17147ea2-4ca8-41d0-888c-5af348c72bf0",
   "metadata": {},
   "outputs": [
    {
     "name": "stdout",
     "output_type": "stream",
     "text": [
      "|--Arvind--|\n"
     ]
    }
   ],
   "source": [
    "name = \"Arvind\"\n",
    "print(\"|{:-^10}|\".format(name))"
   ]
  },
  {
   "cell_type": "code",
   "execution_count": 77,
   "id": "962bf529-f3d7-4b14-a734-a661f9f01371",
   "metadata": {},
   "outputs": [
    {
     "name": "stdout",
     "output_type": "stream",
     "text": [
      "----------------------------------------------------------------------------------------------Arvind\n"
     ]
    }
   ],
   "source": [
    "name = \"Arvind\"\n",
    "print(\"{:->100}\".format(name))"
   ]
  },
  {
   "cell_type": "code",
   "execution_count": 50,
   "id": "1c97f496-671b-4bb8-a76e-0709ebdec6f6",
   "metadata": {},
   "outputs": [
    {
     "data": {
      "text/plain": [
       "'|C         |   C++    |    Python|'"
      ]
     },
     "execution_count": 50,
     "metadata": {},
     "output_type": "execute_result"
    }
   ],
   "source": [
    "\"|{:<10}|{:^10}|{:>10}|\".format('C','C++','Python')"
   ]
  },
  {
   "cell_type": "code",
   "execution_count": 51,
   "id": "e39159ac-22ac-4614-891a-4f8b5da947e6",
   "metadata": {},
   "outputs": [
    {
     "name": "stdout",
     "output_type": "stream",
     "text": [
      "***Banana***\n",
      "***Banana***\n"
     ]
    }
   ],
   "source": [
    "item = \"Banana\"\n",
    "print(f\"{item:*^12}\") # Using f-string with '*' as fill character\n",
    "print(\"{:*^12}\".format(item)) # Using format() with '*' as fill character"
   ]
  },
  {
   "cell_type": "code",
   "execution_count": 53,
   "id": "b5504ade-2be2-46c3-8f69-1dc09db0cf68",
   "metadata": {},
   "outputs": [
    {
     "name": "stdout",
     "output_type": "stream",
     "text": [
      "    123\n"
     ]
    }
   ],
   "source": [
    "score = 123\n",
    "print(\"{:>7}\".format(score))"
   ]
  },
  {
   "cell_type": "code",
   "execution_count": 54,
   "id": "52544192-b1c3-4b55-8b18-7232379dfe40",
   "metadata": {},
   "outputs": [
    {
     "name": "stdout",
     "output_type": "stream",
     "text": [
      "    Report     \n",
      "    Report     \n"
     ]
    }
   ],
   "source": [
    "title = \"Report\"\n",
    "print(f\"{title:^15}\")\n",
    "print(\"{:^15}\".format(title))"
   ]
  },
  {
   "cell_type": "code",
   "execution_count": 55,
   "id": "91a676db-8146-4f6a-a0e5-b283dd7e40ee",
   "metadata": {},
   "outputs": [
    {
     "name": "stdout",
     "output_type": "stream",
     "text": [
      "&&&Banana&&&\n"
     ]
    }
   ],
   "source": [
    "item = \"Banana\"\n",
    "print(\"{:&^12}\".format(item)) # Using format() with '*' as fill character"
   ]
  },
  {
   "cell_type": "code",
   "execution_count": null,
   "id": "1c5e6fa7-2061-4f3b-80b8-3d8cd764faf4",
   "metadata": {},
   "outputs": [],
   "source": [
    "# Binary Representation using format fucntion"
   ]
  },
  {
   "cell_type": "code",
   "execution_count": 80,
   "id": "3564753a-93f6-4de7-aa93-48dc3767f0d5",
   "metadata": {},
   "outputs": [
    {
     "data": {
      "text/plain": [
       "'The binary representation of is 101'"
      ]
     },
     "execution_count": 80,
     "metadata": {},
     "output_type": "execute_result"
    }
   ],
   "source": [
    "'The binary representation of is {0:b}'.format(5)"
   ]
  },
  {
   "cell_type": "code",
   "execution_count": 81,
   "id": "945356d3-867a-465c-a4f6-05b837e53bd5",
   "metadata": {},
   "outputs": [
    {
     "name": "stdout",
     "output_type": "stream",
     "text": [
      "101\n"
     ]
    }
   ],
   "source": [
    "number = 5\n",
    "bi = format(number, 'b')\n",
    "print(bi)"
   ]
  },
  {
   "cell_type": "code",
   "execution_count": 82,
   "id": "351b9a3e-282e-4b5f-ba30-28099a09c63f",
   "metadata": {},
   "outputs": [
    {
     "name": "stdout",
     "output_type": "stream",
     "text": [
      "101\n"
     ]
    }
   ],
   "source": [
    "bi = format(5, 'b')\n",
    "print(bi)"
   ]
  },
  {
   "cell_type": "code",
   "execution_count": 86,
   "id": "e2a4437a-bf2f-4de6-889c-24a45ec97e48",
   "metadata": {},
   "outputs": [
    {
     "data": {
      "text/plain": [
       "'The binary representation of 5 is 101'"
      ]
     },
     "execution_count": 86,
     "metadata": {},
     "output_type": "execute_result"
    }
   ],
   "source": [
    "'The binary representation of {0} is {0:b}'.format(5)"
   ]
  },
  {
   "cell_type": "code",
   "execution_count": 91,
   "id": "e90478de-f702-48b6-800a-47769a2f1688",
   "metadata": {},
   "outputs": [
    {
     "ename": "KeyError",
     "evalue": "'b'",
     "output_type": "error",
     "traceback": [
      "\u001b[31m---------------------------------------------------------------------------\u001b[39m",
      "\u001b[31mKeyError\u001b[39m                                  Traceback (most recent call last)",
      "\u001b[36mCell\u001b[39m\u001b[36m \u001b[39m\u001b[32mIn[91]\u001b[39m\u001b[32m, line 1\u001b[39m\n\u001b[32m----> \u001b[39m\u001b[32m1\u001b[39m \u001b[33;43m'\u001b[39;49m\u001b[33;43mThe binary representation of \u001b[39;49m\u001b[38;5;132;43;01m{0}\u001b[39;49;00m\u001b[33;43m is \u001b[39;49m\u001b[38;5;132;43;01m{b}\u001b[39;49;00m\u001b[33;43m'\u001b[39;49m\u001b[43m.\u001b[49m\u001b[43mformat\u001b[49m\u001b[43m(\u001b[49m\u001b[32;43m5\u001b[39;49m\u001b[43m)\u001b[49m\n",
      "\u001b[31mKeyError\u001b[39m: 'b'"
     ]
    }
   ],
   "source": [
    "'The binary representation of {0} is {b}'.format(5)"
   ]
  },
  {
   "cell_type": "code",
   "execution_count": 87,
   "id": "3ecf0c2f-690f-4a50-8e50-7384a4421880",
   "metadata": {},
   "outputs": [
    {
     "name": "stdout",
     "output_type": "stream",
     "text": [
      "1110011\n"
     ]
    }
   ],
   "source": [
    "bi = format(115, 'b')\n",
    "print(bi)"
   ]
  },
  {
   "cell_type": "code",
   "execution_count": null,
   "id": "13551abc-a700-432d-b732-ba0d6dbfcb8b",
   "metadata": {},
   "outputs": [],
   "source": [
    "# Limiting Decimal Places:"
   ]
  },
  {
   "cell_type": "code",
   "execution_count": 95,
   "id": "398c9fac-7ed9-4126-8e8e-9ca955bbba9f",
   "metadata": {},
   "outputs": [
    {
     "name": "stdout",
     "output_type": "stream",
     "text": [
      "3.14159265\n"
     ]
    }
   ],
   "source": [
    "value = 3.14159265\n",
    "v = \"{}\".format(value) \n",
    "print(v)"
   ]
  },
  {
   "cell_type": "code",
   "execution_count": 96,
   "id": "2695cd43-538c-46a5-b201-19b075ca0345",
   "metadata": {},
   "outputs": [
    {
     "name": "stdout",
     "output_type": "stream",
     "text": [
      "3.14\n"
     ]
    }
   ],
   "source": [
    "value = 3.14159265\n",
    "v = \"{:.2f}\".format(value) \n",
    "print(v)"
   ]
  },
  {
   "cell_type": "code",
   "execution_count": null,
   "id": "cecc94e8-d2bc-4da0-8018-47e9cad86247",
   "metadata": {},
   "outputs": [],
   "source": [
    "# Specifying Width and Alignment"
   ]
  },
  {
   "cell_type": "code",
   "execution_count": 102,
   "id": "3e39f0a8-5639-4d18-b28d-687c13538ca2",
   "metadata": {},
   "outputs": [
    {
     "name": "stdout",
     "output_type": "stream",
     "text": [
      "****123.45\n",
      "123.45****\n"
     ]
    }
   ],
   "source": [
    "value = 123.45\n",
    "formatted_value_right = \"{:10.2f}\".format(value) # Right-aligned within 10 spaces\n",
    "formatted_value_right = \"{:*>10.2f}\".format(value) # Right-aligned within 10 spaces\n",
    "formatted_value_left = \"{:*<10.2f}\".format(value) # Left-aligned within 10 spaces\n",
    "print(formatted_value_right)\n",
    "print(formatted_value_left)"
   ]
  },
  {
   "cell_type": "code",
   "execution_count": 103,
   "id": "c33f4d2f-ba48-41bb-9d19-27e26b3c4ce5",
   "metadata": {},
   "outputs": [
    {
     "name": "stdout",
     "output_type": "stream",
     "text": [
      "    123.45\n",
      "123.45    \n"
     ]
    }
   ],
   "source": [
    "value = 123.45\n",
    "formatted_value_right = \"{:10.2f}\".format(value) # Right-aligned within 10 spaces\n",
    "formatted_value_left = \"{:<10.2f}\".format(value) # Left-aligned within 10 spaces\n",
    "print(formatted_value_right)\n",
    "print(formatted_value_left)\n",
    "# Output:\n",
    "#     123.45\n",
    "# 123.45"
   ]
  }
 ],
 "metadata": {
  "kernelspec": {
   "display_name": "Python 3 (ipykernel)",
   "language": "python",
   "name": "python3"
  },
  "language_info": {
   "codemirror_mode": {
    "name": "ipython",
    "version": 3
   },
   "file_extension": ".py",
   "mimetype": "text/x-python",
   "name": "python",
   "nbconvert_exporter": "python",
   "pygments_lexer": "ipython3",
   "version": "3.13.7"
  }
 },
 "nbformat": 4,
 "nbformat_minor": 5
}
