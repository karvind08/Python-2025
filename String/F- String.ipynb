{
 "cells": [
  {
   "cell_type": "code",
   "execution_count": 2,
   "id": "6fb4cd6e-33c1-4be7-89a3-4f3a55cb1936",
   "metadata": {},
   "outputs": [
    {
     "name": "stdout",
     "output_type": "stream",
     "text": [
      "Hello, Arvind! You are 45 years old.\n"
     ]
    }
   ],
   "source": [
    "name = 'Arvind'\n",
    "age = 45\n",
    "str1 = f\"Hello, {name}! You are {age} years old.\"\n",
    "print(str1)"
   ]
  }
 ],
 "metadata": {
  "kernelspec": {
   "display_name": "Python 3 (ipykernel)",
   "language": "python",
   "name": "python3"
  },
  "language_info": {
   "codemirror_mode": {
    "name": "ipython",
    "version": 3
   },
   "file_extension": ".py",
   "mimetype": "text/x-python",
   "name": "python",
   "nbconvert_exporter": "python",
   "pygments_lexer": "ipython3",
   "version": "3.13.7"
  }
 },
 "nbformat": 4,
 "nbformat_minor": 5
}
