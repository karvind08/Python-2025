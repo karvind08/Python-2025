{
 "cells": [
  {
   "cell_type": "code",
   "execution_count": 18,
   "id": "a4b440f9-a9a6-4a0c-a06a-44051bd3aea1",
   "metadata": {},
   "outputs": [
    {
     "name": "stdout",
     "output_type": "stream",
     "text": [
      "The number is 10\n"
     ]
    }
   ],
   "source": [
    "n = 10\n",
    "print(\"The number is %d\"%(n))"
   ]
  },
  {
   "cell_type": "code",
   "execution_count": 19,
   "id": "22f2ddac-bf5c-4a34-860b-2e552714ba9e",
   "metadata": {},
   "outputs": [
    {
     "name": "stdout",
     "output_type": "stream",
     "text": [
      "The number is 10.500000\n"
     ]
    }
   ],
   "source": [
    "n = 10.5\n",
    "print(\"The number is %f\"%(n))"
   ]
  },
  {
   "cell_type": "code",
   "execution_count": null,
   "id": "5dd2b8c9-a595-4580-ae11-73be90d772fe",
   "metadata": {},
   "outputs": [],
   "source": []
  },
  {
   "cell_type": "code",
   "execution_count": 2,
   "id": "6fb4cd6e-33c1-4be7-89a3-4f3a55cb1936",
   "metadata": {},
   "outputs": [
    {
     "name": "stdout",
     "output_type": "stream",
     "text": [
      "Hello, Arvind! You are 45 years old.\n"
     ]
    }
   ],
   "source": [
    "name = 'Arvind'\n",
    "age = 45\n",
    "str1 = f\"Hello, {name}! You are {age} years old.\"\n",
    "print(str1)"
   ]
  },
  {
   "cell_type": "code",
   "execution_count": 3,
   "id": "bc6a276f-2356-4afe-9b06-fe82aba627a2",
   "metadata": {},
   "outputs": [
    {
     "name": "stdout",
     "output_type": "stream",
     "text": [
      "Hello, Arvind! You are 45 years old.\n"
     ]
    }
   ],
   "source": [
    "name = 'Arvind'\n",
    "age = 45\n",
    "str1 = f'Hello, {name}! You are {age} years old.'\n",
    "print(str1)"
   ]
  },
  {
   "cell_type": "code",
   "execution_count": 4,
   "id": "69c4128c-a52b-4727-969e-beb337433209",
   "metadata": {},
   "outputs": [
    {
     "name": "stdout",
     "output_type": "stream",
     "text": [
      "Hello, Arvind! You are 45 years old.\n"
     ]
    }
   ],
   "source": [
    "name = 'Arvind'\n",
    "age = 45\n",
    "str1 = f'''Hello, {name}! You are {age} years old.'''\n",
    "print(str1)"
   ]
  },
  {
   "cell_type": "code",
   "execution_count": 5,
   "id": "fa4cfa8d-ff3d-460d-99bd-b1e5b7ddd0e7",
   "metadata": {},
   "outputs": [
    {
     "name": "stdout",
     "output_type": "stream",
     "text": [
      "Pi rounded to two decimal places: 3.14\n"
     ]
    }
   ],
   "source": [
    "pi = 3.14159\n",
    "msg = f\"Pi rounded to two decimal places: {pi:.2f}\"\n",
    "print(msg)"
   ]
  },
  {
   "cell_type": "code",
   "execution_count": 7,
   "id": "a55c0f1c-bf69-414a-b00d-aa32b9c9eae4",
   "metadata": {},
   "outputs": [
    {
     "ename": "SyntaxError",
     "evalue": "invalid decimal literal (157403314.py, line 2)",
     "output_type": "error",
     "traceback": [
      "  \u001b[36mCell\u001b[39m\u001b[36m \u001b[39m\u001b[32mIn[7]\u001b[39m\u001b[32m, line 2\u001b[39m\n\u001b[31m    \u001b[39m\u001b[31mmsg = f\"Pi rounded to two decimal places: {.2f}\"\u001b[39m\n                                                ^\n\u001b[31mSyntaxError\u001b[39m\u001b[31m:\u001b[39m invalid decimal literal\n"
     ]
    }
   ],
   "source": [
    "pi = 3.14159\n",
    "msg = f\"Pi rounded to two decimal places: {.2f}\"\n",
    "print(msg)"
   ]
  },
  {
   "cell_type": "code",
   "execution_count": 8,
   "id": "1b493321-3bda-492a-9382-d34440b783ce",
   "metadata": {},
   "outputs": [
    {
     "name": "stdout",
     "output_type": "stream",
     "text": [
      "name='Arvind', age=45\n"
     ]
    }
   ],
   "source": [
    "print(f\"{name=}, {age=}\")"
   ]
  },
  {
   "cell_type": "code",
   "execution_count": 9,
   "id": "5b6ed4a0-7aa6-4a81-94eb-8e4ebf99af6b",
   "metadata": {},
   "outputs": [
    {
     "name": "stdout",
     "output_type": "stream",
     "text": [
      "Arvind, 45\n"
     ]
    }
   ],
   "source": [
    "print(f\"{name}, {age}\")"
   ]
  },
  {
   "cell_type": "code",
   "execution_count": null,
   "id": "d71b6ddb-df19-4f05-a155-7ee1afd04c6c",
   "metadata": {},
   "outputs": [],
   "source": [
    "# Print date using f-string in Python"
   ]
  },
  {
   "cell_type": "code",
   "execution_count": 11,
   "id": "df691704-1a2f-4174-a98b-9b297c02fe97",
   "metadata": {},
   "outputs": [
    {
     "name": "stdout",
     "output_type": "stream",
     "text": [
      "2025-10-05 11:29:02.746185\n"
     ]
    }
   ],
   "source": [
    "import datetime\n",
    "today = datetime.datetime.today()\n",
    "print(today)"
   ]
  },
  {
   "cell_type": "code",
   "execution_count": 12,
   "id": "c5da35c5-d1cd-4a47-8fca-c979b12b3c64",
   "metadata": {},
   "outputs": [
    {
     "name": "stdout",
     "output_type": "stream",
     "text": [
      "October 05, 2025\n"
     ]
    }
   ],
   "source": [
    "import datetime\n",
    "today = datetime.datetime.today()\n",
    "print(f\"{today:%B %d, %Y}\")"
   ]
  },
  {
   "cell_type": "code",
   "execution_count": 13,
   "id": "a2d113f8-edf4-4067-8415-d1110690a6ab",
   "metadata": {},
   "outputs": [
    {
     "name": "stdout",
     "output_type": "stream",
     "text": [
      "05 October, 2025\n"
     ]
    }
   ],
   "source": [
    "import datetime\n",
    "today = datetime.datetime.today()\n",
    "print(f\"{today:%d %B, %Y}\")"
   ]
  },
  {
   "cell_type": "code",
   "execution_count": 20,
   "id": "7a0640d2-fcd1-4212-a120-b066ef15254a",
   "metadata": {},
   "outputs": [
    {
     "name": "stdout",
     "output_type": "stream",
     "text": [
      "Hello, what's up here \n"
     ]
    }
   ],
   "source": [
    "st1 = f\"Hello, what's up here \"\n",
    "print(st1)"
   ]
  },
  {
   "cell_type": "code",
   "execution_count": 21,
   "id": "ed26724a-2317-459f-a3ed-0ee318615c13",
   "metadata": {},
   "outputs": [
    {
     "ename": "SyntaxError",
     "evalue": "unterminated string literal (detected at line 1) (3458172725.py, line 1)",
     "output_type": "error",
     "traceback": [
      "  \u001b[36mCell\u001b[39m\u001b[36m \u001b[39m\u001b[32mIn[21]\u001b[39m\u001b[32m, line 1\u001b[39m\n\u001b[31m    \u001b[39m\u001b[31mst1 = f'Hello, what's up here '\u001b[39m\n                                  ^\n\u001b[31mSyntaxError\u001b[39m\u001b[31m:\u001b[39m unterminated string literal (detected at line 1)\n"
     ]
    }
   ],
   "source": [
    "st1 = f'Hello, what's up here '\n",
    "print(st1)"
   ]
  },
  {
   "cell_type": "code",
   "execution_count": 23,
   "id": "ad63033a-b8a4-48f1-8684-99582f191bf6",
   "metadata": {},
   "outputs": [
    {
     "name": "stdout",
     "output_type": "stream",
     "text": [
      "Hello, \"what's up here \" \n"
     ]
    }
   ],
   "source": [
    "st1 = f'''Hello, \"what's up here \" '''\n",
    "print(st1)"
   ]
  },
  {
   "cell_type": "code",
   "execution_count": 24,
   "id": "63a117a3-7dec-4e09-9034-abb1b7bf5e85",
   "metadata": {},
   "outputs": [
    {
     "name": "stdout",
     "output_type": "stream",
     "text": [
      "Arvind got total marks 180 out of 300\n"
     ]
    }
   ],
   "source": [
    "a = 70\n",
    "b = 60\n",
    "c = 50\n",
    "print(f\"Arvind got total marks {a+ b+ c} out of 300\")"
   ]
  },
  {
   "cell_type": "code",
   "execution_count": 26,
   "id": "3b6b0856-15b9-46f2-b3c3-8cf95160c6b2",
   "metadata": {},
   "outputs": [
    {
     "data": {
      "text/plain": [
       "'newline: 10'"
      ]
     },
     "execution_count": 26,
     "metadata": {},
     "output_type": "execute_result"
    }
   ],
   "source": [
    "f\"newline: {ord('\\n')}\""
   ]
  },
  {
   "cell_type": "code",
   "execution_count": 25,
   "id": "0849505d-bf66-47a5-ab43-d261a8b65e76",
   "metadata": {},
   "outputs": [
    {
     "name": "stdout",
     "output_type": "stream",
     "text": [
      "newline: 10\n"
     ]
    }
   ],
   "source": [
    "newline = ord('\\n')\n",
    "print(f\"newline: {newline}\")"
   ]
  },
  {
   "cell_type": "code",
   "execution_count": 29,
   "id": "0cc314d5-b731-408f-8239-57d58cff09ef",
   "metadata": {},
   "outputs": [
    {
     "ename": "_IncompleteInputError",
     "evalue": "incomplete input (3872567651.py, line 1)",
     "output_type": "error",
     "traceback": [
      "  \u001b[36mCell\u001b[39m\u001b[36m \u001b[39m\u001b[32mIn[29]\u001b[39m\u001b[32m, line 1\u001b[39m\n\u001b[31m    \u001b[39m\u001b[31mf\" The sum is {5*2 + 3 #calculating sum }\"\u001b[39m\n                                              ^\n\u001b[31m_IncompleteInputError\u001b[39m\u001b[31m:\u001b[39m incomplete input\n"
     ]
    }
   ],
   "source": [
    "f\" The sum is {5*2 + 3 #calculating sum }\""
   ]
  },
  {
   "cell_type": "code",
   "execution_count": 30,
   "id": "670bb92b-7d56-4254-a62e-d51e9d6aa11e",
   "metadata": {},
   "outputs": [
    {
     "name": "stdout",
     "output_type": "stream",
     "text": [
      "65\n"
     ]
    }
   ],
   "source": [
    "a = ord('A')\n",
    "print(a)"
   ]
  },
  {
   "cell_type": "code",
   "execution_count": null,
   "id": "df305898-a3a0-4431-bb2f-c6bb91bf1036",
   "metadata": {},
   "outputs": [],
   "source": [
    "#Printing Braces using f-string"
   ]
  },
  {
   "cell_type": "code",
   "execution_count": 37,
   "id": "b70c3163-dd58-491c-87a1-ed02b17cce48",
   "metadata": {},
   "outputs": [
    {
     "name": "stdout",
     "output_type": "stream",
     "text": [
      "Arvind\n",
      "{Hello}\n"
     ]
    }
   ],
   "source": [
    "hello = 'Arvind'\n",
    "print(f'{hello}')\n",
    "st2 = f\"{{Hello}}\"\n",
    "print(st2)"
   ]
  },
  {
   "cell_type": "code",
   "execution_count": 39,
   "id": "02707050-4e5b-4502-8508-03765a9dd12e",
   "metadata": {},
   "outputs": [
    {
     "name": "stdin",
     "output_type": "stream",
     "text": [
      "Enter the number 6\n"
     ]
    },
    {
     "name": "stdout",
     "output_type": "stream",
     "text": [
      "It is less than 10\n"
     ]
    }
   ],
   "source": [
    "price = int(input('Enter the number'))\n",
    "txt = f\"It is {'less than 10' if price<10 else 'greater than 10'}\"\n",
    "print(txt)"
   ]
  },
  {
   "cell_type": "code",
   "execution_count": 40,
   "id": "6f29a6e7-6a58-43af-b520-cb8444632105",
   "metadata": {},
   "outputs": [
    {
     "name": "stdout",
     "output_type": "stream",
     "text": [
      "I love APPLES\n"
     ]
    }
   ],
   "source": [
    "fruit = \"apples\"\n",
    "txt = f\"I love {fruit.upper()}\"\n",
    "print(txt)"
   ]
  },
  {
   "cell_type": "code",
   "execution_count": 41,
   "id": "4fe9c4d9-2f82-4fb1-bee0-74c8ba60b835",
   "metadata": {},
   "outputs": [
    {
     "name": "stdout",
     "output_type": "stream",
     "text": [
      "The plane is flying at a 9144.0 meter altitude\n"
     ]
    }
   ],
   "source": [
    "def myconverter(x):\n",
    "  return x * 0.3048\n",
    "\n",
    "txt = f\"The plane is flying at a {myconverter(30000)} meter altitude\"\n",
    "print(txt)"
   ]
  },
  {
   "cell_type": "code",
   "execution_count": 42,
   "id": "3d42d158-e736-4e2c-8c6d-bcf5b6fd2349",
   "metadata": {},
   "outputs": [
    {
     "name": "stdout",
     "output_type": "stream",
     "text": [
      "The cube is 27\n"
     ]
    }
   ],
   "source": [
    "def cube(x):\n",
    "  return x**3\n",
    "\n",
    "ans = f\"The cube is {cube(3)}\"\n",
    "print(ans)"
   ]
  },
  {
   "cell_type": "code",
   "execution_count": 44,
   "id": "b7720c99-96db-45b5-bf36-d8b8336b194f",
   "metadata": {},
   "outputs": [
    {
     "name": "stdout",
     "output_type": "stream",
     "text": [
      "The price is 95.00 Rupees\n"
     ]
    }
   ],
   "source": [
    "txt = f\"The price is {95:.2f} Rupees\"\n",
    "print(txt)"
   ]
  },
  {
   "cell_type": "code",
   "execution_count": 45,
   "id": "c8a929fa-dede-4631-9b4a-56a1e29dbd38",
   "metadata": {},
   "outputs": [
    {
     "name": "stdout",
     "output_type": "stream",
     "text": [
      "The price is 50.00 Rupees\n"
     ]
    }
   ],
   "source": [
    "n = 50\n",
    "txt = f\"The price is {n:.2f} Rupees\"\n",
    "print(txt)"
   ]
  },
  {
   "cell_type": "code",
   "execution_count": 47,
   "id": "87dbb0d6-fda4-4851-baed-7ebdb86f128a",
   "metadata": {},
   "outputs": [
    {
     "name": "stdout",
     "output_type": "stream",
     "text": [
      "\n",
      "Profile:\n",
      "------------------\n",
      "Name: Arvind\n",
      "Role: Assistant Professor\n",
      "Experience: 20 years\n",
      "\n"
     ]
    }
   ],
   "source": [
    "# Basic multiline f-string\n",
    "name = \"Arvind\"\n",
    "role = \"Assistant Professor\"\n",
    "experience = 20\n",
    "profile = f\"\"\"\n",
    "Profile:\n",
    "------------------\n",
    "Name: {name}\n",
    "Role: {role}\n",
    "Experience: {experience} years\n",
    "\"\"\"\n",
    "print(profile)"
   ]
  },
  {
   "cell_type": "code",
   "execution_count": 48,
   "id": "31c0f691-8393-41e4-aa0e-584a86e8c791",
   "metadata": {},
   "outputs": [
    {
     "name": "stdout",
     "output_type": "stream",
     "text": [
      "\n",
      "    Monthly Report\n",
      "    Month: October\n",
      "    Value: $1,234.56\n",
      "        - Generated automatically\n",
      "        - All values in USD\n",
      "\n"
     ]
    }
   ],
   "source": [
    "# Working with indentation\n",
    "data = {\n",
    "    'title': 'Monthly Report',\n",
    "    'month': 'October',\n",
    "    'value': 1234.56\n",
    "}\n",
    "report = f\"\"\"\n",
    "    {data['title']}\n",
    "    Month: {data['month']}\n",
    "    Value: ${data['value']:,.2f}\n",
    "        - Generated automatically\n",
    "        - All values in USD\n",
    "\"\"\"\n",
    "print(report)"
   ]
  }
 ],
 "metadata": {
  "kernelspec": {
   "display_name": "Python 3 (ipykernel)",
   "language": "python",
   "name": "python3"
  },
  "language_info": {
   "codemirror_mode": {
    "name": "ipython",
    "version": 3
   },
   "file_extension": ".py",
   "mimetype": "text/x-python",
   "name": "python",
   "nbconvert_exporter": "python",
   "pygments_lexer": "ipython3",
   "version": "3.13.7"
  }
 },
 "nbformat": 4,
 "nbformat_minor": 5
}
