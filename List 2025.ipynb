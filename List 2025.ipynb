{
 "cells": [
  {
   "cell_type": "markdown",
   "id": "86719dc2-6bc7-4bc0-b226-7ecc9b7be33f",
   "metadata": {},
   "source": [
    "### Write a Python program to enter the elements of the list from the user:"
   ]
  },
  {
   "cell_type": "code",
   "execution_count": 1,
   "id": "6654a5d3-df78-4513-b485-b3d66631fc97",
   "metadata": {},
   "outputs": [
    {
     "name": "stdin",
     "output_type": "stream",
     "text": [
      "Enter the number of elements:  3\n",
      "Enter the element 1\n",
      "Enter the element 2\n",
      "Enter the element 3\n"
     ]
    },
    {
     "name": "stdout",
     "output_type": "stream",
     "text": [
      "The List is [1, 2, 3]\n"
     ]
    }
   ],
   "source": [
    "l = []\n",
    "n = int(input('Enter the number of elements: '))\n",
    "for i in range(n):\n",
    "    a = int(input('Enter the element'))\n",
    "    l.append(a)\n",
    "print('The List is',l)"
   ]
  },
  {
   "cell_type": "markdown",
   "id": "a4ef128d-285c-4e7e-a9e6-a7b09862aee4",
   "metadata": {},
   "source": [
    "### Write a Python program to sum all the items in a list."
   ]
  },
  {
   "cell_type": "code",
   "execution_count": 2,
   "id": "df4aea2d-a33b-43da-b0a1-83e742e1c852",
   "metadata": {},
   "outputs": [
    {
     "name": "stdin",
     "output_type": "stream",
     "text": [
      "Enter the number of elements:  3\n",
      "Enter the element 3\n",
      "Enter the element 4\n",
      "Enter the element 5\n"
     ]
    },
    {
     "name": "stdout",
     "output_type": "stream",
     "text": [
      "The List is [3, 4, 5]\n",
      "The sum of elements is  12\n"
     ]
    }
   ],
   "source": [
    "l = []\n",
    "n = int(input('Enter the number of elements: '))\n",
    "for i in range(n):\n",
    "    a = int(input('Enter the element'))\n",
    "    l.append(a)\n",
    "print('The List is',l)\n",
    "sum = 0\n",
    "for i in l:\n",
    "    sum = sum+i\n",
    "\n",
    "print('The sum of elements is ',sum)"
   ]
  },
  {
   "cell_type": "markdown",
   "id": "178b4713-e8d9-4cfc-9b3b-03b6ece1089d",
   "metadata": {},
   "source": [
    "### Write a Python program to find the sum of only the positive numbers in a given list."
   ]
  },
  {
   "cell_type": "code",
   "execution_count": 4,
   "id": "aa8a9d1b-ae9e-4f87-8697-08a8e41d80f7",
   "metadata": {},
   "outputs": [
    {
     "name": "stdin",
     "output_type": "stream",
     "text": [
      "Enter the number of elements:  3\n",
      "Enter the element -1\n",
      "Enter the element 0\n",
      "Enter the element 4\n"
     ]
    },
    {
     "name": "stdout",
     "output_type": "stream",
     "text": [
      "The List is [-1, 0, 4]\n",
      "The sum of elements is  4\n"
     ]
    }
   ],
   "source": [
    "l = []\n",
    "n = int(input('Enter the number of elements: '))\n",
    "for i in range(n):\n",
    "    a = int(input('Enter the element'))\n",
    "    l.append(a)\n",
    "print('The List is',l)\n",
    "sum = 0\n",
    "for i in l:\n",
    "    if i>0:\n",
    "        sum = sum+i\n",
    "\n",
    "print('The sum of elements is ',sum)"
   ]
  },
  {
   "cell_type": "markdown",
   "id": "5e046000-4daa-44af-8696-160f25a3b28a",
   "metadata": {},
   "source": [
    "# Write a Python program to multiply all the items in a list."
   ]
  },
  {
   "cell_type": "code",
   "execution_count": 5,
   "id": "3087d060-67d6-4b93-b42a-8d9f0d7753ef",
   "metadata": {},
   "outputs": [
    {
     "name": "stdin",
     "output_type": "stream",
     "text": [
      "Enter the number of elements:  3\n",
      "Enter the element 3\n",
      "Enter the element 2\n",
      "Enter the element 4\n"
     ]
    },
    {
     "name": "stdout",
     "output_type": "stream",
     "text": [
      "The List is [3, 2, 4]\n",
      "The multiplication of all elements is  24\n"
     ]
    }
   ],
   "source": [
    "l = []\n",
    "n = int(input('Enter the number of elements: '))\n",
    "for i in range(n):\n",
    "    a = int(input('Enter the element'))\n",
    "    l.append(a)\n",
    "print('The List is',l)\n",
    "m = 1\n",
    "for i in l:\n",
    "    m = m*i\n",
    "print('The multiplication of all elements is ',m)"
   ]
  },
  {
   "cell_type": "markdown",
   "id": "7cf8a514-b5ee-4eaa-8817-b21a38089f99",
   "metadata": {},
   "source": [
    "### Write a Python program to get the largest number from a list."
   ]
  },
  {
   "cell_type": "code",
   "execution_count": 6,
   "id": "d4bd724d-7623-4433-9acf-1c72df7572b7",
   "metadata": {},
   "outputs": [
    {
     "name": "stdin",
     "output_type": "stream",
     "text": [
      "Enter the number of elements:  5\n",
      "Enter the element 1\n",
      "Enter the element 23\n",
      "Enter the element 6\n",
      "Enter the element 8\n",
      "Enter the element 9\n"
     ]
    },
    {
     "name": "stdout",
     "output_type": "stream",
     "text": [
      "The List is [1, 23, 6, 8, 9]\n",
      "The element is  23\n"
     ]
    }
   ],
   "source": [
    "l = []\n",
    "n = int(input('Enter the number of elements: '))\n",
    "for i in range(n):\n",
    "    a = int(input('Enter the element'))\n",
    "    l.append(a)\n",
    "print('The List is',l)\n",
    "big = l[0]\n",
    "for i in l:\n",
    "    if i>big:\n",
    "        big = i\n",
    "print('The element is ',big)"
   ]
  },
  {
   "cell_type": "markdown",
   "id": "b8524ff7-466c-40f5-8ae0-c9dee0c39128",
   "metadata": {},
   "source": [
    "### Write a Python program to remove duplicates from a list."
   ]
  },
  {
   "cell_type": "code",
   "execution_count": 8,
   "id": "f1f4a621-26e5-4caf-9f19-024fbad9d713",
   "metadata": {},
   "outputs": [
    {
     "name": "stdin",
     "output_type": "stream",
     "text": [
      "Enter the number of elements:  5\n",
      "Enter the element 1\n",
      "Enter the element 1\n",
      "Enter the element 2\n",
      "Enter the element 3\n",
      "Enter the element 2\n"
     ]
    },
    {
     "name": "stdout",
     "output_type": "stream",
     "text": [
      "The List is [1, 1, 2, 3, 2]\n",
      "List with no duplicates:  [1, 2, 3]\n"
     ]
    }
   ],
   "source": [
    "l = []\n",
    "n = int(input('Enter the number of elements: '))\n",
    "for i in range(n):\n",
    "    a = int(input('Enter the element'))\n",
    "    l.append(a)\n",
    "print('The List is',l)\n",
    "no_dup = []\n",
    "for i in l:\n",
    "    if i not in no_dup:\n",
    "        no_dup.append(i)\n",
    "\n",
    "print('List with no duplicates: ',no_dup)"
   ]
  },
  {
   "cell_type": "code",
   "execution_count": 15,
   "id": "1f699ad6-08b6-42d4-9742-e1cdea50d05f",
   "metadata": {},
   "outputs": [
    {
     "name": "stdout",
     "output_type": "stream",
     "text": [
      "False\n"
     ]
    }
   ],
   "source": [
    "l = [1]\n",
    "print(not l)"
   ]
  },
  {
   "cell_type": "markdown",
   "id": "05f61303-38a3-47d1-abeb-d2792be09ad6",
   "metadata": {},
   "source": [
    "# Write a Python program to check if a list is empty or not."
   ]
  },
  {
   "cell_type": "code",
   "execution_count": 9,
   "id": "09d72b2c-795f-4c3e-91fa-3a2d54a01e5c",
   "metadata": {},
   "outputs": [
    {
     "name": "stdin",
     "output_type": "stream",
     "text": [
      "Enter the number of elements:  0\n"
     ]
    },
    {
     "name": "stdout",
     "output_type": "stream",
     "text": [
      "The List is []\n",
      "List is empty\n"
     ]
    }
   ],
   "source": [
    "l = []\n",
    "n = int(input('Enter the number of elements: '))\n",
    "for i in range(n):\n",
    "    a = int(input('Enter the element'))\n",
    "    l.append(a)\n",
    "print('The List is',l)\n",
    "\n",
    "if not l:\n",
    "    print('List is empty')\n",
    "else:\n",
    "     print('List is not empty')"
   ]
  },
  {
   "cell_type": "code",
   "execution_count": 14,
   "id": "aa35d480-c32a-4553-8418-8347c4e28a5f",
   "metadata": {},
   "outputs": [
    {
     "name": "stdout",
     "output_type": "stream",
     "text": [
      "True\n",
      "List is empty\n"
     ]
    }
   ],
   "source": [
    "l = []\n",
    "print(not l)\n",
    "if not l:\n",
    "    print('List is empty')\n",
    "else:\n",
    "     print('List is not empty')"
   ]
  },
  {
   "cell_type": "code",
   "execution_count": 11,
   "id": "0fc0b37c-c6e1-4873-9a87-855ee635c1b1",
   "metadata": {},
   "outputs": [
    {
     "name": "stdout",
     "output_type": "stream",
     "text": [
      "List is empty\n"
     ]
    }
   ],
   "source": [
    "l = []\n",
    "length = len(l)\n",
    "if length==0:\n",
    "    print('List is empty')\n",
    "else:\n",
    "    print('List is not empty')"
   ]
  }
 ],
 "metadata": {
  "kernelspec": {
   "display_name": "Python 3 (ipykernel)",
   "language": "python",
   "name": "python3"
  },
  "language_info": {
   "codemirror_mode": {
    "name": "ipython",
    "version": 3
   },
   "file_extension": ".py",
   "mimetype": "text/x-python",
   "name": "python",
   "nbconvert_exporter": "python",
   "pygments_lexer": "ipython3",
   "version": "3.13.7"
  }
 },
 "nbformat": 4,
 "nbformat_minor": 5
}
