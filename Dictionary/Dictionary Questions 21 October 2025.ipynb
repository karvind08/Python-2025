{
 "cells": [
  {
   "cell_type": "code",
   "execution_count": null,
   "id": "a3467554-8ec1-497c-879b-d768e81ceda1",
   "metadata": {},
   "outputs": [],
   "source": []
  }
 ],
 "metadata": {
  "kernelspec": {
   "display_name": "",
   "name": ""
  },
  "language_info": {
   "name": ""
  }
 },
 "nbformat": 4,
 "nbformat_minor": 5
}
