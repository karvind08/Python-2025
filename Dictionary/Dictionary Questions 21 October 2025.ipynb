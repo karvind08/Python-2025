{
 "cells": [
  {
   "cell_type": "code",
   "execution_count": null,
   "id": "a3467554-8ec1-497c-879b-d768e81ceda1",
   "metadata": {},
   "outputs": [],
   "source": [
    "# Dictionary Questions"
   ]
  },
  {
   "cell_type": "code",
   "execution_count": 1,
   "id": "67300a9e-5152-4079-aedf-7634b87152ba",
   "metadata": {},
   "outputs": [
    {
     "name": "stdout",
     "output_type": "stream",
     "text": [
      "{'a': 1, 3: 5, 2.5: 85}\n"
     ]
    }
   ],
   "source": [
    "d = {'a':1,3:5,2.5:85}\n",
    "print(d)"
   ]
  },
  {
   "cell_type": "code",
   "execution_count": 2,
   "id": "e2d2d7a6-8636-4e77-84f3-e40e26ce719a",
   "metadata": {},
   "outputs": [
    {
     "data": {
      "text/plain": [
       "dict"
      ]
     },
     "execution_count": 2,
     "metadata": {},
     "output_type": "execute_result"
    }
   ],
   "source": [
    "type(d)"
   ]
  },
  {
   "cell_type": "code",
   "execution_count": 3,
   "id": "0a44e552-fd58-49cb-9d66-875fd3874570",
   "metadata": {},
   "outputs": [
    {
     "name": "stdout",
     "output_type": "stream",
     "text": [
      "{1: 10, 2: 20}\n"
     ]
    },
    {
     "data": {
      "text/plain": [
       "dict"
      ]
     },
     "execution_count": 3,
     "metadata": {},
     "output_type": "execute_result"
    }
   ],
   "source": [
    "d1=dict({1:10,2:20})\n",
    "print(d1)\n",
    "type(d1)"
   ]
  },
  {
   "cell_type": "markdown",
   "id": "7177b5d4-137a-408e-9786-1d9687c3a7f4",
   "metadata": {},
   "source": [
    "# Create dictionary with list"
   ]
  },
  {
   "cell_type": "code",
   "execution_count": 4,
   "id": "95d3e87e-4430-4a8e-a7e2-eea1aa8edcf0",
   "metadata": {},
   "outputs": [
    {
     "name": "stdout",
     "output_type": "stream",
     "text": [
      "{1: 20, 2: 50}\n"
     ]
    },
    {
     "data": {
      "text/plain": [
       "dict"
      ]
     },
     "execution_count": 4,
     "metadata": {},
     "output_type": "execute_result"
    }
   ],
   "source": [
    "d2= dict([(1,20),(2,50)])\n",
    "print(d2)\n",
    "type(d2)"
   ]
  },
  {
   "cell_type": "code",
   "execution_count": 7,
   "id": "7847dc04-1860-4a67-bdab-0e3b0f1f8a1c",
   "metadata": {},
   "outputs": [
    {
     "name": "stdout",
     "output_type": "stream",
     "text": [
      "<class 'list'>\n",
      "{1: 50, 2: 100}\n"
     ]
    },
    {
     "data": {
      "text/plain": [
       "dict"
      ]
     },
     "execution_count": 7,
     "metadata": {},
     "output_type": "execute_result"
    }
   ],
   "source": [
    "l = [(1,50),(2,100)]\n",
    "print(type(l))\n",
    "d2= dict(l)\n",
    "print(d2)\n",
    "type(d2)"
   ]
  },
  {
   "cell_type": "code",
   "execution_count": null,
   "id": "1f60969e-3ac6-4af5-a729-c787646ff9e1",
   "metadata": {},
   "outputs": [],
   "source": [
    "# Create dictionary with tuples"
   ]
  },
  {
   "cell_type": "code",
   "execution_count": 8,
   "id": "a66f5b5e-6486-469d-a4a9-7fc38816156b",
   "metadata": {},
   "outputs": [],
   "source": [
    "t = ((1,100),(2,200))\n",
    "print()"
   ]
  },
  {
   "cell_type": "code",
   "execution_count": null,
   "id": "4580613f-f5be-436a-be97-35ed99ee5e80",
   "metadata": {},
   "outputs": [],
   "source": [
    "d3 = dict(((1,20),(2,50)))\n",
    "print(d3)"
   ]
  },
  {
   "cell_type": "code",
   "execution_count": null,
   "id": "d7cc0cce-f45f-432a-8238-ceb8a1bab83d",
   "metadata": {},
   "outputs": [],
   "source": []
  }
 ],
 "metadata": {
  "kernelspec": {
   "display_name": "Python 3 (ipykernel)",
   "language": "python",
   "name": "python3"
  },
  "language_info": {
   "codemirror_mode": {
    "name": "ipython",
    "version": 3
   },
   "file_extension": ".py",
   "mimetype": "text/x-python",
   "name": "python",
   "nbconvert_exporter": "python",
   "pygments_lexer": "ipython3",
   "version": "3.13.7"
  }
 },
 "nbformat": 4,
 "nbformat_minor": 5
}
