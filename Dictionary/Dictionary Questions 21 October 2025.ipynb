{
 "cells": [
  {
   "cell_type": "code",
   "execution_count": null,
   "id": "a3467554-8ec1-497c-879b-d768e81ceda1",
   "metadata": {},
   "outputs": [],
   "source": [
    "# Dictionary Questions"
   ]
  },
  {
   "cell_type": "code",
   "execution_count": 1,
   "id": "67300a9e-5152-4079-aedf-7634b87152ba",
   "metadata": {},
   "outputs": [
    {
     "name": "stdout",
     "output_type": "stream",
     "text": [
      "{'a': 1, 3: 5, 2.5: 85}\n"
     ]
    }
   ],
   "source": [
    "d = {'a':1,3:5,2.5:85}\n",
    "print(d)"
   ]
  },
  {
   "cell_type": "code",
   "execution_count": 2,
   "id": "e2d2d7a6-8636-4e77-84f3-e40e26ce719a",
   "metadata": {},
   "outputs": [
    {
     "data": {
      "text/plain": [
       "dict"
      ]
     },
     "execution_count": 2,
     "metadata": {},
     "output_type": "execute_result"
    }
   ],
   "source": [
    "type(d)"
   ]
  },
  {
   "cell_type": "code",
   "execution_count": 3,
   "id": "0a44e552-fd58-49cb-9d66-875fd3874570",
   "metadata": {},
   "outputs": [
    {
     "name": "stdout",
     "output_type": "stream",
     "text": [
      "{1: 10, 2: 20}\n"
     ]
    },
    {
     "data": {
      "text/plain": [
       "dict"
      ]
     },
     "execution_count": 3,
     "metadata": {},
     "output_type": "execute_result"
    }
   ],
   "source": [
    "d1=dict({1:10,2:20})\n",
    "print(d1)\n",
    "type(d1)"
   ]
  },
  {
   "cell_type": "markdown",
   "id": "7177b5d4-137a-408e-9786-1d9687c3a7f4",
   "metadata": {},
   "source": [
    "# Create dictionary with list"
   ]
  },
  {
   "cell_type": "code",
   "execution_count": 4,
   "id": "95d3e87e-4430-4a8e-a7e2-eea1aa8edcf0",
   "metadata": {},
   "outputs": [
    {
     "name": "stdout",
     "output_type": "stream",
     "text": [
      "{1: 20, 2: 50}\n"
     ]
    },
    {
     "data": {
      "text/plain": [
       "dict"
      ]
     },
     "execution_count": 4,
     "metadata": {},
     "output_type": "execute_result"
    }
   ],
   "source": [
    "d2= dict([(1,20),(2,50)])\n",
    "print(d2)\n",
    "type(d2)"
   ]
  },
  {
   "cell_type": "code",
   "execution_count": 7,
   "id": "7847dc04-1860-4a67-bdab-0e3b0f1f8a1c",
   "metadata": {},
   "outputs": [
    {
     "name": "stdout",
     "output_type": "stream",
     "text": [
      "<class 'list'>\n",
      "{1: 50, 2: 100}\n"
     ]
    },
    {
     "data": {
      "text/plain": [
       "dict"
      ]
     },
     "execution_count": 7,
     "metadata": {},
     "output_type": "execute_result"
    }
   ],
   "source": [
    "l = [(1,50),(2,100)]\n",
    "print(type(l))\n",
    "d2= dict(l)\n",
    "print(d2)\n",
    "type(d2)"
   ]
  },
  {
   "cell_type": "code",
   "execution_count": null,
   "id": "1f60969e-3ac6-4af5-a729-c787646ff9e1",
   "metadata": {},
   "outputs": [],
   "source": [
    "# Create dictionary with tuples"
   ]
  },
  {
   "cell_type": "code",
   "execution_count": 10,
   "id": "a66f5b5e-6486-469d-a4a9-7fc38816156b",
   "metadata": {},
   "outputs": [
    {
     "name": "stdout",
     "output_type": "stream",
     "text": [
      "((1, 100), (2, 200))\n"
     ]
    },
    {
     "data": {
      "text/plain": [
       "tuple"
      ]
     },
     "execution_count": 10,
     "metadata": {},
     "output_type": "execute_result"
    }
   ],
   "source": [
    "t = ((1,100),(2,200))\n",
    "print(t)\n",
    "type(t)"
   ]
  },
  {
   "cell_type": "code",
   "execution_count": 12,
   "id": "0f242936-62e3-4273-b225-8d4018985dd1",
   "metadata": {},
   "outputs": [
    {
     "name": "stdout",
     "output_type": "stream",
     "text": [
      "{1: 100, 2: 200}\n"
     ]
    }
   ],
   "source": [
    "t = ((1,100),(2,200))\n",
    "dict1 = dict(t)\n",
    "print(dict1)"
   ]
  },
  {
   "cell_type": "code",
   "execution_count": 13,
   "id": "4580613f-f5be-436a-be97-35ed99ee5e80",
   "metadata": {},
   "outputs": [
    {
     "name": "stdout",
     "output_type": "stream",
     "text": [
      "{1: 20, 2: 50}\n"
     ]
    }
   ],
   "source": [
    "d3 = dict(((1,20),(2,50)))\n",
    "print(d3)"
   ]
  },
  {
   "cell_type": "code",
   "execution_count": null,
   "id": "d7cc0cce-f45f-432a-8238-ceb8a1bab83d",
   "metadata": {},
   "outputs": [],
   "source": [
    "# Membership in Dictionary"
   ]
  },
  {
   "cell_type": "code",
   "execution_count": 14,
   "id": "92214a40-5a56-4c17-8d52-4937624d014d",
   "metadata": {},
   "outputs": [
    {
     "name": "stdout",
     "output_type": "stream",
     "text": [
      "{'a': 100, 2: 45, 3.5: 455}\n"
     ]
    }
   ],
   "source": [
    "d = {'a':100,2:45,3.5:455}\n",
    "print(d)"
   ]
  },
  {
   "cell_type": "code",
   "execution_count": 15,
   "id": "e79688ac-2bc8-4966-a804-f1e89f3b05a5",
   "metadata": {},
   "outputs": [
    {
     "name": "stdout",
     "output_type": "stream",
     "text": [
      "True\n"
     ]
    }
   ],
   "source": [
    "print('a' in d)"
   ]
  },
  {
   "cell_type": "code",
   "execution_count": 19,
   "id": "80f6c5f4-de1a-46f6-b417-270141bb4fef",
   "metadata": {},
   "outputs": [
    {
     "name": "stdout",
     "output_type": "stream",
     "text": [
      "False\n"
     ]
    }
   ],
   "source": [
    "print(25 in d)"
   ]
  },
  {
   "cell_type": "code",
   "execution_count": 24,
   "id": "b49cb193-819a-4ebb-abd9-d6643c57b5a3",
   "metadata": {},
   "outputs": [
    {
     "name": "stdin",
     "output_type": "stream",
     "text": [
      "Enter the key: a\n"
     ]
    },
    {
     "name": "stdout",
     "output_type": "stream",
     "text": [
      "Key is present\n",
      "The value key a is: 10\n"
     ]
    }
   ],
   "source": [
    "d = {'a':10,'b':20,'c':30}\n",
    "i = input('Enter the key:')\n",
    "if i in d.keys():\n",
    "    print('Key is present')\n",
    "    print(f'The value key {i} is:',d[i])\n",
    "else:\n",
    "    print('Key is not present')"
   ]
  },
  {
   "cell_type": "code",
   "execution_count": null,
   "id": "7565677e-f3f9-46f2-8396-7f708632a917",
   "metadata": {},
   "outputs": [],
   "source": [
    "# Updation on Dictionary"
   ]
  },
  {
   "cell_type": "code",
   "execution_count": 31,
   "id": "2c21f500-0b87-4587-a4d8-07878a6188d1",
   "metadata": {},
   "outputs": [
    {
     "name": "stdout",
     "output_type": "stream",
     "text": [
      "{'a': 10, 'b': 20, 'c': 30}\n",
      "2511128357760\n",
      "{'d': 40, 'e': 50, 'f': 60}\n",
      "2511128457216\n",
      "The updated dictionary is {'a': 10, 'b': 20, 'c': 30, 'd': 40, 'e': 50, 'f': 60}\n",
      "2511128357760\n"
     ]
    }
   ],
   "source": [
    "d1 = {'a':10,'b':20,'c':30}\n",
    "print(d1)\n",
    "print(id(d1))\n",
    "d2 = {'d':40,'e':50,'f':60}\n",
    "print(d2)\n",
    "print(id(d2))\n",
    "d1.update(d2)\n",
    "print('The updated dictionary is',d1)\n",
    "print(id(d1))"
   ]
  },
  {
   "cell_type": "code",
   "execution_count": null,
   "id": "f633a8d9-0bf8-46ca-b9f9-66b14b21c5b8",
   "metadata": {},
   "outputs": [],
   "source": [
    "# Write a Python program to calculate the product of all values of the dictionary."
   ]
  },
  {
   "cell_type": "code",
   "execution_count": 32,
   "id": "2ad18bed-8dbe-4b20-bffe-9db4a9783581",
   "metadata": {},
   "outputs": [
    {
     "name": "stdout",
     "output_type": "stream",
     "text": [
      "The multiplication of all values is 6000\n"
     ]
    }
   ],
   "source": [
    "d = {'a':10,'b':20,'c':30}\n",
    "v = 1\n",
    "for i in d:\n",
    "    v=v*d[i]\n",
    "print('The multiplication of all values is',v)"
   ]
  },
  {
   "cell_type": "code",
   "execution_count": 33,
   "id": "d560a3c7-9c36-43e3-a535-cf6e9986d8f8",
   "metadata": {},
   "outputs": [
    {
     "name": "stdout",
     "output_type": "stream",
     "text": [
      "The sum of all values is 60\n"
     ]
    }
   ],
   "source": [
    "d = {'a':10,'b':20,'c':30}\n",
    "v = 0\n",
    "for i in d:\n",
    "    v=v+d[i]\n",
    "print('The sum of all values is',v)"
   ]
  },
  {
   "cell_type": "code",
   "execution_count": 34,
   "id": "e592d376-7b79-4561-9830-2a81cc22d835",
   "metadata": {},
   "outputs": [
    {
     "name": "stdout",
     "output_type": "stream",
     "text": [
      "60\n"
     ]
    }
   ],
   "source": [
    "d = {'a':10,'b':20,'c':30}\n",
    "total = sum(d.values())\n",
    "print(total)"
   ]
  },
  {
   "cell_type": "code",
   "execution_count": null,
   "id": "8d7cee81-69ee-40c4-9c54-2abbc30e599f",
   "metadata": {},
   "outputs": [],
   "source": [
    "# How to print keys of dictionary?"
   ]
  },
  {
   "cell_type": "code",
   "execution_count": 35,
   "id": "d4953fed-2803-4267-89a4-e5fd478f323b",
   "metadata": {},
   "outputs": [
    {
     "name": "stdout",
     "output_type": "stream",
     "text": [
      "a\n",
      "b\n",
      "c\n"
     ]
    }
   ],
   "source": [
    "d = {'a':10,'b':20,'c':30}\n",
    "for i in d.keys():\n",
    "    print(i)"
   ]
  },
  {
   "cell_type": "code",
   "execution_count": null,
   "id": "d607f793-41cc-4088-9149-64bab6d06b66",
   "metadata": {},
   "outputs": [],
   "source": [
    "# How to print values of dictionary?"
   ]
  },
  {
   "cell_type": "code",
   "execution_count": 36,
   "id": "d751c80f-4743-441e-bf72-0aa552da5f7d",
   "metadata": {},
   "outputs": [
    {
     "name": "stdout",
     "output_type": "stream",
     "text": [
      "10\n",
      "20\n",
      "30\n"
     ]
    }
   ],
   "source": [
    "d = {'a':10,'b':20,'c':30}\n",
    "for i in d.values():\n",
    "    print(i)"
   ]
  },
  {
   "cell_type": "code",
   "execution_count": null,
   "id": "96b4aae2-fe3d-4d16-816f-a478689131ce",
   "metadata": {},
   "outputs": [],
   "source": [
    "# How to print keys and values of dictionary?"
   ]
  },
  {
   "cell_type": "code",
   "execution_count": 38,
   "id": "f71b61ae-75ba-45f2-8c7b-4838c722d514",
   "metadata": {},
   "outputs": [
    {
     "name": "stdout",
     "output_type": "stream",
     "text": [
      "a 10\n",
      "b 20\n",
      "c 30\n"
     ]
    }
   ],
   "source": [
    "d = {'a':10,'b':20,'c':30}\n",
    "for i,j in d.items():\n",
    "    print(i,j)"
   ]
  },
  {
   "cell_type": "code",
   "execution_count": null,
   "id": "f81012cf-7d6e-4a10-b0f0-62abe69d5fa9",
   "metadata": {},
   "outputs": [],
   "source": [
    "# zip() Function"
   ]
  },
  {
   "cell_type": "code",
   "execution_count": 39,
   "id": "7b97815a-0aec-449c-b6ab-bee354f0c293",
   "metadata": {},
   "outputs": [
    {
     "name": "stdout",
     "output_type": "stream",
     "text": [
      "{'a': 10, 'b': 20, 'c': 30}\n"
     ]
    }
   ],
   "source": [
    "s = ['a','b','c']\n",
    "n = [10,20,30]\n",
    "d = dict(zip(s,n))\n",
    "print(d)"
   ]
  },
  {
   "cell_type": "code",
   "execution_count": 44,
   "id": "30253b69-6e94-42de-a5c7-f5c8f033ac81",
   "metadata": {},
   "outputs": [
    {
     "name": "stdout",
     "output_type": "stream",
     "text": [
      "<class 'zip'>\n",
      "a 10\n",
      "b 20\n",
      "c 30\n",
      "{}\n"
     ]
    }
   ],
   "source": [
    "s = ['a','b','c']\n",
    "n = [10,20,30]\n",
    "dic = zip(s,n)\n",
    "print(type(dic))\n",
    "for i,j in dic:\n",
    "    print(i,j)\n",
    "d = dict(dic)\n",
    "print(d)"
   ]
  },
  {
   "cell_type": "code",
   "execution_count": 45,
   "id": "58a5d613-ca4d-4eb3-84c8-71456b76f565",
   "metadata": {},
   "outputs": [
    {
     "name": "stdout",
     "output_type": "stream",
     "text": [
      "a 10\n",
      "b 20\n",
      "c 30\n"
     ]
    }
   ],
   "source": [
    "s = ['a','b','c']\n",
    "n = [10,20,30]\n",
    "dic = zip(s,n)\n",
    "for i,j in dic:\n",
    "    print(i,j)"
   ]
  },
  {
   "cell_type": "code",
   "execution_count": 47,
   "id": "c4576c1e-258f-41b8-bd8d-902b9563f010",
   "metadata": {},
   "outputs": [
    {
     "name": "stdout",
     "output_type": "stream",
     "text": [
      "<class 'tuple'>\n",
      "<class 'tuple'>\n",
      "<class 'tuple'>\n"
     ]
    }
   ],
   "source": [
    "s = ['a','b','c']\n",
    "n = [10,20,30]\n",
    "for i in zip(s,n):\n",
    "    print(type(i))"
   ]
  },
  {
   "cell_type": "code",
   "execution_count": 48,
   "id": "89dae8c0-9a7f-4ec0-b34f-06c28d648755",
   "metadata": {},
   "outputs": [
    {
     "name": "stdout",
     "output_type": "stream",
     "text": [
      "('a', 10)\n",
      "('b', 20)\n",
      "('c', 30)\n"
     ]
    }
   ],
   "source": [
    "s = ['a','b','c']\n",
    "n = [10,20,30]\n",
    "for i in zip(s,n):\n",
    "    print(i)"
   ]
  },
  {
   "cell_type": "code",
   "execution_count": null,
   "id": "8ff186f0-6ff4-4145-860e-23cfc95f9aa3",
   "metadata": {},
   "outputs": [],
   "source": [
    "# Write a python program to check the frequency of the word in the given string"
   ]
  },
  {
   "cell_type": "code",
   "execution_count": 55,
   "id": "6d143c72-e066-4399-861e-99282bd0001b",
   "metadata": {},
   "outputs": [
    {
     "name": "stdin",
     "output_type": "stream",
     "text": [
      "Enter the string:  hi hi hi Hello aa aa bb\n"
     ]
    },
    {
     "name": "stdout",
     "output_type": "stream",
     "text": [
      "{'hi': 3, 'Hello': 1, 'aa': 2, 'bb': 1}\n"
     ]
    }
   ],
   "source": [
    "s  = input('Enter the string: ')\n",
    "l = s.split()\n",
    "d = {}\n",
    "for i in l:\n",
    "    if i not in d.keys():\n",
    "        d[i]=0\n",
    "    d[i] = d[i]+1\n",
    "print(d)"
   ]
  },
  {
   "cell_type": "code",
   "execution_count": 54,
   "id": "32f0afdb-5209-4f19-aa5e-0ea21ecebabd",
   "metadata": {},
   "outputs": [
    {
     "name": "stdin",
     "output_type": "stream",
     "text": [
      "Enter the string:  aa bb hello hi hi\n"
     ]
    },
    {
     "name": "stdout",
     "output_type": "stream",
     "text": [
      "['aa', 'bb', 'hello', 'hi', 'hi']\n",
      "{'aa': 1, 'bb': 1, 'hello': 1, 'hi': 2}\n"
     ]
    }
   ],
   "source": [
    "s  = input('Enter the string: ')\n",
    "l = s.split()\n",
    "print(l)\n",
    "d = {}\n",
    "for i in l:\n",
    "    d[i] = d.get(i,0)+1\n",
    "print(d)"
   ]
  },
  {
   "cell_type": "code",
   "execution_count": null,
   "id": "2067459a-4ea6-4e71-9ca0-a6b71ab6614a",
   "metadata": {},
   "outputs": [],
   "source": [
    "#Dictionary Comprehension"
   ]
  },
  {
   "cell_type": "code",
   "execution_count": 56,
   "id": "71ab5fbd-efc7-4a15-96c4-e1ece7f3d990",
   "metadata": {},
   "outputs": [
    {
     "name": "stdin",
     "output_type": "stream",
     "text": [
      "Enter the value 4\n"
     ]
    },
    {
     "name": "stdout",
     "output_type": "stream",
     "text": [
      "{1: 1, 2: 4, 3: 9, 4: 16}\n"
     ]
    }
   ],
   "source": [
    "n = int(input('Enter the value'))\n",
    "d = {i:i**2 for i in range(1,n+1)}\n",
    "print(d)"
   ]
  },
  {
   "cell_type": "code",
   "execution_count": null,
   "id": "51652f32-d23d-482a-8254-c76f3739455d",
   "metadata": {},
   "outputs": [],
   "source": [
    "# Input from user in dictionary"
   ]
  },
  {
   "cell_type": "code",
   "execution_count": 57,
   "id": "68c224d7-b29c-4b53-85dc-70f8b9f25998",
   "metadata": {},
   "outputs": [
    {
     "name": "stdin",
     "output_type": "stream",
     "text": [
      "Enter the number: 3\n",
      "Enter key 1\n",
      "Enter value 20\n",
      "Enter key 2\n",
      "Enter value 300\n",
      "Enter key 4\n",
      "Enter value 56\n"
     ]
    },
    {
     "name": "stdout",
     "output_type": "stream",
     "text": [
      "{'1': '20', '2': '300', '4': '56'}\n"
     ]
    }
   ],
   "source": [
    "a  = {}\n",
    "n = int(input('Enter the number:'))\n",
    "for i in range(n):\n",
    "    k = input('Enter key')\n",
    "    v = input('Enter value')\n",
    "    a.update({k:v})\n",
    "print(a)"
   ]
  },
  {
   "cell_type": "code",
   "execution_count": null,
   "id": "a8bbad6d-1b90-43dd-aa06-4f4144ff9dac",
   "metadata": {},
   "outputs": [],
   "source": []
  }
 ],
 "metadata": {
  "kernelspec": {
   "display_name": "Python 3 (ipykernel)",
   "language": "python",
   "name": "python3"
  },
  "language_info": {
   "codemirror_mode": {
    "name": "ipython",
    "version": 3
   },
   "file_extension": ".py",
   "mimetype": "text/x-python",
   "name": "python",
   "nbconvert_exporter": "python",
   "pygments_lexer": "ipython3",
   "version": "3.13.7"
  }
 },
 "nbformat": 4,
 "nbformat_minor": 5
}
