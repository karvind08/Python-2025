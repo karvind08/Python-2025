{
 "cells": [
  {
   "cell_type": "code",
   "execution_count": null,
   "id": "f192b46e-780b-4813-a887-506e3f2eb6f5",
   "metadata": {},
   "outputs": [],
   "source": [
    "# method 1 to print keys and values of dictionary"
   ]
  },
  {
   "cell_type": "code",
   "execution_count": 1,
   "id": "696e1f84-20e5-4efd-a018-133057d6f07a",
   "metadata": {},
   "outputs": [
    {
     "name": "stdout",
     "output_type": "stream",
     "text": [
      "a 10\n",
      "b 20\n",
      "c 30\n"
     ]
    }
   ],
   "source": [
    "d = {'a':10,'b':20,'c':30}\n",
    "for i in d:\n",
    "    print(i,d[i])"
   ]
  },
  {
   "cell_type": "code",
   "execution_count": null,
   "id": "80c7cd4b-6e1d-47f9-a01e-6433128b3115",
   "metadata": {},
   "outputs": [],
   "source": [
    "# By using dictionary comprehensive"
   ]
  },
  {
   "cell_type": "code",
   "execution_count": 3,
   "id": "8178ada5-d79c-40c4-8cbb-9daf231cc79d",
   "metadata": {},
   "outputs": [
    {
     "name": "stdout",
     "output_type": "stream",
     "text": [
      "[('a', 10), ('b', 20), ('c', 30)]\n"
     ]
    }
   ],
   "source": [
    "d = {'a':10,'b':20,'c':30}\n",
    "print([(i, d[i]) for i in d])"
   ]
  },
  {
   "cell_type": "code",
   "execution_count": null,
   "id": "f0ec044c-bb41-4c57-ad89-4adb403c33fa",
   "metadata": {},
   "outputs": [],
   "source": [
    "# method 2 to print keys and values of dictionary"
   ]
  },
  {
   "cell_type": "code",
   "execution_count": 4,
   "id": "8e59be98-922d-4e55-90c0-f876e9f8c2e4",
   "metadata": {},
   "outputs": [
    {
     "name": "stdout",
     "output_type": "stream",
     "text": [
      "a 10\n",
      "b 20\n",
      "c 30\n"
     ]
    }
   ],
   "source": [
    "d = {'a':10,'b':20,'c':30}\n",
    "\n",
    "for key,value in d.items():\n",
    "    print(key,value)"
   ]
  },
  {
   "cell_type": "code",
   "execution_count": null,
   "id": "3376f2e4-31fb-445f-b9b6-0cc57c422efc",
   "metadata": {},
   "outputs": [],
   "source": [
    "# enumemethod to print keys and values of dictionary"
   ]
  },
  {
   "cell_type": "code",
   "execution_count": 5,
   "id": "655f68db-6ff8-4e04-9058-2ee4e071edeb",
   "metadata": {},
   "outputs": [
    {
     "name": "stdout",
     "output_type": "stream",
     "text": [
      "(0, ('a', 10))\n",
      "(1, ('b', 20))\n",
      "(2, ('c', 30))\n"
     ]
    }
   ],
   "source": [
    "d = {'a':10,'b':20,'c':30}\n",
    "for i in enumerate(d.items()):\n",
    "    print(i)"
   ]
  },
  {
   "cell_type": "code",
   "execution_count": 7,
   "id": "be909b68-ed94-4423-a1cf-fcaba9af5dd4",
   "metadata": {},
   "outputs": [
    {
     "name": "stdout",
     "output_type": "stream",
     "text": [
      "(0, 10)\n",
      "(1, 20)\n",
      "(2, 30)\n"
     ]
    }
   ],
   "source": [
    "d = {'a':10,'b':20,'c':30}\n",
    "for i in enumerate(d.values()):\n",
    "    print(i)"
   ]
  },
  {
   "cell_type": "code",
   "execution_count": 8,
   "id": "3c570a74-8b7c-4ca3-9fd9-bd36021150b7",
   "metadata": {},
   "outputs": [
    {
     "name": "stdout",
     "output_type": "stream",
     "text": [
      "(0, 'a')\n",
      "(1, 'b')\n",
      "(2, 'c')\n"
     ]
    }
   ],
   "source": [
    "d = {'a':10,'b':20,'c':30}\n",
    "for i in enumerate(d.keys()):\n",
    "    print(i)"
   ]
  },
  {
   "cell_type": "code",
   "execution_count": null,
   "id": "5fc02a75-a299-4d13-bd04-7e9d5add02f3",
   "metadata": {},
   "outputs": [],
   "source": [
    "# How to take input from user Method 1"
   ]
  },
  {
   "cell_type": "code",
   "execution_count": 9,
   "id": "22ea4541-57cc-4a63-b10c-5b7a5cf4a8e5",
   "metadata": {
    "scrolled": true
   },
   "outputs": [
    {
     "name": "stdin",
     "output_type": "stream",
     "text": [
      "Enter the number: 2\n",
      "Enter key 1\n",
      "Enter value 100\n",
      "Enter key 2\n",
      "Enter value 300\n"
     ]
    },
    {
     "name": "stdout",
     "output_type": "stream",
     "text": [
      "{'1': '100', '2': '300'}\n"
     ]
    }
   ],
   "source": [
    "a  = {}\n",
    "n = int(input('Enter the number:'))\n",
    "for i in range(n):\n",
    "    k = input('Enter key')\n",
    "    v = input('Enter value')\n",
    "    a.update({k:v})\n",
    "print(a)"
   ]
  },
  {
   "cell_type": "code",
   "execution_count": null,
   "id": "51313b0f-873f-4cb0-a70c-7bc03bba6798",
   "metadata": {},
   "outputs": [],
   "source": [
    "# How to take input from user Method 2"
   ]
  },
  {
   "cell_type": "code",
   "execution_count": 17,
   "id": "ad352d98-702d-4ca4-8126-8fa8aa6e0418",
   "metadata": {},
   "outputs": [
    {
     "name": "stdin",
     "output_type": "stream",
     "text": [
      "How many items do you want to enter? 2\n",
      "Enter the key:  a\n",
      "Enter the value:  1\n",
      "Enter the key:  a\n",
      "Enter the value:  3\n"
     ]
    },
    {
     "name": "stdout",
     "output_type": "stream",
     "text": [
      "{'a': '3'}\n"
     ]
    }
   ],
   "source": [
    "n = int(input('How many items do you want to enter?'))\n",
    "d = {}\n",
    "for i in range(n):\n",
    "    k = input('Enter the key: ')\n",
    "    v= input('Enter the value: ')\n",
    "    d[k]=v\n",
    "print(d)"
   ]
  },
  {
   "cell_type": "code",
   "execution_count": null,
   "id": "61284c54-b3e3-467a-b19c-fee64ec5acc5",
   "metadata": {},
   "outputs": [],
   "source": [
    "# pop()"
   ]
  },
  {
   "cell_type": "code",
   "execution_count": 18,
   "id": "c8a2f0c6-d351-435d-ab8d-a399eafea8d2",
   "metadata": {},
   "outputs": [
    {
     "name": "stdout",
     "output_type": "stream",
     "text": [
      "{'b': 20, 'c': 30}\n"
     ]
    }
   ],
   "source": [
    "d = {'a':10,'b':20,'c':30}\n",
    "d.pop('a')\n",
    "print(d)"
   ]
  },
  {
   "cell_type": "code",
   "execution_count": 24,
   "id": "43d9e7f5-a123-4a62-af43-7dd6f377ac1f",
   "metadata": {},
   "outputs": [
    {
     "data": {
      "text/plain": [
       "10"
      ]
     },
     "execution_count": 24,
     "metadata": {},
     "output_type": "execute_result"
    }
   ],
   "source": [
    "d = {'a':10,'b':20,'c':30}\n",
    "d.pop('a')"
   ]
  }
 ],
 "metadata": {
  "kernelspec": {
   "display_name": "Python 3 (ipykernel)",
   "language": "python",
   "name": "python3"
  },
  "language_info": {
   "codemirror_mode": {
    "name": "ipython",
    "version": 3
   },
   "file_extension": ".py",
   "mimetype": "text/x-python",
   "name": "python",
   "nbconvert_exporter": "python",
   "pygments_lexer": "ipython3",
   "version": "3.13.7"
  }
 },
 "nbformat": 4,
 "nbformat_minor": 5
}
