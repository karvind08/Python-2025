{
 "cells": [
  {
   "cell_type": "code",
   "execution_count": null,
   "id": "f192b46e-780b-4813-a887-506e3f2eb6f5",
   "metadata": {},
   "outputs": [],
   "source": []
  }
 ],
 "metadata": {
  "kernelspec": {
   "display_name": "",
   "name": ""
  },
  "language_info": {
   "name": ""
  }
 },
 "nbformat": 4,
 "nbformat_minor": 5
}
