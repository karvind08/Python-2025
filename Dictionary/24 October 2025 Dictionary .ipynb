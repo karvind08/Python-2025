{
 "cells": [
  {
   "cell_type": "code",
   "execution_count": null,
   "id": "f192b46e-780b-4813-a887-506e3f2eb6f5",
   "metadata": {},
   "outputs": [],
   "source": [
    "# method 1 to print keys and values of dictionary"
   ]
  },
  {
   "cell_type": "code",
   "execution_count": 1,
   "id": "696e1f84-20e5-4efd-a018-133057d6f07a",
   "metadata": {},
   "outputs": [
    {
     "name": "stdout",
     "output_type": "stream",
     "text": [
      "a 10\n",
      "b 20\n",
      "c 30\n"
     ]
    }
   ],
   "source": [
    "d = {'a':10,'b':20,'c':30}\n",
    "for i in d:\n",
    "    print(i,d[i])"
   ]
  },
  {
   "cell_type": "code",
   "execution_count": null,
   "id": "80c7cd4b-6e1d-47f9-a01e-6433128b3115",
   "metadata": {},
   "outputs": [],
   "source": [
    "# By using dictionary comprehensive"
   ]
  },
  {
   "cell_type": "code",
   "execution_count": 3,
   "id": "8178ada5-d79c-40c4-8cbb-9daf231cc79d",
   "metadata": {},
   "outputs": [
    {
     "name": "stdout",
     "output_type": "stream",
     "text": [
      "[('a', 10), ('b', 20), ('c', 30)]\n"
     ]
    }
   ],
   "source": [
    "d = {'a':10,'b':20,'c':30}\n",
    "print([(i, d[i]) for i in d])"
   ]
  },
  {
   "cell_type": "code",
   "execution_count": null,
   "id": "f0ec044c-bb41-4c57-ad89-4adb403c33fa",
   "metadata": {},
   "outputs": [],
   "source": [
    "# method 2 to print keys and values of dictionary"
   ]
  },
  {
   "cell_type": "code",
   "execution_count": 4,
   "id": "8e59be98-922d-4e55-90c0-f876e9f8c2e4",
   "metadata": {},
   "outputs": [
    {
     "name": "stdout",
     "output_type": "stream",
     "text": [
      "a 10\n",
      "b 20\n",
      "c 30\n"
     ]
    }
   ],
   "source": [
    "d = {'a':10,'b':20,'c':30}\n",
    "\n",
    "for key,value in d.items():\n",
    "    print(key,value)"
   ]
  },
  {
   "cell_type": "code",
   "execution_count": null,
   "id": "3376f2e4-31fb-445f-b9b6-0cc57c422efc",
   "metadata": {},
   "outputs": [],
   "source": [
    "# enumerate method on items"
   ]
  },
  {
   "cell_type": "code",
   "execution_count": 5,
   "id": "655f68db-6ff8-4e04-9058-2ee4e071edeb",
   "metadata": {},
   "outputs": [
    {
     "name": "stdout",
     "output_type": "stream",
     "text": [
      "(0, ('a', 10))\n",
      "(1, ('b', 20))\n",
      "(2, ('c', 30))\n"
     ]
    }
   ],
   "source": [
    "d = {'a':10,'b':20,'c':30}\n",
    "for i in enumerate(d.items()):\n",
    "    print(i)"
   ]
  },
  {
   "cell_type": "code",
   "execution_count": null,
   "id": "338233ed-dbed-424a-9943-3d7a47a1079b",
   "metadata": {},
   "outputs": [],
   "source": [
    "# enumerate method on values"
   ]
  },
  {
   "cell_type": "code",
   "execution_count": 7,
   "id": "be909b68-ed94-4423-a1cf-fcaba9af5dd4",
   "metadata": {},
   "outputs": [
    {
     "name": "stdout",
     "output_type": "stream",
     "text": [
      "(0, 10)\n",
      "(1, 20)\n",
      "(2, 30)\n"
     ]
    }
   ],
   "source": [
    "d = {'a':10,'b':20,'c':30}\n",
    "for i in enumerate(d.values()):\n",
    "    print(i)"
   ]
  },
  {
   "cell_type": "code",
   "execution_count": null,
   "id": "50a9b862-0e42-4725-98be-161f8a57e966",
   "metadata": {},
   "outputs": [],
   "source": [
    "# enumerate method on keys"
   ]
  },
  {
   "cell_type": "code",
   "execution_count": 8,
   "id": "3c570a74-8b7c-4ca3-9fd9-bd36021150b7",
   "metadata": {},
   "outputs": [
    {
     "name": "stdout",
     "output_type": "stream",
     "text": [
      "(0, 'a')\n",
      "(1, 'b')\n",
      "(2, 'c')\n"
     ]
    }
   ],
   "source": [
    "d = {'a':10,'b':20,'c':30}\n",
    "for i in enumerate(d.keys()):\n",
    "    print(i)"
   ]
  },
  {
   "cell_type": "code",
   "execution_count": null,
   "id": "5fc02a75-a299-4d13-bd04-7e9d5add02f3",
   "metadata": {},
   "outputs": [],
   "source": [
    "# How to take input from user Method 1"
   ]
  },
  {
   "cell_type": "code",
   "execution_count": 9,
   "id": "22ea4541-57cc-4a63-b10c-5b7a5cf4a8e5",
   "metadata": {
    "scrolled": true
   },
   "outputs": [
    {
     "name": "stdin",
     "output_type": "stream",
     "text": [
      "Enter the number: 2\n",
      "Enter key 1\n",
      "Enter value 100\n",
      "Enter key 2\n",
      "Enter value 300\n"
     ]
    },
    {
     "name": "stdout",
     "output_type": "stream",
     "text": [
      "{'1': '100', '2': '300'}\n"
     ]
    }
   ],
   "source": [
    "a  = {}\n",
    "n = int(input('Enter the number:'))\n",
    "for i in range(n):\n",
    "    k = input('Enter key')\n",
    "    v = input('Enter value')\n",
    "    a.update({k:v})\n",
    "print(a)"
   ]
  },
  {
   "cell_type": "code",
   "execution_count": null,
   "id": "51313b0f-873f-4cb0-a70c-7bc03bba6798",
   "metadata": {},
   "outputs": [],
   "source": [
    "# How to take input from user Method 2"
   ]
  },
  {
   "cell_type": "code",
   "execution_count": 17,
   "id": "ad352d98-702d-4ca4-8126-8fa8aa6e0418",
   "metadata": {},
   "outputs": [
    {
     "name": "stdin",
     "output_type": "stream",
     "text": [
      "How many items do you want to enter? 2\n",
      "Enter the key:  a\n",
      "Enter the value:  1\n",
      "Enter the key:  a\n",
      "Enter the value:  3\n"
     ]
    },
    {
     "name": "stdout",
     "output_type": "stream",
     "text": [
      "{'a': '3'}\n"
     ]
    }
   ],
   "source": [
    "n = int(input('How many items do you want to enter?'))\n",
    "d = {}\n",
    "for i in range(n):\n",
    "    k = input('Enter the key: ')\n",
    "    v= input('Enter the value: ')\n",
    "    d[k]=v\n",
    "print(d)"
   ]
  },
  {
   "cell_type": "code",
   "execution_count": null,
   "id": "61284c54-b3e3-467a-b19c-fee64ec5acc5",
   "metadata": {},
   "outputs": [],
   "source": [
    "# pop()"
   ]
  },
  {
   "cell_type": "code",
   "execution_count": 18,
   "id": "c8a2f0c6-d351-435d-ab8d-a399eafea8d2",
   "metadata": {},
   "outputs": [
    {
     "name": "stdout",
     "output_type": "stream",
     "text": [
      "{'b': 20, 'c': 30}\n"
     ]
    }
   ],
   "source": [
    "d = {'a':10,'b':20,'c':30}\n",
    "d.pop('a')\n",
    "print(d)"
   ]
  },
  {
   "cell_type": "code",
   "execution_count": 24,
   "id": "43d9e7f5-a123-4a62-af43-7dd6f377ac1f",
   "metadata": {},
   "outputs": [
    {
     "data": {
      "text/plain": [
       "10"
      ]
     },
     "execution_count": 24,
     "metadata": {},
     "output_type": "execute_result"
    }
   ],
   "source": [
    "d = {'a':10,'b':20,'c':30}\n",
    "d.pop('a')"
   ]
  },
  {
   "cell_type": "code",
   "execution_count": null,
   "id": "54ef739c-8509-4f66-9810-89ffca949284",
   "metadata": {},
   "outputs": [],
   "source": [
    "# Sorting in ascending order"
   ]
  },
  {
   "cell_type": "code",
   "execution_count": 40,
   "id": "6a49960e-1af7-48ab-bccd-18e6b92e34e5",
   "metadata": {},
   "outputs": [
    {
     "name": "stdout",
     "output_type": "stream",
     "text": [
      "{'a': 100, 'g': 10, 's': 20}\n"
     ]
    }
   ],
   "source": [
    "d = {'a':100,'s':20,'g':10}\n",
    "x = dict(sorted(d.items()))\n",
    "print(x)"
   ]
  },
  {
   "cell_type": "code",
   "execution_count": null,
   "id": "0d02dfc5-33dc-4823-bfd0-e0fd396efcc5",
   "metadata": {},
   "outputs": [],
   "source": [
    "# Sorting in descending order"
   ]
  },
  {
   "cell_type": "code",
   "execution_count": 30,
   "id": "a8889fc6-50c3-4454-8358-e946b21c2920",
   "metadata": {},
   "outputs": [
    {
     "name": "stdout",
     "output_type": "stream",
     "text": [
      "{'a': 10, 'b': 20, 'g': 30, 'reverse': True}\n"
     ]
    }
   ],
   "source": [
    "d = {'g':30,'b':20,'a':10}\n",
    "x = dict(sorted(d.items()),reverse=True)\n",
    "print(x)"
   ]
  },
  {
   "cell_type": "code",
   "execution_count": 32,
   "id": "bd82d1f4-4826-4035-8cca-7c0e8cfb6e53",
   "metadata": {},
   "outputs": [
    {
     "name": "stdout",
     "output_type": "stream",
     "text": [
      "{'pear': 1, 'orange': 2, 'banana': 3, 'apple': 4, 'reverse': True}\n"
     ]
    }
   ],
   "source": [
    "my_dict = {'banana': 3, 'apple': 4, 'pear': 1, 'orange': 2}\n",
    "sorted_by_values = dict(sorted(my_dict.items(), key=lambda item: item[1]),reverse=True)\n",
    "print(sorted_by_values)"
   ]
  },
  {
   "cell_type": "code",
   "execution_count": 34,
   "id": "7551fb46-0537-426d-847e-4764ab321a5c",
   "metadata": {},
   "outputs": [
    {
     "data": {
      "text/plain": [
       "{'pear': 1, 'orange': 2, 'banana': 3, 'apple': 4}"
      ]
     },
     "execution_count": 34,
     "metadata": {},
     "output_type": "execute_result"
    }
   ],
   "source": [
    "{'pear': 1, 'orange': 2, 'banana': 3, 'apple': 4}"
   ]
  },
  {
   "cell_type": "code",
   "execution_count": 36,
   "id": "8789ed7b-9c25-4be9-ab3c-18051abf76a5",
   "metadata": {},
   "outputs": [
    {
     "name": "stdout",
     "output_type": "stream",
     "text": [
      "{'apple': 4, 'banana': 3, 'orange': 2, 'pear': 1}\n"
     ]
    }
   ],
   "source": [
    "sorted_desc = dict(sorted(my_dict.items(), key=lambda item: item[1], reverse=True))\n",
    "print(sorted_desc)"
   ]
  },
  {
   "cell_type": "code",
   "execution_count": null,
   "id": "7125ad88-9687-4786-bc01-c4face1f5c4e",
   "metadata": {},
   "outputs": [],
   "source": [
    "# Write a program to check if a given key exists in a dictionary or not. if key exists print the value of it."
   ]
  },
  {
   "cell_type": "code",
   "execution_count": 41,
   "id": "c5a771a5-540d-4d25-8ebf-c3be437f0c33",
   "metadata": {},
   "outputs": [
    {
     "name": "stdin",
     "output_type": "stream",
     "text": [
      "Enter the number of elements in dictionary:  2\n",
      "Enter the key:  a\n",
      "Enter the value:  2\n",
      "Enter the key:  b\n",
      "Enter the value:  10\n"
     ]
    },
    {
     "name": "stdout",
     "output_type": "stream",
     "text": [
      "The dictionary is:  {'a': 2, 'b': 10}\n"
     ]
    },
    {
     "name": "stdin",
     "output_type": "stream",
     "text": [
      "Enter the key to be search:  a\n"
     ]
    },
    {
     "name": "stdout",
     "output_type": "stream",
     "text": [
      "a is found and value of is 2\n"
     ]
    }
   ],
   "source": [
    "d = {}\n",
    "n = int(input('Enter the number of elements in dictionary: '))\n",
    "for i in range(n):\n",
    "    k=input('Enter the key: ')\n",
    "    v=int(input('Enter the value: '))\n",
    "    d[k]=v\n",
    "print('The dictionary is: ',d)\n",
    "num = input('Enter the key to be search: ')\n",
    "if num in d:\n",
    "    print(num, 'is found and value of is',d[num])\n",
    "else:\n",
    "    print(num,'key is not present')"
   ]
  },
  {
   "cell_type": "code",
   "execution_count": null,
   "id": "4df33fef-c938-448b-8fe1-25427aed9a3f",
   "metadata": {},
   "outputs": [],
   "source": [
    "# Write a program to Concatenate two dictioanries into one."
   ]
  },
  {
   "cell_type": "code",
   "execution_count": 42,
   "id": "c20e88d8-f6bc-42a6-a284-3712d38b6634",
   "metadata": {},
   "outputs": [
    {
     "name": "stdin",
     "output_type": "stream",
     "text": [
      "Enter the number of elements in dictionary d1:  2\n",
      "Enter the key for d1:  1\n",
      "Enter the value for d1:  100\n",
      "Enter the key for d1:  2\n",
      "Enter the value for d1:  200\n"
     ]
    },
    {
     "name": "stdout",
     "output_type": "stream",
     "text": [
      "The dictionary is:  {'1': 100, '2': 200}\n"
     ]
    },
    {
     "name": "stdin",
     "output_type": "stream",
     "text": [
      "Enter the number of elements in dictionary d2:  1\n",
      "Enter the key for d2:  a\n",
      "Enter the value for d2:  234\n"
     ]
    },
    {
     "name": "stdout",
     "output_type": "stream",
     "text": [
      "The dictionary is:  {'a': 234}\n",
      "The updated dictionary is: {'1': 100, '2': 200, 'a': 234}\n"
     ]
    }
   ],
   "source": [
    "d1 = {}\n",
    "d2 = {}\n",
    "n1 = int(input('Enter the number of elements in dictionary d1: '))\n",
    "for i in range(n1):\n",
    "    k1=input('Enter the key for d1: ')\n",
    "    v1=int(input('Enter the value for d1: '))\n",
    "    d1[k1]=v1\n",
    "print('The dictionary is: ',d1)\n",
    "n2 = int(input('Enter the number of elements in dictionary d2: '))\n",
    "for i in range(n2):\n",
    "    k2=input('Enter the key for d2: ')\n",
    "    v2=int(input('Enter the value for d2: '))\n",
    "    d2[k2]=v2\n",
    "print('The dictionary is: ',d2)\n",
    "d1.update(d2)\n",
    "print('The updated dictionary is:',d1)"
   ]
  },
  {
   "cell_type": "code",
   "execution_count": null,
   "id": "e537b28b-fcc0-45f1-8da8-1262dda00212",
   "metadata": {},
   "outputs": [],
   "source": [
    "# Write a program to calculate sum of all values in a dictionary."
   ]
  },
  {
   "cell_type": "code",
   "execution_count": 43,
   "id": "b7cb9cab-94e6-4d83-a505-8b241f58f4aa",
   "metadata": {},
   "outputs": [
    {
     "name": "stdin",
     "output_type": "stream",
     "text": [
      "Enter the number of elements in dictionary:  2\n",
      "Enter the key:  a\n",
      "Enter the value:  10\n",
      "Enter the key:  b\n",
      "Enter the value:  34\n"
     ]
    },
    {
     "name": "stdout",
     "output_type": "stream",
     "text": [
      "The dictionary is:  {'a': 10, 'b': 34}\n",
      "The sum of values is 44\n"
     ]
    }
   ],
   "source": [
    "d = {}\n",
    "sum=0\n",
    "n = int(input('Enter the number of elements in dictionary: '))\n",
    "for i in range(n):\n",
    "    k=input('Enter the key: ')\n",
    "    v=int(input('Enter the value: '))\n",
    "    d[k]=v\n",
    "print('The dictionary is: ',d)\n",
    "for i in d.values():\n",
    "    sum+=i\n",
    "print('The sum of values is',sum)"
   ]
  },
  {
   "cell_type": "code",
   "execution_count": null,
   "id": "68094eb1-7e96-43c9-8523-a62f039a29e6",
   "metadata": {},
   "outputs": [],
   "source": [
    "# Write a program to calculate multiplication of all values in a dictionary."
   ]
  },
  {
   "cell_type": "code",
   "execution_count": 44,
   "id": "fd52ed5a-c819-4135-bcc3-902160c50c8f",
   "metadata": {},
   "outputs": [
    {
     "name": "stdin",
     "output_type": "stream",
     "text": [
      "Enter the number of elements in dictionary:  2\n",
      "Enter the key:  a\n",
      "Enter the value:  2\n",
      "Enter the key:  b\n",
      "Enter the value:  34\n"
     ]
    },
    {
     "name": "stdout",
     "output_type": "stream",
     "text": [
      "The dictionary is:  {'a': 2, 'b': 34}\n",
      "The multiplication of values is 68\n"
     ]
    }
   ],
   "source": [
    "d = {}\n",
    "sum=1\n",
    "n = int(input('Enter the number of elements in dictionary: '))\n",
    "for i in range(n):\n",
    "    k=input('Enter the key: ')\n",
    "    v=int(input('Enter the value: '))\n",
    "    d[k]=v\n",
    "print('The dictionary is: ',d)\n",
    "for i in d.values():\n",
    "    sum*=i\n",
    "print('The multiplication of values is',sum)"
   ]
  },
  {
   "cell_type": "code",
   "execution_count": null,
   "id": "d065ccfa-63ae-478c-87c3-74e1668abc01",
   "metadata": {},
   "outputs": [],
   "source": []
  }
 ],
 "metadata": {
  "kernelspec": {
   "display_name": "Python 3 (ipykernel)",
   "language": "python",
   "name": "python3"
  },
  "language_info": {
   "codemirror_mode": {
    "name": "ipython",
    "version": 3
   },
   "file_extension": ".py",
   "mimetype": "text/x-python",
   "name": "python",
   "nbconvert_exporter": "python",
   "pygments_lexer": "ipython3",
   "version": "3.13.7"
  }
 },
 "nbformat": 4,
 "nbformat_minor": 5
}
