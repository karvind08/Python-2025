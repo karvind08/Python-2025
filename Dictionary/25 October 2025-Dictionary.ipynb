{
 "cells": [
  {
   "cell_type": "code",
   "execution_count": null,
   "id": "c70893fa-d844-4ffe-a314-47d4c3e4b6dd",
   "metadata": {},
   "outputs": [],
   "source": [
    "# Write a program to create a dictionary of students to store names and their marks obtianed in 5 subjects."
   ]
  },
  {
   "cell_type": "code",
   "execution_count": 2,
   "id": "ffcbd5ef-ca41-441b-8853-68fa3236a3a3",
   "metadata": {},
   "outputs": [
    {
     "name": "stdin",
     "output_type": "stream",
     "text": [
      "Enter the number of students in dictionary:  2\n",
      "Enter the student name:  Arvind\n",
      "Enter the marks:  70\n",
      "Enter the marks:  80\n",
      "Enter the marks:  85\n",
      "Enter the marks:  87\n",
      "Enter the marks:  78\n",
      "Enter the student name:  Yuvaan\n",
      "Enter the marks:  90\n",
      "Enter the marks:  98\n",
      "Enter the marks:  87\n",
      "Enter the marks:  99\n",
      "Enter the marks:  100\n"
     ]
    },
    {
     "name": "stdout",
     "output_type": "stream",
     "text": [
      "The students database {'Arvind': [70, 80, 85, 87, 78], 'Yuvaan': [90, 98, 87, 99, 100]}\n"
     ]
    }
   ],
   "source": [
    "students = {}\n",
    "n = int(input('Enter the number of students in dictionary: '))\n",
    "for i in range(n):\n",
    "    name = input('Enter the student name: ')\n",
    "    marks = []  \n",
    "    for j in range(5):\n",
    "        m = int(input('Enter the marks: '))\n",
    "        marks.append(m)\n",
    "    students[name] = marks\n",
    "print('The students database', students)\n"
   ]
  },
  {
   "cell_type": "code",
   "execution_count": null,
   "id": "8e80b314-7002-4e6e-9318-90b9462569ba",
   "metadata": {},
   "outputs": [],
   "source": [
    "# Write a program to create a dictionary of students to store names and their marks obtained in 5 subjects also check if a given student exists in a dictionary or not. if student exists print the marks otherwise print student not found."
   ]
  },
  {
   "cell_type": "code",
   "execution_count": null,
   "id": "bd4f3175-bf5c-43cf-9201-bc0002040d6d",
   "metadata": {},
   "outputs": [
    {
     "name": "stdin",
     "output_type": "stream",
     "text": [
      "Enter the number of students in dictionary:  2\n",
      "Enter the student name:  Arvind\n",
      "Enter the marks:  98\n",
      "Enter the marks:  89\n",
      "Enter the marks:  90\n",
      "Enter the marks:  91\n",
      "Enter the marks:  92\n",
      "Enter the student name:  93\n",
      "Enter the marks:  99\n",
      "Enter the marks:  99\n",
      "Enter the marks:  99\n",
      "Enter the marks:  98\n"
     ]
    }
   ],
   "source": [
    "students = {}\n",
    "n = int(input('Enter the number of students in dictionary: '))\n",
    "for i in range(n):\n",
    "    name = input('Enter the student name: ')\n",
    "    marks = []\n",
    "    for j in range(5):\n",
    "        m = int(input('Enter the marks: '))\n",
    "        marks.append(m)\n",
    "    students[name] = marks\n",
    "print('The students database',students)\n",
    "sname = input('Enter the name to be search:')\n",
    "if sname in students.keys():\n",
    "    print(sname,':',students[sname])\n",
    "else:\n",
    "    print('No Students Found')"
   ]
  }
 ],
 "metadata": {
  "kernelspec": {
   "display_name": "Python 3 (ipykernel)",
   "language": "python",
   "name": "python3"
  },
  "language_info": {
   "codemirror_mode": {
    "name": "ipython",
    "version": 3
   },
   "file_extension": ".py",
   "mimetype": "text/x-python",
   "name": "python",
   "nbconvert_exporter": "python",
   "pygments_lexer": "ipython3",
   "version": "3.13.7"
  }
 },
 "nbformat": 4,
 "nbformat_minor": 5
}
