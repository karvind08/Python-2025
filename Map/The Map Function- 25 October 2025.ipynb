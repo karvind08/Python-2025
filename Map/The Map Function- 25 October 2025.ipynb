{
 "cells": [
  {
   "cell_type": "code",
   "execution_count": null,
   "id": "669585aa-b69e-4d9a-b737-960f0acd09ab",
   "metadata": {},
   "outputs": [],
   "source": [
    "# Write a Python Program to calculate the area of circle. "
   ]
  },
  {
   "cell_type": "code",
   "execution_count": 3,
   "id": "81ae8593-ed37-4887-b7fb-279823966344",
   "metadata": {},
   "outputs": [
    {
     "name": "stdout",
     "output_type": "stream",
     "text": [
      "The area of circle is 12.566370614359172\n"
     ]
    }
   ],
   "source": [
    "from math import pi\n",
    "def area(r):\n",
    "    ''' Calculating the area of circle'''\n",
    "    a = pi*r**2\n",
    "    return(a)\n",
    "\n",
    "r = area(2)\n",
    "print(f'The area of circle is {r}')"
   ]
  },
  {
   "cell_type": "code",
   "execution_count": null,
   "id": "3d4bd601-29c9-427e-a8d0-26c4affef473",
   "metadata": {},
   "outputs": [],
   "source": [
    "# Write a Python Program to calculate the area of circle for List of radii. "
   ]
  },
  {
   "cell_type": "code",
   "execution_count": 12,
   "id": "52d6078f-f35a-49f2-be5d-8f8d95d722e7",
   "metadata": {},
   "outputs": [
    {
     "name": "stdout",
     "output_type": "stream",
     "text": [
      "The area is 3.141592653589793\n",
      "The area is 12.566370614359172\n",
      "The area is 28.274333882308138\n",
      "The area is 50.26548245743669\n",
      "The area is 78.53981633974483\n"
     ]
    }
   ],
   "source": [
    "from math import pi\n",
    "def area(r):\n",
    "    ''' Calculating the area of circle'''\n",
    "    a = pi*r**2\n",
    "    print(f'The area is {a}')\n",
    "\n",
    "r = [1,2,3,4,5]\n",
    "areas = []\n",
    "for i in r:\n",
    "    area(i)"
   ]
  },
  {
   "cell_type": "code",
   "execution_count": 11,
   "id": "c9deaee6-411b-4e12-bbc2-7ca316b382e5",
   "metadata": {},
   "outputs": [
    {
     "name": "stdout",
     "output_type": "stream",
     "text": [
      "['The area is 3.141592653589793', 'The area is 12.566370614359172', 'The area is 28.274333882308138', 'The area is 50.26548245743669', 'The area is 78.53981633974483']\n"
     ]
    }
   ],
   "source": [
    "from math import pi\n",
    "def area(r):\n",
    "    ''' Calculating the area of circle'''\n",
    "    a = pi*r**2\n",
    "    return f'The area is {a}'\n",
    "\n",
    "r = [1,2,3,4,5]\n",
    "areas = []\n",
    "for i in r:\n",
    "    a1 = area(i)\n",
    "    areas.append(a1)\n",
    "print(areas)"
   ]
  },
  {
   "cell_type": "code",
   "execution_count": 9,
   "id": "0b7e5b22-17d5-4410-9b45-30018a159c07",
   "metadata": {},
   "outputs": [
    {
     "name": "stdout",
     "output_type": "stream",
     "text": [
      "The area is 3.141592653589793\n",
      "The area is 12.566370614359172\n",
      "The area is 28.274333882308138\n",
      "The area is 50.26548245743669\n",
      "The area is 78.53981633974483\n"
     ]
    }
   ],
   "source": [
    "from math import pi\n",
    "def area(r):\n",
    "    ''' Calculating the area of circle'''\n",
    "    a = pi*r**2\n",
    "    return f'The area is {a}'\n",
    "\n",
    "r = [1,2,3,4,5]\n",
    "areas = []\n",
    "for i in r:\n",
    "    a1 = area(i)\n",
    "    areas.append(a1)\n",
    "\n",
    "for i in areas:\n",
    "    print(i)"
   ]
  },
  {
   "cell_type": "code",
   "execution_count": 13,
   "id": "00808a3a-bbcf-4c85-ad16-58981dd1f5ef",
   "metadata": {},
   "outputs": [
    {
     "name": "stdout",
     "output_type": "stream",
     "text": [
      "<map object at 0x000001ABF491B190>\n"
     ]
    }
   ],
   "source": [
    "from math import pi\n",
    "def area(r):\n",
    "    ''' Calculating the area of circle'''\n",
    "    a = pi*r**2\n",
    "    return f'The area is {a}'\n",
    "\n",
    "r = [1,2,3,4,5]\n",
    "areas = map(area,r)\n",
    "print(areas)"
   ]
  },
  {
   "cell_type": "code",
   "execution_count": 15,
   "id": "1b463059-403f-42be-8c4a-aa3f28cea0db",
   "metadata": {},
   "outputs": [
    {
     "data": {
      "text/plain": [
       "map"
      ]
     },
     "execution_count": 15,
     "metadata": {},
     "output_type": "execute_result"
    }
   ],
   "source": [
    "type(areas)"
   ]
  },
  {
   "cell_type": "code",
   "execution_count": 14,
   "id": "729bb842-e89b-4a72-8fff-22a081fc9678",
   "metadata": {},
   "outputs": [
    {
     "name": "stdout",
     "output_type": "stream",
     "text": [
      "The area is 3.141592653589793\n",
      "The area is 12.566370614359172\n",
      "The area is 28.274333882308138\n",
      "The area is 50.26548245743669\n",
      "The area is 78.53981633974483\n"
     ]
    }
   ],
   "source": [
    "from math import pi\n",
    "def area(r):\n",
    "    ''' Calculating the area of circle'''\n",
    "    a = pi*r**2\n",
    "    return f'The area is {a}'\n",
    "\n",
    "r = [1,2,3,4,5]\n",
    "areas = map(area,r)\n",
    "for i in areas:\n",
    "    print(i)"
   ]
  },
  {
   "cell_type": "code",
   "execution_count": null,
   "id": "82c1e6ef-0565-4b20-873e-ffa786228408",
   "metadata": {},
   "outputs": [],
   "source": [
    "# Use of lambda in map()"
   ]
  },
  {
   "cell_type": "code",
   "execution_count": 19,
   "id": "da022a94-eb2c-419c-8d54-67d70b29e5cb",
   "metadata": {},
   "outputs": [
    {
     "name": "stdout",
     "output_type": "stream",
     "text": [
      "The area is 3.141592653589793\n",
      "The area is 12.566370614359172\n",
      "The area is 28.274333882308138\n",
      "The area is 50.26548245743669\n",
      "The area is 78.53981633974483\n"
     ]
    }
   ],
   "source": [
    "from math import pi\n",
    "\n",
    "r = [1,2,3,4,5]\n",
    "areas = map(lambda r: pi*r**2,r)\n",
    "for i in areas:\n",
    "    print(f'The area is {i}')"
   ]
  },
  {
   "cell_type": "code",
   "execution_count": null,
   "id": "6b35d040-311d-4978-aff0-de6268f3e754",
   "metadata": {},
   "outputs": [],
   "source": [
    "# Write a Python program to check even or odd number"
   ]
  },
  {
   "cell_type": "code",
   "execution_count": 22,
   "id": "b9e6e8c7-f37e-427b-aafb-1472a9106bd2",
   "metadata": {},
   "outputs": [
    {
     "name": "stdin",
     "output_type": "stream",
     "text": [
      "Enter the number:  6\n"
     ]
    },
    {
     "data": {
      "text/plain": [
       "'6 is even'"
      ]
     },
     "execution_count": 22,
     "metadata": {},
     "output_type": "execute_result"
    }
   ],
   "source": [
    "def evenodd(n):\n",
    "    ''' Python code to check even or odd '''\n",
    "    if n%2==0:\n",
    "        return f'{n} is even'\n",
    "    else:\n",
    "        return f'{n} is odd'\n",
    "\n",
    "n1 = int(input('Enter the number: '))\n",
    "evenodd(n1)"
   ]
  },
  {
   "cell_type": "code",
   "execution_count": 29,
   "id": "4a9a9a7f-2283-4efe-918e-03ffaf461802",
   "metadata": {},
   "outputs": [
    {
     "name": "stdout",
     "output_type": "stream",
     "text": [
      "1 is odd\n",
      "2 is even\n",
      "3 is odd\n",
      "4 is even\n"
     ]
    }
   ],
   "source": [
    "def evenodd(n):\n",
    "    ''' Python code to check even or odd '''\n",
    "    if n%2==0:\n",
    "        return f'{n} is even'\n",
    "    else:\n",
    "        return f'{n} is odd'\n",
    "\n",
    "numbers = [1,2,3,4]\n",
    "L = []\n",
    "for i in numbers:\n",
    "    e = evenodd(i)\n",
    "    L.append(e)\n",
    "for i in L:\n",
    "    print(i)"
   ]
  },
  {
   "cell_type": "code",
   "execution_count": 30,
   "id": "7a692ac9-ac9d-42d9-80c9-6bf786406af0",
   "metadata": {},
   "outputs": [
    {
     "name": "stdout",
     "output_type": "stream",
     "text": [
      "1 is odd\n",
      "2 is even\n",
      "3 is odd\n",
      "4 is even\n"
     ]
    }
   ],
   "source": [
    "def evenodd(n):\n",
    "    ''' Python code to check even or odd '''\n",
    "    if n%2==0:\n",
    "        return f'{n} is even'\n",
    "    else:\n",
    "        return f'{n} is odd'\n",
    "\n",
    "numbers = [1,2,3,4]\n",
    "res = map(evenodd,numbers)\n",
    "for i in res:\n",
    "    print(i)"
   ]
  },
  {
   "cell_type": "code",
   "execution_count": 31,
   "id": "e03bca85-e43d-4626-94a6-4bc13b2fc620",
   "metadata": {},
   "outputs": [
    {
     "name": "stdout",
     "output_type": "stream",
     "text": [
      "False\n",
      "True\n",
      "False\n",
      "True\n"
     ]
    }
   ],
   "source": [
    "numbers = [1,2,3,4]\n",
    "res = map(lambda n:n%2==0,numbers)\n",
    "for i in res:\n",
    "    print(i)"
   ]
  },
  {
   "cell_type": "code",
   "execution_count": 32,
   "id": "ced7fa8e-7075-4466-9682-12ce91e237b5",
   "metadata": {},
   "outputs": [
    {
     "name": "stdout",
     "output_type": "stream",
     "text": [
      "False\n",
      "True\n",
      "False\n",
      "True\n"
     ]
    }
   ],
   "source": [
    "numbers = [1,2,3,4]\n",
    "res = list(map(lambda n:n%2==0,numbers))\n",
    "for i in res:\n",
    "    print(i)"
   ]
  },
  {
   "cell_type": "markdown",
   "id": "8c760998-da2c-4104-a05f-69f3a984247c",
   "metadata": {},
   "source": [
    "# Filter Function"
   ]
  },
  {
   "cell_type": "code",
   "execution_count": 33,
   "id": "2ab0d157-017b-4a78-be93-f3f2d471a758",
   "metadata": {},
   "outputs": [
    {
     "name": "stdout",
     "output_type": "stream",
     "text": [
      "1 is odd\n",
      "2 is even\n",
      "3 is odd\n",
      "4 is even\n"
     ]
    }
   ],
   "source": [
    "def evenodd(n):\n",
    "    ''' Python code to check even or odd '''\n",
    "    if n%2==0:\n",
    "        return f'{n} is even'\n",
    "    else:\n",
    "        return f'{n} is odd'\n",
    "\n",
    "numbers = [1,2,3,4]\n",
    "res = map(evenodd,numbers)\n",
    "for i in res:\n",
    "    print(i)"
   ]
  },
  {
   "cell_type": "code",
   "execution_count": 35,
   "id": "f66d268d-a018-47c3-a1aa-7c5fbfa99359",
   "metadata": {},
   "outputs": [
    {
     "name": "stdout",
     "output_type": "stream",
     "text": [
      "2\n",
      "4\n"
     ]
    }
   ],
   "source": [
    "def evenodd(n):\n",
    "    ''' Python code to check even or odd '''\n",
    "    if n%2==0:\n",
    "        return True\n",
    "    else:\n",
    "        return False\n",
    "\n",
    "numbers = [1,2,3,4]\n",
    "res = filter(evenodd,numbers)\n",
    "for i in res:\n",
    "    print(i)"
   ]
  },
  {
   "cell_type": "code",
   "execution_count": null,
   "id": "5f417969-d7af-48f9-8ca3-63abaaf09a1c",
   "metadata": {},
   "outputs": [],
   "source": [
    "numbers = [1,2,3,4]\n",
    "res = filter(lambda x:x%2==0,numbers)\n",
    "for i in res:\n",
    "    print(i)"
   ]
  },
  {
   "cell_type": "code",
   "execution_count": 38,
   "id": "8757bc37-06c0-4b79-bf91-e984d1038da6",
   "metadata": {},
   "outputs": [
    {
     "name": "stdout",
     "output_type": "stream",
     "text": [
      "1\n",
      "3\n",
      "5\n"
     ]
    }
   ],
   "source": [
    "numbers = [1,2,3,4,5]\n",
    "res = filter(lambda x:x%2!=0,numbers)\n",
    "for i in res:\n",
    "    print(i)"
   ]
  },
  {
   "cell_type": "code",
   "execution_count": null,
   "id": "eea11ddf-5f39-481b-8ba1-5213d8931100",
   "metadata": {},
   "outputs": [],
   "source": [
    "# Zip() Function"
   ]
  },
  {
   "cell_type": "code",
   "execution_count": 39,
   "id": "fa676e64-19b2-4136-8993-f85dd7bad269",
   "metadata": {},
   "outputs": [
    {
     "name": "stdout",
     "output_type": "stream",
     "text": [
      "{1: 4, 2: 5, 3: 6}\n"
     ]
    }
   ],
   "source": [
    "a = (1,2,3)\n",
    "b= (4,5,6)\n",
    "r = dict(zip(a,b))\n",
    "print(r)"
   ]
  },
  {
   "cell_type": "code",
   "execution_count": 40,
   "id": "09bd7026-6162-4f7a-ac56-5d99c6a9b13b",
   "metadata": {},
   "outputs": [
    {
     "name": "stdout",
     "output_type": "stream",
     "text": [
      "{1: 4, 2: 5, 3: 6}\n"
     ]
    }
   ],
   "source": [
    "a = [1,2,3]\n",
    "b= [4,5,6]\n",
    "r = dict(zip(a,b))\n",
    "print(r)"
   ]
  },
  {
   "cell_type": "code",
   "execution_count": 41,
   "id": "58fc3909-976a-410f-8fd2-89e19b825548",
   "metadata": {},
   "outputs": [
    {
     "name": "stdout",
     "output_type": "stream",
     "text": [
      "(0, 'P')\n",
      "(1, 'y')\n",
      "(2, 't')\n",
      "(3, 'h')\n",
      "(4, 'o')\n",
      "(5, 'n')\n"
     ]
    }
   ],
   "source": [
    "s  = 'Python'\n",
    "r = enumerate(s)\n",
    "for i in r:\n",
    "    print(i)"
   ]
  },
  {
   "cell_type": "code",
   "execution_count": 42,
   "id": "a8b47434-e891-449c-a62f-51d21ae938ef",
   "metadata": {},
   "outputs": [
    {
     "name": "stdout",
     "output_type": "stream",
     "text": [
      "[(0, 'P'), (1, 'y'), (2, 't'), (3, 'h'), (4, 'o'), (5, 'n')]\n"
     ]
    }
   ],
   "source": [
    "s  = 'Python'\n",
    "r = list(enumerate(s))\n",
    "print(r)"
   ]
  },
  {
   "cell_type": "code",
   "execution_count": null,
   "id": "113540b7-d81a-4aa7-884d-2ba914557d2c",
   "metadata": {},
   "outputs": [],
   "source": [
    "# Creating single tuple element using zip"
   ]
  },
  {
   "cell_type": "code",
   "execution_count": 43,
   "id": "a537897b-d9eb-4063-8bc2-4d9db4aef8cf",
   "metadata": {},
   "outputs": [
    {
     "name": "stdout",
     "output_type": "stream",
     "text": [
      "('a', 10)\n",
      "('b', 20)\n",
      "('c', 30)\n",
      "('d', 40)\n"
     ]
    }
   ],
   "source": [
    "a = ['a','b','c','d']\n",
    "b= [10,20,30,40]\n",
    "for i in zip(a,b):\n",
    "    print(i)"
   ]
  },
  {
   "cell_type": "code",
   "execution_count": null,
   "id": "20bdb938-09d5-44ee-9776-cfbe949e1016",
   "metadata": {},
   "outputs": [],
   "source": [
    "# Printing both the elements using zip"
   ]
  },
  {
   "cell_type": "code",
   "execution_count": 44,
   "id": "3b6d8df6-9ba4-4c2f-9da3-bab2882c494b",
   "metadata": {},
   "outputs": [
    {
     "name": "stdout",
     "output_type": "stream",
     "text": [
      "a 10\n",
      "b 20\n",
      "c 30\n",
      "d 40\n"
     ]
    }
   ],
   "source": [
    "a = ['a','b','c','d']\n",
    "b= [10,20,30,40]\n",
    "for i,j in zip(a,b):\n",
    "    print(i,j)"
   ]
  },
  {
   "cell_type": "code",
   "execution_count": null,
   "id": "2d612d3a-9e56-431b-a8ae-2c3db3f07846",
   "metadata": {},
   "outputs": [],
   "source": [
    "# Creating Dictionary"
   ]
  },
  {
   "cell_type": "code",
   "execution_count": 45,
   "id": "b249ae39-6e25-41ab-875e-9e776d92da70",
   "metadata": {},
   "outputs": [
    {
     "name": "stdout",
     "output_type": "stream",
     "text": [
      "{'a': 10, 'b': 20, 'c': 30, 'd': 40}\n"
     ]
    }
   ],
   "source": [
    "a = ['a','b','c','d']\n",
    "b= [10,20,30,40]\n",
    "d = dict(zip(a,b))\n",
    "print(d)"
   ]
  },
  {
   "cell_type": "code",
   "execution_count": null,
   "id": "5f0298c4-56f3-45fe-8c46-203301249eee",
   "metadata": {},
   "outputs": [],
   "source": []
  },
  {
   "cell_type": "code",
   "execution_count": 50,
   "id": "24ee63a3-ab96-406a-bc62-231c9dd54b79",
   "metadata": {},
   "outputs": [
    {
     "name": "stdin",
     "output_type": "stream",
     "text": [
      "Enter the string:  AgFds\n"
     ]
    },
    {
     "name": "stdout",
     "output_type": "stream",
     "text": [
      "The string is  AGFDS\n"
     ]
    }
   ],
   "source": [
    "s = input('Enter the string: ')\n",
    "n=0\n",
    "for i in s[:4]: \n",
    "        if i.isupper():\n",
    "            n =n+1 \n",
    "if n>= 2:\n",
    "    print('The string is ',s.upper())\n",
    "else:\n",
    "    print(f'No change is the string {s}')"
   ]
  }
 ],
 "metadata": {
  "kernelspec": {
   "display_name": "Python 3 (ipykernel)",
   "language": "python",
   "name": "python3"
  },
  "language_info": {
   "codemirror_mode": {
    "name": "ipython",
    "version": 3
   },
   "file_extension": ".py",
   "mimetype": "text/x-python",
   "name": "python",
   "nbconvert_exporter": "python",
   "pygments_lexer": "ipython3",
   "version": "3.13.7"
  }
 },
 "nbformat": 4,
 "nbformat_minor": 5
}
