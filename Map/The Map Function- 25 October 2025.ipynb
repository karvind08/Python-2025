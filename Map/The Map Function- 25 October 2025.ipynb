{
 "cells": [
  {
   "cell_type": "code",
   "execution_count": null,
   "id": "669585aa-b69e-4d9a-b737-960f0acd09ab",
   "metadata": {},
   "outputs": [],
   "source": [
    "# Write a Python Program to calculate the area of circle. "
   ]
  },
  {
   "cell_type": "code",
   "execution_count": 3,
   "id": "81ae8593-ed37-4887-b7fb-279823966344",
   "metadata": {},
   "outputs": [
    {
     "name": "stdout",
     "output_type": "stream",
     "text": [
      "The area of circle is 12.566370614359172\n"
     ]
    }
   ],
   "source": [
    "from math import pi\n",
    "def area(r):\n",
    "    ''' Calculating the area of circle'''\n",
    "    a = pi*r**2\n",
    "    return(a)\n",
    "\n",
    "r = area(2)\n",
    "print(f'The area of circle is {r}')"
   ]
  },
  {
   "cell_type": "code",
   "execution_count": null,
   "id": "3d4bd601-29c9-427e-a8d0-26c4affef473",
   "metadata": {},
   "outputs": [],
   "source": [
    "# Write a Python Program to calculate the area of circle for List of radii. "
   ]
  },
  {
   "cell_type": "code",
   "execution_count": 12,
   "id": "52d6078f-f35a-49f2-be5d-8f8d95d722e7",
   "metadata": {},
   "outputs": [
    {
     "name": "stdout",
     "output_type": "stream",
     "text": [
      "The area is 3.141592653589793\n",
      "The area is 12.566370614359172\n",
      "The area is 28.274333882308138\n",
      "The area is 50.26548245743669\n",
      "The area is 78.53981633974483\n"
     ]
    }
   ],
   "source": [
    "from math import pi\n",
    "def area(r):\n",
    "    ''' Calculating the area of circle'''\n",
    "    a = pi*r**2\n",
    "    print(f'The area is {a}')\n",
    "\n",
    "r = [1,2,3,4,5]\n",
    "areas = []\n",
    "for i in r:\n",
    "    area(i)"
   ]
  },
  {
   "cell_type": "code",
   "execution_count": 11,
   "id": "c9deaee6-411b-4e12-bbc2-7ca316b382e5",
   "metadata": {},
   "outputs": [
    {
     "name": "stdout",
     "output_type": "stream",
     "text": [
      "['The area is 3.141592653589793', 'The area is 12.566370614359172', 'The area is 28.274333882308138', 'The area is 50.26548245743669', 'The area is 78.53981633974483']\n"
     ]
    }
   ],
   "source": [
    "from math import pi\n",
    "def area(r):\n",
    "    ''' Calculating the area of circle'''\n",
    "    a = pi*r**2\n",
    "    return f'The area is {a}'\n",
    "\n",
    "r = [1,2,3,4,5]\n",
    "areas = []\n",
    "for i in r:\n",
    "    a1 = area(i)\n",
    "    areas.append(a1)\n",
    "print(areas)"
   ]
  },
  {
   "cell_type": "code",
   "execution_count": 9,
   "id": "0b7e5b22-17d5-4410-9b45-30018a159c07",
   "metadata": {},
   "outputs": [
    {
     "name": "stdout",
     "output_type": "stream",
     "text": [
      "The area is 3.141592653589793\n",
      "The area is 12.566370614359172\n",
      "The area is 28.274333882308138\n",
      "The area is 50.26548245743669\n",
      "The area is 78.53981633974483\n"
     ]
    }
   ],
   "source": [
    "from math import pi\n",
    "def area(r):\n",
    "    ''' Calculating the area of circle'''\n",
    "    a = pi*r**2\n",
    "    return f'The area is {a}'\n",
    "\n",
    "r = [1,2,3,4,5]\n",
    "areas = []\n",
    "for i in r:\n",
    "    a1 = area(i)\n",
    "    areas.append(a1)\n",
    "\n",
    "for i in areas:\n",
    "    print(i)"
   ]
  },
  {
   "cell_type": "code",
   "execution_count": 13,
   "id": "00808a3a-bbcf-4c85-ad16-58981dd1f5ef",
   "metadata": {},
   "outputs": [
    {
     "name": "stdout",
     "output_type": "stream",
     "text": [
      "<map object at 0x000001ABF491B190>\n"
     ]
    }
   ],
   "source": [
    "from math import pi\n",
    "def area(r):\n",
    "    ''' Calculating the area of circle'''\n",
    "    a = pi*r**2\n",
    "    return f'The area is {a}'\n",
    "\n",
    "r = [1,2,3,4,5]\n",
    "areas = map(area,r)\n",
    "print(areas)"
   ]
  },
  {
   "cell_type": "code",
   "execution_count": 15,
   "id": "1b463059-403f-42be-8c4a-aa3f28cea0db",
   "metadata": {},
   "outputs": [
    {
     "data": {
      "text/plain": [
       "map"
      ]
     },
     "execution_count": 15,
     "metadata": {},
     "output_type": "execute_result"
    }
   ],
   "source": [
    "type(areas)"
   ]
  },
  {
   "cell_type": "code",
   "execution_count": 14,
   "id": "729bb842-e89b-4a72-8fff-22a081fc9678",
   "metadata": {},
   "outputs": [
    {
     "name": "stdout",
     "output_type": "stream",
     "text": [
      "The area is 3.141592653589793\n",
      "The area is 12.566370614359172\n",
      "The area is 28.274333882308138\n",
      "The area is 50.26548245743669\n",
      "The area is 78.53981633974483\n"
     ]
    }
   ],
   "source": [
    "from math import pi\n",
    "def area(r):\n",
    "    ''' Calculating the area of circle'''\n",
    "    a = pi*r**2\n",
    "    return f'The area is {a}'\n",
    "\n",
    "r = [1,2,3,4,5]\n",
    "areas = map(area,r)\n",
    "for i in areas:\n",
    "    print(i)"
   ]
  },
  {
   "cell_type": "code",
   "execution_count": null,
   "id": "82c1e6ef-0565-4b20-873e-ffa786228408",
   "metadata": {},
   "outputs": [],
   "source": [
    "# Use of lambda in map()"
   ]
  },
  {
   "cell_type": "code",
   "execution_count": 19,
   "id": "da022a94-eb2c-419c-8d54-67d70b29e5cb",
   "metadata": {},
   "outputs": [
    {
     "name": "stdout",
     "output_type": "stream",
     "text": [
      "The area is 3.141592653589793\n",
      "The area is 12.566370614359172\n",
      "The area is 28.274333882308138\n",
      "The area is 50.26548245743669\n",
      "The area is 78.53981633974483\n"
     ]
    }
   ],
   "source": [
    "from math import pi\n",
    "\n",
    "r = [1,2,3,4,5]\n",
    "areas = map(lambda r: pi*r**2,r)\n",
    "for i in areas:\n",
    "    print(f'The area is {i}')"
   ]
  }
 ],
 "metadata": {
  "kernelspec": {
   "display_name": "Python 3 (ipykernel)",
   "language": "python",
   "name": "python3"
  },
  "language_info": {
   "codemirror_mode": {
    "name": "ipython",
    "version": 3
   },
   "file_extension": ".py",
   "mimetype": "text/x-python",
   "name": "python",
   "nbconvert_exporter": "python",
   "pygments_lexer": "ipython3",
   "version": "3.13.7"
  }
 },
 "nbformat": 4,
 "nbformat_minor": 5
}
