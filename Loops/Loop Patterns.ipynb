{
 "cells": [
  {
   "cell_type": "markdown",
   "id": "6167c7f1-c35e-41c1-aa4d-cf5bfc05b532",
   "metadata": {},
   "source": [
    "### Nested For loops"
   ]
  },
  {
   "cell_type": "code",
   "execution_count": 3,
   "id": "386f887a-b64a-4f40-9950-cb0c7ea53e35",
   "metadata": {},
   "outputs": [
    {
     "name": "stdout",
     "output_type": "stream",
     "text": [
      "0 0\n",
      "0 1\n",
      "0 2\n",
      "1 0\n",
      "1 1\n",
      "1 2\n",
      "2 0\n",
      "2 1\n",
      "2 2\n"
     ]
    }
   ],
   "source": [
    "for i in range(3):\n",
    "    for j in range(3):\n",
    "        print(i,j)"
   ]
  },
  {
   "cell_type": "code",
   "execution_count": 4,
   "id": "d86ebf50-c6b8-482e-95f7-d422e0afb5c7",
   "metadata": {},
   "outputs": [
    {
     "name": "stdout",
     "output_type": "stream",
     "text": [
      "0 0\n",
      "0 1\n",
      "0 2\n"
     ]
    },
    {
     "ename": "KeyboardInterrupt",
     "evalue": "",
     "output_type": "error",
     "traceback": [
      "\u001b[31m---------------------------------------------------------------------------\u001b[39m",
      "\u001b[31mKeyboardInterrupt\u001b[39m                         Traceback (most recent call last)",
      "\u001b[36mCell\u001b[39m\u001b[36m \u001b[39m\u001b[32mIn[4]\u001b[39m\u001b[32m, line 2\u001b[39m\n\u001b[32m      1\u001b[39m m=n=\u001b[32m0\u001b[39m\n\u001b[32m----> \u001b[39m\u001b[32m2\u001b[39m \u001b[38;5;28;01mwhile\u001b[39;00m n<\u001b[32m3\u001b[39m:\n\u001b[32m      3\u001b[39m     \u001b[38;5;28;01mwhile\u001b[39;00m m<\u001b[32m3\u001b[39m:\n\u001b[32m      4\u001b[39m         \u001b[38;5;28mprint\u001b[39m(n,m)\n",
      "\u001b[31mKeyboardInterrupt\u001b[39m: "
     ]
    }
   ],
   "source": [
    "m=n=0\n",
    "while n<3:\n",
    "    while m<3:\n",
    "        print(n,m)\n",
    "        m = m+1\n",
    "n = n+1"
   ]
  },
  {
   "cell_type": "code",
   "execution_count": 7,
   "id": "d81ebfbe-0da8-4668-af83-9999ebd0ba70",
   "metadata": {},
   "outputs": [
    {
     "name": "stdout",
     "output_type": "stream",
     "text": [
      "    *\n",
      "   **\n",
      "  ***\n",
      " ****\n",
      "*****\n"
     ]
    }
   ],
   "source": [
    "for i in range(5):\n",
    "    for j in range(5-i-1):\n",
    "        print(' ', end='')\n",
    "    for k in range(i+1):\n",
    "        print('*',end='')\n",
    "    print()"
   ]
  },
  {
   "cell_type": "code",
   "execution_count": 21,
   "id": "28035e77-33b2-4661-b2a7-d4457ec60483",
   "metadata": {},
   "outputs": [
    {
     "name": "stdout",
     "output_type": "stream",
     "text": [
      "    1\n",
      "   12\n",
      "  123\n",
      " 1234\n",
      "12345\n"
     ]
    }
   ],
   "source": [
    "for i in range(1,6):\n",
    "    for j in range(6-i-1):\n",
    "        print(' ', end='')\n",
    "    for k in range(i):\n",
    "        print(k+1,end='')\n",
    "    print()"
   ]
  },
  {
   "cell_type": "code",
   "execution_count": 23,
   "id": "150c6f59-dfd7-478d-b184-69ea4c23bfcb",
   "metadata": {},
   "outputs": [
    {
     "name": "stdout",
     "output_type": "stream",
     "text": [
      "    1\n",
      "   22\n",
      "  333\n",
      " 4444\n",
      "55555\n"
     ]
    }
   ],
   "source": [
    "for i in range(1,6):\n",
    "    for j in range(6-i-1):\n",
    "        print(' ', end='')\n",
    "    for k in range(i):\n",
    "        print(i,end='')\n",
    "    print()"
   ]
  },
  {
   "cell_type": "code",
   "execution_count": 25,
   "id": "8bc5c17d-c37b-4b8c-91b5-341c38c6111f",
   "metadata": {},
   "outputs": [
    {
     "name": "stdout",
     "output_type": "stream",
     "text": [
      "    A\n",
      "   AB\n",
      "  ABC\n",
      " ABCD\n",
      "ABCDE\n"
     ]
    }
   ],
   "source": [
    "for i in range(65,70):\n",
    "    for j in range(70-i-1):\n",
    "        print(' ', end='')\n",
    "    for k in range(65,i+1):\n",
    "        print(chr(k),end='')\n",
    "    print()"
   ]
  },
  {
   "cell_type": "code",
   "execution_count": 26,
   "id": "98348e8e-815d-4057-b8cf-9d1d23d83f01",
   "metadata": {},
   "outputs": [
    {
     "name": "stdout",
     "output_type": "stream",
     "text": [
      "    A\n",
      "   BB\n",
      "  CCC\n",
      " DDDD\n",
      "EEEEE\n"
     ]
    }
   ],
   "source": [
    "for i in range(65,70):\n",
    "    for j in range(70-i-1):\n",
    "        print(' ', end='')\n",
    "    for k in range(65,i+1):\n",
    "        print(chr(i),end='')\n",
    "    print()"
   ]
  },
  {
   "cell_type": "code",
   "execution_count": 39,
   "id": "2045ac7b-1974-48b1-85b6-27b2034b1d58",
   "metadata": {},
   "outputs": [
    {
     "name": "stdout",
     "output_type": "stream",
     "text": [
      "    1\n",
      "   21\n",
      "  321\n",
      " 4321\n",
      "54321\n"
     ]
    }
   ],
   "source": [
    "for i in range(5):\n",
    "    for j in range(5-i-1):\n",
    "        print(' ', end='')\n",
    "    for k in range(i,-1,-1):\n",
    "        print(k+1,end='')\n",
    "    print()"
   ]
  },
  {
   "cell_type": "markdown",
   "id": "335440eb-4060-4acc-9226-a8b1fbfac7b5",
   "metadata": {},
   "source": [
    "### Range() in Negative ###"
   ]
  },
  {
   "cell_type": "code",
   "execution_count": 34,
   "id": "ff0b78cc-8347-4153-a13b-88566987c142",
   "metadata": {},
   "outputs": [
    {
     "name": "stdout",
     "output_type": "stream",
     "text": [
      "[0, 1, 2, 3, 4]\n"
     ]
    }
   ],
   "source": [
    "a = range(5)\n",
    "b = list(a)\n",
    "print(b)"
   ]
  },
  {
   "cell_type": "code",
   "execution_count": 35,
   "id": "45c75b19-2bea-4c13-aaa4-c50191e48dcf",
   "metadata": {},
   "outputs": [
    {
     "name": "stdout",
     "output_type": "stream",
     "text": [
      "[1, 2, 3, 4]\n"
     ]
    }
   ],
   "source": [
    "a = range(1,5)\n",
    "b = list(a)\n",
    "print(b)"
   ]
  },
  {
   "cell_type": "code",
   "execution_count": 36,
   "id": "e17fada9-b643-43d9-9fda-537c52656b72",
   "metadata": {},
   "outputs": [
    {
     "name": "stdout",
     "output_type": "stream",
     "text": [
      "[1, 3]\n"
     ]
    }
   ],
   "source": [
    "a = range(1,5,2)\n",
    "b = list(a)\n",
    "print(b)"
   ]
  },
  {
   "cell_type": "code",
   "execution_count": 38,
   "id": "5d2e6d18-dece-4683-9d93-12d54a20d596",
   "metadata": {},
   "outputs": [
    {
     "name": "stdout",
     "output_type": "stream",
     "text": [
      "[10, 9, 8, 7, 6, 5, 4, 3, 2, 1]\n"
     ]
    }
   ],
   "source": [
    "a = range(10,0,-1)\n",
    "b = list(a)\n",
    "print(b)"
   ]
  },
  {
   "cell_type": "markdown",
   "id": "cd1f9d57-9074-4cbc-acb9-23affe16880d",
   "metadata": {},
   "source": [
    "### Print the first 10 natural numbers using for loop."
   ]
  },
  {
   "cell_type": "code",
   "execution_count": 43,
   "id": "7ffd63f5-8754-47a6-ace2-ff89fff247a9",
   "metadata": {},
   "outputs": [
    {
     "name": "stdout",
     "output_type": "stream",
     "text": [
      "1 2 3 4 5 6 7 8 9 10 11 12 13 14 15 16 17 18 19 "
     ]
    }
   ],
   "source": [
    "for i in range(1,20):\n",
    "    print(i,end=' ')"
   ]
  },
  {
   "cell_type": "markdown",
   "id": "07e9c793-a412-499d-bdde-2b79214528c7",
   "metadata": {},
   "source": [
    "### Python program to print all the even numbers within the given range."
   ]
  },
  {
   "cell_type": "code",
   "execution_count": 45,
   "id": "02103266-99e3-44c1-9587-650432749a65",
   "metadata": {},
   "outputs": [
    {
     "name": "stdout",
     "output_type": "stream",
     "text": [
      "1 3 5 7 9 11 13 15 17 19 "
     ]
    }
   ],
   "source": [
    "for i in range(20):\n",
    "    if i%2!=0:\n",
    "        print(i,end=' ')"
   ]
  },
  {
   "cell_type": "markdown",
   "id": "3ed32b12-e40d-4d79-903f-f245a999b4a4",
   "metadata": {},
   "source": [
    "### Python program to calculate the sum of all numbers from 1 to a given number."
   ]
  },
  {
   "cell_type": "code",
   "execution_count": 47,
   "id": "3af3dce2-ff56-4052-9de0-7441987d5e07",
   "metadata": {},
   "outputs": [
    {
     "name": "stdin",
     "output_type": "stream",
     "text": [
      "Enter the number:  5\n"
     ]
    },
    {
     "name": "stdout",
     "output_type": "stream",
     "text": [
      "The sum of all numbers:  15\n"
     ]
    }
   ],
   "source": [
    "sum = 0\n",
    "n=int(input('Enter the number: '))\n",
    "for i in range(1,n+1):\n",
    "    sum = sum+i\n",
    "print('The sum of all numbers: ',sum)\n",
    "    "
   ]
  },
  {
   "cell_type": "markdown",
   "id": "77a908cb-40b6-4ef9-af1a-37486b8941f0",
   "metadata": {},
   "source": [
    "### Python program to calculate the sum of all the odd numbers within the given range."
   ]
  },
  {
   "cell_type": "code",
   "execution_count": 49,
   "id": "0037a7c3-095c-451a-aa33-e9a7cfcfd08e",
   "metadata": {},
   "outputs": [
    {
     "name": "stdin",
     "output_type": "stream",
     "text": [
      "Enter the number:  5\n"
     ]
    },
    {
     "name": "stdout",
     "output_type": "stream",
     "text": [
      "The sum of all numbers:  9\n"
     ]
    }
   ],
   "source": [
    "sum = 0\n",
    "n=int(input('Enter the number: '))\n",
    "for i in range(1,n+1):\n",
    "    if i%2!=0:\n",
    "        sum = sum+i\n",
    "print('The sum of all numbers: ',sum)"
   ]
  },
  {
   "cell_type": "markdown",
   "id": "5a468d34-bdc2-47e5-b478-22e8d0e0c184",
   "metadata": {},
   "source": [
    "### Python program to print a multiplication table of a given number"
   ]
  },
  {
   "cell_type": "code",
   "execution_count": 51,
   "id": "2b45d26b-5d86-4801-9dba-d00e6cb364a1",
   "metadata": {},
   "outputs": [
    {
     "name": "stdin",
     "output_type": "stream",
     "text": [
      "Enter the number:  6\n"
     ]
    },
    {
     "name": "stdout",
     "output_type": "stream",
     "text": [
      "6 * 1 = 6\n",
      "6 * 2 = 12\n",
      "6 * 3 = 18\n",
      "6 * 4 = 24\n",
      "6 * 5 = 30\n",
      "6 * 6 = 36\n",
      "6 * 7 = 42\n",
      "6 * 8 = 48\n",
      "6 * 9 = 54\n",
      "6 * 10 = 60\n"
     ]
    }
   ],
   "source": [
    "n=int(input('Enter the number: '))\n",
    "for i in range(1,11):\n",
    "    print(n,'*',i,'=',n*i)"
   ]
  },
  {
   "cell_type": "markdown",
   "id": "bd49bf16-22af-4994-9318-290442530c32",
   "metadata": {},
   "source": [
    "### Python program to count the total number of digits in a number."
   ]
  },
  {
   "cell_type": "code",
   "execution_count": 53,
   "id": "ca6666bf-c9d6-4abd-b4ed-2142bffd7408",
   "metadata": {},
   "outputs": [
    {
     "name": "stdin",
     "output_type": "stream",
     "text": [
      "Enter the number:  193474655\n"
     ]
    },
    {
     "name": "stdout",
     "output_type": "stream",
     "text": [
      "9\n"
     ]
    }
   ],
   "source": [
    "count=0\n",
    "n=input('Enter the number: ')\n",
    "for i in n:\n",
    "    count = count+1\n",
    "print(count)"
   ]
  },
  {
   "cell_type": "code",
   "execution_count": 55,
   "id": "2ae831dc-cbc9-4dc9-9088-125042a5aa7a",
   "metadata": {},
   "outputs": [
    {
     "name": "stdin",
     "output_type": "stream",
     "text": [
      "Enter the number:  12345678\n"
     ]
    },
    {
     "name": "stdout",
     "output_type": "stream",
     "text": [
      "8\n"
     ]
    }
   ],
   "source": [
    "n=int(input('Enter the number: '))\n",
    "count = 0\n",
    "while n>0:\n",
    "    a = n%10\n",
    "    count = count +1\n",
    "    n = n//10\n",
    "\n",
    "print(count)"
   ]
  },
  {
   "cell_type": "markdown",
   "id": "146be110-8bb2-4308-ba51-c85358a015ee",
   "metadata": {},
   "source": [
    "### Python program to generate the Fibonacci series"
   ]
  },
  {
   "cell_type": "code",
   "execution_count": 61,
   "id": "fb2aaa34-7ee8-4a89-bcb1-bf2484182a74",
   "metadata": {},
   "outputs": [
    {
     "name": "stdin",
     "output_type": "stream",
     "text": [
      "Enter the 1st number:  0\n",
      "Enter the 2nd number:  1\n",
      "Enter the number of terms:  5\n"
     ]
    },
    {
     "name": "stdout",
     "output_type": "stream",
     "text": [
      "The fibonacci Series:\n",
      "0 1 1 2 3 "
     ]
    }
   ],
   "source": [
    "a=int(input('Enter the 1st number: '))\n",
    "b=int(input('Enter the 2nd number: '))\n",
    "n=int(input('Enter the number of terms: '))\n",
    "print('The fibonacci Series:')\n",
    "print(a,b, end=' ')\n",
    "for i in range(n-2):\n",
    "    c = a+b\n",
    "    print(c,end=' ')\n",
    "    a = b\n",
    "    b = c"
   ]
  },
  {
   "cell_type": "code",
   "execution_count": 63,
   "id": "0cdf32d0-7e4f-4b53-90e9-28004893d84b",
   "metadata": {},
   "outputs": [
    {
     "name": "stdin",
     "output_type": "stream",
     "text": [
      "Enter the number:  8\n"
     ]
    },
    {
     "name": "stdout",
     "output_type": "stream",
     "text": [
      "The factorial is 40320\n"
     ]
    }
   ],
   "source": [
    "f=1\n",
    "n=int(input('Enter the number: '))\n",
    "for i in range(1,n+1):\n",
    "    f = f*i\n",
    "print('The factorial is',f)"
   ]
  },
  {
   "cell_type": "code",
   "execution_count": 1,
   "id": "66d1680a-4ab9-4d6d-9296-687abc2c9552",
   "metadata": {},
   "outputs": [
    {
     "name": "stdout",
     "output_type": "stream",
     "text": [
      "    5\n",
      "   56\n",
      "  567\n",
      " 5678\n",
      "56789\n"
     ]
    }
   ],
   "source": [
    "for i in range(5):\n",
    "    for j in range(4-i,0,-1):\n",
    "        print(end=' ')\n",
    "    for k in range(5,i+6):\n",
    "        print(k,end='')\n",
    "    print()"
   ]
  },
  {
   "cell_type": "code",
   "execution_count": 3,
   "id": "cec71ca2-ae61-4379-8637-bab10facfb47",
   "metadata": {},
   "outputs": [
    {
     "name": "stdout",
     "output_type": "stream",
     "text": [
      "P\n",
      "Py\n",
      "Pyt\n",
      "Pyth\n",
      "Pytho\n",
      "Python\n"
     ]
    }
   ],
   "source": [
    "word = \"Python\"\n",
    "x =''\n",
    "for i in word:\n",
    "    x = x+i\n",
    "    print(x)"
   ]
  },
  {
   "cell_type": "code",
   "execution_count": 4,
   "id": "b7c95519-34cd-40db-be52-276dc7a3ddb7",
   "metadata": {},
   "outputs": [
    {
     "name": "stdin",
     "output_type": "stream",
     "text": [
      "Enter the number of rows: 5\n"
     ]
    },
    {
     "name": "stdout",
     "output_type": "stream",
     "text": [
      "*\n",
      "**\n",
      "***\n",
      "****\n",
      "*****\n"
     ]
    }
   ],
   "source": [
    "rows = int(input(\"Enter the number of rows:\"))  \n",
    "k = 2 * rows - 2  # It is used for number of spaces  \n",
    "for i in range(0, rows):  \n",
    "    for j in range(0, k):\n",
    "        print(end=\"\")\n",
    "        k = k - 2   # decrement k value after each iteration  \n",
    "    for j in range(0, i+1):  \n",
    "        print(\"*\", end=\"\")  # printing star  \n",
    "    print()  "
   ]
  },
  {
   "cell_type": "markdown",
   "id": "b970670e-ce89-4326-a0b6-5fed8e0a22aa",
   "metadata": {},
   "source": [
    "### Identity Operator"
   ]
  },
  {
   "cell_type": "code",
   "execution_count": 5,
   "id": "d0756db4-41c6-4200-a56e-14aaf66a9557",
   "metadata": {},
   "outputs": [
    {
     "name": "stdout",
     "output_type": "stream",
     "text": [
      "False\n"
     ]
    },
    {
     "data": {
      "text/plain": [
       "True"
      ]
     },
     "execution_count": 5,
     "metadata": {},
     "output_type": "execute_result"
    }
   ],
   "source": [
    "x=5\n",
    "y=10\n",
    "r=x is y\n",
    "print(r)\n",
    "type(x) is int"
   ]
  },
  {
   "cell_type": "code",
   "execution_count": 6,
   "id": "4626170d-2b5d-43c8-8548-458e7777313d",
   "metadata": {},
   "outputs": [
    {
     "name": "stdout",
     "output_type": "stream",
     "text": [
      "True\n"
     ]
    }
   ],
   "source": [
    "x=5\n",
    "y=10\n",
    "r=x is not y\n",
    "print(r)"
   ]
  },
  {
   "cell_type": "code",
   "execution_count": 9,
   "id": "0f992ed7-a490-4eaa-acc5-f1f4887a5e27",
   "metadata": {},
   "outputs": [
    {
     "name": "stdin",
     "output_type": "stream",
     "text": [
      "Enter the five digit number 12345\n"
     ]
    },
    {
     "name": "stdout",
     "output_type": "stream",
     "text": [
      "The sum of five digit is 15\n"
     ]
    }
   ],
   "source": [
    "sum=0\n",
    "n=int(input('Enter the five digit number'))\n",
    "while n>0:\n",
    "    a=n%10\n",
    "    sum=sum+a\n",
    "    n=n//10\n",
    "print('The sum of five digit is',sum)"
   ]
  },
  {
   "cell_type": "code",
   "execution_count": 11,
   "id": "a4aa5db5-5fd0-4a38-9635-8684aee24008",
   "metadata": {},
   "outputs": [
    {
     "name": "stdin",
     "output_type": "stream",
     "text": [
      "Enter the terms 1234\n"
     ]
    },
    {
     "name": "stdout",
     "output_type": "stream",
     "text": [
      "1234 is not an Armstrong number\n"
     ]
    }
   ],
   "source": [
    "n=int(input(\"Enter the terms\"))\n",
    "sum = 0\n",
    "t = n\n",
    "while t > 0:\n",
    "    a = t % 10\n",
    "    sum = sum + a **3\n",
    "    t= t//10  \n",
    "if n == sum:\n",
    "    print(n,\"is an Armstrong number\")  \n",
    "else:\n",
    "    print(n,\"is not an Armstrong number\")  "
   ]
  },
  {
   "cell_type": "code",
   "execution_count": 13,
   "id": "9bdfeb24-89fa-4567-8515-f673a7e8f005",
   "metadata": {},
   "outputs": [
    {
     "name": "stdout",
     "output_type": "stream",
     "text": [
      "1\n",
      "153\n",
      "370\n",
      "371\n",
      "407\n"
     ]
    }
   ],
   "source": [
    "for i in range(1,500):\n",
    "    a = i%10\n",
    "    b = i//10\n",
    "    b = b%10\n",
    "    c = i//100\n",
    "    if i==(a**3+b**3+c**3):\n",
    "        print(i)"
   ]
  },
  {
   "cell_type": "code",
   "execution_count": 2,
   "id": "71801ce7-75f8-4141-8b1c-3ef7c239d8bb",
   "metadata": {},
   "outputs": [
    {
     "name": "stdout",
     "output_type": "stream",
     "text": [
      "*****\n",
      "****\n",
      "***\n",
      "**\n",
      "*\n"
     ]
    }
   ],
   "source": [
    "for i in range(5,0,-1):\n",
    "    for j in range(i):\n",
    "        print('*', end='')\n",
    "    print()"
   ]
  },
  {
   "cell_type": "code",
   "execution_count": 6,
   "id": "bc4a58cc-57e0-475c-9013-40c67ec35e9f",
   "metadata": {},
   "outputs": [
    {
     "name": "stdout",
     "output_type": "stream",
     "text": [
      "12345\n",
      "1234\n",
      "123\n",
      "12\n",
      "1\n",
      "\n"
     ]
    }
   ],
   "source": [
    "for i in range(6,0,-1):\n",
    "    for j in range(1,i):\n",
    "        print(j,end='')\n",
    "    print()"
   ]
  },
  {
   "cell_type": "code",
   "execution_count": 12,
   "id": "a2cee594-16bf-4f83-9d90-73466d312aef",
   "metadata": {},
   "outputs": [
    {
     "name": "stdout",
     "output_type": "stream",
     "text": [
      "55555\n",
      "4444\n",
      "333\n",
      "22\n",
      "1\n"
     ]
    }
   ],
   "source": [
    "for i in range(5,0,-1):\n",
    "    for j in range(1,i+1):\n",
    "        print(i,end='')\n",
    "    print()"
   ]
  },
  {
   "cell_type": "code",
   "execution_count": 7,
   "id": "13fd8120-189c-444f-8e07-79dce0b9cd71",
   "metadata": {},
   "outputs": [
    {
     "name": "stdout",
     "output_type": "stream",
     "text": [
      "ABCDE\n",
      "ABCD\n",
      "ABC\n",
      "AB\n",
      "A\n"
     ]
    }
   ],
   "source": [
    "for i in range(70,65,-1):\n",
    "    for j in range(65,i):\n",
    "        print(chr(j),end='')\n",
    "    print()"
   ]
  },
  {
   "cell_type": "code",
   "execution_count": 17,
   "id": "22d7d023-0ece-4624-8317-4cb275fd3e55",
   "metadata": {},
   "outputs": [
    {
     "name": "stdout",
     "output_type": "stream",
     "text": [
      "    *\n",
      "   **\n",
      "  ***\n",
      " ****\n",
      "*****\n"
     ]
    }
   ],
   "source": [
    "for i in range(5):\n",
    "    for j in range(4-i):\n",
    "        print(' ',end='')\n",
    "    for k in range(i+1):\n",
    "        print('*',end='')\n",
    "    print()"
   ]
  },
  {
   "cell_type": "code",
   "execution_count": 18,
   "id": "4e7c66f3-bded-4804-b95a-0c75facabb31",
   "metadata": {},
   "outputs": [
    {
     "name": "stdout",
     "output_type": "stream",
     "text": [
      "    1\n",
      "   12\n",
      "  123\n",
      " 1234\n",
      "12345\n"
     ]
    }
   ],
   "source": [
    "for i in range(1,6):\n",
    "    for j in range(5-i):\n",
    "        print(' ',end='')\n",
    "    for k in range(1,i+1):\n",
    "        print(k,end='')\n",
    "    print()"
   ]
  },
  {
   "cell_type": "code",
   "execution_count": 23,
   "id": "ed2a01c2-69f7-4b59-b4d4-3935c03dd1cc",
   "metadata": {},
   "outputs": [
    {
     "name": "stdout",
     "output_type": "stream",
     "text": [
      "    A\n",
      "   AB\n",
      "  ABC\n",
      " ABCD\n",
      "ABCDE\n"
     ]
    }
   ],
   "source": [
    "for i in range(65,70):\n",
    "    for j in range(69-i):\n",
    "        print(' ',end='')\n",
    "    for k in range(65,i+1):\n",
    "        print(chr(k),end='')\n",
    "    print()"
   ]
  },
  {
   "cell_type": "code",
   "execution_count": 28,
   "id": "653a6f06-83ab-4d46-a528-7e92b1dcc4a6",
   "metadata": {},
   "outputs": [
    {
     "name": "stdout",
     "output_type": "stream",
     "text": [
      "    *\n",
      "   ***\n",
      "  *****\n",
      " *******\n",
      "*********\n"
     ]
    }
   ],
   "source": [
    "for i in range(1,6):\n",
    "    for j in range(5-i):\n",
    "        print(' ',end='')\n",
    "    for k in range((2*i-2)+1):\n",
    "        print('*',end='')\n",
    "    print()"
   ]
  },
  {
   "cell_type": "code",
   "execution_count": 31,
   "id": "2d5ac3e4-5aa0-41e5-b3dc-e7f9d5f58635",
   "metadata": {},
   "outputs": [
    {
     "name": "stdout",
     "output_type": "stream",
     "text": [
      "    1\n",
      "   123\n",
      "  12345\n",
      " 1234567\n",
      "123456789\n"
     ]
    }
   ],
   "source": [
    "for i in range(1,6):\n",
    "    for j in range(5-i):\n",
    "        print(' ',end='')\n",
    "    for k in range(1,(2*i-2)+2):\n",
    "        print(k,end='')\n",
    "    print()"
   ]
  },
  {
   "cell_type": "code",
   "execution_count": 1,
   "id": "786fe3f3-9555-4185-b02c-4ee16741a77d",
   "metadata": {},
   "outputs": [
    {
     "name": "stdout",
     "output_type": "stream",
     "text": [
      "    5\n",
      "   56\n",
      "  567\n",
      " 5678\n",
      "56789\n"
     ]
    }
   ],
   "source": [
    "for i in range(5):\n",
    "    for j in range(4-i,0,-1):\n",
    "        print(end=' ')\n",
    "    for k in range(5,i+6):\n",
    "        print(k,end='')\n",
    "    print()"
   ]
  },
  {
   "cell_type": "code",
   "execution_count": 13,
   "id": "3a664126-aa54-4c94-9303-c36a5c1a86ff",
   "metadata": {},
   "outputs": [
    {
     "name": "stdout",
     "output_type": "stream",
     "text": [
      "    5\n",
      "   54\n",
      "  543\n",
      " 5432\n",
      "54321\n"
     ]
    }
   ],
   "source": [
    "for i in range(1,6):\n",
    "    for j in range(5-i):\n",
    "        print(end=' ')\n",
    "    for k in range(5,5-i,-1):\n",
    "        print(k,end='')\n",
    "    print()"
   ]
  },
  {
   "cell_type": "code",
   "execution_count": null,
   "id": "74686419-e404-4614-935a-9db27aebb0fb",
   "metadata": {},
   "outputs": [],
   "source": []
  }
 ],
 "metadata": {
  "kernelspec": {
   "display_name": "Python 3 (ipykernel)",
   "language": "python",
   "name": "python3"
  },
  "language_info": {
   "codemirror_mode": {
    "name": "ipython",
    "version": 3
   },
   "file_extension": ".py",
   "mimetype": "text/x-python",
   "name": "python",
   "nbconvert_exporter": "python",
   "pygments_lexer": "ipython3",
   "version": "3.13.7"
  }
 },
 "nbformat": 4,
 "nbformat_minor": 5
}
