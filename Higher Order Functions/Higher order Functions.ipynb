{
 "cells": [
  {
   "cell_type": "code",
   "execution_count": 1,
   "id": "78f39c81-129d-4857-832e-aa986e3a7a1f",
   "metadata": {},
   "outputs": [
    {
     "name": "stdout",
     "output_type": "stream",
     "text": [
      "HELLO\n"
     ]
    }
   ],
   "source": [
    "def greet(func): # higher-order function \n",
    "    return func(\"Hello\")\n",
    "\n",
    "def uppercase(text): # function to be passed\n",
    "    return text.upper()\n",
    "\n",
    "print(greet(uppercase))"
   ]
  },
  {
   "cell_type": "code",
   "execution_count": 5,
   "id": "8d4b4f76-d575-4969-95d4-f1d749aa7b73",
   "metadata": {},
   "outputs": [
    {
     "data": {
      "text/plain": [
       "'HELLO PYTHON'"
      ]
     },
     "execution_count": 5,
     "metadata": {},
     "output_type": "execute_result"
    }
   ],
   "source": [
    "def greet(fun1):\n",
    "    return fun1('Hello Python')\n",
    "\n",
    "def uppercase(text):\n",
    "    return text.upper()\n",
    "\n",
    "uppercase('arvind') # will print ARVIND \n",
    "greet(uppercase)\n",
    "#greet(uppercase)"
   ]
  }
 ],
 "metadata": {
  "kernelspec": {
   "display_name": "Python 3 (ipykernel)",
   "language": "python",
   "name": "python3"
  },
  "language_info": {
   "codemirror_mode": {
    "name": "ipython",
    "version": 3
   },
   "file_extension": ".py",
   "mimetype": "text/x-python",
   "name": "python",
   "nbconvert_exporter": "python",
   "pygments_lexer": "ipython3",
   "version": "3.13.7"
  }
 },
 "nbformat": 4,
 "nbformat_minor": 5
}
