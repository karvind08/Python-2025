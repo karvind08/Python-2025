{
 "cells": [
  {
   "cell_type": "code",
   "execution_count": 1,
   "id": "78f39c81-129d-4857-832e-aa986e3a7a1f",
   "metadata": {},
   "outputs": [
    {
     "name": "stdout",
     "output_type": "stream",
     "text": [
      "HELLO\n"
     ]
    }
   ],
   "source": [
    "def greet(func): # higher-order function \n",
    "    return func(\"Hello\")\n",
    "\n",
    "def uppercase(text): # function to be passed\n",
    "    return text.upper()\n",
    "\n",
    "print(greet(uppercase))"
   ]
  }
 ],
 "metadata": {
  "kernelspec": {
   "display_name": "Python 3 (ipykernel)",
   "language": "python",
   "name": "python3"
  },
  "language_info": {
   "codemirror_mode": {
    "name": "ipython",
    "version": 3
   },
   "file_extension": ".py",
   "mimetype": "text/x-python",
   "name": "python",
   "nbconvert_exporter": "python",
   "pygments_lexer": "ipython3",
   "version": "3.13.7"
  }
 },
 "nbformat": 4,
 "nbformat_minor": 5
}
