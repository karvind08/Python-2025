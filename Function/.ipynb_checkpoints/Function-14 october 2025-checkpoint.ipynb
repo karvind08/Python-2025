{
 "cells": [
  {
   "cell_type": "markdown",
   "id": "9aab979c-2f0e-4156-b386-04772bc9a0fd",
   "metadata": {},
   "source": [
    "# Required Argument"
   ]
  },
  {
   "cell_type": "code",
   "execution_count": 5,
   "id": "9dd3ce76-002d-4256-a86e-8c767bc9f8fb",
   "metadata": {},
   "outputs": [
    {
     "name": "stdout",
     "output_type": "stream",
     "text": [
      "60.7\n"
     ]
    }
   ],
   "source": [
    "def sum(a,b,c):\n",
    "    ''' This is required argument example '''\n",
    "    s = a+b+c\n",
    "    print(s)\n",
    "\n",
    "sum(10,20.3,30.4)"
   ]
  },
  {
   "cell_type": "code",
   "execution_count": null,
   "id": "6db444ef-daa6-4d28-b34a-f4aae7058637",
   "metadata": {},
   "outputs": [],
   "source": [
    "# fun.__doc__"
   ]
  },
  {
   "cell_type": "code",
   "execution_count": 3,
   "id": "9ce64680-1bea-462c-9496-3469ea79e23e",
   "metadata": {},
   "outputs": [
    {
     "name": "stdout",
     "output_type": "stream",
     "text": [
      "This is required argument example \n"
     ]
    }
   ],
   "source": [
    "print(sum.__doc__)"
   ]
  },
  {
   "cell_type": "markdown",
   "id": "e9a74a92-2900-43f2-99d6-eea8fc72d3e4",
   "metadata": {},
   "source": [
    "# keyword Arguments"
   ]
  },
  {
   "cell_type": "code",
   "execution_count": 15,
   "id": "c377eb71-b9fd-4628-a879-ff351b717233",
   "metadata": {},
   "outputs": [
    {
     "name": "stdout",
     "output_type": "stream",
     "text": [
      "20.4 10\n"
     ]
    }
   ],
   "source": [
    "def sum(a,b):\n",
    "    ''' keyword Arguments '''\n",
    "    print(a,b)\n",
    "\n",
    "sum(b = 10,a=20.4)"
   ]
  },
  {
   "cell_type": "code",
   "execution_count": null,
   "id": "4fcdf2a0-d95c-4248-946f-ef9b1daf9b72",
   "metadata": {},
   "outputs": [],
   "source": [
    "# Default Arguments"
   ]
  },
  {
   "cell_type": "code",
   "execution_count": 18,
   "id": "869a0a96-4f96-469c-8a4d-ab8e9adf8a25",
   "metadata": {},
   "outputs": [
    {
     "name": "stdout",
     "output_type": "stream",
     "text": [
      "10 30\n"
     ]
    }
   ],
   "source": [
    "def sum(a,b=30):\n",
    "    ''' Default Arguments'''\n",
    "    print(a,b)\n",
    "\n",
    "sum(10)"
   ]
  },
  {
   "cell_type": "code",
   "execution_count": null,
   "id": "a0626007-72ac-4947-a8fc-3c81069a1510",
   "metadata": {},
   "outputs": [],
   "source": [
    "# variable length Arguments"
   ]
  },
  {
   "cell_type": "code",
   "execution_count": 22,
   "id": "d6bbc751-4014-445a-8fdb-6aae9e4615b4",
   "metadata": {},
   "outputs": [
    {
     "name": "stdout",
     "output_type": "stream",
     "text": [
      "10\n"
     ]
    }
   ],
   "source": [
    "def sum(a,*b):\n",
    "    ''' Variable Length Arguments'''\n",
    "    print(a,*b)\n",
    "\n",
    "sum(10)"
   ]
  },
  {
   "cell_type": "code",
   "execution_count": 23,
   "id": "20744a8a-c685-4f54-ba8a-fe7539da58dc",
   "metadata": {},
   "outputs": [
    {
     "name": "stdout",
     "output_type": "stream",
     "text": [
      "10 30 34\n"
     ]
    }
   ],
   "source": [
    "def sum(a,*b):\n",
    "    ''' Variable Length Arguments'''\n",
    "    print(a,*b)\n",
    "\n",
    "sum(10,30,34)"
   ]
  },
  {
   "cell_type": "code",
   "execution_count": 24,
   "id": "400e1d54-64fc-4414-88a9-acaef945c0d9",
   "metadata": {},
   "outputs": [
    {
     "name": "stdout",
     "output_type": "stream",
     "text": [
      "10\n",
      "30\n",
      "34\n"
     ]
    }
   ],
   "source": [
    "def sum(a,*b):\n",
    "    ''' Variable Length Arguments'''\n",
    "    print(a)\n",
    "    for i in b:\n",
    "        print(i)\n",
    "\n",
    "sum(10,30,34)"
   ]
  },
  {
   "cell_type": "code",
   "execution_count": null,
   "id": "e0d5be4c-9e42-4454-a4a6-382e0763f3f1",
   "metadata": {},
   "outputs": [],
   "source": [
    "# Unpacking Arguments with the * Operator in Python"
   ]
  },
  {
   "cell_type": "code",
   "execution_count": 26,
   "id": "e37b8f3b-e487-4086-8062-613e4e203961",
   "metadata": {},
   "outputs": [
    {
     "name": "stdout",
     "output_type": "stream",
     "text": [
      "1 2 3 4\n"
     ]
    }
   ],
   "source": [
    "def example(a,b,c,d):\n",
    "    print(a,b,c,d)\n",
    "\n",
    "l = [1,2,3,4]\n",
    "example(*l)"
   ]
  },
  {
   "cell_type": "code",
   "execution_count": 36,
   "id": "adbbfc3c-a0cc-4688-81ba-d6a4bdd0d23c",
   "metadata": {},
   "outputs": [
    {
     "name": "stdout",
     "output_type": "stream",
     "text": [
      "1 2 3 4\n"
     ]
    }
   ],
   "source": [
    "def example(*va):\n",
    "    print(*va)\n",
    "\n",
    "l = [1,2,3,4]\n",
    "example(*l)"
   ]
  },
  {
   "cell_type": "code",
   "execution_count": 35,
   "id": "5684f450-3932-489e-a14e-159e6608ae2f",
   "metadata": {},
   "outputs": [
    {
     "name": "stdout",
     "output_type": "stream",
     "text": [
      "name Alice\n",
      "age 30\n",
      "city New York\n"
     ]
    }
   ],
   "source": [
    "def example(**args):\n",
    "    for i,j in args.items():\n",
    "        print(i,j)\n",
    "\n",
    "example(name=\"Alice\", age=30, city=\"New York\")"
   ]
  }
 ],
 "metadata": {
  "kernelspec": {
   "display_name": "Python 3 (ipykernel)",
   "language": "python",
   "name": "python3"
  },
  "language_info": {
   "codemirror_mode": {
    "name": "ipython",
    "version": 3
   },
   "file_extension": ".py",
   "mimetype": "text/x-python",
   "name": "python",
   "nbconvert_exporter": "python",
   "pygments_lexer": "ipython3",
   "version": "3.13.7"
  }
 },
 "nbformat": 4,
 "nbformat_minor": 5
}
