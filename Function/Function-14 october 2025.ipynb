{
 "cells": [
  {
   "cell_type": "markdown",
   "id": "9aab979c-2f0e-4156-b386-04772bc9a0fd",
   "metadata": {},
   "source": [
    "# Required Argument"
   ]
  },
  {
   "cell_type": "code",
   "execution_count": 5,
   "id": "9dd3ce76-002d-4256-a86e-8c767bc9f8fb",
   "metadata": {},
   "outputs": [
    {
     "name": "stdout",
     "output_type": "stream",
     "text": [
      "60.7\n"
     ]
    }
   ],
   "source": [
    "def sum(a,b,c):\n",
    "    ''' This is required argument example '''\n",
    "    s = a+b+c\n",
    "    print(s)\n",
    "\n",
    "sum(10,20.3,30.4)"
   ]
  },
  {
   "cell_type": "code",
   "execution_count": null,
   "id": "6db444ef-daa6-4d28-b34a-f4aae7058637",
   "metadata": {},
   "outputs": [],
   "source": [
    "# fun.__doc__"
   ]
  },
  {
   "cell_type": "code",
   "execution_count": 3,
   "id": "9ce64680-1bea-462c-9496-3469ea79e23e",
   "metadata": {},
   "outputs": [
    {
     "name": "stdout",
     "output_type": "stream",
     "text": [
      "This is required argument example \n"
     ]
    }
   ],
   "source": [
    "print(sum.__doc__)"
   ]
  },
  {
   "cell_type": "markdown",
   "id": "e9a74a92-2900-43f2-99d6-eea8fc72d3e4",
   "metadata": {},
   "source": [
    "# keyword Arguments"
   ]
  },
  {
   "cell_type": "code",
   "execution_count": 15,
   "id": "c377eb71-b9fd-4628-a879-ff351b717233",
   "metadata": {},
   "outputs": [
    {
     "name": "stdout",
     "output_type": "stream",
     "text": [
      "20.4 10\n"
     ]
    }
   ],
   "source": [
    "def sum(a,b):\n",
    "    ''' keyword Arguments '''\n",
    "    print(a,b)\n",
    "\n",
    "sum(b = 10,a=20.4)"
   ]
  },
  {
   "cell_type": "code",
   "execution_count": null,
   "id": "4fcdf2a0-d95c-4248-946f-ef9b1daf9b72",
   "metadata": {},
   "outputs": [],
   "source": [
    "# Default Arguments"
   ]
  },
  {
   "cell_type": "code",
   "execution_count": null,
   "id": "869a0a96-4f96-469c-8a4d-ab8e9adf8a25",
   "metadata": {},
   "outputs": [],
   "source": [
    "def sum(a,b):\n",
    "    ''' Default Arguments'''\n",
    "    print"
   ]
  }
 ],
 "metadata": {
  "kernelspec": {
   "display_name": "Python 3 (ipykernel)",
   "language": "python",
   "name": "python3"
  },
  "language_info": {
   "codemirror_mode": {
    "name": "ipython",
    "version": 3
   },
   "file_extension": ".py",
   "mimetype": "text/x-python",
   "name": "python",
   "nbconvert_exporter": "python",
   "pygments_lexer": "ipython3",
   "version": "3.13.7"
  }
 },
 "nbformat": 4,
 "nbformat_minor": 5
}
