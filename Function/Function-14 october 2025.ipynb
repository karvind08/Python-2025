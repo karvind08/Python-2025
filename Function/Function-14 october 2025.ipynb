{
 "cells": [
  {
   "cell_type": "markdown",
   "id": "9aab979c-2f0e-4156-b386-04772bc9a0fd",
   "metadata": {},
   "source": [
    "# Required Argument"
   ]
  },
  {
   "cell_type": "code",
   "execution_count": 5,
   "id": "9dd3ce76-002d-4256-a86e-8c767bc9f8fb",
   "metadata": {},
   "outputs": [
    {
     "name": "stdout",
     "output_type": "stream",
     "text": [
      "60.7\n"
     ]
    }
   ],
   "source": [
    "def sum(a,b,c):\n",
    "    ''' This is required argument example '''\n",
    "    s = a+b+c\n",
    "    print(s)\n",
    "\n",
    "sum(10,20.3,30.4)"
   ]
  },
  {
   "cell_type": "code",
   "execution_count": null,
   "id": "6db444ef-daa6-4d28-b34a-f4aae7058637",
   "metadata": {},
   "outputs": [],
   "source": [
    "# fun.__doc__"
   ]
  },
  {
   "cell_type": "code",
   "execution_count": 3,
   "id": "9ce64680-1bea-462c-9496-3469ea79e23e",
   "metadata": {},
   "outputs": [
    {
     "name": "stdout",
     "output_type": "stream",
     "text": [
      "This is required argument example \n"
     ]
    }
   ],
   "source": [
    "print(sum.__doc__)"
   ]
  },
  {
   "cell_type": "markdown",
   "id": "e9a74a92-2900-43f2-99d6-eea8fc72d3e4",
   "metadata": {},
   "source": [
    "# keyword Arguments"
   ]
  },
  {
   "cell_type": "code",
   "execution_count": 15,
   "id": "c377eb71-b9fd-4628-a879-ff351b717233",
   "metadata": {},
   "outputs": [
    {
     "name": "stdout",
     "output_type": "stream",
     "text": [
      "20.4 10\n"
     ]
    }
   ],
   "source": [
    "def sum(a,b):\n",
    "    ''' keyword Arguments '''\n",
    "    print(a,b)\n",
    "\n",
    "sum(b = 10,a=20.4)"
   ]
  },
  {
   "cell_type": "code",
   "execution_count": null,
   "id": "4fcdf2a0-d95c-4248-946f-ef9b1daf9b72",
   "metadata": {},
   "outputs": [],
   "source": [
    "# Default Arguments"
   ]
  },
  {
   "cell_type": "code",
   "execution_count": 18,
   "id": "869a0a96-4f96-469c-8a4d-ab8e9adf8a25",
   "metadata": {},
   "outputs": [
    {
     "name": "stdout",
     "output_type": "stream",
     "text": [
      "10 30\n"
     ]
    }
   ],
   "source": [
    "def sum(a,b=30):\n",
    "    ''' Default Arguments'''\n",
    "    print(a,b)\n",
    "\n",
    "sum(10)"
   ]
  },
  {
   "cell_type": "code",
   "execution_count": null,
   "id": "a0626007-72ac-4947-a8fc-3c81069a1510",
   "metadata": {},
   "outputs": [],
   "source": [
    "# variable length Arguments"
   ]
  },
  {
   "cell_type": "code",
   "execution_count": 22,
   "id": "d6bbc751-4014-445a-8fdb-6aae9e4615b4",
   "metadata": {},
   "outputs": [
    {
     "name": "stdout",
     "output_type": "stream",
     "text": [
      "10\n"
     ]
    }
   ],
   "source": [
    "def sum(a,*b):\n",
    "    ''' Variable Length Arguments'''\n",
    "    print(a,*b)\n",
    "\n",
    "sum(10)"
   ]
  },
  {
   "cell_type": "code",
   "execution_count": 23,
   "id": "20744a8a-c685-4f54-ba8a-fe7539da58dc",
   "metadata": {},
   "outputs": [
    {
     "name": "stdout",
     "output_type": "stream",
     "text": [
      "10 30 34\n"
     ]
    }
   ],
   "source": [
    "def sum(a,*b):\n",
    "    ''' Variable Length Arguments'''\n",
    "    print(a,*b)\n",
    "\n",
    "sum(10,30,34)"
   ]
  },
  {
   "cell_type": "code",
   "execution_count": 24,
   "id": "400e1d54-64fc-4414-88a9-acaef945c0d9",
   "metadata": {},
   "outputs": [
    {
     "name": "stdout",
     "output_type": "stream",
     "text": [
      "10\n",
      "30\n",
      "34\n"
     ]
    }
   ],
   "source": [
    "def sum(a,*b):\n",
    "    ''' Variable Length Arguments'''\n",
    "    print(a)\n",
    "    for i in b:\n",
    "        print(i)\n",
    "\n",
    "sum(10,30,34)"
   ]
  },
  {
   "cell_type": "code",
   "execution_count": 26,
   "id": "e37b8f3b-e487-4086-8062-613e4e203961",
   "metadata": {},
   "outputs": [
    {
     "name": "stdout",
     "output_type": "stream",
     "text": [
      "1 2 3 4\n"
     ]
    }
   ],
   "source": [
    "def example(a,b,c,d):\n",
    "    print(a,b,c,d)\n",
    "\n",
    "l = [1,2,3,4]\n",
    "example(*l)"
   ]
  },
  {
   "cell_type": "code",
   "execution_count": null,
   "id": "52d8d92d-f9b9-475a-a21f-ef972183636a",
   "metadata": {},
   "outputs": [],
   "source": [
    "def display_info(**kwargs):\n",
    "    for key, value in kwargs.items():\n",
    "        print(f\"{key}: {value}\")\n",
    "\n",
    "display_info(name=\"Alice\", age=30, city=\"New York\")"
   ]
  },
  {
   "cell_type": "code",
   "execution_count": 29,
   "id": "5684f450-3932-489e-a14e-159e6608ae2f",
   "metadata": {},
   "outputs": [
    {
     "ename": "TypeError",
     "evalue": "keywords must be strings",
     "output_type": "error",
     "traceback": [
      "\u001b[31m---------------------------------------------------------------------------\u001b[39m",
      "\u001b[31mTypeError\u001b[39m                                 Traceback (most recent call last)",
      "\u001b[36mCell\u001b[39m\u001b[36m \u001b[39m\u001b[32mIn[29]\u001b[39m\u001b[32m, line 6\u001b[39m\n\u001b[32m      3\u001b[39m         \u001b[38;5;28mprint\u001b[39m(i,j)\n\u001b[32m      5\u001b[39m d = {\u001b[32m1\u001b[39m:\u001b[33m'\u001b[39m\u001b[33mA\u001b[39m\u001b[33m'\u001b[39m,\u001b[32m2\u001b[39m:\u001b[33m'\u001b[39m\u001b[33mB\u001b[39m\u001b[33m'\u001b[39m}\n\u001b[32m----> \u001b[39m\u001b[32m6\u001b[39m \u001b[43mexample\u001b[49m\u001b[43m(\u001b[49m\u001b[43m*\u001b[49m\u001b[43m*\u001b[49m\u001b[43md\u001b[49m\u001b[43m)\u001b[49m\n",
      "\u001b[31mTypeError\u001b[39m: keywords must be strings"
     ]
    }
   ],
   "source": [
    "def example(**args):\n",
    "    for i,j in args.items():\n",
    "        print(i,j)\n",
    "\n",
    "d = {1:'A',2:'B'}\n",
    "example(**d)"
   ]
  }
 ],
 "metadata": {
  "kernelspec": {
   "display_name": "Python 3 (ipykernel)",
   "language": "python",
   "name": "python3"
  },
  "language_info": {
   "codemirror_mode": {
    "name": "ipython",
    "version": 3
   },
   "file_extension": ".py",
   "mimetype": "text/x-python",
   "name": "python",
   "nbconvert_exporter": "python",
   "pygments_lexer": "ipython3",
   "version": "3.13.7"
  }
 },
 "nbformat": 4,
 "nbformat_minor": 5
}
